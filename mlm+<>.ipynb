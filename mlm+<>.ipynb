{
  "nbformat": 4,
  "nbformat_minor": 0,
  "metadata": {
    "colab": {
      "name": "Untitled",
      "provenance": [],
      "authorship_tag": "ABX9TyPV9gJFJ7i85FTXmQwon6oX",
      "include_colab_link": true
    },
    "kernelspec": {
      "name": "python3",
      "display_name": "Python 3"
    },
    "accelerator": "GPU",
    "widgets": {
      "application/vnd.jupyter.widget-state+json": {
        "51b7fb6b496640768a45dd00598736df": {
          "model_module": "@jupyter-widgets/controls",
          "model_name": "HBoxModel",
          "state": {
            "_view_name": "HBoxView",
            "_dom_classes": [],
            "_model_name": "HBoxModel",
            "_view_module": "@jupyter-widgets/controls",
            "_model_module_version": "1.5.0",
            "_view_count": null,
            "_view_module_version": "1.5.0",
            "box_style": "",
            "layout": "IPY_MODEL_ddb8841f231644c6a07e89ac13013ea2",
            "_model_module": "@jupyter-widgets/controls",
            "children": [
              "IPY_MODEL_78c4af2f18504f4c989ca56605c2497a",
              "IPY_MODEL_abc5250c800943939d2c926aad1fd490"
            ]
          }
        },
        "ddb8841f231644c6a07e89ac13013ea2": {
          "model_module": "@jupyter-widgets/base",
          "model_name": "LayoutModel",
          "state": {
            "_view_name": "LayoutView",
            "grid_template_rows": null,
            "right": null,
            "justify_content": null,
            "_view_module": "@jupyter-widgets/base",
            "overflow": null,
            "_model_module_version": "1.2.0",
            "_view_count": null,
            "flex_flow": null,
            "width": null,
            "min_width": null,
            "border": null,
            "align_items": null,
            "bottom": null,
            "_model_module": "@jupyter-widgets/base",
            "top": null,
            "grid_column": null,
            "overflow_y": null,
            "overflow_x": null,
            "grid_auto_flow": null,
            "grid_area": null,
            "grid_template_columns": null,
            "flex": null,
            "_model_name": "LayoutModel",
            "justify_items": null,
            "grid_row": null,
            "max_height": null,
            "align_content": null,
            "visibility": null,
            "align_self": null,
            "height": null,
            "min_height": null,
            "padding": null,
            "grid_auto_rows": null,
            "grid_gap": null,
            "max_width": null,
            "order": null,
            "_view_module_version": "1.2.0",
            "grid_template_areas": null,
            "object_position": null,
            "object_fit": null,
            "grid_auto_columns": null,
            "margin": null,
            "display": null,
            "left": null
          }
        },
        "78c4af2f18504f4c989ca56605c2497a": {
          "model_module": "@jupyter-widgets/controls",
          "model_name": "FloatProgressModel",
          "state": {
            "_view_name": "ProgressView",
            "style": "IPY_MODEL_1b7c53d0b3c241a6aeed0b763d15012c",
            "_dom_classes": [],
            "description": "Downloading: 100%",
            "_model_name": "FloatProgressModel",
            "bar_style": "success",
            "max": 231508,
            "_view_module": "@jupyter-widgets/controls",
            "_model_module_version": "1.5.0",
            "value": 231508,
            "_view_count": null,
            "_view_module_version": "1.5.0",
            "orientation": "horizontal",
            "min": 0,
            "description_tooltip": null,
            "_model_module": "@jupyter-widgets/controls",
            "layout": "IPY_MODEL_fc1d19208b7847c5a8076532effebd24"
          }
        },
        "abc5250c800943939d2c926aad1fd490": {
          "model_module": "@jupyter-widgets/controls",
          "model_name": "HTMLModel",
          "state": {
            "_view_name": "HTMLView",
            "style": "IPY_MODEL_8350bf239a824a7ca11af1eb8e3a397a",
            "_dom_classes": [],
            "description": "",
            "_model_name": "HTMLModel",
            "placeholder": "​",
            "_view_module": "@jupyter-widgets/controls",
            "_model_module_version": "1.5.0",
            "value": " 232k/232k [00:00&lt;00:00, 305kB/s]",
            "_view_count": null,
            "_view_module_version": "1.5.0",
            "description_tooltip": null,
            "_model_module": "@jupyter-widgets/controls",
            "layout": "IPY_MODEL_3fac5ae1180f4020ac3822a9f28f705c"
          }
        },
        "1b7c53d0b3c241a6aeed0b763d15012c": {
          "model_module": "@jupyter-widgets/controls",
          "model_name": "ProgressStyleModel",
          "state": {
            "_view_name": "StyleView",
            "_model_name": "ProgressStyleModel",
            "description_width": "initial",
            "_view_module": "@jupyter-widgets/base",
            "_model_module_version": "1.5.0",
            "_view_count": null,
            "_view_module_version": "1.2.0",
            "bar_color": null,
            "_model_module": "@jupyter-widgets/controls"
          }
        },
        "fc1d19208b7847c5a8076532effebd24": {
          "model_module": "@jupyter-widgets/base",
          "model_name": "LayoutModel",
          "state": {
            "_view_name": "LayoutView",
            "grid_template_rows": null,
            "right": null,
            "justify_content": null,
            "_view_module": "@jupyter-widgets/base",
            "overflow": null,
            "_model_module_version": "1.2.0",
            "_view_count": null,
            "flex_flow": null,
            "width": null,
            "min_width": null,
            "border": null,
            "align_items": null,
            "bottom": null,
            "_model_module": "@jupyter-widgets/base",
            "top": null,
            "grid_column": null,
            "overflow_y": null,
            "overflow_x": null,
            "grid_auto_flow": null,
            "grid_area": null,
            "grid_template_columns": null,
            "flex": null,
            "_model_name": "LayoutModel",
            "justify_items": null,
            "grid_row": null,
            "max_height": null,
            "align_content": null,
            "visibility": null,
            "align_self": null,
            "height": null,
            "min_height": null,
            "padding": null,
            "grid_auto_rows": null,
            "grid_gap": null,
            "max_width": null,
            "order": null,
            "_view_module_version": "1.2.0",
            "grid_template_areas": null,
            "object_position": null,
            "object_fit": null,
            "grid_auto_columns": null,
            "margin": null,
            "display": null,
            "left": null
          }
        },
        "8350bf239a824a7ca11af1eb8e3a397a": {
          "model_module": "@jupyter-widgets/controls",
          "model_name": "DescriptionStyleModel",
          "state": {
            "_view_name": "StyleView",
            "_model_name": "DescriptionStyleModel",
            "description_width": "",
            "_view_module": "@jupyter-widgets/base",
            "_model_module_version": "1.5.0",
            "_view_count": null,
            "_view_module_version": "1.2.0",
            "_model_module": "@jupyter-widgets/controls"
          }
        },
        "3fac5ae1180f4020ac3822a9f28f705c": {
          "model_module": "@jupyter-widgets/base",
          "model_name": "LayoutModel",
          "state": {
            "_view_name": "LayoutView",
            "grid_template_rows": null,
            "right": null,
            "justify_content": null,
            "_view_module": "@jupyter-widgets/base",
            "overflow": null,
            "_model_module_version": "1.2.0",
            "_view_count": null,
            "flex_flow": null,
            "width": null,
            "min_width": null,
            "border": null,
            "align_items": null,
            "bottom": null,
            "_model_module": "@jupyter-widgets/base",
            "top": null,
            "grid_column": null,
            "overflow_y": null,
            "overflow_x": null,
            "grid_auto_flow": null,
            "grid_area": null,
            "grid_template_columns": null,
            "flex": null,
            "_model_name": "LayoutModel",
            "justify_items": null,
            "grid_row": null,
            "max_height": null,
            "align_content": null,
            "visibility": null,
            "align_self": null,
            "height": null,
            "min_height": null,
            "padding": null,
            "grid_auto_rows": null,
            "grid_gap": null,
            "max_width": null,
            "order": null,
            "_view_module_version": "1.2.0",
            "grid_template_areas": null,
            "object_position": null,
            "object_fit": null,
            "grid_auto_columns": null,
            "margin": null,
            "display": null,
            "left": null
          }
        },
        "bf4a75dddd46457bb644b28603c1d836": {
          "model_module": "@jupyter-widgets/controls",
          "model_name": "HBoxModel",
          "state": {
            "_view_name": "HBoxView",
            "_dom_classes": [],
            "_model_name": "HBoxModel",
            "_view_module": "@jupyter-widgets/controls",
            "_model_module_version": "1.5.0",
            "_view_count": null,
            "_view_module_version": "1.5.0",
            "box_style": "",
            "layout": "IPY_MODEL_9055e223b8d44b6eb0ff0271f464b92b",
            "_model_module": "@jupyter-widgets/controls",
            "children": [
              "IPY_MODEL_33af9b2cc3294577aa109f81a2d48a34",
              "IPY_MODEL_7070113a89d04da08112cf2156076a37"
            ]
          }
        },
        "9055e223b8d44b6eb0ff0271f464b92b": {
          "model_module": "@jupyter-widgets/base",
          "model_name": "LayoutModel",
          "state": {
            "_view_name": "LayoutView",
            "grid_template_rows": null,
            "right": null,
            "justify_content": null,
            "_view_module": "@jupyter-widgets/base",
            "overflow": null,
            "_model_module_version": "1.2.0",
            "_view_count": null,
            "flex_flow": null,
            "width": null,
            "min_width": null,
            "border": null,
            "align_items": null,
            "bottom": null,
            "_model_module": "@jupyter-widgets/base",
            "top": null,
            "grid_column": null,
            "overflow_y": null,
            "overflow_x": null,
            "grid_auto_flow": null,
            "grid_area": null,
            "grid_template_columns": null,
            "flex": null,
            "_model_name": "LayoutModel",
            "justify_items": null,
            "grid_row": null,
            "max_height": null,
            "align_content": null,
            "visibility": null,
            "align_self": null,
            "height": null,
            "min_height": null,
            "padding": null,
            "grid_auto_rows": null,
            "grid_gap": null,
            "max_width": null,
            "order": null,
            "_view_module_version": "1.2.0",
            "grid_template_areas": null,
            "object_position": null,
            "object_fit": null,
            "grid_auto_columns": null,
            "margin": null,
            "display": null,
            "left": null
          }
        },
        "33af9b2cc3294577aa109f81a2d48a34": {
          "model_module": "@jupyter-widgets/controls",
          "model_name": "FloatProgressModel",
          "state": {
            "_view_name": "ProgressView",
            "style": "IPY_MODEL_3427a1f9a8e44fd19758ffaf30944a37",
            "_dom_classes": [],
            "description": "Downloading: 100%",
            "_model_name": "FloatProgressModel",
            "bar_style": "success",
            "max": 433,
            "_view_module": "@jupyter-widgets/controls",
            "_model_module_version": "1.5.0",
            "value": 433,
            "_view_count": null,
            "_view_module_version": "1.5.0",
            "orientation": "horizontal",
            "min": 0,
            "description_tooltip": null,
            "_model_module": "@jupyter-widgets/controls",
            "layout": "IPY_MODEL_949126ed4b264065b273f7f491f05d9f"
          }
        },
        "7070113a89d04da08112cf2156076a37": {
          "model_module": "@jupyter-widgets/controls",
          "model_name": "HTMLModel",
          "state": {
            "_view_name": "HTMLView",
            "style": "IPY_MODEL_8aff78980ab94a7b8477a40ad4c3242d",
            "_dom_classes": [],
            "description": "",
            "_model_name": "HTMLModel",
            "placeholder": "​",
            "_view_module": "@jupyter-widgets/controls",
            "_model_module_version": "1.5.0",
            "value": " 433/433 [00:07&lt;00:00, 56.0B/s]",
            "_view_count": null,
            "_view_module_version": "1.5.0",
            "description_tooltip": null,
            "_model_module": "@jupyter-widgets/controls",
            "layout": "IPY_MODEL_ad862639d992404587130640fe41461a"
          }
        },
        "3427a1f9a8e44fd19758ffaf30944a37": {
          "model_module": "@jupyter-widgets/controls",
          "model_name": "ProgressStyleModel",
          "state": {
            "_view_name": "StyleView",
            "_model_name": "ProgressStyleModel",
            "description_width": "initial",
            "_view_module": "@jupyter-widgets/base",
            "_model_module_version": "1.5.0",
            "_view_count": null,
            "_view_module_version": "1.2.0",
            "bar_color": null,
            "_model_module": "@jupyter-widgets/controls"
          }
        },
        "949126ed4b264065b273f7f491f05d9f": {
          "model_module": "@jupyter-widgets/base",
          "model_name": "LayoutModel",
          "state": {
            "_view_name": "LayoutView",
            "grid_template_rows": null,
            "right": null,
            "justify_content": null,
            "_view_module": "@jupyter-widgets/base",
            "overflow": null,
            "_model_module_version": "1.2.0",
            "_view_count": null,
            "flex_flow": null,
            "width": null,
            "min_width": null,
            "border": null,
            "align_items": null,
            "bottom": null,
            "_model_module": "@jupyter-widgets/base",
            "top": null,
            "grid_column": null,
            "overflow_y": null,
            "overflow_x": null,
            "grid_auto_flow": null,
            "grid_area": null,
            "grid_template_columns": null,
            "flex": null,
            "_model_name": "LayoutModel",
            "justify_items": null,
            "grid_row": null,
            "max_height": null,
            "align_content": null,
            "visibility": null,
            "align_self": null,
            "height": null,
            "min_height": null,
            "padding": null,
            "grid_auto_rows": null,
            "grid_gap": null,
            "max_width": null,
            "order": null,
            "_view_module_version": "1.2.0",
            "grid_template_areas": null,
            "object_position": null,
            "object_fit": null,
            "grid_auto_columns": null,
            "margin": null,
            "display": null,
            "left": null
          }
        },
        "8aff78980ab94a7b8477a40ad4c3242d": {
          "model_module": "@jupyter-widgets/controls",
          "model_name": "DescriptionStyleModel",
          "state": {
            "_view_name": "StyleView",
            "_model_name": "DescriptionStyleModel",
            "description_width": "",
            "_view_module": "@jupyter-widgets/base",
            "_model_module_version": "1.5.0",
            "_view_count": null,
            "_view_module_version": "1.2.0",
            "_model_module": "@jupyter-widgets/controls"
          }
        },
        "ad862639d992404587130640fe41461a": {
          "model_module": "@jupyter-widgets/base",
          "model_name": "LayoutModel",
          "state": {
            "_view_name": "LayoutView",
            "grid_template_rows": null,
            "right": null,
            "justify_content": null,
            "_view_module": "@jupyter-widgets/base",
            "overflow": null,
            "_model_module_version": "1.2.0",
            "_view_count": null,
            "flex_flow": null,
            "width": null,
            "min_width": null,
            "border": null,
            "align_items": null,
            "bottom": null,
            "_model_module": "@jupyter-widgets/base",
            "top": null,
            "grid_column": null,
            "overflow_y": null,
            "overflow_x": null,
            "grid_auto_flow": null,
            "grid_area": null,
            "grid_template_columns": null,
            "flex": null,
            "_model_name": "LayoutModel",
            "justify_items": null,
            "grid_row": null,
            "max_height": null,
            "align_content": null,
            "visibility": null,
            "align_self": null,
            "height": null,
            "min_height": null,
            "padding": null,
            "grid_auto_rows": null,
            "grid_gap": null,
            "max_width": null,
            "order": null,
            "_view_module_version": "1.2.0",
            "grid_template_areas": null,
            "object_position": null,
            "object_fit": null,
            "grid_auto_columns": null,
            "margin": null,
            "display": null,
            "left": null
          }
        },
        "aa70c960593e430ca13addd77a23202a": {
          "model_module": "@jupyter-widgets/controls",
          "model_name": "HBoxModel",
          "state": {
            "_view_name": "HBoxView",
            "_dom_classes": [],
            "_model_name": "HBoxModel",
            "_view_module": "@jupyter-widgets/controls",
            "_model_module_version": "1.5.0",
            "_view_count": null,
            "_view_module_version": "1.5.0",
            "box_style": "",
            "layout": "IPY_MODEL_8cfcfb647aff43e08adbc81332e8af8b",
            "_model_module": "@jupyter-widgets/controls",
            "children": [
              "IPY_MODEL_4ef86370579346e6909a8f3e89a6b391",
              "IPY_MODEL_d70826a2ecc744d29fb6f002185bdf2c"
            ]
          }
        },
        "8cfcfb647aff43e08adbc81332e8af8b": {
          "model_module": "@jupyter-widgets/base",
          "model_name": "LayoutModel",
          "state": {
            "_view_name": "LayoutView",
            "grid_template_rows": null,
            "right": null,
            "justify_content": null,
            "_view_module": "@jupyter-widgets/base",
            "overflow": null,
            "_model_module_version": "1.2.0",
            "_view_count": null,
            "flex_flow": null,
            "width": null,
            "min_width": null,
            "border": null,
            "align_items": null,
            "bottom": null,
            "_model_module": "@jupyter-widgets/base",
            "top": null,
            "grid_column": null,
            "overflow_y": null,
            "overflow_x": null,
            "grid_auto_flow": null,
            "grid_area": null,
            "grid_template_columns": null,
            "flex": null,
            "_model_name": "LayoutModel",
            "justify_items": null,
            "grid_row": null,
            "max_height": null,
            "align_content": null,
            "visibility": null,
            "align_self": null,
            "height": null,
            "min_height": null,
            "padding": null,
            "grid_auto_rows": null,
            "grid_gap": null,
            "max_width": null,
            "order": null,
            "_view_module_version": "1.2.0",
            "grid_template_areas": null,
            "object_position": null,
            "object_fit": null,
            "grid_auto_columns": null,
            "margin": null,
            "display": null,
            "left": null
          }
        },
        "4ef86370579346e6909a8f3e89a6b391": {
          "model_module": "@jupyter-widgets/controls",
          "model_name": "FloatProgressModel",
          "state": {
            "_view_name": "ProgressView",
            "style": "IPY_MODEL_b7584bf9e3e64cd7b3ef687ba4c46721",
            "_dom_classes": [],
            "description": "Downloading: 100%",
            "_model_name": "FloatProgressModel",
            "bar_style": "success",
            "max": 440473133,
            "_view_module": "@jupyter-widgets/controls",
            "_model_module_version": "1.5.0",
            "value": 440473133,
            "_view_count": null,
            "_view_module_version": "1.5.0",
            "orientation": "horizontal",
            "min": 0,
            "description_tooltip": null,
            "_model_module": "@jupyter-widgets/controls",
            "layout": "IPY_MODEL_5d52973ab5304a84aab513924dfeaaf1"
          }
        },
        "d70826a2ecc744d29fb6f002185bdf2c": {
          "model_module": "@jupyter-widgets/controls",
          "model_name": "HTMLModel",
          "state": {
            "_view_name": "HTMLView",
            "style": "IPY_MODEL_66e7303394a747cd8e1041f2753f2e53",
            "_dom_classes": [],
            "description": "",
            "_model_name": "HTMLModel",
            "placeholder": "​",
            "_view_module": "@jupyter-widgets/controls",
            "_model_module_version": "1.5.0",
            "value": " 440M/440M [00:06&lt;00:00, 65.1MB/s]",
            "_view_count": null,
            "_view_module_version": "1.5.0",
            "description_tooltip": null,
            "_model_module": "@jupyter-widgets/controls",
            "layout": "IPY_MODEL_73703556da1642d38c0ed9d688ae5acf"
          }
        },
        "b7584bf9e3e64cd7b3ef687ba4c46721": {
          "model_module": "@jupyter-widgets/controls",
          "model_name": "ProgressStyleModel",
          "state": {
            "_view_name": "StyleView",
            "_model_name": "ProgressStyleModel",
            "description_width": "initial",
            "_view_module": "@jupyter-widgets/base",
            "_model_module_version": "1.5.0",
            "_view_count": null,
            "_view_module_version": "1.2.0",
            "bar_color": null,
            "_model_module": "@jupyter-widgets/controls"
          }
        },
        "5d52973ab5304a84aab513924dfeaaf1": {
          "model_module": "@jupyter-widgets/base",
          "model_name": "LayoutModel",
          "state": {
            "_view_name": "LayoutView",
            "grid_template_rows": null,
            "right": null,
            "justify_content": null,
            "_view_module": "@jupyter-widgets/base",
            "overflow": null,
            "_model_module_version": "1.2.0",
            "_view_count": null,
            "flex_flow": null,
            "width": null,
            "min_width": null,
            "border": null,
            "align_items": null,
            "bottom": null,
            "_model_module": "@jupyter-widgets/base",
            "top": null,
            "grid_column": null,
            "overflow_y": null,
            "overflow_x": null,
            "grid_auto_flow": null,
            "grid_area": null,
            "grid_template_columns": null,
            "flex": null,
            "_model_name": "LayoutModel",
            "justify_items": null,
            "grid_row": null,
            "max_height": null,
            "align_content": null,
            "visibility": null,
            "align_self": null,
            "height": null,
            "min_height": null,
            "padding": null,
            "grid_auto_rows": null,
            "grid_gap": null,
            "max_width": null,
            "order": null,
            "_view_module_version": "1.2.0",
            "grid_template_areas": null,
            "object_position": null,
            "object_fit": null,
            "grid_auto_columns": null,
            "margin": null,
            "display": null,
            "left": null
          }
        },
        "66e7303394a747cd8e1041f2753f2e53": {
          "model_module": "@jupyter-widgets/controls",
          "model_name": "DescriptionStyleModel",
          "state": {
            "_view_name": "StyleView",
            "_model_name": "DescriptionStyleModel",
            "description_width": "",
            "_view_module": "@jupyter-widgets/base",
            "_model_module_version": "1.5.0",
            "_view_count": null,
            "_view_module_version": "1.2.0",
            "_model_module": "@jupyter-widgets/controls"
          }
        },
        "73703556da1642d38c0ed9d688ae5acf": {
          "model_module": "@jupyter-widgets/base",
          "model_name": "LayoutModel",
          "state": {
            "_view_name": "LayoutView",
            "grid_template_rows": null,
            "right": null,
            "justify_content": null,
            "_view_module": "@jupyter-widgets/base",
            "overflow": null,
            "_model_module_version": "1.2.0",
            "_view_count": null,
            "flex_flow": null,
            "width": null,
            "min_width": null,
            "border": null,
            "align_items": null,
            "bottom": null,
            "_model_module": "@jupyter-widgets/base",
            "top": null,
            "grid_column": null,
            "overflow_y": null,
            "overflow_x": null,
            "grid_auto_flow": null,
            "grid_area": null,
            "grid_template_columns": null,
            "flex": null,
            "_model_name": "LayoutModel",
            "justify_items": null,
            "grid_row": null,
            "max_height": null,
            "align_content": null,
            "visibility": null,
            "align_self": null,
            "height": null,
            "min_height": null,
            "padding": null,
            "grid_auto_rows": null,
            "grid_gap": null,
            "max_width": null,
            "order": null,
            "_view_module_version": "1.2.0",
            "grid_template_areas": null,
            "object_position": null,
            "object_fit": null,
            "grid_auto_columns": null,
            "margin": null,
            "display": null,
            "left": null
          }
        },
        "fdec1e8f317f4860bcd6c4907e8f5ec8": {
          "model_module": "@jupyter-widgets/controls",
          "model_name": "HBoxModel",
          "state": {
            "_view_name": "HBoxView",
            "_dom_classes": [],
            "_model_name": "HBoxModel",
            "_view_module": "@jupyter-widgets/controls",
            "_model_module_version": "1.5.0",
            "_view_count": null,
            "_view_module_version": "1.5.0",
            "box_style": "",
            "layout": "IPY_MODEL_2b17e1e21bfc4e0486022c6ec03db632",
            "_model_module": "@jupyter-widgets/controls",
            "children": [
              "IPY_MODEL_36fe0e682e8548569a08c568429258d0",
              "IPY_MODEL_c6aecc0b5f9842b1a3d0b002a4eef36e"
            ]
          }
        },
        "2b17e1e21bfc4e0486022c6ec03db632": {
          "model_module": "@jupyter-widgets/base",
          "model_name": "LayoutModel",
          "state": {
            "_view_name": "LayoutView",
            "grid_template_rows": null,
            "right": null,
            "justify_content": null,
            "_view_module": "@jupyter-widgets/base",
            "overflow": null,
            "_model_module_version": "1.2.0",
            "_view_count": null,
            "flex_flow": null,
            "width": null,
            "min_width": null,
            "border": null,
            "align_items": null,
            "bottom": null,
            "_model_module": "@jupyter-widgets/base",
            "top": null,
            "grid_column": null,
            "overflow_y": null,
            "overflow_x": null,
            "grid_auto_flow": null,
            "grid_area": null,
            "grid_template_columns": null,
            "flex": null,
            "_model_name": "LayoutModel",
            "justify_items": null,
            "grid_row": null,
            "max_height": null,
            "align_content": null,
            "visibility": null,
            "align_self": null,
            "height": null,
            "min_height": null,
            "padding": null,
            "grid_auto_rows": null,
            "grid_gap": null,
            "max_width": null,
            "order": null,
            "_view_module_version": "1.2.0",
            "grid_template_areas": null,
            "object_position": null,
            "object_fit": null,
            "grid_auto_columns": null,
            "margin": null,
            "display": null,
            "left": null
          }
        },
        "36fe0e682e8548569a08c568429258d0": {
          "model_module": "@jupyter-widgets/controls",
          "model_name": "FloatProgressModel",
          "state": {
            "_view_name": "ProgressView",
            "style": "IPY_MODEL_2f94ec2b856a453585e750bbe426ebc1",
            "_dom_classes": [],
            "description": "100%",
            "_model_name": "FloatProgressModel",
            "bar_style": "success",
            "max": 13240,
            "_view_module": "@jupyter-widgets/controls",
            "_model_module_version": "1.5.0",
            "value": 13240,
            "_view_count": null,
            "_view_module_version": "1.5.0",
            "orientation": "horizontal",
            "min": 0,
            "description_tooltip": null,
            "_model_module": "@jupyter-widgets/controls",
            "layout": "IPY_MODEL_99f17ecfe09b4d91a98977d293cc46f5"
          }
        },
        "c6aecc0b5f9842b1a3d0b002a4eef36e": {
          "model_module": "@jupyter-widgets/controls",
          "model_name": "HTMLModel",
          "state": {
            "_view_name": "HTMLView",
            "style": "IPY_MODEL_36ee50a6da854150a524be2b9249c571",
            "_dom_classes": [],
            "description": "",
            "_model_name": "HTMLModel",
            "placeholder": "​",
            "_view_module": "@jupyter-widgets/controls",
            "_model_module_version": "1.5.0",
            "value": " 13240/13240 [1:37:17&lt;00:00,  2.27it/s]",
            "_view_count": null,
            "_view_module_version": "1.5.0",
            "description_tooltip": null,
            "_model_module": "@jupyter-widgets/controls",
            "layout": "IPY_MODEL_7e50d83e52ff463c86cda6e282fecb1a"
          }
        },
        "2f94ec2b856a453585e750bbe426ebc1": {
          "model_module": "@jupyter-widgets/controls",
          "model_name": "ProgressStyleModel",
          "state": {
            "_view_name": "StyleView",
            "_model_name": "ProgressStyleModel",
            "description_width": "initial",
            "_view_module": "@jupyter-widgets/base",
            "_model_module_version": "1.5.0",
            "_view_count": null,
            "_view_module_version": "1.2.0",
            "bar_color": null,
            "_model_module": "@jupyter-widgets/controls"
          }
        },
        "99f17ecfe09b4d91a98977d293cc46f5": {
          "model_module": "@jupyter-widgets/base",
          "model_name": "LayoutModel",
          "state": {
            "_view_name": "LayoutView",
            "grid_template_rows": null,
            "right": null,
            "justify_content": null,
            "_view_module": "@jupyter-widgets/base",
            "overflow": null,
            "_model_module_version": "1.2.0",
            "_view_count": null,
            "flex_flow": null,
            "width": null,
            "min_width": null,
            "border": null,
            "align_items": null,
            "bottom": null,
            "_model_module": "@jupyter-widgets/base",
            "top": null,
            "grid_column": null,
            "overflow_y": null,
            "overflow_x": null,
            "grid_auto_flow": null,
            "grid_area": null,
            "grid_template_columns": null,
            "flex": null,
            "_model_name": "LayoutModel",
            "justify_items": null,
            "grid_row": null,
            "max_height": null,
            "align_content": null,
            "visibility": null,
            "align_self": null,
            "height": null,
            "min_height": null,
            "padding": null,
            "grid_auto_rows": null,
            "grid_gap": null,
            "max_width": null,
            "order": null,
            "_view_module_version": "1.2.0",
            "grid_template_areas": null,
            "object_position": null,
            "object_fit": null,
            "grid_auto_columns": null,
            "margin": null,
            "display": null,
            "left": null
          }
        },
        "36ee50a6da854150a524be2b9249c571": {
          "model_module": "@jupyter-widgets/controls",
          "model_name": "DescriptionStyleModel",
          "state": {
            "_view_name": "StyleView",
            "_model_name": "DescriptionStyleModel",
            "description_width": "",
            "_view_module": "@jupyter-widgets/base",
            "_model_module_version": "1.5.0",
            "_view_count": null,
            "_view_module_version": "1.2.0",
            "_model_module": "@jupyter-widgets/controls"
          }
        },
        "7e50d83e52ff463c86cda6e282fecb1a": {
          "model_module": "@jupyter-widgets/base",
          "model_name": "LayoutModel",
          "state": {
            "_view_name": "LayoutView",
            "grid_template_rows": null,
            "right": null,
            "justify_content": null,
            "_view_module": "@jupyter-widgets/base",
            "overflow": null,
            "_model_module_version": "1.2.0",
            "_view_count": null,
            "flex_flow": null,
            "width": null,
            "min_width": null,
            "border": null,
            "align_items": null,
            "bottom": null,
            "_model_module": "@jupyter-widgets/base",
            "top": null,
            "grid_column": null,
            "overflow_y": null,
            "overflow_x": null,
            "grid_auto_flow": null,
            "grid_area": null,
            "grid_template_columns": null,
            "flex": null,
            "_model_name": "LayoutModel",
            "justify_items": null,
            "grid_row": null,
            "max_height": null,
            "align_content": null,
            "visibility": null,
            "align_self": null,
            "height": null,
            "min_height": null,
            "padding": null,
            "grid_auto_rows": null,
            "grid_gap": null,
            "max_width": null,
            "order": null,
            "_view_module_version": "1.2.0",
            "grid_template_areas": null,
            "object_position": null,
            "object_fit": null,
            "grid_auto_columns": null,
            "margin": null,
            "display": null,
            "left": null
          }
        }
      }
    }
  },
  "cells": [
    {
      "cell_type": "markdown",
      "metadata": {
        "id": "view-in-github",
        "colab_type": "text"
      },
      "source": [
        "<a href=\"https://colab.research.google.com/github/HanhaodiZhang/HATE/blob/main/mlm%2B%3C%3E.ipynb\" target=\"_parent\"><img src=\"https://colab.research.google.com/assets/colab-badge.svg\" alt=\"Open In Colab\"/></a>"
      ]
    },
    {
      "cell_type": "code",
      "metadata": {
        "id": "j3xXmzaXOAi7"
      },
      "source": [
        "!pip install -qq transformers"
      ],
      "execution_count": 9,
      "outputs": []
    },
    {
      "cell_type": "code",
      "metadata": {
        "id": "g31tr85QPKn9"
      },
      "source": [
        "import torch\n",
        "import numpy as np\n",
        "import pandas as pd"
      ],
      "execution_count": 10,
      "outputs": []
    },
    {
      "cell_type": "code",
      "metadata": {
        "colab": {
          "base_uri": "https://localhost:8080/",
          "height": 227
        },
        "id": "MRLoB-HdPMDK",
        "outputId": "a79d1bab-c8fa-4cd7-8788-28166f17f614"
      },
      "source": [
        "df = pd.read_csv(\"olid-training.tsv\", sep='\\t', header=0, index_col='id')\n",
        "\n",
        "df.head()"
      ],
      "execution_count": 11,
      "outputs": [
        {
          "output_type": "execute_result",
          "data": {
            "text/html": [
              "<div>\n",
              "<style scoped>\n",
              "    .dataframe tbody tr th:only-of-type {\n",
              "        vertical-align: middle;\n",
              "    }\n",
              "\n",
              "    .dataframe tbody tr th {\n",
              "        vertical-align: top;\n",
              "    }\n",
              "\n",
              "    .dataframe thead th {\n",
              "        text-align: right;\n",
              "    }\n",
              "</style>\n",
              "<table border=\"1\" class=\"dataframe\">\n",
              "  <thead>\n",
              "    <tr style=\"text-align: right;\">\n",
              "      <th></th>\n",
              "      <th>tweet</th>\n",
              "      <th>subtask_a</th>\n",
              "      <th>subtask_b</th>\n",
              "      <th>subtask_c</th>\n",
              "    </tr>\n",
              "    <tr>\n",
              "      <th>id</th>\n",
              "      <th></th>\n",
              "      <th></th>\n",
              "      <th></th>\n",
              "      <th></th>\n",
              "    </tr>\n",
              "  </thead>\n",
              "  <tbody>\n",
              "    <tr>\n",
              "      <th>86426</th>\n",
              "      <td>@USER She should ask a few native Americans wh...</td>\n",
              "      <td>OFF</td>\n",
              "      <td>UNT</td>\n",
              "      <td>NaN</td>\n",
              "    </tr>\n",
              "    <tr>\n",
              "      <th>90194</th>\n",
              "      <td>@USER @USER Go home you’re drunk!!! @USER #MAG...</td>\n",
              "      <td>OFF</td>\n",
              "      <td>TIN</td>\n",
              "      <td>IND</td>\n",
              "    </tr>\n",
              "    <tr>\n",
              "      <th>16820</th>\n",
              "      <td>Amazon is investigating Chinese employees who ...</td>\n",
              "      <td>NOT</td>\n",
              "      <td>NaN</td>\n",
              "      <td>NaN</td>\n",
              "    </tr>\n",
              "    <tr>\n",
              "      <th>62688</th>\n",
              "      <td>@USER Someone should'veTaken\" this piece of sh...</td>\n",
              "      <td>OFF</td>\n",
              "      <td>UNT</td>\n",
              "      <td>NaN</td>\n",
              "    </tr>\n",
              "    <tr>\n",
              "      <th>43605</th>\n",
              "      <td>@USER @USER Obama wanted liberals &amp;amp; illega...</td>\n",
              "      <td>NOT</td>\n",
              "      <td>NaN</td>\n",
              "      <td>NaN</td>\n",
              "    </tr>\n",
              "  </tbody>\n",
              "</table>\n",
              "</div>"
            ],
            "text/plain": [
              "                                                   tweet  ... subtask_c\n",
              "id                                                        ...          \n",
              "86426  @USER She should ask a few native Americans wh...  ...       NaN\n",
              "90194  @USER @USER Go home you’re drunk!!! @USER #MAG...  ...       IND\n",
              "16820  Amazon is investigating Chinese employees who ...  ...       NaN\n",
              "62688  @USER Someone should'veTaken\" this piece of sh...  ...       NaN\n",
              "43605  @USER @USER Obama wanted liberals &amp; illega...  ...       NaN\n",
              "\n",
              "[5 rows x 4 columns]"
            ]
          },
          "metadata": {
            "tags": []
          },
          "execution_count": 11
        }
      ]
    },
    {
      "cell_type": "code",
      "metadata": {
        "id": "CtFZpIFaPNS2",
        "outputId": "bafebcfa-ca49-4745-9d5e-3c6a51b313a8",
        "colab": {
          "base_uri": "https://localhost:8080/",
          "height": 227
        }
      },
      "source": [
        "df_test_label = pd.read_csv(\"labels-levela.csv\",header=None,names=['id','subtask_a'],index_col='id')\r\n",
        "df_test_tweet = pd.read_csv(\"testset-levela.tsv\", sep='\\t', header=0, index_col='id')\r\n",
        "df_test = pd.merge(df_test_tweet, df_test_label, on=['id'])\r\n",
        "df_test.head()"
      ],
      "execution_count": 12,
      "outputs": [
        {
          "output_type": "execute_result",
          "data": {
            "text/html": [
              "<div>\n",
              "<style scoped>\n",
              "    .dataframe tbody tr th:only-of-type {\n",
              "        vertical-align: middle;\n",
              "    }\n",
              "\n",
              "    .dataframe tbody tr th {\n",
              "        vertical-align: top;\n",
              "    }\n",
              "\n",
              "    .dataframe thead th {\n",
              "        text-align: right;\n",
              "    }\n",
              "</style>\n",
              "<table border=\"1\" class=\"dataframe\">\n",
              "  <thead>\n",
              "    <tr style=\"text-align: right;\">\n",
              "      <th></th>\n",
              "      <th>tweet</th>\n",
              "      <th>subtask_a</th>\n",
              "    </tr>\n",
              "    <tr>\n",
              "      <th>id</th>\n",
              "      <th></th>\n",
              "      <th></th>\n",
              "    </tr>\n",
              "  </thead>\n",
              "  <tbody>\n",
              "    <tr>\n",
              "      <th>15923</th>\n",
              "      <td>#WhoIsQ #WheresTheServer #DumpNike #DECLASFISA...</td>\n",
              "      <td>OFF</td>\n",
              "    </tr>\n",
              "    <tr>\n",
              "      <th>27014</th>\n",
              "      <td>#ConstitutionDay is revered by Conservatives, ...</td>\n",
              "      <td>NOT</td>\n",
              "    </tr>\n",
              "    <tr>\n",
              "      <th>30530</th>\n",
              "      <td>#FOXNews #NRA #MAGA #POTUS #TRUMP #2ndAmendmen...</td>\n",
              "      <td>NOT</td>\n",
              "    </tr>\n",
              "    <tr>\n",
              "      <th>13876</th>\n",
              "      <td>#Watching #Boomer getting the news that she is...</td>\n",
              "      <td>NOT</td>\n",
              "    </tr>\n",
              "    <tr>\n",
              "      <th>60133</th>\n",
              "      <td>#NoPasaran: Unity demo to oppose the far-right...</td>\n",
              "      <td>OFF</td>\n",
              "    </tr>\n",
              "  </tbody>\n",
              "</table>\n",
              "</div>"
            ],
            "text/plain": [
              "                                                   tweet subtask_a\n",
              "id                                                                \n",
              "15923  #WhoIsQ #WheresTheServer #DumpNike #DECLASFISA...       OFF\n",
              "27014  #ConstitutionDay is revered by Conservatives, ...       NOT\n",
              "30530  #FOXNews #NRA #MAGA #POTUS #TRUMP #2ndAmendmen...       NOT\n",
              "13876  #Watching #Boomer getting the news that she is...       NOT\n",
              "60133  #NoPasaran: Unity demo to oppose the far-right...       OFF"
            ]
          },
          "metadata": {
            "tags": []
          },
          "execution_count": 12
        }
      ]
    },
    {
      "cell_type": "code",
      "metadata": {
        "id": "EsS4LiA3PQ_Z"
      },
      "source": [
        "df['comment']='<'+df['subtask_a']+'> '+df['tweet']\r\n",
        "df_test['comment'] = '<'+df_test['subtask_a']+'> '+df_test['tweet']"
      ],
      "execution_count": 13,
      "outputs": []
    },
    {
      "cell_type": "code",
      "metadata": {
        "id": "5SF2eZPTPxhN",
        "outputId": "c686b47b-a9c7-4f73-8f11-0991ff9e9593",
        "colab": {
          "base_uri": "https://localhost:8080/",
          "height": 227
        }
      },
      "source": [
        "df.head()"
      ],
      "execution_count": 14,
      "outputs": [
        {
          "output_type": "execute_result",
          "data": {
            "text/html": [
              "<div>\n",
              "<style scoped>\n",
              "    .dataframe tbody tr th:only-of-type {\n",
              "        vertical-align: middle;\n",
              "    }\n",
              "\n",
              "    .dataframe tbody tr th {\n",
              "        vertical-align: top;\n",
              "    }\n",
              "\n",
              "    .dataframe thead th {\n",
              "        text-align: right;\n",
              "    }\n",
              "</style>\n",
              "<table border=\"1\" class=\"dataframe\">\n",
              "  <thead>\n",
              "    <tr style=\"text-align: right;\">\n",
              "      <th></th>\n",
              "      <th>tweet</th>\n",
              "      <th>subtask_a</th>\n",
              "      <th>subtask_b</th>\n",
              "      <th>subtask_c</th>\n",
              "      <th>comment</th>\n",
              "    </tr>\n",
              "    <tr>\n",
              "      <th>id</th>\n",
              "      <th></th>\n",
              "      <th></th>\n",
              "      <th></th>\n",
              "      <th></th>\n",
              "      <th></th>\n",
              "    </tr>\n",
              "  </thead>\n",
              "  <tbody>\n",
              "    <tr>\n",
              "      <th>86426</th>\n",
              "      <td>@USER She should ask a few native Americans wh...</td>\n",
              "      <td>OFF</td>\n",
              "      <td>UNT</td>\n",
              "      <td>NaN</td>\n",
              "      <td>&lt;OFF&gt; @USER She should ask a few native Americ...</td>\n",
              "    </tr>\n",
              "    <tr>\n",
              "      <th>90194</th>\n",
              "      <td>@USER @USER Go home you’re drunk!!! @USER #MAG...</td>\n",
              "      <td>OFF</td>\n",
              "      <td>TIN</td>\n",
              "      <td>IND</td>\n",
              "      <td>&lt;OFF&gt; @USER @USER Go home you’re drunk!!! @USE...</td>\n",
              "    </tr>\n",
              "    <tr>\n",
              "      <th>16820</th>\n",
              "      <td>Amazon is investigating Chinese employees who ...</td>\n",
              "      <td>NOT</td>\n",
              "      <td>NaN</td>\n",
              "      <td>NaN</td>\n",
              "      <td>&lt;NOT&gt; Amazon is investigating Chinese employee...</td>\n",
              "    </tr>\n",
              "    <tr>\n",
              "      <th>62688</th>\n",
              "      <td>@USER Someone should'veTaken\" this piece of sh...</td>\n",
              "      <td>OFF</td>\n",
              "      <td>UNT</td>\n",
              "      <td>NaN</td>\n",
              "      <td>&lt;OFF&gt; @USER Someone should'veTaken\" this piece...</td>\n",
              "    </tr>\n",
              "    <tr>\n",
              "      <th>43605</th>\n",
              "      <td>@USER @USER Obama wanted liberals &amp;amp; illega...</td>\n",
              "      <td>NOT</td>\n",
              "      <td>NaN</td>\n",
              "      <td>NaN</td>\n",
              "      <td>&lt;NOT&gt; @USER @USER Obama wanted liberals &amp;amp; ...</td>\n",
              "    </tr>\n",
              "  </tbody>\n",
              "</table>\n",
              "</div>"
            ],
            "text/plain": [
              "                                                   tweet  ...                                            comment\n",
              "id                                                        ...                                                   \n",
              "86426  @USER She should ask a few native Americans wh...  ...  <OFF> @USER She should ask a few native Americ...\n",
              "90194  @USER @USER Go home you’re drunk!!! @USER #MAG...  ...  <OFF> @USER @USER Go home you’re drunk!!! @USE...\n",
              "16820  Amazon is investigating Chinese employees who ...  ...  <NOT> Amazon is investigating Chinese employee...\n",
              "62688  @USER Someone should'veTaken\" this piece of sh...  ...  <OFF> @USER Someone should'veTaken\" this piece...\n",
              "43605  @USER @USER Obama wanted liberals &amp; illega...  ...  <NOT> @USER @USER Obama wanted liberals &amp; ...\n",
              "\n",
              "[5 rows x 5 columns]"
            ]
          },
          "metadata": {
            "tags": []
          },
          "execution_count": 14
        }
      ]
    },
    {
      "cell_type": "code",
      "metadata": {
        "id": "TowkIHTuVWcJ"
      },
      "source": [
        "\n",
        "# M = df['comment']\n",
        " \n",
        "# M.to_csv('train.txt',header=False,index=False)\n",
        "# M = df_test['comment']\n",
        "# M.to_csv('val.txt', header=False, index=False)\n",
        "\n",
        "with open(\"train.txt\", 'w') as f:\n",
        "    for line in df['comment'].to_list():\n",
        "        f.write(line + '\\n')\n",
        "\n",
        "with open(\"val.txt\", 'w') as f:\n",
        "    for line in df_test['comment'].to_list():\n",
        "        f.write(line + '\\n')"
      ],
      "execution_count": 15,
      "outputs": []
    },
    {
      "cell_type": "code",
      "metadata": {
        "id": "4Swpjuy5Y8Ue",
        "colab": {
          "base_uri": "https://localhost:8080/",
          "height": 82,
          "referenced_widgets": [
            "51b7fb6b496640768a45dd00598736df",
            "ddb8841f231644c6a07e89ac13013ea2",
            "78c4af2f18504f4c989ca56605c2497a",
            "abc5250c800943939d2c926aad1fd490",
            "1b7c53d0b3c241a6aeed0b763d15012c",
            "fc1d19208b7847c5a8076532effebd24",
            "8350bf239a824a7ca11af1eb8e3a397a",
            "3fac5ae1180f4020ac3822a9f28f705c"
          ]
        },
        "outputId": "a6a99cb4-f9da-4604-83dc-a4ea280f52c0"
      },
      "source": [
        "from transformers import BertTokenizer\r\n",
        "\r\n",
        "PRE_TRAINED_MODEL_NAME = 'bert-base-uncased'\r\n",
        "tokenizer = BertTokenizer.from_pretrained(PRE_TRAINED_MODEL_NAME)\r\n",
        "tokenizer.add_special_tokens({'additional_special_tokens':[\"<OFF>\",\"<NOT>\"]})"
      ],
      "execution_count": 16,
      "outputs": [
        {
          "output_type": "display_data",
          "data": {
            "application/vnd.jupyter.widget-view+json": {
              "model_id": "51b7fb6b496640768a45dd00598736df",
              "version_minor": 0,
              "version_major": 2
            },
            "text/plain": [
              "HBox(children=(FloatProgress(value=0.0, description='Downloading', max=231508.0, style=ProgressStyle(descripti…"
            ]
          },
          "metadata": {
            "tags": []
          }
        },
        {
          "output_type": "stream",
          "text": [
            "\n"
          ],
          "name": "stdout"
        },
        {
          "output_type": "execute_result",
          "data": {
            "text/plain": [
              "2"
            ]
          },
          "metadata": {
            "tags": []
          },
          "execution_count": 16
        }
      ]
    },
    {
      "cell_type": "code",
      "metadata": {
        "id": "J-tNOlGrZJPN",
        "colab": {
          "base_uri": "https://localhost:8080/",
          "height": 201,
          "referenced_widgets": [
            "bf4a75dddd46457bb644b28603c1d836",
            "9055e223b8d44b6eb0ff0271f464b92b",
            "33af9b2cc3294577aa109f81a2d48a34",
            "7070113a89d04da08112cf2156076a37",
            "3427a1f9a8e44fd19758ffaf30944a37",
            "949126ed4b264065b273f7f491f05d9f",
            "8aff78980ab94a7b8477a40ad4c3242d",
            "ad862639d992404587130640fe41461a",
            "aa70c960593e430ca13addd77a23202a",
            "8cfcfb647aff43e08adbc81332e8af8b",
            "4ef86370579346e6909a8f3e89a6b391",
            "d70826a2ecc744d29fb6f002185bdf2c",
            "b7584bf9e3e64cd7b3ef687ba4c46721",
            "5d52973ab5304a84aab513924dfeaaf1",
            "66e7303394a747cd8e1041f2753f2e53",
            "73703556da1642d38c0ed9d688ae5acf"
          ]
        },
        "outputId": "a00d4fe8-d10f-4c6c-cf10-a3d809ee084f"
      },
      "source": [
        "from transformers import BertForMaskedLM\n",
        "\n",
        "model = BertForMaskedLM.from_pretrained('bert-base-uncased')\n",
        "model.resize_token_embeddings(len(tokenizer))"
      ],
      "execution_count": 17,
      "outputs": [
        {
          "output_type": "display_data",
          "data": {
            "application/vnd.jupyter.widget-view+json": {
              "model_id": "bf4a75dddd46457bb644b28603c1d836",
              "version_minor": 0,
              "version_major": 2
            },
            "text/plain": [
              "HBox(children=(FloatProgress(value=0.0, description='Downloading', max=433.0, style=ProgressStyle(description_…"
            ]
          },
          "metadata": {
            "tags": []
          }
        },
        {
          "output_type": "stream",
          "text": [
            "\n"
          ],
          "name": "stdout"
        },
        {
          "output_type": "display_data",
          "data": {
            "application/vnd.jupyter.widget-view+json": {
              "model_id": "aa70c960593e430ca13addd77a23202a",
              "version_minor": 0,
              "version_major": 2
            },
            "text/plain": [
              "HBox(children=(FloatProgress(value=0.0, description='Downloading', max=440473133.0, style=ProgressStyle(descri…"
            ]
          },
          "metadata": {
            "tags": []
          }
        },
        {
          "output_type": "stream",
          "text": [
            "\n"
          ],
          "name": "stdout"
        },
        {
          "output_type": "stream",
          "text": [
            "Some weights of the model checkpoint at bert-base-uncased were not used when initializing BertForMaskedLM: ['cls.seq_relationship.weight', 'cls.seq_relationship.bias']\n",
            "- This IS expected if you are initializing BertForMaskedLM from the checkpoint of a model trained on another task or with another architecture (e.g. initializing a BertForSequenceClassification model from a BertForPreTraining model).\n",
            "- This IS NOT expected if you are initializing BertForMaskedLM from the checkpoint of a model that you expect to be exactly identical (initializing a BertForSequenceClassification model from a BertForSequenceClassification model).\n"
          ],
          "name": "stderr"
        },
        {
          "output_type": "execute_result",
          "data": {
            "text/plain": [
              "Embedding(30524, 768)"
            ]
          },
          "metadata": {
            "tags": []
          },
          "execution_count": 17
        }
      ]
    },
    {
      "cell_type": "code",
      "metadata": {
        "id": "xWqUREqkZZVn",
        "outputId": "0fd1cc17-7721-42b6-dfc2-0475db16281b",
        "colab": {
          "base_uri": "https://localhost:8080/"
        }
      },
      "source": [
        "# TRAIN ONLY\n",
        "from transformers import LineByLineTextDataset\n",
        "from transformers import DataCollatorForLanguageModeling\n",
        "\n",
        "train_dataset = LineByLineTextDataset(\n",
        "    tokenizer=tokenizer,\n",
        "    file_path=\"train.txt\",\n",
        "    block_size=128,\n",
        ")\n",
        "\n",
        "valid_dataset = LineByLineTextDataset(\n",
        "    tokenizer=tokenizer,\n",
        "    file_path=\"val.txt\",\n",
        "    block_size=128,\n",
        ")\n",
        "\n",
        "data_collator = DataCollatorForLanguageModeling(\n",
        "    tokenizer=tokenizer, mlm=True, mlm_probability=0.15\n",
        ")"
      ],
      "execution_count": 18,
      "outputs": [
        {
          "output_type": "stream",
          "text": [
            "/usr/local/lib/python3.6/dist-packages/transformers/data/datasets/language_modeling.py:128: FutureWarning: This dataset will be removed from the library soon, preprocessing should be handled with the 🤗 Datasets library. You can have a look at this example script for pointers: https://github.com/huggingface/transformers/blob/master/examples/language-modeling/run_mlm.py\n",
            "  FutureWarning,\n"
          ],
          "name": "stderr"
        }
      ]
    },
    {
      "cell_type": "code",
      "metadata": {
        "id": "cr3VqZpJZcP1"
      },
      "source": [
        "# TRAIN ONLY\n",
        "from transformers import Trainer, TrainingArguments, EvalPrediction\n",
        "\n",
        "def compute_metrics(p: EvalPrediction):\n",
        "    preds = p.predictions[0] if isinstance(p.predictions, tuple) else p.predictions\n",
        "    preds = np.squeeze(preds) if is_regression else np.argmax(preds, axis=1)\n",
        "    \n",
        "    return {\"accuracy\": (preds == p.label_ids).astype(np.float32).mean().item()}\n",
        "\n",
        "model.cuda()\n",
        "training_args = TrainingArguments(\n",
        "    output_dir=\"./mlm\",\n",
        "    overwrite_output_dir=True,\n",
        "    num_train_epochs=10,\n",
        "    per_device_train_batch_size=16,\n",
        "    save_steps=1000,\n",
        "    save_total_limit=10,\n",
        "    evaluation_strategy='epoch',\n",
        "    learning_rate=2e-4,\n",
        "    weight_decay=1e-5,\n",
        "    lr_scheduler_type='cosine',\n",
        "    warmup_steps=500,\n",
        "    metric_for_best_model='eval_loss',\n",
        "    load_best_model_at_end=True,\n",
        "    disable_tqdm=True,\n",
        ")\n",
        "\n",
        "trainer = Trainer(\n",
        "    model=model,\n",
        "    args=training_args,\n",
        "    data_collator=data_collator,\n",
        "    train_dataset=train_dataset,\n",
        "    eval_dataset=valid_dataset,\n",
        "    # compute_metrics=compute_metrics\n",
        "    # prediction_loss_only=True,\n",
        ")"
      ],
      "execution_count": 19,
      "outputs": []
    },
    {
      "cell_type": "code",
      "metadata": {
        "id": "dZM4lqgmZjE7",
        "colab": {
          "base_uri": "https://localhost:8080/"
        },
        "outputId": "141a57e4-6dc7-4260-f839-6f3c97e8b219"
      },
      "source": [
        "%%time\n",
        "# TRAIN ONLY\n",
        "trainer.train()"
      ],
      "execution_count": 20,
      "outputs": [
        {
          "output_type": "stream",
          "text": [
            "{'loss': 2.0544, 'learning_rate': 0.0002, 'epoch': 0.6}\n",
            "{'eval_loss': 2.072282552719116, 'eval_runtime': 1.7421, 'eval_samples_per_second': 493.645, 'epoch': 1.0}\n",
            "{'loss': 1.2789, 'learning_rate': 0.0001979686968042461, 'epoch': 1.21}\n",
            "{'loss': 1.256, 'learning_rate': 0.00019195731107044594, 'epoch': 1.81}\n",
            "{'eval_loss': 2.1243677139282227, 'eval_runtime': 1.7399, 'eval_samples_per_second': 494.285, 'epoch': 2.0}\n",
            "{'loss': 1.2285, 'learning_rate': 0.00018221006173963912, 'epoch': 2.42}\n",
            "{'eval_loss': 2.151510715484619, 'eval_runtime': 1.7455, 'eval_samples_per_second': 492.705, 'epoch': 3.0}\n",
            "{'loss': 1.2224, 'learning_rate': 0.00016912294118613517, 'epoch': 3.02}\n",
            "{'loss': 1.1771, 'learning_rate': 0.0001532276276060051, 'epoch': 3.62}\n",
            "{'eval_loss': 2.0780997276306152, 'eval_runtime': 1.7564, 'eval_samples_per_second': 489.639, 'epoch': 4.0}\n",
            "{'loss': 1.1193, 'learning_rate': 0.0001351698850247055, 'epoch': 4.23}\n",
            "{'loss': 1.0931, 'learning_rate': 0.00011568332844650622, 'epoch': 4.83}\n",
            "{'eval_loss': 1.943231225013733, 'eval_runtime': 1.7423, 'eval_samples_per_second': 493.597, 'epoch': 5.0}\n",
            "{'loss': 1.0236, 'learning_rate': 9.555961996443802e-05, 'epoch': 5.43}\n",
            "{'eval_loss': 1.926449179649353, 'eval_runtime': 1.7363, 'eval_samples_per_second': 495.295, 'epoch': 6.0}\n",
            "{'loss': 1.0082, 'learning_rate': 7.561630664550179e-05, 'epoch': 6.04}\n",
            "{'loss': 0.9364, 'learning_rate': 5.666360681127109e-05, 'epoch': 6.64}\n",
            "{'eval_loss': 1.903361439704895, 'eval_runtime': 1.7411, 'eval_samples_per_second': 493.93, 'epoch': 7.0}\n",
            "{'loss': 0.9016, 'learning_rate': 3.9471494056574686e-05, 'epoch': 7.25}\n",
            "{'loss': 0.8565, 'learning_rate': 2.473841625302006e-05, 'epoch': 7.85}\n",
            "{'eval_loss': 1.8125406503677368, 'eval_runtime': 1.7487, 'eval_samples_per_second': 491.786, 'epoch': 8.0}\n",
            "{'loss': 0.849, 'learning_rate': 1.3062920361120223e-05, 'epoch': 8.45}\n",
            "{'eval_loss': 1.7860339879989624, 'eval_runtime': 1.7634, 'eval_samples_per_second': 487.707, 'epoch': 9.0}\n",
            "{'loss': 0.8243, 'learning_rate': 4.9193358232198174e-06, 'epoch': 9.06}\n",
            "{'loss': 0.8151, 'learning_rate': 6.385044252533723e-07, 'epoch': 9.66}\n",
            "{'eval_loss': 1.8118226528167725, 'eval_runtime': 1.7425, 'eval_samples_per_second': 493.555, 'epoch': 10.0}\n",
            "{'train_runtime': 1159.9963, 'train_samples_per_second': 7.138, 'epoch': 10.0}\n",
            "CPU times: user 14min 59s, sys: 3min 59s, total: 18min 59s\n",
            "Wall time: 19min 20s\n"
          ],
          "name": "stdout"
        },
        {
          "output_type": "execute_result",
          "data": {
            "text/plain": [
              "TrainOutput(global_step=8280, training_loss=1.092704625521305, metrics={'train_runtime': 1159.9963, 'train_samples_per_second': 7.138, 'epoch': 10.0})"
            ]
          },
          "metadata": {
            "tags": []
          },
          "execution_count": 20
        }
      ]
    },
    {
      "cell_type": "code",
      "metadata": {
        "id": "wA_-j2UDnWPf"
      },
      "source": [
        "trainer.save_model(\"./mlm\")"
      ],
      "execution_count": 21,
      "outputs": []
    },
    {
      "cell_type": "code",
      "metadata": {
        "id": "11hgRJQtoTAT",
        "outputId": "9668c10c-68c0-45e6-a17d-0aecef1523a7",
        "colab": {
          "base_uri": "https://localhost:8080/"
        }
      },
      "source": [
        "\r\n",
        "from transformers import pipeline\r\n",
        "import pandas as pd\r\n",
        "from tqdm.notebook import tqdm\r\n",
        "from transformers import BertTokenizer\r\n",
        "\r\n",
        "PRE_TRAINED_MODEL_NAME = 'bert-base-uncased'\r\n",
        "tokenizer = BertTokenizer.from_pretrained(PRE_TRAINED_MODEL_NAME)\r\n",
        "tokenizer.add_special_tokens({'additional_special_tokens':[\"<OFF>\",\"<NOT>\"]})\r\n",
        "\r\n",
        "fill_mask = pipeline(\r\n",
        "    \"fill-mask\",\r\n",
        "    model=\"./mlm\",\r\n",
        "    tokenizer=tokenizer\r\n",
        ")"
      ],
      "execution_count": 22,
      "outputs": [
        {
          "output_type": "stream",
          "text": [
            "Some weights of BertModel were not initialized from the model checkpoint at ./mlm and are newly initialized: ['bert.pooler.dense.weight', 'bert.pooler.dense.bias']\n",
            "You should probably TRAIN this model on a down-stream task to be able to use it for predictions and inference.\n"
          ],
          "name": "stderr"
        }
      ]
    },
    {
      "cell_type": "code",
      "metadata": {
        "id": "MrBw2vZOvYsD",
        "outputId": "bcda53d0-644d-4f66-a2bf-fabd0ad05d1e",
        "colab": {
          "base_uri": "https://localhost:8080/"
        }
      },
      "source": [
        "fill_mask('<NOT> @USER @USER You are [MASK].')"
      ],
      "execution_count": 23,
      "outputs": [
        {
          "output_type": "execute_result",
          "data": {
            "text/plain": [
              "[{'score': 0.24912793934345245,\n",
              "  'sequence': '@ user @ user you are welcome.',\n",
              "  'token': 6160,\n",
              "  'token_str': 'w e l c o m e'},\n",
              " {'score': 0.11235679686069489,\n",
              "  'sequence': '@ user @ user you are correct.',\n",
              "  'token': 6149,\n",
              "  'token_str': 'c o r r e c t'},\n",
              " {'score': 0.0975445955991745,\n",
              "  'sequence': '@ user @ user you are right.',\n",
              "  'token': 2157,\n",
              "  'token_str': 'r i g h t'},\n",
              " {'score': 0.059810008853673935,\n",
              "  'sequence': '@ user @ user you are beautiful.',\n",
              "  'token': 3376,\n",
              "  'token_str': 'b e a u t i f u l'},\n",
              " {'score': 0.051674071699380875,\n",
              "  'sequence': '@ user @ user you are amazing.',\n",
              "  'token': 6429,\n",
              "  'token_str': 'a m a z i n g'}]"
            ]
          },
          "metadata": {
            "tags": []
          },
          "execution_count": 23
        }
      ]
    },
    {
      "cell_type": "code",
      "metadata": {
        "id": "4h1gXSdDvcUJ",
        "outputId": "e0c05dc6-6d2b-4327-b43c-52921a2713bc",
        "colab": {
          "base_uri": "https://localhost:8080/"
        }
      },
      "source": [
        "fill_mask('<OFF> @USER @USER You are [MASK].')"
      ],
      "execution_count": 24,
      "outputs": [
        {
          "output_type": "execute_result",
          "data": {
            "text/plain": [
              "[{'score': 0.236549973487854,\n",
              "  'sequence': '@ user @ user you are disgusting.',\n",
              "  'token': 19424,\n",
              "  'token_str': 'd i s g u s t i n g'},\n",
              " {'score': 0.20990410447120667,\n",
              "  'sequence': '@ user @ user you are pathetic.',\n",
              "  'token': 17203,\n",
              "  'token_str': 'p a t h e t i c'},\n",
              " {'score': 0.031589407473802567,\n",
              "  'sequence': '@ user @ user you are sick.',\n",
              "  'token': 5305,\n",
              "  'token_str': 's i c k'},\n",
              " {'score': 0.02628418244421482,\n",
              "  'sequence': '@ user @ user you are insane.',\n",
              "  'token': 9577,\n",
              "  'token_str': 'i n s a n e'},\n",
              " {'score': 0.022228850051760674,\n",
              "  'sequence': '@ user @ user you are hilarious.',\n",
              "  'token': 26316,\n",
              "  'token_str': 'h i l a r i o u s'}]"
            ]
          },
          "metadata": {
            "tags": []
          },
          "execution_count": 24
        }
      ]
    },
    {
      "cell_type": "code",
      "metadata": {
        "id": "5KDv3kYDvfTG"
      },
      "source": [
        "df = pd.read_csv(\"olid-training.tsv\", sep='\\t', header=0, index_col='id')"
      ],
      "execution_count": 25,
      "outputs": []
    },
    {
      "cell_type": "code",
      "metadata": {
        "id": "Zag6J5WSvjAa"
      },
      "source": [
        "N = 1\r\n",
        "K = 2"
      ],
      "execution_count": 26,
      "outputs": []
    },
    {
      "cell_type": "code",
      "metadata": {
        "id": "8_RWY3oTvkjB"
      },
      "source": [
        "import spacy\r\n",
        "import random\r\n",
        "random.seed(17)\r\n",
        "\r\n",
        "# \"python -m spacy download en\" --> install spacy model\r\n",
        "nlp = spacy.load(\"en\") \r\n",
        "  \r\n",
        "# randomly mask noun\r\n",
        "def mask_noun_and_adj(text, n=1):\r\n",
        "    doc = nlp(text)\r\n",
        "    noun_adj_position = []\r\n",
        "\r\n",
        "    words = []\r\n",
        "    # get all noun and adj indices\r\n",
        "    for i, token in enumerate(doc):\r\n",
        "        words.append(token.text_with_ws)\r\n",
        "        if (token.pos_ == \"NOUN\" or token.pos_ == \"ADJ\") and token.text != \"#\":\r\n",
        "            noun_adj_position.append(i)\r\n",
        "        \r\n",
        "    if n > len(words):\r\n",
        "        # mask all words if n > sentence length\r\n",
        "        mask_position = list(range(len(words)))\r\n",
        "    elif n > len(noun_adj_position):\r\n",
        "        # mask all nouns and adjs and randomly pick the rest\r\n",
        "        mask_position = noun_adj_position\r\n",
        "        rest = [i for i in range(len(words)) if i not in noun_adj_position]\r\n",
        "        rest = random.sample(rest, n - len(noun_adj_position))\r\n",
        "        mask_position += rest\r\n",
        "    else:\r\n",
        "        mask_position = random.sample(noun_adj_position, n)\r\n",
        "    mask_word=[]\r\n",
        "    for idx in mask_position:\r\n",
        "        mask_word.append(words[idx])\r\n",
        "        if words[idx].startswith(' ') and words[idx].endswith(' '):\r\n",
        "            words[idx] = ' [MASK] '\r\n",
        "        elif words[idx].startswith(' '):\r\n",
        "            words[idx] = ' [MASK]'\r\n",
        "        elif words[idx].endswith(' '):\r\n",
        "            words[idx] = '[MASK] '\r\n",
        "        else:\r\n",
        "            words[idx] = '[MASK]'\r\n",
        "        \r\n",
        "    return \"\".join(words), mask_word"
      ],
      "execution_count": 31,
      "outputs": []
    },
    {
      "cell_type": "code",
      "metadata": {
        "id": "rWbdc_B7v2gs",
        "outputId": "a949a221-c3d9-4015-9f64-f1bfd4dffb94",
        "colab": {
          "base_uri": "https://localhost:8080/"
        }
      },
      "source": [
        "mask_noun_and_adj('@ user @ user you are insane.', n=1)"
      ],
      "execution_count": 32,
      "outputs": [
        {
          "output_type": "execute_result",
          "data": {
            "text/plain": [
              "('@ user @ user you are [MASK].', ['insane'])"
            ]
          },
          "metadata": {
            "tags": []
          },
          "execution_count": 32
        }
      ]
    },
    {
      "cell_type": "code",
      "metadata": {
        "id": "KlTL9kkmySzs"
      },
      "source": [
        "result=[]\r\n",
        "maskwords=[\"insane\"]\r\n",
        "augment_off_list = fill_mask('@ user @ user you are [MASK]')\r\n",
        "for s in augment_off_list:\r\n",
        "      if s['token_str']=='[ U N K ]':\r\n",
        "        continue\r\n",
        "      try:\r\n",
        "        temp = '@ user @ user you are insane'.split()\r\n",
        "        tweet=''\r\n",
        "        tweet_list=[]\r\n",
        "        for word in temp:\r\n",
        "          if word == maskwords[0]:\r\n",
        "            word= s['token_str'].replace(' ', '')\r\n",
        "          tweet_list.append(word)\r\n",
        "        tweet = \" \".join(tweet_list)   \r\n",
        "        result.append(tweet)\r\n",
        "      except IndexError as error:\r\n",
        "        pass"
      ],
      "execution_count": 70,
      "outputs": []
    },
    {
      "cell_type": "code",
      "metadata": {
        "id": "nb5k3YZNz1iO",
        "outputId": "2f001a14-5849-4a59-f268-682da2c3cb40",
        "colab": {
          "base_uri": "https://localhost:8080/"
        }
      },
      "source": [
        "result"
      ],
      "execution_count": 71,
      "outputs": [
        {
          "output_type": "execute_result",
          "data": {
            "text/plain": [
              "['@ user @ user you are right',\n",
              " '@ user @ user you are beautiful',\n",
              " '@ user @ user you are correct',\n",
              " '@ user @ user you are .']"
            ]
          },
          "metadata": {
            "tags": []
          },
          "execution_count": 71
        }
      ]
    },
    {
      "cell_type": "code",
      "metadata": {
        "id": "N-e9c9Xt0xMb",
        "outputId": "81c91914-ef0b-4062-e9c1-1f75a7868823",
        "colab": {
          "base_uri": "https://localhost:8080/"
        }
      },
      "source": [
        "\r\n",
        "list('r i g h t')"
      ],
      "execution_count": 61,
      "outputs": [
        {
          "output_type": "execute_result",
          "data": {
            "text/plain": [
              "['r', ' ', 'i', ' ', 'g', ' ', 'h', ' ', 't']"
            ]
          },
          "metadata": {
            "tags": []
          },
          "execution_count": 61
        }
      ]
    },
    {
      "cell_type": "code",
      "metadata": {
        "id": "5MtG2ASO2P6p"
      },
      "source": [
        "df_aug = pd.DataFrame({\r\n",
        "    'id':[],\r\n",
        "    'tweet':[],\r\n",
        "    'subtask_a':[],\r\n",
        "})\r\n",
        "df_aug = df_aug.set_index('id')"
      ],
      "execution_count": 74,
      "outputs": []
    },
    {
      "cell_type": "code",
      "metadata": {
        "id": "x8AyMXzNv9LN",
        "outputId": "6e7b528b-786b-49ae-f30f-18f8e3c6d171",
        "colab": {
          "base_uri": "https://localhost:8080/",
          "height": 65,
          "referenced_widgets": [
            "fdec1e8f317f4860bcd6c4907e8f5ec8",
            "2b17e1e21bfc4e0486022c6ec03db632",
            "36fe0e682e8548569a08c568429258d0",
            "c6aecc0b5f9842b1a3d0b002a4eef36e",
            "2f94ec2b856a453585e750bbe426ebc1",
            "99f17ecfe09b4d91a98977d293cc46f5",
            "36ee50a6da854150a524be2b9249c571",
            "7e50d83e52ff463c86cda6e282fecb1a"
          ]
        }
      },
      "source": [
        "for index, row in tqdm(df.iterrows(), total=df.shape[0]):\r\n",
        "    masked_tweet, maskwords = mask_noun_and_adj(row['tweet'], N)\r\n",
        "\r\n",
        "    masked_tweet_with_off = '<OFF> ' + masked_tweet\r\n",
        "    masked_tweet_with_not = '<NOT> ' + masked_tweet\r\n",
        "\r\n",
        "    augment_off_list = fill_mask(masked_tweet_with_off)\r\n",
        "    augment_not_list = fill_mask(masked_tweet_with_not)\r\n",
        "    aug_tweets=[]\r\n",
        "    aug_tweets_list = augment_off_list + augment_not_list\r\n",
        "    for s in aug_tweets_list:\r\n",
        "      if s['token_str']=='[ U N K ]':\r\n",
        "        continue\r\n",
        "      try:\r\n",
        "        temp = row['tweet'].split()\r\n",
        "        tweet=''\r\n",
        "        tweet_list=[]\r\n",
        "        for word in temp:\r\n",
        "          if word == maskwords[0]:\r\n",
        "            word= s['token_str'].replace(' ', '')\r\n",
        "          tweet_list.append(word)\r\n",
        "        tweet = \" \".join(tweet_list)   \r\n",
        "        aug_tweets.append(tweet)\r\n",
        "      except IndexError as error:\r\n",
        "        pass\r\n",
        "    aug_labels = ['OFF'] * len(augment_off_list) + ['NOT'] * len(augment_not_list)\r\n",
        "\r\n",
        "    # randomly sample from the mixture of augmentation with both OFF and NOT\r\n",
        "    sample_idxs = random.sample(range(len(aug_tweets)), K)\r\n",
        "\r\n",
        "    tweets = [aug_tweets[i] for i in sample_idxs]\r\n",
        "    labels = [aug_labels[i] for i in sample_idxs]\r\n",
        "    for i, (tweet, label) in enumerate(zip(tweets, labels)):\r\n",
        "        id = int(index*10 + i + 1)\r\n",
        "        df_aug = df_aug.append([{'id':id,'tweet':tweet,'subtask_a':label}],ignore_index=False)"
      ],
      "execution_count": 75,
      "outputs": [
        {
          "output_type": "display_data",
          "data": {
            "application/vnd.jupyter.widget-view+json": {
              "model_id": "fdec1e8f317f4860bcd6c4907e8f5ec8",
              "version_minor": 0,
              "version_major": 2
            },
            "text/plain": [
              "HBox(children=(FloatProgress(value=0.0, max=13240.0), HTML(value='')))"
            ]
          },
          "metadata": {
            "tags": []
          }
        },
        {
          "output_type": "stream",
          "text": [
            "\n"
          ],
          "name": "stdout"
        }
      ]
    },
    {
      "cell_type": "code",
      "metadata": {
        "id": "afgur3oE12fW"
      },
      "source": [
        "df_aug = df_aug.set_index('id')\r\n",
        "df_aug.to_csv(\"bert_aug_N={}_k={}.csv\".format(N,K))"
      ],
      "execution_count": 76,
      "outputs": []
    },
    {
      "cell_type": "code",
      "metadata": {
        "id": "ulbaUIjFMwhv"
      },
      "source": [
        ""
      ],
      "execution_count": null,
      "outputs": []
    }
  ]
}