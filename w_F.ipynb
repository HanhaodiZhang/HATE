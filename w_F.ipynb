{
  "nbformat": 4,
  "nbformat_minor": 0,
  "metadata": {
    "colab": {
      "name": "Untitled16.ipynb",
      "provenance": [],
      "authorship_tag": "ABX9TyMarIGpUKxrbOJOo1uZsfUl",
      "include_colab_link": true
    },
    "kernelspec": {
      "name": "python3",
      "display_name": "Python 3"
    }
  },
  "cells": [
    {
      "cell_type": "markdown",
      "metadata": {
        "id": "view-in-github",
        "colab_type": "text"
      },
      "source": [
        "<a href=\"https://colab.research.google.com/github/HanhaodiZhang/HATE/blob/main/w_F.ipynb\" target=\"_parent\"><img src=\"https://colab.research.google.com/assets/colab-badge.svg\" alt=\"Open In Colab\"/></a>"
      ]
    },
    {
      "cell_type": "code",
      "metadata": {
        "colab": {
          "base_uri": "https://localhost:8080/"
        },
        "id": "76KbU2CifN9N",
        "outputId": "6f6fc9eb-2fd2-4d35-c128-ac485f8a2648"
      },
      "source": [
        "!git clone https://github.com/intelligence-csd-auth-gr/Ethos-Hate-Speech-Dataset.git\n",
        "!pip install -qq transformers"
      ],
      "execution_count": 1,
      "outputs": [
        {
          "output_type": "stream",
          "text": [
            "Cloning into 'Ethos-Hate-Speech-Dataset'...\n",
            "remote: Enumerating objects: 93, done.\u001b[K\n",
            "remote: Counting objects: 100% (93/93), done.\u001b[K\n",
            "remote: Compressing objects: 100% (79/79), done.\u001b[K\n",
            "remote: Total 93 (delta 41), reused 52 (delta 13), pack-reused 0\u001b[K\n",
            "Unpacking objects: 100% (93/93), done.\n",
            "\u001b[K     |████████████████████████████████| 1.3MB 5.6MB/s \n",
            "\u001b[K     |████████████████████████████████| 2.9MB 21.1MB/s \n",
            "\u001b[K     |████████████████████████████████| 890kB 43.7MB/s \n",
            "\u001b[K     |████████████████████████████████| 1.1MB 46.3MB/s \n",
            "\u001b[?25h  Building wheel for sacremoses (setup.py) ... \u001b[?25l\u001b[?25hdone\n"
          ],
          "name": "stdout"
        }
      ]
    },
    {
      "cell_type": "code",
      "metadata": {
        "id": "vobQ5ZpIfSx1"
      },
      "source": [
        "import torch\n",
        "import pandas as pd\n",
        "from tqdm.notebook import tqdm\n",
        "from sklearn.model_selection import train_test_split"
      ],
      "execution_count": 8,
      "outputs": []
    },
    {
      "cell_type": "code",
      "metadata": {
        "colab": {
          "base_uri": "https://localhost:8080/",
          "height": 235
        },
        "id": "0LOYvLWBfULB",
        "outputId": "75c4d72b-bcdc-4afd-92cd-bba40324c4b7"
      },
      "source": [
        "data_path='Ethos-Hate-Speech-Dataset/ethos/ethos_data/Ethos_Dataset_Binary.csv'\n",
        "df = pd.read_csv(data_path, delimiter=';')\n",
        "df['id'] = range(len(df))\n",
        "df.set_index('id', inplace=True)\n",
        "df.head()"
      ],
      "execution_count": 3,
      "outputs": [
        {
          "output_type": "execute_result",
          "data": {
            "text/html": [
              "<div>\n",
              "<style scoped>\n",
              "    .dataframe tbody tr th:only-of-type {\n",
              "        vertical-align: middle;\n",
              "    }\n",
              "\n",
              "    .dataframe tbody tr th {\n",
              "        vertical-align: top;\n",
              "    }\n",
              "\n",
              "    .dataframe thead th {\n",
              "        text-align: right;\n",
              "    }\n",
              "</style>\n",
              "<table border=\"1\" class=\"dataframe\">\n",
              "  <thead>\n",
              "    <tr style=\"text-align: right;\">\n",
              "      <th></th>\n",
              "      <th>comment</th>\n",
              "      <th>isHate</th>\n",
              "    </tr>\n",
              "    <tr>\n",
              "      <th>id</th>\n",
              "      <th></th>\n",
              "      <th></th>\n",
              "    </tr>\n",
              "  </thead>\n",
              "  <tbody>\n",
              "    <tr>\n",
              "      <th>0</th>\n",
              "      <td>You should know women's sports are a joke</td>\n",
              "      <td>1.0</td>\n",
              "    </tr>\n",
              "    <tr>\n",
              "      <th>1</th>\n",
              "      <td>You look like Sloth with deeper Down’s syndrome</td>\n",
              "      <td>1.0</td>\n",
              "    </tr>\n",
              "    <tr>\n",
              "      <th>2</th>\n",
              "      <td>You look like Russian and speak like Indian. B...</td>\n",
              "      <td>1.0</td>\n",
              "    </tr>\n",
              "    <tr>\n",
              "      <th>3</th>\n",
              "      <td>Women deserve to be abused, I guess.</td>\n",
              "      <td>1.0</td>\n",
              "    </tr>\n",
              "    <tr>\n",
              "      <th>4</th>\n",
              "      <td>Women are made for making babies and cooking d...</td>\n",
              "      <td>1.0</td>\n",
              "    </tr>\n",
              "  </tbody>\n",
              "</table>\n",
              "</div>"
            ],
            "text/plain": [
              "                                              comment  isHate\n",
              "id                                                           \n",
              "0           You should know women's sports are a joke     1.0\n",
              "1     You look like Sloth with deeper Down’s syndrome     1.0\n",
              "2   You look like Russian and speak like Indian. B...     1.0\n",
              "3                Women deserve to be abused, I guess.     1.0\n",
              "4   Women are made for making babies and cooking d...     1.0"
            ]
          },
          "metadata": {
            "tags": []
          },
          "execution_count": 3
        }
      ]
    },
    {
      "cell_type": "code",
      "metadata": {
        "colab": {
          "base_uri": "https://localhost:8080/",
          "height": 235
        },
        "id": "wJ-SMoKSfWKs",
        "outputId": "ed2fd5dc-1a69-447f-9dfa-45f979fb2d63"
      },
      "source": [
        "def to_category(score):\n",
        "  if score <= 0.3:\n",
        "    return 'NO'\n",
        "  elif score>=0.7:\n",
        "    return 'YES'\n",
        "  else:\n",
        "    return 'MID'\n",
        "\n",
        "df['isHate_category']=df.isHate.apply(to_category)\n",
        "df.head()"
      ],
      "execution_count": 4,
      "outputs": [
        {
          "output_type": "execute_result",
          "data": {
            "text/html": [
              "<div>\n",
              "<style scoped>\n",
              "    .dataframe tbody tr th:only-of-type {\n",
              "        vertical-align: middle;\n",
              "    }\n",
              "\n",
              "    .dataframe tbody tr th {\n",
              "        vertical-align: top;\n",
              "    }\n",
              "\n",
              "    .dataframe thead th {\n",
              "        text-align: right;\n",
              "    }\n",
              "</style>\n",
              "<table border=\"1\" class=\"dataframe\">\n",
              "  <thead>\n",
              "    <tr style=\"text-align: right;\">\n",
              "      <th></th>\n",
              "      <th>comment</th>\n",
              "      <th>isHate</th>\n",
              "      <th>isHate_category</th>\n",
              "    </tr>\n",
              "    <tr>\n",
              "      <th>id</th>\n",
              "      <th></th>\n",
              "      <th></th>\n",
              "      <th></th>\n",
              "    </tr>\n",
              "  </thead>\n",
              "  <tbody>\n",
              "    <tr>\n",
              "      <th>0</th>\n",
              "      <td>You should know women's sports are a joke</td>\n",
              "      <td>1.0</td>\n",
              "      <td>YES</td>\n",
              "    </tr>\n",
              "    <tr>\n",
              "      <th>1</th>\n",
              "      <td>You look like Sloth with deeper Down’s syndrome</td>\n",
              "      <td>1.0</td>\n",
              "      <td>YES</td>\n",
              "    </tr>\n",
              "    <tr>\n",
              "      <th>2</th>\n",
              "      <td>You look like Russian and speak like Indian. B...</td>\n",
              "      <td>1.0</td>\n",
              "      <td>YES</td>\n",
              "    </tr>\n",
              "    <tr>\n",
              "      <th>3</th>\n",
              "      <td>Women deserve to be abused, I guess.</td>\n",
              "      <td>1.0</td>\n",
              "      <td>YES</td>\n",
              "    </tr>\n",
              "    <tr>\n",
              "      <th>4</th>\n",
              "      <td>Women are made for making babies and cooking d...</td>\n",
              "      <td>1.0</td>\n",
              "      <td>YES</td>\n",
              "    </tr>\n",
              "  </tbody>\n",
              "</table>\n",
              "</div>"
            ],
            "text/plain": [
              "                                              comment  isHate isHate_category\n",
              "id                                                                           \n",
              "0           You should know women's sports are a joke     1.0             YES\n",
              "1     You look like Sloth with deeper Down’s syndrome     1.0             YES\n",
              "2   You look like Russian and speak like Indian. B...     1.0             YES\n",
              "3                Women deserve to be abused, I guess.     1.0             YES\n",
              "4   Women are made for making babies and cooking d...     1.0             YES"
            ]
          },
          "metadata": {
            "tags": []
          },
          "execution_count": 4
        }
      ]
    },
    {
      "cell_type": "code",
      "metadata": {
        "colab": {
          "base_uri": "https://localhost:8080/"
        },
        "id": "F7pSVyiEfYG4",
        "outputId": "be92b9ea-9652-45f2-fd3d-adfa48ea4208"
      },
      "source": [
        "possible_labels=df.isHate_category.unique()\n",
        "label_dict={}\n",
        "for index, possible_label in enumerate(possible_labels):\n",
        "  label_dict[possible_label]=index\n",
        "\n",
        "label_dict"
      ],
      "execution_count": 5,
      "outputs": [
        {
          "output_type": "execute_result",
          "data": {
            "text/plain": [
              "{'MID': 1, 'NO': 2, 'YES': 0}"
            ]
          },
          "metadata": {
            "tags": []
          },
          "execution_count": 5
        }
      ]
    },
    {
      "cell_type": "code",
      "metadata": {
        "colab": {
          "base_uri": "https://localhost:8080/",
          "height": 235
        },
        "id": "ur8Ce25OfaL_",
        "outputId": "98d6b01f-39c7-47aa-a6ed-4bc958340ce4"
      },
      "source": [
        "df['label']=df.isHate_category.replace(label_dict)\n",
        "df.head()"
      ],
      "execution_count": 6,
      "outputs": [
        {
          "output_type": "execute_result",
          "data": {
            "text/html": [
              "<div>\n",
              "<style scoped>\n",
              "    .dataframe tbody tr th:only-of-type {\n",
              "        vertical-align: middle;\n",
              "    }\n",
              "\n",
              "    .dataframe tbody tr th {\n",
              "        vertical-align: top;\n",
              "    }\n",
              "\n",
              "    .dataframe thead th {\n",
              "        text-align: right;\n",
              "    }\n",
              "</style>\n",
              "<table border=\"1\" class=\"dataframe\">\n",
              "  <thead>\n",
              "    <tr style=\"text-align: right;\">\n",
              "      <th></th>\n",
              "      <th>comment</th>\n",
              "      <th>isHate</th>\n",
              "      <th>isHate_category</th>\n",
              "      <th>label</th>\n",
              "    </tr>\n",
              "    <tr>\n",
              "      <th>id</th>\n",
              "      <th></th>\n",
              "      <th></th>\n",
              "      <th></th>\n",
              "      <th></th>\n",
              "    </tr>\n",
              "  </thead>\n",
              "  <tbody>\n",
              "    <tr>\n",
              "      <th>0</th>\n",
              "      <td>You should know women's sports are a joke</td>\n",
              "      <td>1.0</td>\n",
              "      <td>YES</td>\n",
              "      <td>0</td>\n",
              "    </tr>\n",
              "    <tr>\n",
              "      <th>1</th>\n",
              "      <td>You look like Sloth with deeper Down’s syndrome</td>\n",
              "      <td>1.0</td>\n",
              "      <td>YES</td>\n",
              "      <td>0</td>\n",
              "    </tr>\n",
              "    <tr>\n",
              "      <th>2</th>\n",
              "      <td>You look like Russian and speak like Indian. B...</td>\n",
              "      <td>1.0</td>\n",
              "      <td>YES</td>\n",
              "      <td>0</td>\n",
              "    </tr>\n",
              "    <tr>\n",
              "      <th>3</th>\n",
              "      <td>Women deserve to be abused, I guess.</td>\n",
              "      <td>1.0</td>\n",
              "      <td>YES</td>\n",
              "      <td>0</td>\n",
              "    </tr>\n",
              "    <tr>\n",
              "      <th>4</th>\n",
              "      <td>Women are made for making babies and cooking d...</td>\n",
              "      <td>1.0</td>\n",
              "      <td>YES</td>\n",
              "      <td>0</td>\n",
              "    </tr>\n",
              "  </tbody>\n",
              "</table>\n",
              "</div>"
            ],
            "text/plain": [
              "                                              comment  ...  label\n",
              "id                                                     ...       \n",
              "0           You should know women's sports are a joke  ...      0\n",
              "1     You look like Sloth with deeper Down’s syndrome  ...      0\n",
              "2   You look like Russian and speak like Indian. B...  ...      0\n",
              "3                Women deserve to be abused, I guess.  ...      0\n",
              "4   Women are made for making babies and cooking d...  ...      0\n",
              "\n",
              "[5 rows x 4 columns]"
            ]
          },
          "metadata": {
            "tags": []
          },
          "execution_count": 6
        }
      ]
    },
    {
      "cell_type": "code",
      "metadata": {
        "id": "PhWgceGsfdKT"
      },
      "source": [
        "RANDOM_SEED=17\n",
        "\n",
        "X_train,X_val,y_train,y_val = train_test_split(\n",
        "  df.index.values,\n",
        "  df.label.values,\n",
        "  test_size=0.2,\n",
        "  random_state=RANDOM_SEED,\n",
        "  stratify=df.label.values\n",
        ")"
      ],
      "execution_count": 9,
      "outputs": []
    },
    {
      "cell_type": "code",
      "metadata": {
        "colab": {
          "base_uri": "https://localhost:8080/",
          "height": 235
        },
        "id": "YMpJImQzfiex",
        "outputId": "9c2a459a-6368-42f6-9e74-f9c507a8bd53"
      },
      "source": [
        "df['data_type']=['not_set']*df.shape[0]\n",
        "df.head()"
      ],
      "execution_count": 10,
      "outputs": [
        {
          "output_type": "execute_result",
          "data": {
            "text/html": [
              "<div>\n",
              "<style scoped>\n",
              "    .dataframe tbody tr th:only-of-type {\n",
              "        vertical-align: middle;\n",
              "    }\n",
              "\n",
              "    .dataframe tbody tr th {\n",
              "        vertical-align: top;\n",
              "    }\n",
              "\n",
              "    .dataframe thead th {\n",
              "        text-align: right;\n",
              "    }\n",
              "</style>\n",
              "<table border=\"1\" class=\"dataframe\">\n",
              "  <thead>\n",
              "    <tr style=\"text-align: right;\">\n",
              "      <th></th>\n",
              "      <th>comment</th>\n",
              "      <th>isHate</th>\n",
              "      <th>isHate_category</th>\n",
              "      <th>label</th>\n",
              "      <th>data_type</th>\n",
              "    </tr>\n",
              "    <tr>\n",
              "      <th>id</th>\n",
              "      <th></th>\n",
              "      <th></th>\n",
              "      <th></th>\n",
              "      <th></th>\n",
              "      <th></th>\n",
              "    </tr>\n",
              "  </thead>\n",
              "  <tbody>\n",
              "    <tr>\n",
              "      <th>0</th>\n",
              "      <td>You should know women's sports are a joke</td>\n",
              "      <td>1.0</td>\n",
              "      <td>YES</td>\n",
              "      <td>0</td>\n",
              "      <td>not_set</td>\n",
              "    </tr>\n",
              "    <tr>\n",
              "      <th>1</th>\n",
              "      <td>You look like Sloth with deeper Down’s syndrome</td>\n",
              "      <td>1.0</td>\n",
              "      <td>YES</td>\n",
              "      <td>0</td>\n",
              "      <td>not_set</td>\n",
              "    </tr>\n",
              "    <tr>\n",
              "      <th>2</th>\n",
              "      <td>You look like Russian and speak like Indian. B...</td>\n",
              "      <td>1.0</td>\n",
              "      <td>YES</td>\n",
              "      <td>0</td>\n",
              "      <td>not_set</td>\n",
              "    </tr>\n",
              "    <tr>\n",
              "      <th>3</th>\n",
              "      <td>Women deserve to be abused, I guess.</td>\n",
              "      <td>1.0</td>\n",
              "      <td>YES</td>\n",
              "      <td>0</td>\n",
              "      <td>not_set</td>\n",
              "    </tr>\n",
              "    <tr>\n",
              "      <th>4</th>\n",
              "      <td>Women are made for making babies and cooking d...</td>\n",
              "      <td>1.0</td>\n",
              "      <td>YES</td>\n",
              "      <td>0</td>\n",
              "      <td>not_set</td>\n",
              "    </tr>\n",
              "  </tbody>\n",
              "</table>\n",
              "</div>"
            ],
            "text/plain": [
              "                                              comment  isHate  ... label  data_type\n",
              "id                                                             ...                 \n",
              "0           You should know women's sports are a joke     1.0  ...     0    not_set\n",
              "1     You look like Sloth with deeper Down’s syndrome     1.0  ...     0    not_set\n",
              "2   You look like Russian and speak like Indian. B...     1.0  ...     0    not_set\n",
              "3                Women deserve to be abused, I guess.     1.0  ...     0    not_set\n",
              "4   Women are made for making babies and cooking d...     1.0  ...     0    not_set\n",
              "\n",
              "[5 rows x 5 columns]"
            ]
          },
          "metadata": {
            "tags": []
          },
          "execution_count": 10
        }
      ]
    },
    {
      "cell_type": "code",
      "metadata": {
        "id": "o22nzvAsfpGD"
      },
      "source": [
        "df.loc[X_train,'data_type']='train'\n",
        "# df.loc[df_val,'data_type']='val'\n",
        "df.loc[X_val,'data_type']='val'"
      ],
      "execution_count": 11,
      "outputs": []
    },
    {
      "cell_type": "code",
      "metadata": {
        "colab": {
          "base_uri": "https://localhost:8080/"
        },
        "id": "FkWg-QFSfqhR",
        "outputId": "ee4f496d-42ff-4451-a682-415768f5e47d"
      },
      "source": [
        "df.data_type.value_counts()"
      ],
      "execution_count": 12,
      "outputs": [
        {
          "output_type": "execute_result",
          "data": {
            "text/plain": [
              "train    798\n",
              "val      200\n",
              "Name: data_type, dtype: int64"
            ]
          },
          "metadata": {
            "tags": []
          },
          "execution_count": 12
        }
      ]
    },
    {
      "cell_type": "code",
      "metadata": {
        "colab": {
          "base_uri": "https://localhost:8080/"
        },
        "id": "F_8uOr-_1IH7",
        "outputId": "e8ebba40-6eee-437a-bd4d-b7a6767b69de"
      },
      "source": [
        "df.label.value_counts()"
      ],
      "execution_count": 75,
      "outputs": [
        {
          "output_type": "execute_result",
          "data": {
            "text/plain": [
              "2    482\n",
              "0    286\n",
              "1    230\n",
              "Name: label, dtype: int64"
            ]
          },
          "metadata": {
            "tags": []
          },
          "execution_count": 75
        }
      ]
    },
    {
      "cell_type": "code",
      "metadata": {
        "colab": {
          "base_uri": "https://localhost:8080/",
          "height": 266
        },
        "id": "GO87ivYRftLa",
        "outputId": "c2295d69-cf11-489e-e6bd-c134a0b482da"
      },
      "source": [
        "df.groupby(['isHate_category','label','data_type']).count()"
      ],
      "execution_count": 13,
      "outputs": [
        {
          "output_type": "execute_result",
          "data": {
            "text/html": [
              "<div>\n",
              "<style scoped>\n",
              "    .dataframe tbody tr th:only-of-type {\n",
              "        vertical-align: middle;\n",
              "    }\n",
              "\n",
              "    .dataframe tbody tr th {\n",
              "        vertical-align: top;\n",
              "    }\n",
              "\n",
              "    .dataframe thead th {\n",
              "        text-align: right;\n",
              "    }\n",
              "</style>\n",
              "<table border=\"1\" class=\"dataframe\">\n",
              "  <thead>\n",
              "    <tr style=\"text-align: right;\">\n",
              "      <th></th>\n",
              "      <th></th>\n",
              "      <th></th>\n",
              "      <th>comment</th>\n",
              "      <th>isHate</th>\n",
              "    </tr>\n",
              "    <tr>\n",
              "      <th>isHate_category</th>\n",
              "      <th>label</th>\n",
              "      <th>data_type</th>\n",
              "      <th></th>\n",
              "      <th></th>\n",
              "    </tr>\n",
              "  </thead>\n",
              "  <tbody>\n",
              "    <tr>\n",
              "      <th rowspan=\"2\" valign=\"top\">MID</th>\n",
              "      <th rowspan=\"2\" valign=\"top\">1</th>\n",
              "      <th>train</th>\n",
              "      <td>184</td>\n",
              "      <td>184</td>\n",
              "    </tr>\n",
              "    <tr>\n",
              "      <th>val</th>\n",
              "      <td>46</td>\n",
              "      <td>46</td>\n",
              "    </tr>\n",
              "    <tr>\n",
              "      <th rowspan=\"2\" valign=\"top\">NO</th>\n",
              "      <th rowspan=\"2\" valign=\"top\">2</th>\n",
              "      <th>train</th>\n",
              "      <td>385</td>\n",
              "      <td>385</td>\n",
              "    </tr>\n",
              "    <tr>\n",
              "      <th>val</th>\n",
              "      <td>97</td>\n",
              "      <td>97</td>\n",
              "    </tr>\n",
              "    <tr>\n",
              "      <th rowspan=\"2\" valign=\"top\">YES</th>\n",
              "      <th rowspan=\"2\" valign=\"top\">0</th>\n",
              "      <th>train</th>\n",
              "      <td>229</td>\n",
              "      <td>229</td>\n",
              "    </tr>\n",
              "    <tr>\n",
              "      <th>val</th>\n",
              "      <td>57</td>\n",
              "      <td>57</td>\n",
              "    </tr>\n",
              "  </tbody>\n",
              "</table>\n",
              "</div>"
            ],
            "text/plain": [
              "                                 comment  isHate\n",
              "isHate_category label data_type                 \n",
              "MID             1     train          184     184\n",
              "                      val             46      46\n",
              "NO              2     train          385     385\n",
              "                      val             97      97\n",
              "YES             0     train          229     229\n",
              "                      val             57      57"
            ]
          },
          "metadata": {
            "tags": []
          },
          "execution_count": 13
        }
      ]
    },
    {
      "cell_type": "code",
      "metadata": {
        "colab": {
          "base_uri": "https://localhost:8080/"
        },
        "id": "iksQaYe_fvBY",
        "outputId": "649df8ff-69f4-488b-89a2-d22d9898ab88"
      },
      "source": [
        "\n",
        "  "
      ],
      "execution_count": 18,
      "outputs": [
        {
          "output_type": "stream",
          "text": [
            "[nltk_data] Downloading package stopwords to /root/nltk_data...\n",
            "[nltk_data]   Unzipping corpora/stopwords.zip.\n"
          ],
          "name": "stdout"
        }
      ]
    },
    {
      "cell_type": "code",
      "metadata": {
        "colab": {
          "base_uri": "https://localhost:8080/"
        },
        "id": "n5kAJF1DiEdX",
        "outputId": "ecb19f22-6729-4e1b-9a5e-dfd3cfcdc0ab"
      },
      "source": [
        "import re\n",
        "from nltk.corpus import stopwords\n",
        "\n",
        "import nltk\n",
        "nltk.download('stopwords')\n",
        "nltk.download('wordnet')\n",
        "from nltk.stem import SnowballStemmer\n",
        "\n",
        "from nltk.stem import WordNetLemmatizer  \n",
        "lemmatizer = WordNetLemmatizer()  \n",
        "\n",
        "def clean_comment(text, stops=True, stemming=True):\n",
        "  text = str(text)\n",
        "  text = text.lower().split()\n",
        "  text = \" \".join(text)\n",
        "  text = re.sub(r\"what's\", \"what is \", text)\n",
        "  text = re.sub(r\"don't\", \"do not \", text)\n",
        "  text = re.sub(r\"aren't\", \"are not \", text)\n",
        "  text = re.sub(r\"isn't\", \"is not \", text)\n",
        "  text = re.sub(r\"%\", \" percent \", text)\n",
        "  text = re.sub(r\"that's\", \"that is \", text)\n",
        "  text = re.sub(r\"doesn't\", \"does not \", text)\n",
        "  text = re.sub(r\"he's\", \"he is \", text)\n",
        "  text = re.sub(r\"she's\", \"she is \", text)\n",
        "  text = re.sub(r\"it's\", \"it is \", text)\n",
        "  text = re.sub(r\"\\'s\", \" \", text)\n",
        "  text = re.sub(r\"\\'ve\", \" have \", text)\n",
        "  text = re.sub(r\"n't\", \" not \", text)\n",
        "  text = re.sub(r\"i'm\", \"i am \", text)\n",
        "  text = re.sub(r\"\\'re\", \" are \", text)\n",
        "  text = re.sub(r\"\\'d\", \" would \", text)\n",
        "  text = re.sub(r\"\\'ll\", \" will \", text)\n",
        "  text = re.sub(r\"[^A-Za-z0-9^,!.\\/'+-=]\", \" \", text)\n",
        "  text = re.sub(r\",\", \" \", text)\n",
        "  text = re.sub(r\"\\.\", \" \", text)\n",
        "  text = re.sub(r\"!\", \" ! \", text)\n",
        "  text = re.sub(r\"\\/\", \" \", text)\n",
        "  text = re.sub(r\"\\^\", \" ^ \", text)\n",
        "  text = re.sub(r\"\\+\", \" + \", text)\n",
        "  text = re.sub(r\"\\-\", \" - \", text)\n",
        "  text = re.sub(r\"\\=\", \" = \", text)\n",
        "  text = re.sub(r\"'\", \" \", text)\n",
        "  text = re.sub(r\"(\\d+)(k)\", r\"\\g<1>000\", text)\n",
        "  text = re.sub(r\":\", \" : \", text)\n",
        "  text = re.sub(r\" u s \", \" american \", text)\n",
        "  text = re.sub(r\"\\0s\", \"0\", text)\n",
        "  text = re.sub(r\" 9 11 \", \"911\", text)\n",
        "  text = re.sub(r\"e - mail\", \"email\", text)\n",
        "  text = re.sub(r\"j k\", \"jk\", text)\n",
        "  text = re.sub(r\"\\s{2,}\", \" \", text)\n",
        "  text = text.lower().split()\n",
        "  text = [w for w in text if len(w) >= 2]\n",
        "  if stemming:\n",
        "    englishStemmer = SnowballStemmer(\"english\")\n",
        "    text = [englishStemmer.stem(w) for w in text]\n",
        "  if stops:\n",
        "    text = [lemmatizer.lemmatize(w) for w in text if w not in stopwords.words('english')]\n",
        "  text = \" \".join(text)\n",
        "  return text"
      ],
      "execution_count": 31,
      "outputs": [
        {
          "output_type": "stream",
          "text": [
            "[nltk_data] Downloading package stopwords to /root/nltk_data...\n",
            "[nltk_data]   Package stopwords is already up-to-date!\n",
            "[nltk_data] Downloading package wordnet to /root/nltk_data...\n",
            "[nltk_data]   Package wordnet is already up-to-date!\n"
          ],
          "name": "stdout"
        }
      ]
    },
    {
      "cell_type": "code",
      "metadata": {
        "colab": {
          "base_uri": "https://localhost:8080/"
        },
        "id": "6vEbUdmHkOlw",
        "outputId": "f31c3a3e-3a9a-47f4-f02b-0e31bd8e4823"
      },
      "source": [
        "clean_data=[]\n",
        "for txt in df.comment:\n",
        "  clean_data.append(clean_comment(txt, stops=True, stemming=True))\n",
        "df.processed_comment=clean_data"
      ],
      "execution_count": 24,
      "outputs": [
        {
          "output_type": "stream",
          "text": [
            "/usr/local/lib/python3.6/dist-packages/ipykernel_launcher.py:4: UserWarning: Pandas doesn't allow columns to be created via a new attribute name - see https://pandas.pydata.org/pandas-docs/stable/indexing.html#attribute-access\n",
            "  after removing the cwd from sys.path.\n"
          ],
          "name": "stderr"
        }
      ]
    },
    {
      "cell_type": "code",
      "metadata": {
        "id": "xJvMGz4SkZQs"
      },
      "source": [
        "df['processed_comment']=df.comment.apply(clean_comment)"
      ],
      "execution_count": 29,
      "outputs": []
    },
    {
      "cell_type": "code",
      "metadata": {
        "colab": {
          "base_uri": "https://localhost:8080/",
          "height": 235
        },
        "id": "RDwrffelkumv",
        "outputId": "3eaed90a-af39-43a4-dfd7-8c76606d09e6"
      },
      "source": [
        "df.head()"
      ],
      "execution_count": 30,
      "outputs": [
        {
          "output_type": "execute_result",
          "data": {
            "text/html": [
              "<div>\n",
              "<style scoped>\n",
              "    .dataframe tbody tr th:only-of-type {\n",
              "        vertical-align: middle;\n",
              "    }\n",
              "\n",
              "    .dataframe tbody tr th {\n",
              "        vertical-align: top;\n",
              "    }\n",
              "\n",
              "    .dataframe thead th {\n",
              "        text-align: right;\n",
              "    }\n",
              "</style>\n",
              "<table border=\"1\" class=\"dataframe\">\n",
              "  <thead>\n",
              "    <tr style=\"text-align: right;\">\n",
              "      <th></th>\n",
              "      <th>comment</th>\n",
              "      <th>isHate</th>\n",
              "      <th>isHate_category</th>\n",
              "      <th>label</th>\n",
              "      <th>data_type</th>\n",
              "      <th>processed_comment</th>\n",
              "    </tr>\n",
              "    <tr>\n",
              "      <th>id</th>\n",
              "      <th></th>\n",
              "      <th></th>\n",
              "      <th></th>\n",
              "      <th></th>\n",
              "      <th></th>\n",
              "      <th></th>\n",
              "    </tr>\n",
              "  </thead>\n",
              "  <tbody>\n",
              "    <tr>\n",
              "      <th>0</th>\n",
              "      <td>You should know women's sports are a joke</td>\n",
              "      <td>1.0</td>\n",
              "      <td>YES</td>\n",
              "      <td>0</td>\n",
              "      <td>train</td>\n",
              "      <td>you should know women sports are joke</td>\n",
              "    </tr>\n",
              "    <tr>\n",
              "      <th>1</th>\n",
              "      <td>You look like Sloth with deeper Down’s syndrome</td>\n",
              "      <td>1.0</td>\n",
              "      <td>YES</td>\n",
              "      <td>0</td>\n",
              "      <td>train</td>\n",
              "      <td>you look like sloth with deeper down syndrome</td>\n",
              "    </tr>\n",
              "    <tr>\n",
              "      <th>2</th>\n",
              "      <td>You look like Russian and speak like Indian. B...</td>\n",
              "      <td>1.0</td>\n",
              "      <td>YES</td>\n",
              "      <td>0</td>\n",
              "      <td>val</td>\n",
              "      <td>you look like russian and speak like indian bo...</td>\n",
              "    </tr>\n",
              "    <tr>\n",
              "      <th>3</th>\n",
              "      <td>Women deserve to be abused, I guess.</td>\n",
              "      <td>1.0</td>\n",
              "      <td>YES</td>\n",
              "      <td>0</td>\n",
              "      <td>train</td>\n",
              "      <td>women deserve to be abused guess</td>\n",
              "    </tr>\n",
              "    <tr>\n",
              "      <th>4</th>\n",
              "      <td>Women are made for making babies and cooking d...</td>\n",
              "      <td>1.0</td>\n",
              "      <td>YES</td>\n",
              "      <td>0</td>\n",
              "      <td>train</td>\n",
              "      <td>women are made for making babies and cooking d...</td>\n",
              "    </tr>\n",
              "  </tbody>\n",
              "</table>\n",
              "</div>"
            ],
            "text/plain": [
              "                                              comment  ...                                  processed_comment\n",
              "id                                                     ...                                                   \n",
              "0           You should know women's sports are a joke  ...              you should know women sports are joke\n",
              "1     You look like Sloth with deeper Down’s syndrome  ...      you look like sloth with deeper down syndrome\n",
              "2   You look like Russian and speak like Indian. B...  ...  you look like russian and speak like indian bo...\n",
              "3                Women deserve to be abused, I guess.  ...                   women deserve to be abused guess\n",
              "4   Women are made for making babies and cooking d...  ...  women are made for making babies and cooking d...\n",
              "\n",
              "[5 rows x 6 columns]"
            ]
          },
          "metadata": {
            "tags": []
          },
          "execution_count": 30
        }
      ]
    },
    {
      "cell_type": "code",
      "metadata": {
        "id": "MN_K2Cf1l7JB"
      },
      "source": [
        "df['processed_comment2']=df.comment.apply(clean_comment)"
      ],
      "execution_count": 32,
      "outputs": []
    },
    {
      "cell_type": "code",
      "metadata": {
        "colab": {
          "base_uri": "https://localhost:8080/",
          "height": 235
        },
        "id": "DXUwg1QjoffX",
        "outputId": "dd4c853c-3770-45a5-ebee-82441a0d0e04"
      },
      "source": [
        "df.head()"
      ],
      "execution_count": 33,
      "outputs": [
        {
          "output_type": "execute_result",
          "data": {
            "text/html": [
              "<div>\n",
              "<style scoped>\n",
              "    .dataframe tbody tr th:only-of-type {\n",
              "        vertical-align: middle;\n",
              "    }\n",
              "\n",
              "    .dataframe tbody tr th {\n",
              "        vertical-align: top;\n",
              "    }\n",
              "\n",
              "    .dataframe thead th {\n",
              "        text-align: right;\n",
              "    }\n",
              "</style>\n",
              "<table border=\"1\" class=\"dataframe\">\n",
              "  <thead>\n",
              "    <tr style=\"text-align: right;\">\n",
              "      <th></th>\n",
              "      <th>comment</th>\n",
              "      <th>isHate</th>\n",
              "      <th>isHate_category</th>\n",
              "      <th>label</th>\n",
              "      <th>data_type</th>\n",
              "      <th>processed_comment</th>\n",
              "      <th>processed_comment2</th>\n",
              "    </tr>\n",
              "    <tr>\n",
              "      <th>id</th>\n",
              "      <th></th>\n",
              "      <th></th>\n",
              "      <th></th>\n",
              "      <th></th>\n",
              "      <th></th>\n",
              "      <th></th>\n",
              "      <th></th>\n",
              "    </tr>\n",
              "  </thead>\n",
              "  <tbody>\n",
              "    <tr>\n",
              "      <th>0</th>\n",
              "      <td>You should know women's sports are a joke</td>\n",
              "      <td>1.0</td>\n",
              "      <td>YES</td>\n",
              "      <td>0</td>\n",
              "      <td>train</td>\n",
              "      <td>you should know women sports are joke</td>\n",
              "      <td>know woman sport joke</td>\n",
              "    </tr>\n",
              "    <tr>\n",
              "      <th>1</th>\n",
              "      <td>You look like Sloth with deeper Down’s syndrome</td>\n",
              "      <td>1.0</td>\n",
              "      <td>YES</td>\n",
              "      <td>0</td>\n",
              "      <td>train</td>\n",
              "      <td>you look like sloth with deeper down syndrome</td>\n",
              "      <td>look like sloth deeper syndrom</td>\n",
              "    </tr>\n",
              "    <tr>\n",
              "      <th>2</th>\n",
              "      <td>You look like Russian and speak like Indian. B...</td>\n",
              "      <td>1.0</td>\n",
              "      <td>YES</td>\n",
              "      <td>0</td>\n",
              "      <td>val</td>\n",
              "      <td>you look like russian and speak like indian bo...</td>\n",
              "      <td>look like russian speak like indian disgust go...</td>\n",
              "    </tr>\n",
              "    <tr>\n",
              "      <th>3</th>\n",
              "      <td>Women deserve to be abused, I guess.</td>\n",
              "      <td>1.0</td>\n",
              "      <td>YES</td>\n",
              "      <td>0</td>\n",
              "      <td>train</td>\n",
              "      <td>women deserve to be abused guess</td>\n",
              "      <td>woman deserv abus guess</td>\n",
              "    </tr>\n",
              "    <tr>\n",
              "      <th>4</th>\n",
              "      <td>Women are made for making babies and cooking d...</td>\n",
              "      <td>1.0</td>\n",
              "      <td>YES</td>\n",
              "      <td>0</td>\n",
              "      <td>train</td>\n",
              "      <td>women are made for making babies and cooking d...</td>\n",
              "      <td>woman made make babi cook dinner noth el</td>\n",
              "    </tr>\n",
              "  </tbody>\n",
              "</table>\n",
              "</div>"
            ],
            "text/plain": [
              "                                              comment  ...                                 processed_comment2\n",
              "id                                                     ...                                                   \n",
              "0           You should know women's sports are a joke  ...                              know woman sport joke\n",
              "1     You look like Sloth with deeper Down’s syndrome  ...                     look like sloth deeper syndrom\n",
              "2   You look like Russian and speak like Indian. B...  ...  look like russian speak like indian disgust go...\n",
              "3                Women deserve to be abused, I guess.  ...                            woman deserv abus guess\n",
              "4   Women are made for making babies and cooking d...  ...           woman made make babi cook dinner noth el\n",
              "\n",
              "[5 rows x 7 columns]"
            ]
          },
          "metadata": {
            "tags": []
          },
          "execution_count": 33
        }
      ]
    },
    {
      "cell_type": "code",
      "metadata": {
        "id": "XUPrtXx9ohKB"
      },
      "source": [
        "import collections\n",
        "counts_Hate = {}\n",
        "counts_Mid = {}\n",
        "counts_NoHate = {}\n",
        "counts={}\n",
        "for row in df.itertuples():\n",
        "  text = getattr(row, 'processed_comment2').split()\n",
        "  for w in text:\n",
        "    label=getattr(row, 'label')\n",
        "    counts_Hate[w] = counts_Hate.get(w,0)\n",
        "    counts_Mid[w] = counts_Mid.get(w,0)\n",
        "    counts_NoHate[w] = counts_NoHate.get(w,0)\n",
        "    if label==0:\n",
        "      counts_Hate[w] = counts_Hate.get(w) + 1\n",
        "    elif label==1:\n",
        "      counts_Mid[w] = counts_Mid.get(w) + 1     \n",
        "    elif label==2:\n",
        "      counts_NoHate[w] = counts_NoHate.get(w) + 1\n",
        "    counts[w] = counts.get(w,0) + 1\n",
        "\n"
      ],
      "execution_count": 63,
      "outputs": []
    },
    {
      "cell_type": "code",
      "metadata": {
        "colab": {
          "base_uri": "https://localhost:8080/"
        },
        "id": "KJSC2L-UpYfj",
        "outputId": "3eecc9ac-0b9b-4a7f-a4cc-70ac4a021ad6"
      },
      "source": [
        "items = list(counts.items())\n",
        "items.sort(key=lambda x:x[1],reverse=True)\n",
        "print(\"word        hate mid nothate all\".format(word,count))\n",
        "for word,count in items:\n",
        "  if count>10:\n",
        "    print(\"{0:<10}{1:>5}{2:>5}{3:>7}{4:>5}\".format(word,counts_Hate[word],counts_Mid[word],counts_NoHate[word],count))\n",
        "    # print(\"{0:<10}{1:>5}\".format(word,count))\n",
        "    # print(\"{0:<10}{1:>5}\".format(word,counts_Hate[word]))\n",
        "    # print(\"{0:<10}{1:>5}\".format(word,counts_Mid[word]))\n",
        "    # print(\"{0:<10}{1:>5}\".format(word,counts_NoHate[word]))"
      ],
      "execution_count": 74,
      "outputs": [
        {
          "output_type": "stream",
          "text": [
            "word        hate mid nothate all\n",
            "peopl        51   45    109  205\n",
            "like         33   46     55  134\n",
            "fuck         66   26     34  126\n",
            "woman        38   38     29  105\n",
            "get          30   27     34   91\n",
            "white        39   19     26   84\n",
            "kill         36   22     11   69\n",
            "black        31    9     25   65\n",
            "would        19   13     33   65\n",
            "becaus       19   16     29   64\n",
            "one          13   13     37   63\n",
            "know         14   10     36   60\n",
            "look         13   13     30   56\n",
            "muslim       35   12      9   56\n",
            "right        21   11     23   55\n",
            "want         23    9     22   54\n",
            "make         15    8     30   53\n",
            "go           15   13     23   51\n",
            "whi          14   10     27   51\n",
            "islam        33    8      8   49\n",
            "love          4    8     36   48\n",
            "countri      20   13     14   47\n",
            "men          18   18     10   46\n",
            "onli         15   12     19   46\n",
            "shit         21    7     16   44\n",
            "hate         17   11     16   44\n",
            "think         5   15     23   43\n",
            "take         19    9     13   41\n",
            "kid           9    9     23   41\n",
            "man          12    9     19   40\n",
            "religion     15   11     14   40\n",
            "gay          24    5     11   40\n",
            "as           20   13      7   40\n",
            "world        10   11     18   39\n",
            "time         10    8     21   39\n",
            "back         21   10      7   38\n",
            "see          13    8     17   38\n",
            "say           7    9     21   37\n",
            "god          13   11     12   36\n",
            "human        10    7     18   35\n",
            "even         14    6     15   35\n",
            "thing         9   11     15   35\n",
            "girl          9    8     17   34\n",
            "way          12    6     16   34\n",
            "need         10    6     17   33\n",
            "come          4   15     13   32\n",
            "feel          6    4     22   32\n",
            "let           9    8     15   32\n",
            "guy           7    7     16   30\n",
            "asian        11    8     11   30\n",
            "stop          6   10     13   29\n",
            "live         10    5     14   29\n",
            "everi         8   11     10   29\n",
            "u             9    6     13   28\n",
            "bitch        14    8      6   28\n",
            "still         5    4     19   28\n",
            "good         12    5     10   27\n",
            "use           3    7     17   27\n",
            "child         4    8     15   27\n",
            "much          4    6     16   26\n",
            "mental       11    3     12   26\n",
            "christian    13    8      4   25\n",
            "doe           7    2     16   25\n",
            "stupid       13    3      9   25\n",
            "tri           6    7     12   25\n",
            "male          8    9      8   25\n",
            "die           7    4     13   24\n",
            "well          6    9      7   22\n",
            "race          9    4      9   22\n",
            "talk          3    7     12   22\n",
            "veri          5    3     14   22\n",
            "care          4    5     12   21\n",
            "chang         8    4      9   21\n",
            "must         10    3      7   20\n",
            "happen        6    5      9   20\n",
            "europ        14    5      1   20\n",
            "life          6    5      9   20\n",
            "realli        3    2     15   20\n",
            "video         2    2     16   20\n",
            "im            4    2     13   19\n",
            "year          4    3     12   19\n",
            "call          6    6      7   19\n",
            "matter        3    2     14   19\n",
            "ani           1    5     13   19\n",
            "american      7    5      6   18\n",
            "believ        4    2     12   18\n",
            "never         8    2      8   18\n",
            "person        2    3     13   18\n",
            "better        5    7      6   18\n",
            "hit           2    9      7   18\n",
            "disgust       9    4      4   17\n",
            "abus          3    3     11   17\n",
            "hope          8    4      5   17\n",
            "put           3    8      6   17\n",
            "send         10    3      4   17\n",
            "wish          5    4      8   17\n",
            "feminist     11    6      0   17\n",
            "ill           7    1      9   17\n",
            "racist        9    1      7   17\n",
            "hell          7    6      4   17\n",
            "disabl        5    3      9   17\n",
            "fat          10    5      2   17\n",
            "gender        1   11      5   17\n",
            "beauti        3    0     14   17\n",
            "day           2    3     11   16\n",
            "nigger       13    3      0   16\n",
            "everyon       4    6      6   16\n",
            "sick          6    5      5   16\n",
            "proud         2    2     12   16\n",
            "support       5    4      7   16\n",
            "lesbian       4    4      8   16\n",
            "tell          0    4     12   16\n",
            "differ        3    1     11   15\n",
            "polic         6    5      4   15\n",
            "problem       2    6      7   15\n",
            "help          3    5      7   15\n",
            "immigr        5    4      6   15\n",
            "autist       10    1      4   15\n",
            "fact          4    3      8   15\n",
            "ugli         12    0      3   15\n",
            "home          4    4      7   15\n",
            "femal         7    4      4   15\n",
            "equal         3    7      5   15\n",
            "mean          3    5      7   15\n",
            "dude          4    4      7   15\n",
            "someth        2    4      9   15\n",
            "ever          1    4     10   15\n",
            "someon        0    3     12   15\n",
            "noth         10    0      4   14\n",
            "mani          3    3      8   14\n",
            "anim          7    4      3   14\n",
            "anyth         4    2      8   14\n",
            "cancer        4    2      8   14\n",
            "bad           3    3      8   14\n",
            "anyon         2    3      9   14\n",
            "two           3    3      8   14\n",
            "deport        6    4      4   14\n",
            "could         2    4      8   14\n",
            "plea          5    2      7   14\n",
            "indian        6    4      3   13\n",
            "law           7    2      4   13\n",
            "themselv      4    2      7   13\n",
            "start         7    3      3   13\n",
            "percent       4    2      7   13\n",
            "without       1    4      8   13\n",
            "america       5    3      5   13\n",
            "dont          1    3      9   13\n",
            "understand    6    0      7   13\n",
            "also          3    2      8   13\n",
            "first         3    1      9   13\n",
            "actual        2    4      7   13\n",
            "lgbt          3    5      5   13\n",
            "sure          1    5      7   13\n",
            "ask           0    3     10   13\n",
            "jew           9    2      1   12\n",
            "littl         3    2      7   12\n",
            "cut           2    2      8   12\n",
            "treat         3    3      6   12\n",
            "ca            3    2      7   12\n",
            "whore         9    3      0   12\n",
            "alway         2    4      6   12\n",
            "skin          1    5      6   12\n",
            "reason        2    2      8   12\n",
            "death         6    3      3   12\n",
            "said          1    1     10   12\n",
            "turn          5    4      3   12\n",
            "sex           6    3      3   12\n",
            "ladi          1    2      9   12\n",
            "happi         1    0     11   12\n",
            "famili        1    3      8   12\n",
            "illeg         3    7      2   12\n",
            "great         0    4      8   12\n",
            "real          0    4      8   12\n",
            "joke          4    1      6   11\n",
            "made          3    1      7   11\n",
            "african       6    2      3   11\n",
            "give          4    1      6   11\n",
            "head          5    0      6   11\n",
            "keep          3    3      5   11\n",
            "anoth         3    1      7   11\n",
            "cant          2    4      5   11\n",
            "war           3    0      8   11\n",
            "creat         6    0      5   11\n",
            "fight         6    0      5   11\n",
            "earth         3    3      5   11\n",
            "pay           5    1      5   11\n",
            "watch         3    2      6   11\n",
            "transgend     4    0      7   11\n",
            "sorri         2    5      4   11\n",
            "terrorist     1    7      3   11\n",
            "money         2    5      4   11\n",
            "mother        4    3      4   11\n",
            "beat          5    3      3   11\n",
            "respect       0    2      9   11\n"
          ],
          "name": "stdout"
        }
      ]
    },
    {
      "cell_type": "code",
      "metadata": {
        "id": "wQMARTbjqa05"
      },
      "source": [
        ""
      ],
      "execution_count": null,
      "outputs": []
    }
  ]
}