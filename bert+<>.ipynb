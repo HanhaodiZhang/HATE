{
  "nbformat": 4,
  "nbformat_minor": 0,
  "metadata": {
    "accelerator": "GPU",
    "colab": {
      "name": "“Untitled26.ipynb”的副本",
      "provenance": [],
      "collapsed_sections": [],
      "authorship_tag": "ABX9TyNdJTv6OdXpvThD61hQfBFY",
      "include_colab_link": true
    },
    "kernelspec": {
      "display_name": "Python 3",
      "name": "python3"
    },
    "widgets": {
      "application/vnd.jupyter.widget-state+json": {
        "8e1576c0d7854b189f653aa34dd9202b": {
          "model_module": "@jupyter-widgets/controls",
          "model_name": "HBoxModel",
          "state": {
            "_view_name": "HBoxView",
            "_dom_classes": [],
            "_model_name": "HBoxModel",
            "_view_module": "@jupyter-widgets/controls",
            "_model_module_version": "1.5.0",
            "_view_count": null,
            "_view_module_version": "1.5.0",
            "box_style": "",
            "layout": "IPY_MODEL_32d8c03895a54d0683a0e8cafe9a118e",
            "_model_module": "@jupyter-widgets/controls",
            "children": [
              "IPY_MODEL_28f0450aef49410fae63ef49807b2d7b",
              "IPY_MODEL_1722edbf53134291b8dd70c75983f59d"
            ]
          }
        },
        "32d8c03895a54d0683a0e8cafe9a118e": {
          "model_module": "@jupyter-widgets/base",
          "model_name": "LayoutModel",
          "state": {
            "_view_name": "LayoutView",
            "grid_template_rows": null,
            "right": null,
            "justify_content": null,
            "_view_module": "@jupyter-widgets/base",
            "overflow": null,
            "_model_module_version": "1.2.0",
            "_view_count": null,
            "flex_flow": null,
            "width": null,
            "min_width": null,
            "border": null,
            "align_items": null,
            "bottom": null,
            "_model_module": "@jupyter-widgets/base",
            "top": null,
            "grid_column": null,
            "overflow_y": null,
            "overflow_x": null,
            "grid_auto_flow": null,
            "grid_area": null,
            "grid_template_columns": null,
            "flex": null,
            "_model_name": "LayoutModel",
            "justify_items": null,
            "grid_row": null,
            "max_height": null,
            "align_content": null,
            "visibility": null,
            "align_self": null,
            "height": null,
            "min_height": null,
            "padding": null,
            "grid_auto_rows": null,
            "grid_gap": null,
            "max_width": null,
            "order": null,
            "_view_module_version": "1.2.0",
            "grid_template_areas": null,
            "object_position": null,
            "object_fit": null,
            "grid_auto_columns": null,
            "margin": null,
            "display": null,
            "left": null
          }
        },
        "28f0450aef49410fae63ef49807b2d7b": {
          "model_module": "@jupyter-widgets/controls",
          "model_name": "FloatProgressModel",
          "state": {
            "_view_name": "ProgressView",
            "style": "IPY_MODEL_08605b9ff70942dcbb5d8c2ff7eac1fc",
            "_dom_classes": [],
            "description": "100%",
            "_model_name": "FloatProgressModel",
            "bar_style": "success",
            "max": 8,
            "_view_module": "@jupyter-widgets/controls",
            "_model_module_version": "1.5.0",
            "value": 8,
            "_view_count": null,
            "_view_module_version": "1.5.0",
            "orientation": "horizontal",
            "min": 0,
            "description_tooltip": null,
            "_model_module": "@jupyter-widgets/controls",
            "layout": "IPY_MODEL_d19855b7172a4c898e099e1b67ce876a"
          }
        },
        "1722edbf53134291b8dd70c75983f59d": {
          "model_module": "@jupyter-widgets/controls",
          "model_name": "HTMLModel",
          "state": {
            "_view_name": "HTMLView",
            "style": "IPY_MODEL_7890e1fd4aa04d31a90573f92a8d0de0",
            "_dom_classes": [],
            "description": "",
            "_model_name": "HTMLModel",
            "placeholder": "​",
            "_view_module": "@jupyter-widgets/controls",
            "_model_module_version": "1.5.0",
            "value": " 8/8 [1:28:52&lt;00:00, 666.59s/it]",
            "_view_count": null,
            "_view_module_version": "1.5.0",
            "description_tooltip": null,
            "_model_module": "@jupyter-widgets/controls",
            "layout": "IPY_MODEL_4332cdbb050a45ceaadcc25d6e5e2cc0"
          }
        },
        "08605b9ff70942dcbb5d8c2ff7eac1fc": {
          "model_module": "@jupyter-widgets/controls",
          "model_name": "ProgressStyleModel",
          "state": {
            "_view_name": "StyleView",
            "_model_name": "ProgressStyleModel",
            "description_width": "initial",
            "_view_module": "@jupyter-widgets/base",
            "_model_module_version": "1.5.0",
            "_view_count": null,
            "_view_module_version": "1.2.0",
            "bar_color": null,
            "_model_module": "@jupyter-widgets/controls"
          }
        },
        "d19855b7172a4c898e099e1b67ce876a": {
          "model_module": "@jupyter-widgets/base",
          "model_name": "LayoutModel",
          "state": {
            "_view_name": "LayoutView",
            "grid_template_rows": null,
            "right": null,
            "justify_content": null,
            "_view_module": "@jupyter-widgets/base",
            "overflow": null,
            "_model_module_version": "1.2.0",
            "_view_count": null,
            "flex_flow": null,
            "width": null,
            "min_width": null,
            "border": null,
            "align_items": null,
            "bottom": null,
            "_model_module": "@jupyter-widgets/base",
            "top": null,
            "grid_column": null,
            "overflow_y": null,
            "overflow_x": null,
            "grid_auto_flow": null,
            "grid_area": null,
            "grid_template_columns": null,
            "flex": null,
            "_model_name": "LayoutModel",
            "justify_items": null,
            "grid_row": null,
            "max_height": null,
            "align_content": null,
            "visibility": null,
            "align_self": null,
            "height": null,
            "min_height": null,
            "padding": null,
            "grid_auto_rows": null,
            "grid_gap": null,
            "max_width": null,
            "order": null,
            "_view_module_version": "1.2.0",
            "grid_template_areas": null,
            "object_position": null,
            "object_fit": null,
            "grid_auto_columns": null,
            "margin": null,
            "display": null,
            "left": null
          }
        },
        "7890e1fd4aa04d31a90573f92a8d0de0": {
          "model_module": "@jupyter-widgets/controls",
          "model_name": "DescriptionStyleModel",
          "state": {
            "_view_name": "StyleView",
            "_model_name": "DescriptionStyleModel",
            "description_width": "",
            "_view_module": "@jupyter-widgets/base",
            "_model_module_version": "1.5.0",
            "_view_count": null,
            "_view_module_version": "1.2.0",
            "_model_module": "@jupyter-widgets/controls"
          }
        },
        "4332cdbb050a45ceaadcc25d6e5e2cc0": {
          "model_module": "@jupyter-widgets/base",
          "model_name": "LayoutModel",
          "state": {
            "_view_name": "LayoutView",
            "grid_template_rows": null,
            "right": null,
            "justify_content": null,
            "_view_module": "@jupyter-widgets/base",
            "overflow": null,
            "_model_module_version": "1.2.0",
            "_view_count": null,
            "flex_flow": null,
            "width": null,
            "min_width": null,
            "border": null,
            "align_items": null,
            "bottom": null,
            "_model_module": "@jupyter-widgets/base",
            "top": null,
            "grid_column": null,
            "overflow_y": null,
            "overflow_x": null,
            "grid_auto_flow": null,
            "grid_area": null,
            "grid_template_columns": null,
            "flex": null,
            "_model_name": "LayoutModel",
            "justify_items": null,
            "grid_row": null,
            "max_height": null,
            "align_content": null,
            "visibility": null,
            "align_self": null,
            "height": null,
            "min_height": null,
            "padding": null,
            "grid_auto_rows": null,
            "grid_gap": null,
            "max_width": null,
            "order": null,
            "_view_module_version": "1.2.0",
            "grid_template_areas": null,
            "object_position": null,
            "object_fit": null,
            "grid_auto_columns": null,
            "margin": null,
            "display": null,
            "left": null
          }
        },
        "f3aba77374bc4fb199232b792e165a39": {
          "model_module": "@jupyter-widgets/controls",
          "model_name": "HBoxModel",
          "state": {
            "_view_name": "HBoxView",
            "_dom_classes": [],
            "_model_name": "HBoxModel",
            "_view_module": "@jupyter-widgets/controls",
            "_model_module_version": "1.5.0",
            "_view_count": null,
            "_view_module_version": "1.5.0",
            "box_style": "",
            "layout": "IPY_MODEL_62960517541a47b48758c7bdf11b75ae",
            "_model_module": "@jupyter-widgets/controls",
            "children": [
              "IPY_MODEL_0c85c6f514d44188844c9da8f7d39579",
              "IPY_MODEL_1924f4bf7657450ba139a062fe194129"
            ]
          }
        },
        "62960517541a47b48758c7bdf11b75ae": {
          "model_module": "@jupyter-widgets/base",
          "model_name": "LayoutModel",
          "state": {
            "_view_name": "LayoutView",
            "grid_template_rows": null,
            "right": null,
            "justify_content": null,
            "_view_module": "@jupyter-widgets/base",
            "overflow": null,
            "_model_module_version": "1.2.0",
            "_view_count": null,
            "flex_flow": null,
            "width": null,
            "min_width": null,
            "border": null,
            "align_items": null,
            "bottom": null,
            "_model_module": "@jupyter-widgets/base",
            "top": null,
            "grid_column": null,
            "overflow_y": null,
            "overflow_x": null,
            "grid_auto_flow": null,
            "grid_area": null,
            "grid_template_columns": null,
            "flex": null,
            "_model_name": "LayoutModel",
            "justify_items": null,
            "grid_row": null,
            "max_height": null,
            "align_content": null,
            "visibility": null,
            "align_self": null,
            "height": null,
            "min_height": null,
            "padding": null,
            "grid_auto_rows": null,
            "grid_gap": null,
            "max_width": null,
            "order": null,
            "_view_module_version": "1.2.0",
            "grid_template_areas": null,
            "object_position": null,
            "object_fit": null,
            "grid_auto_columns": null,
            "margin": null,
            "display": null,
            "left": null
          }
        },
        "0c85c6f514d44188844c9da8f7d39579": {
          "model_module": "@jupyter-widgets/controls",
          "model_name": "FloatProgressModel",
          "state": {
            "_view_name": "ProgressView",
            "style": "IPY_MODEL_90654c2bf57d403e813f812a70358007",
            "_dom_classes": [],
            "description": "Epoch 1: 100%",
            "_model_name": "FloatProgressModel",
            "bar_style": "",
            "max": 1971,
            "_view_module": "@jupyter-widgets/controls",
            "_model_module_version": "1.5.0",
            "value": 1971,
            "_view_count": null,
            "_view_module_version": "1.5.0",
            "orientation": "horizontal",
            "min": 0,
            "description_tooltip": null,
            "_model_module": "@jupyter-widgets/controls",
            "layout": "IPY_MODEL_9724c34ad6234be0856b3d6a71ab76cf"
          }
        },
        "1924f4bf7657450ba139a062fe194129": {
          "model_module": "@jupyter-widgets/controls",
          "model_name": "HTMLModel",
          "state": {
            "_view_name": "HTMLView",
            "style": "IPY_MODEL_b8917d9e076f44dfa7be97ae2ee9c9da",
            "_dom_classes": [],
            "description": "",
            "_model_name": "HTMLModel",
            "placeholder": "​",
            "_view_module": "@jupyter-widgets/controls",
            "_model_module_version": "1.5.0",
            "value": " 1971/1971 [10:54&lt;00:00,  3.31it/s, training_loss=0.205]",
            "_view_count": null,
            "_view_module_version": "1.5.0",
            "description_tooltip": null,
            "_model_module": "@jupyter-widgets/controls",
            "layout": "IPY_MODEL_8fd3c3b5501e4f908e132e88ad39e0c4"
          }
        },
        "90654c2bf57d403e813f812a70358007": {
          "model_module": "@jupyter-widgets/controls",
          "model_name": "ProgressStyleModel",
          "state": {
            "_view_name": "StyleView",
            "_model_name": "ProgressStyleModel",
            "description_width": "initial",
            "_view_module": "@jupyter-widgets/base",
            "_model_module_version": "1.5.0",
            "_view_count": null,
            "_view_module_version": "1.2.0",
            "bar_color": null,
            "_model_module": "@jupyter-widgets/controls"
          }
        },
        "9724c34ad6234be0856b3d6a71ab76cf": {
          "model_module": "@jupyter-widgets/base",
          "model_name": "LayoutModel",
          "state": {
            "_view_name": "LayoutView",
            "grid_template_rows": null,
            "right": null,
            "justify_content": null,
            "_view_module": "@jupyter-widgets/base",
            "overflow": null,
            "_model_module_version": "1.2.0",
            "_view_count": null,
            "flex_flow": null,
            "width": null,
            "min_width": null,
            "border": null,
            "align_items": null,
            "bottom": null,
            "_model_module": "@jupyter-widgets/base",
            "top": null,
            "grid_column": null,
            "overflow_y": null,
            "overflow_x": null,
            "grid_auto_flow": null,
            "grid_area": null,
            "grid_template_columns": null,
            "flex": null,
            "_model_name": "LayoutModel",
            "justify_items": null,
            "grid_row": null,
            "max_height": null,
            "align_content": null,
            "visibility": null,
            "align_self": null,
            "height": null,
            "min_height": null,
            "padding": null,
            "grid_auto_rows": null,
            "grid_gap": null,
            "max_width": null,
            "order": null,
            "_view_module_version": "1.2.0",
            "grid_template_areas": null,
            "object_position": null,
            "object_fit": null,
            "grid_auto_columns": null,
            "margin": null,
            "display": null,
            "left": null
          }
        },
        "b8917d9e076f44dfa7be97ae2ee9c9da": {
          "model_module": "@jupyter-widgets/controls",
          "model_name": "DescriptionStyleModel",
          "state": {
            "_view_name": "StyleView",
            "_model_name": "DescriptionStyleModel",
            "description_width": "",
            "_view_module": "@jupyter-widgets/base",
            "_model_module_version": "1.5.0",
            "_view_count": null,
            "_view_module_version": "1.2.0",
            "_model_module": "@jupyter-widgets/controls"
          }
        },
        "8fd3c3b5501e4f908e132e88ad39e0c4": {
          "model_module": "@jupyter-widgets/base",
          "model_name": "LayoutModel",
          "state": {
            "_view_name": "LayoutView",
            "grid_template_rows": null,
            "right": null,
            "justify_content": null,
            "_view_module": "@jupyter-widgets/base",
            "overflow": null,
            "_model_module_version": "1.2.0",
            "_view_count": null,
            "flex_flow": null,
            "width": null,
            "min_width": null,
            "border": null,
            "align_items": null,
            "bottom": null,
            "_model_module": "@jupyter-widgets/base",
            "top": null,
            "grid_column": null,
            "overflow_y": null,
            "overflow_x": null,
            "grid_auto_flow": null,
            "grid_area": null,
            "grid_template_columns": null,
            "flex": null,
            "_model_name": "LayoutModel",
            "justify_items": null,
            "grid_row": null,
            "max_height": null,
            "align_content": null,
            "visibility": null,
            "align_self": null,
            "height": null,
            "min_height": null,
            "padding": null,
            "grid_auto_rows": null,
            "grid_gap": null,
            "max_width": null,
            "order": null,
            "_view_module_version": "1.2.0",
            "grid_template_areas": null,
            "object_position": null,
            "object_fit": null,
            "grid_auto_columns": null,
            "margin": null,
            "display": null,
            "left": null
          }
        },
        "eea45d2cbc0f4785bf7d7fd8d0824a76": {
          "model_module": "@jupyter-widgets/controls",
          "model_name": "HBoxModel",
          "state": {
            "_view_name": "HBoxView",
            "_dom_classes": [],
            "_model_name": "HBoxModel",
            "_view_module": "@jupyter-widgets/controls",
            "_model_module_version": "1.5.0",
            "_view_count": null,
            "_view_module_version": "1.5.0",
            "box_style": "",
            "layout": "IPY_MODEL_02a1e7fe6b6b496e81cec4e7e60aecb8",
            "_model_module": "@jupyter-widgets/controls",
            "children": [
              "IPY_MODEL_fec8cddbcde04504b72495a1287c71ee",
              "IPY_MODEL_6f509280653e4152a4fb40b08158c9bc"
            ]
          }
        },
        "02a1e7fe6b6b496e81cec4e7e60aecb8": {
          "model_module": "@jupyter-widgets/base",
          "model_name": "LayoutModel",
          "state": {
            "_view_name": "LayoutView",
            "grid_template_rows": null,
            "right": null,
            "justify_content": null,
            "_view_module": "@jupyter-widgets/base",
            "overflow": null,
            "_model_module_version": "1.2.0",
            "_view_count": null,
            "flex_flow": null,
            "width": null,
            "min_width": null,
            "border": null,
            "align_items": null,
            "bottom": null,
            "_model_module": "@jupyter-widgets/base",
            "top": null,
            "grid_column": null,
            "overflow_y": null,
            "overflow_x": null,
            "grid_auto_flow": null,
            "grid_area": null,
            "grid_template_columns": null,
            "flex": null,
            "_model_name": "LayoutModel",
            "justify_items": null,
            "grid_row": null,
            "max_height": null,
            "align_content": null,
            "visibility": null,
            "align_self": null,
            "height": null,
            "min_height": null,
            "padding": null,
            "grid_auto_rows": null,
            "grid_gap": null,
            "max_width": null,
            "order": null,
            "_view_module_version": "1.2.0",
            "grid_template_areas": null,
            "object_position": null,
            "object_fit": null,
            "grid_auto_columns": null,
            "margin": null,
            "display": null,
            "left": null
          }
        },
        "fec8cddbcde04504b72495a1287c71ee": {
          "model_module": "@jupyter-widgets/controls",
          "model_name": "FloatProgressModel",
          "state": {
            "_view_name": "ProgressView",
            "style": "IPY_MODEL_8f23a3169e7f491c9831d761e046faf6",
            "_dom_classes": [],
            "description": "Epoch 2: 100%",
            "_model_name": "FloatProgressModel",
            "bar_style": "",
            "max": 1971,
            "_view_module": "@jupyter-widgets/controls",
            "_model_module_version": "1.5.0",
            "value": 1971,
            "_view_count": null,
            "_view_module_version": "1.5.0",
            "orientation": "horizontal",
            "min": 0,
            "description_tooltip": null,
            "_model_module": "@jupyter-widgets/controls",
            "layout": "IPY_MODEL_3371f5398ee14fe18677e09a93c29a9c"
          }
        },
        "6f509280653e4152a4fb40b08158c9bc": {
          "model_module": "@jupyter-widgets/controls",
          "model_name": "HTMLModel",
          "state": {
            "_view_name": "HTMLView",
            "style": "IPY_MODEL_6a6e033384e5496cbd56ffdb70a16c28",
            "_dom_classes": [],
            "description": "",
            "_model_name": "HTMLModel",
            "placeholder": "​",
            "_view_module": "@jupyter-widgets/controls",
            "_model_module_version": "1.5.0",
            "value": " 1971/1971 [10:48&lt;00:00,  3.23it/s, training_loss=0.153]",
            "_view_count": null,
            "_view_module_version": "1.5.0",
            "description_tooltip": null,
            "_model_module": "@jupyter-widgets/controls",
            "layout": "IPY_MODEL_bbbcac5d3b9044edba43277b47536cf7"
          }
        },
        "8f23a3169e7f491c9831d761e046faf6": {
          "model_module": "@jupyter-widgets/controls",
          "model_name": "ProgressStyleModel",
          "state": {
            "_view_name": "StyleView",
            "_model_name": "ProgressStyleModel",
            "description_width": "initial",
            "_view_module": "@jupyter-widgets/base",
            "_model_module_version": "1.5.0",
            "_view_count": null,
            "_view_module_version": "1.2.0",
            "bar_color": null,
            "_model_module": "@jupyter-widgets/controls"
          }
        },
        "3371f5398ee14fe18677e09a93c29a9c": {
          "model_module": "@jupyter-widgets/base",
          "model_name": "LayoutModel",
          "state": {
            "_view_name": "LayoutView",
            "grid_template_rows": null,
            "right": null,
            "justify_content": null,
            "_view_module": "@jupyter-widgets/base",
            "overflow": null,
            "_model_module_version": "1.2.0",
            "_view_count": null,
            "flex_flow": null,
            "width": null,
            "min_width": null,
            "border": null,
            "align_items": null,
            "bottom": null,
            "_model_module": "@jupyter-widgets/base",
            "top": null,
            "grid_column": null,
            "overflow_y": null,
            "overflow_x": null,
            "grid_auto_flow": null,
            "grid_area": null,
            "grid_template_columns": null,
            "flex": null,
            "_model_name": "LayoutModel",
            "justify_items": null,
            "grid_row": null,
            "max_height": null,
            "align_content": null,
            "visibility": null,
            "align_self": null,
            "height": null,
            "min_height": null,
            "padding": null,
            "grid_auto_rows": null,
            "grid_gap": null,
            "max_width": null,
            "order": null,
            "_view_module_version": "1.2.0",
            "grid_template_areas": null,
            "object_position": null,
            "object_fit": null,
            "grid_auto_columns": null,
            "margin": null,
            "display": null,
            "left": null
          }
        },
        "6a6e033384e5496cbd56ffdb70a16c28": {
          "model_module": "@jupyter-widgets/controls",
          "model_name": "DescriptionStyleModel",
          "state": {
            "_view_name": "StyleView",
            "_model_name": "DescriptionStyleModel",
            "description_width": "",
            "_view_module": "@jupyter-widgets/base",
            "_model_module_version": "1.5.0",
            "_view_count": null,
            "_view_module_version": "1.2.0",
            "_model_module": "@jupyter-widgets/controls"
          }
        },
        "bbbcac5d3b9044edba43277b47536cf7": {
          "model_module": "@jupyter-widgets/base",
          "model_name": "LayoutModel",
          "state": {
            "_view_name": "LayoutView",
            "grid_template_rows": null,
            "right": null,
            "justify_content": null,
            "_view_module": "@jupyter-widgets/base",
            "overflow": null,
            "_model_module_version": "1.2.0",
            "_view_count": null,
            "flex_flow": null,
            "width": null,
            "min_width": null,
            "border": null,
            "align_items": null,
            "bottom": null,
            "_model_module": "@jupyter-widgets/base",
            "top": null,
            "grid_column": null,
            "overflow_y": null,
            "overflow_x": null,
            "grid_auto_flow": null,
            "grid_area": null,
            "grid_template_columns": null,
            "flex": null,
            "_model_name": "LayoutModel",
            "justify_items": null,
            "grid_row": null,
            "max_height": null,
            "align_content": null,
            "visibility": null,
            "align_self": null,
            "height": null,
            "min_height": null,
            "padding": null,
            "grid_auto_rows": null,
            "grid_gap": null,
            "max_width": null,
            "order": null,
            "_view_module_version": "1.2.0",
            "grid_template_areas": null,
            "object_position": null,
            "object_fit": null,
            "grid_auto_columns": null,
            "margin": null,
            "display": null,
            "left": null
          }
        },
        "da7f86f845a9462eaa440a5879aeba3a": {
          "model_module": "@jupyter-widgets/controls",
          "model_name": "HBoxModel",
          "state": {
            "_view_name": "HBoxView",
            "_dom_classes": [],
            "_model_name": "HBoxModel",
            "_view_module": "@jupyter-widgets/controls",
            "_model_module_version": "1.5.0",
            "_view_count": null,
            "_view_module_version": "1.5.0",
            "box_style": "",
            "layout": "IPY_MODEL_8e8166a498664d9192b8a4b25d22d23e",
            "_model_module": "@jupyter-widgets/controls",
            "children": [
              "IPY_MODEL_3431c256a3994397a5ff759c19ad8414",
              "IPY_MODEL_bd2802be09aa4d2283f0f5a9293a43aa"
            ]
          }
        },
        "8e8166a498664d9192b8a4b25d22d23e": {
          "model_module": "@jupyter-widgets/base",
          "model_name": "LayoutModel",
          "state": {
            "_view_name": "LayoutView",
            "grid_template_rows": null,
            "right": null,
            "justify_content": null,
            "_view_module": "@jupyter-widgets/base",
            "overflow": null,
            "_model_module_version": "1.2.0",
            "_view_count": null,
            "flex_flow": null,
            "width": null,
            "min_width": null,
            "border": null,
            "align_items": null,
            "bottom": null,
            "_model_module": "@jupyter-widgets/base",
            "top": null,
            "grid_column": null,
            "overflow_y": null,
            "overflow_x": null,
            "grid_auto_flow": null,
            "grid_area": null,
            "grid_template_columns": null,
            "flex": null,
            "_model_name": "LayoutModel",
            "justify_items": null,
            "grid_row": null,
            "max_height": null,
            "align_content": null,
            "visibility": null,
            "align_self": null,
            "height": null,
            "min_height": null,
            "padding": null,
            "grid_auto_rows": null,
            "grid_gap": null,
            "max_width": null,
            "order": null,
            "_view_module_version": "1.2.0",
            "grid_template_areas": null,
            "object_position": null,
            "object_fit": null,
            "grid_auto_columns": null,
            "margin": null,
            "display": null,
            "left": null
          }
        },
        "3431c256a3994397a5ff759c19ad8414": {
          "model_module": "@jupyter-widgets/controls",
          "model_name": "FloatProgressModel",
          "state": {
            "_view_name": "ProgressView",
            "style": "IPY_MODEL_a66afcba501949f8b7d2dc03f453ec06",
            "_dom_classes": [],
            "description": "Epoch 3: 100%",
            "_model_name": "FloatProgressModel",
            "bar_style": "",
            "max": 1971,
            "_view_module": "@jupyter-widgets/controls",
            "_model_module_version": "1.5.0",
            "value": 1971,
            "_view_count": null,
            "_view_module_version": "1.5.0",
            "orientation": "horizontal",
            "min": 0,
            "description_tooltip": null,
            "_model_module": "@jupyter-widgets/controls",
            "layout": "IPY_MODEL_4f764440322347ae94eb8eb162af45d6"
          }
        },
        "bd2802be09aa4d2283f0f5a9293a43aa": {
          "model_module": "@jupyter-widgets/controls",
          "model_name": "HTMLModel",
          "state": {
            "_view_name": "HTMLView",
            "style": "IPY_MODEL_19f11869565c4254bbcae08d2c2b7671",
            "_dom_classes": [],
            "description": "",
            "_model_name": "HTMLModel",
            "placeholder": "​",
            "_view_module": "@jupyter-widgets/controls",
            "_model_module_version": "1.5.0",
            "value": " 1971/1971 [10:47&lt;00:00,  3.31it/s, training_loss=0.165]",
            "_view_count": null,
            "_view_module_version": "1.5.0",
            "description_tooltip": null,
            "_model_module": "@jupyter-widgets/controls",
            "layout": "IPY_MODEL_811ef0c77a304ddda24495a6fd990c46"
          }
        },
        "a66afcba501949f8b7d2dc03f453ec06": {
          "model_module": "@jupyter-widgets/controls",
          "model_name": "ProgressStyleModel",
          "state": {
            "_view_name": "StyleView",
            "_model_name": "ProgressStyleModel",
            "description_width": "initial",
            "_view_module": "@jupyter-widgets/base",
            "_model_module_version": "1.5.0",
            "_view_count": null,
            "_view_module_version": "1.2.0",
            "bar_color": null,
            "_model_module": "@jupyter-widgets/controls"
          }
        },
        "4f764440322347ae94eb8eb162af45d6": {
          "model_module": "@jupyter-widgets/base",
          "model_name": "LayoutModel",
          "state": {
            "_view_name": "LayoutView",
            "grid_template_rows": null,
            "right": null,
            "justify_content": null,
            "_view_module": "@jupyter-widgets/base",
            "overflow": null,
            "_model_module_version": "1.2.0",
            "_view_count": null,
            "flex_flow": null,
            "width": null,
            "min_width": null,
            "border": null,
            "align_items": null,
            "bottom": null,
            "_model_module": "@jupyter-widgets/base",
            "top": null,
            "grid_column": null,
            "overflow_y": null,
            "overflow_x": null,
            "grid_auto_flow": null,
            "grid_area": null,
            "grid_template_columns": null,
            "flex": null,
            "_model_name": "LayoutModel",
            "justify_items": null,
            "grid_row": null,
            "max_height": null,
            "align_content": null,
            "visibility": null,
            "align_self": null,
            "height": null,
            "min_height": null,
            "padding": null,
            "grid_auto_rows": null,
            "grid_gap": null,
            "max_width": null,
            "order": null,
            "_view_module_version": "1.2.0",
            "grid_template_areas": null,
            "object_position": null,
            "object_fit": null,
            "grid_auto_columns": null,
            "margin": null,
            "display": null,
            "left": null
          }
        },
        "19f11869565c4254bbcae08d2c2b7671": {
          "model_module": "@jupyter-widgets/controls",
          "model_name": "DescriptionStyleModel",
          "state": {
            "_view_name": "StyleView",
            "_model_name": "DescriptionStyleModel",
            "description_width": "",
            "_view_module": "@jupyter-widgets/base",
            "_model_module_version": "1.5.0",
            "_view_count": null,
            "_view_module_version": "1.2.0",
            "_model_module": "@jupyter-widgets/controls"
          }
        },
        "811ef0c77a304ddda24495a6fd990c46": {
          "model_module": "@jupyter-widgets/base",
          "model_name": "LayoutModel",
          "state": {
            "_view_name": "LayoutView",
            "grid_template_rows": null,
            "right": null,
            "justify_content": null,
            "_view_module": "@jupyter-widgets/base",
            "overflow": null,
            "_model_module_version": "1.2.0",
            "_view_count": null,
            "flex_flow": null,
            "width": null,
            "min_width": null,
            "border": null,
            "align_items": null,
            "bottom": null,
            "_model_module": "@jupyter-widgets/base",
            "top": null,
            "grid_column": null,
            "overflow_y": null,
            "overflow_x": null,
            "grid_auto_flow": null,
            "grid_area": null,
            "grid_template_columns": null,
            "flex": null,
            "_model_name": "LayoutModel",
            "justify_items": null,
            "grid_row": null,
            "max_height": null,
            "align_content": null,
            "visibility": null,
            "align_self": null,
            "height": null,
            "min_height": null,
            "padding": null,
            "grid_auto_rows": null,
            "grid_gap": null,
            "max_width": null,
            "order": null,
            "_view_module_version": "1.2.0",
            "grid_template_areas": null,
            "object_position": null,
            "object_fit": null,
            "grid_auto_columns": null,
            "margin": null,
            "display": null,
            "left": null
          }
        },
        "9e5712382b954593b0de0c04e8ba09f2": {
          "model_module": "@jupyter-widgets/controls",
          "model_name": "HBoxModel",
          "state": {
            "_view_name": "HBoxView",
            "_dom_classes": [],
            "_model_name": "HBoxModel",
            "_view_module": "@jupyter-widgets/controls",
            "_model_module_version": "1.5.0",
            "_view_count": null,
            "_view_module_version": "1.5.0",
            "box_style": "",
            "layout": "IPY_MODEL_059228e8a68d4c7896c2ea146b215d71",
            "_model_module": "@jupyter-widgets/controls",
            "children": [
              "IPY_MODEL_a0b872b1a650429e9d58017f74651254",
              "IPY_MODEL_02256db64e8d40e7a4aca59fc3227c08"
            ]
          }
        },
        "059228e8a68d4c7896c2ea146b215d71": {
          "model_module": "@jupyter-widgets/base",
          "model_name": "LayoutModel",
          "state": {
            "_view_name": "LayoutView",
            "grid_template_rows": null,
            "right": null,
            "justify_content": null,
            "_view_module": "@jupyter-widgets/base",
            "overflow": null,
            "_model_module_version": "1.2.0",
            "_view_count": null,
            "flex_flow": null,
            "width": null,
            "min_width": null,
            "border": null,
            "align_items": null,
            "bottom": null,
            "_model_module": "@jupyter-widgets/base",
            "top": null,
            "grid_column": null,
            "overflow_y": null,
            "overflow_x": null,
            "grid_auto_flow": null,
            "grid_area": null,
            "grid_template_columns": null,
            "flex": null,
            "_model_name": "LayoutModel",
            "justify_items": null,
            "grid_row": null,
            "max_height": null,
            "align_content": null,
            "visibility": null,
            "align_self": null,
            "height": null,
            "min_height": null,
            "padding": null,
            "grid_auto_rows": null,
            "grid_gap": null,
            "max_width": null,
            "order": null,
            "_view_module_version": "1.2.0",
            "grid_template_areas": null,
            "object_position": null,
            "object_fit": null,
            "grid_auto_columns": null,
            "margin": null,
            "display": null,
            "left": null
          }
        },
        "a0b872b1a650429e9d58017f74651254": {
          "model_module": "@jupyter-widgets/controls",
          "model_name": "FloatProgressModel",
          "state": {
            "_view_name": "ProgressView",
            "style": "IPY_MODEL_591c01c27aa64fbea1d2ba92f09bbb68",
            "_dom_classes": [],
            "description": "Epoch 4: 100%",
            "_model_name": "FloatProgressModel",
            "bar_style": "",
            "max": 1971,
            "_view_module": "@jupyter-widgets/controls",
            "_model_module_version": "1.5.0",
            "value": 1971,
            "_view_count": null,
            "_view_module_version": "1.5.0",
            "orientation": "horizontal",
            "min": 0,
            "description_tooltip": null,
            "_model_module": "@jupyter-widgets/controls",
            "layout": "IPY_MODEL_c0a154b6d2e54e57953cecb2a8793bda"
          }
        },
        "02256db64e8d40e7a4aca59fc3227c08": {
          "model_module": "@jupyter-widgets/controls",
          "model_name": "HTMLModel",
          "state": {
            "_view_name": "HTMLView",
            "style": "IPY_MODEL_7569b59f1bb14b6883908d137eacece6",
            "_dom_classes": [],
            "description": "",
            "_model_name": "HTMLModel",
            "placeholder": "​",
            "_view_module": "@jupyter-widgets/controls",
            "_model_module_version": "1.5.0",
            "value": " 1971/1971 [10:49&lt;00:00,  3.28it/s, training_loss=0.122]",
            "_view_count": null,
            "_view_module_version": "1.5.0",
            "description_tooltip": null,
            "_model_module": "@jupyter-widgets/controls",
            "layout": "IPY_MODEL_1e84e47179104b3999d02454cb50d8d3"
          }
        },
        "591c01c27aa64fbea1d2ba92f09bbb68": {
          "model_module": "@jupyter-widgets/controls",
          "model_name": "ProgressStyleModel",
          "state": {
            "_view_name": "StyleView",
            "_model_name": "ProgressStyleModel",
            "description_width": "initial",
            "_view_module": "@jupyter-widgets/base",
            "_model_module_version": "1.5.0",
            "_view_count": null,
            "_view_module_version": "1.2.0",
            "bar_color": null,
            "_model_module": "@jupyter-widgets/controls"
          }
        },
        "c0a154b6d2e54e57953cecb2a8793bda": {
          "model_module": "@jupyter-widgets/base",
          "model_name": "LayoutModel",
          "state": {
            "_view_name": "LayoutView",
            "grid_template_rows": null,
            "right": null,
            "justify_content": null,
            "_view_module": "@jupyter-widgets/base",
            "overflow": null,
            "_model_module_version": "1.2.0",
            "_view_count": null,
            "flex_flow": null,
            "width": null,
            "min_width": null,
            "border": null,
            "align_items": null,
            "bottom": null,
            "_model_module": "@jupyter-widgets/base",
            "top": null,
            "grid_column": null,
            "overflow_y": null,
            "overflow_x": null,
            "grid_auto_flow": null,
            "grid_area": null,
            "grid_template_columns": null,
            "flex": null,
            "_model_name": "LayoutModel",
            "justify_items": null,
            "grid_row": null,
            "max_height": null,
            "align_content": null,
            "visibility": null,
            "align_self": null,
            "height": null,
            "min_height": null,
            "padding": null,
            "grid_auto_rows": null,
            "grid_gap": null,
            "max_width": null,
            "order": null,
            "_view_module_version": "1.2.0",
            "grid_template_areas": null,
            "object_position": null,
            "object_fit": null,
            "grid_auto_columns": null,
            "margin": null,
            "display": null,
            "left": null
          }
        },
        "7569b59f1bb14b6883908d137eacece6": {
          "model_module": "@jupyter-widgets/controls",
          "model_name": "DescriptionStyleModel",
          "state": {
            "_view_name": "StyleView",
            "_model_name": "DescriptionStyleModel",
            "description_width": "",
            "_view_module": "@jupyter-widgets/base",
            "_model_module_version": "1.5.0",
            "_view_count": null,
            "_view_module_version": "1.2.0",
            "_model_module": "@jupyter-widgets/controls"
          }
        },
        "1e84e47179104b3999d02454cb50d8d3": {
          "model_module": "@jupyter-widgets/base",
          "model_name": "LayoutModel",
          "state": {
            "_view_name": "LayoutView",
            "grid_template_rows": null,
            "right": null,
            "justify_content": null,
            "_view_module": "@jupyter-widgets/base",
            "overflow": null,
            "_model_module_version": "1.2.0",
            "_view_count": null,
            "flex_flow": null,
            "width": null,
            "min_width": null,
            "border": null,
            "align_items": null,
            "bottom": null,
            "_model_module": "@jupyter-widgets/base",
            "top": null,
            "grid_column": null,
            "overflow_y": null,
            "overflow_x": null,
            "grid_auto_flow": null,
            "grid_area": null,
            "grid_template_columns": null,
            "flex": null,
            "_model_name": "LayoutModel",
            "justify_items": null,
            "grid_row": null,
            "max_height": null,
            "align_content": null,
            "visibility": null,
            "align_self": null,
            "height": null,
            "min_height": null,
            "padding": null,
            "grid_auto_rows": null,
            "grid_gap": null,
            "max_width": null,
            "order": null,
            "_view_module_version": "1.2.0",
            "grid_template_areas": null,
            "object_position": null,
            "object_fit": null,
            "grid_auto_columns": null,
            "margin": null,
            "display": null,
            "left": null
          }
        },
        "20c7d0f4c46f431a8ccf26b684978a6f": {
          "model_module": "@jupyter-widgets/controls",
          "model_name": "HBoxModel",
          "state": {
            "_view_name": "HBoxView",
            "_dom_classes": [],
            "_model_name": "HBoxModel",
            "_view_module": "@jupyter-widgets/controls",
            "_model_module_version": "1.5.0",
            "_view_count": null,
            "_view_module_version": "1.5.0",
            "box_style": "",
            "layout": "IPY_MODEL_89ca15a01a0849ea9f514d2aad0681b5",
            "_model_module": "@jupyter-widgets/controls",
            "children": [
              "IPY_MODEL_f527cc9c956d4b9185d1f1f7a9153688",
              "IPY_MODEL_f8ac42758b854b0e8663232b9be94d04"
            ]
          }
        },
        "89ca15a01a0849ea9f514d2aad0681b5": {
          "model_module": "@jupyter-widgets/base",
          "model_name": "LayoutModel",
          "state": {
            "_view_name": "LayoutView",
            "grid_template_rows": null,
            "right": null,
            "justify_content": null,
            "_view_module": "@jupyter-widgets/base",
            "overflow": null,
            "_model_module_version": "1.2.0",
            "_view_count": null,
            "flex_flow": null,
            "width": null,
            "min_width": null,
            "border": null,
            "align_items": null,
            "bottom": null,
            "_model_module": "@jupyter-widgets/base",
            "top": null,
            "grid_column": null,
            "overflow_y": null,
            "overflow_x": null,
            "grid_auto_flow": null,
            "grid_area": null,
            "grid_template_columns": null,
            "flex": null,
            "_model_name": "LayoutModel",
            "justify_items": null,
            "grid_row": null,
            "max_height": null,
            "align_content": null,
            "visibility": null,
            "align_self": null,
            "height": null,
            "min_height": null,
            "padding": null,
            "grid_auto_rows": null,
            "grid_gap": null,
            "max_width": null,
            "order": null,
            "_view_module_version": "1.2.0",
            "grid_template_areas": null,
            "object_position": null,
            "object_fit": null,
            "grid_auto_columns": null,
            "margin": null,
            "display": null,
            "left": null
          }
        },
        "f527cc9c956d4b9185d1f1f7a9153688": {
          "model_module": "@jupyter-widgets/controls",
          "model_name": "FloatProgressModel",
          "state": {
            "_view_name": "ProgressView",
            "style": "IPY_MODEL_968e225a650b454499960958606f0553",
            "_dom_classes": [],
            "description": "Epoch 5: 100%",
            "_model_name": "FloatProgressModel",
            "bar_style": "",
            "max": 1971,
            "_view_module": "@jupyter-widgets/controls",
            "_model_module_version": "1.5.0",
            "value": 1971,
            "_view_count": null,
            "_view_module_version": "1.5.0",
            "orientation": "horizontal",
            "min": 0,
            "description_tooltip": null,
            "_model_module": "@jupyter-widgets/controls",
            "layout": "IPY_MODEL_06ace274a551448e9dad13bc9a167218"
          }
        },
        "f8ac42758b854b0e8663232b9be94d04": {
          "model_module": "@jupyter-widgets/controls",
          "model_name": "HTMLModel",
          "state": {
            "_view_name": "HTMLView",
            "style": "IPY_MODEL_269acee2a77c4d34bd9727adadd90477",
            "_dom_classes": [],
            "description": "",
            "_model_name": "HTMLModel",
            "placeholder": "​",
            "_view_module": "@jupyter-widgets/controls",
            "_model_module_version": "1.5.0",
            "value": " 1971/1971 [10:50&lt;00:00,  3.37it/s, training_loss=0.076]",
            "_view_count": null,
            "_view_module_version": "1.5.0",
            "description_tooltip": null,
            "_model_module": "@jupyter-widgets/controls",
            "layout": "IPY_MODEL_7bb9f238c0044b28921954cdd134247e"
          }
        },
        "968e225a650b454499960958606f0553": {
          "model_module": "@jupyter-widgets/controls",
          "model_name": "ProgressStyleModel",
          "state": {
            "_view_name": "StyleView",
            "_model_name": "ProgressStyleModel",
            "description_width": "initial",
            "_view_module": "@jupyter-widgets/base",
            "_model_module_version": "1.5.0",
            "_view_count": null,
            "_view_module_version": "1.2.0",
            "bar_color": null,
            "_model_module": "@jupyter-widgets/controls"
          }
        },
        "06ace274a551448e9dad13bc9a167218": {
          "model_module": "@jupyter-widgets/base",
          "model_name": "LayoutModel",
          "state": {
            "_view_name": "LayoutView",
            "grid_template_rows": null,
            "right": null,
            "justify_content": null,
            "_view_module": "@jupyter-widgets/base",
            "overflow": null,
            "_model_module_version": "1.2.0",
            "_view_count": null,
            "flex_flow": null,
            "width": null,
            "min_width": null,
            "border": null,
            "align_items": null,
            "bottom": null,
            "_model_module": "@jupyter-widgets/base",
            "top": null,
            "grid_column": null,
            "overflow_y": null,
            "overflow_x": null,
            "grid_auto_flow": null,
            "grid_area": null,
            "grid_template_columns": null,
            "flex": null,
            "_model_name": "LayoutModel",
            "justify_items": null,
            "grid_row": null,
            "max_height": null,
            "align_content": null,
            "visibility": null,
            "align_self": null,
            "height": null,
            "min_height": null,
            "padding": null,
            "grid_auto_rows": null,
            "grid_gap": null,
            "max_width": null,
            "order": null,
            "_view_module_version": "1.2.0",
            "grid_template_areas": null,
            "object_position": null,
            "object_fit": null,
            "grid_auto_columns": null,
            "margin": null,
            "display": null,
            "left": null
          }
        },
        "269acee2a77c4d34bd9727adadd90477": {
          "model_module": "@jupyter-widgets/controls",
          "model_name": "DescriptionStyleModel",
          "state": {
            "_view_name": "StyleView",
            "_model_name": "DescriptionStyleModel",
            "description_width": "",
            "_view_module": "@jupyter-widgets/base",
            "_model_module_version": "1.5.0",
            "_view_count": null,
            "_view_module_version": "1.2.0",
            "_model_module": "@jupyter-widgets/controls"
          }
        },
        "7bb9f238c0044b28921954cdd134247e": {
          "model_module": "@jupyter-widgets/base",
          "model_name": "LayoutModel",
          "state": {
            "_view_name": "LayoutView",
            "grid_template_rows": null,
            "right": null,
            "justify_content": null,
            "_view_module": "@jupyter-widgets/base",
            "overflow": null,
            "_model_module_version": "1.2.0",
            "_view_count": null,
            "flex_flow": null,
            "width": null,
            "min_width": null,
            "border": null,
            "align_items": null,
            "bottom": null,
            "_model_module": "@jupyter-widgets/base",
            "top": null,
            "grid_column": null,
            "overflow_y": null,
            "overflow_x": null,
            "grid_auto_flow": null,
            "grid_area": null,
            "grid_template_columns": null,
            "flex": null,
            "_model_name": "LayoutModel",
            "justify_items": null,
            "grid_row": null,
            "max_height": null,
            "align_content": null,
            "visibility": null,
            "align_self": null,
            "height": null,
            "min_height": null,
            "padding": null,
            "grid_auto_rows": null,
            "grid_gap": null,
            "max_width": null,
            "order": null,
            "_view_module_version": "1.2.0",
            "grid_template_areas": null,
            "object_position": null,
            "object_fit": null,
            "grid_auto_columns": null,
            "margin": null,
            "display": null,
            "left": null
          }
        },
        "972301dbf23749b4b88d9041646f52b3": {
          "model_module": "@jupyter-widgets/controls",
          "model_name": "HBoxModel",
          "state": {
            "_view_name": "HBoxView",
            "_dom_classes": [],
            "_model_name": "HBoxModel",
            "_view_module": "@jupyter-widgets/controls",
            "_model_module_version": "1.5.0",
            "_view_count": null,
            "_view_module_version": "1.5.0",
            "box_style": "",
            "layout": "IPY_MODEL_486da97a500d4c77aed3ae095ec4259b",
            "_model_module": "@jupyter-widgets/controls",
            "children": [
              "IPY_MODEL_644f7b4041ea41a2adb12092a30d028b",
              "IPY_MODEL_726b81b4032b45b889f3ca44ed4a315c"
            ]
          }
        },
        "486da97a500d4c77aed3ae095ec4259b": {
          "model_module": "@jupyter-widgets/base",
          "model_name": "LayoutModel",
          "state": {
            "_view_name": "LayoutView",
            "grid_template_rows": null,
            "right": null,
            "justify_content": null,
            "_view_module": "@jupyter-widgets/base",
            "overflow": null,
            "_model_module_version": "1.2.0",
            "_view_count": null,
            "flex_flow": null,
            "width": null,
            "min_width": null,
            "border": null,
            "align_items": null,
            "bottom": null,
            "_model_module": "@jupyter-widgets/base",
            "top": null,
            "grid_column": null,
            "overflow_y": null,
            "overflow_x": null,
            "grid_auto_flow": null,
            "grid_area": null,
            "grid_template_columns": null,
            "flex": null,
            "_model_name": "LayoutModel",
            "justify_items": null,
            "grid_row": null,
            "max_height": null,
            "align_content": null,
            "visibility": null,
            "align_self": null,
            "height": null,
            "min_height": null,
            "padding": null,
            "grid_auto_rows": null,
            "grid_gap": null,
            "max_width": null,
            "order": null,
            "_view_module_version": "1.2.0",
            "grid_template_areas": null,
            "object_position": null,
            "object_fit": null,
            "grid_auto_columns": null,
            "margin": null,
            "display": null,
            "left": null
          }
        },
        "644f7b4041ea41a2adb12092a30d028b": {
          "model_module": "@jupyter-widgets/controls",
          "model_name": "FloatProgressModel",
          "state": {
            "_view_name": "ProgressView",
            "style": "IPY_MODEL_b693f72d5856468886bb35f71503177c",
            "_dom_classes": [],
            "description": "Epoch 6: 100%",
            "_model_name": "FloatProgressModel",
            "bar_style": "",
            "max": 1971,
            "_view_module": "@jupyter-widgets/controls",
            "_model_module_version": "1.5.0",
            "value": 1971,
            "_view_count": null,
            "_view_module_version": "1.5.0",
            "orientation": "horizontal",
            "min": 0,
            "description_tooltip": null,
            "_model_module": "@jupyter-widgets/controls",
            "layout": "IPY_MODEL_510bffb3e5c04ecd90e913b574b4fb89"
          }
        },
        "726b81b4032b45b889f3ca44ed4a315c": {
          "model_module": "@jupyter-widgets/controls",
          "model_name": "HTMLModel",
          "state": {
            "_view_name": "HTMLView",
            "style": "IPY_MODEL_0ed4359314104fe296a6803a95ebe018",
            "_dom_classes": [],
            "description": "",
            "_model_name": "HTMLModel",
            "placeholder": "​",
            "_view_module": "@jupyter-widgets/controls",
            "_model_module_version": "1.5.0",
            "value": " 1971/1971 [10:49&lt;00:00,  3.31it/s, training_loss=0.247]",
            "_view_count": null,
            "_view_module_version": "1.5.0",
            "description_tooltip": null,
            "_model_module": "@jupyter-widgets/controls",
            "layout": "IPY_MODEL_23010aaad8144fefab56dfb687deb337"
          }
        },
        "b693f72d5856468886bb35f71503177c": {
          "model_module": "@jupyter-widgets/controls",
          "model_name": "ProgressStyleModel",
          "state": {
            "_view_name": "StyleView",
            "_model_name": "ProgressStyleModel",
            "description_width": "initial",
            "_view_module": "@jupyter-widgets/base",
            "_model_module_version": "1.5.0",
            "_view_count": null,
            "_view_module_version": "1.2.0",
            "bar_color": null,
            "_model_module": "@jupyter-widgets/controls"
          }
        },
        "510bffb3e5c04ecd90e913b574b4fb89": {
          "model_module": "@jupyter-widgets/base",
          "model_name": "LayoutModel",
          "state": {
            "_view_name": "LayoutView",
            "grid_template_rows": null,
            "right": null,
            "justify_content": null,
            "_view_module": "@jupyter-widgets/base",
            "overflow": null,
            "_model_module_version": "1.2.0",
            "_view_count": null,
            "flex_flow": null,
            "width": null,
            "min_width": null,
            "border": null,
            "align_items": null,
            "bottom": null,
            "_model_module": "@jupyter-widgets/base",
            "top": null,
            "grid_column": null,
            "overflow_y": null,
            "overflow_x": null,
            "grid_auto_flow": null,
            "grid_area": null,
            "grid_template_columns": null,
            "flex": null,
            "_model_name": "LayoutModel",
            "justify_items": null,
            "grid_row": null,
            "max_height": null,
            "align_content": null,
            "visibility": null,
            "align_self": null,
            "height": null,
            "min_height": null,
            "padding": null,
            "grid_auto_rows": null,
            "grid_gap": null,
            "max_width": null,
            "order": null,
            "_view_module_version": "1.2.0",
            "grid_template_areas": null,
            "object_position": null,
            "object_fit": null,
            "grid_auto_columns": null,
            "margin": null,
            "display": null,
            "left": null
          }
        },
        "0ed4359314104fe296a6803a95ebe018": {
          "model_module": "@jupyter-widgets/controls",
          "model_name": "DescriptionStyleModel",
          "state": {
            "_view_name": "StyleView",
            "_model_name": "DescriptionStyleModel",
            "description_width": "",
            "_view_module": "@jupyter-widgets/base",
            "_model_module_version": "1.5.0",
            "_view_count": null,
            "_view_module_version": "1.2.0",
            "_model_module": "@jupyter-widgets/controls"
          }
        },
        "23010aaad8144fefab56dfb687deb337": {
          "model_module": "@jupyter-widgets/base",
          "model_name": "LayoutModel",
          "state": {
            "_view_name": "LayoutView",
            "grid_template_rows": null,
            "right": null,
            "justify_content": null,
            "_view_module": "@jupyter-widgets/base",
            "overflow": null,
            "_model_module_version": "1.2.0",
            "_view_count": null,
            "flex_flow": null,
            "width": null,
            "min_width": null,
            "border": null,
            "align_items": null,
            "bottom": null,
            "_model_module": "@jupyter-widgets/base",
            "top": null,
            "grid_column": null,
            "overflow_y": null,
            "overflow_x": null,
            "grid_auto_flow": null,
            "grid_area": null,
            "grid_template_columns": null,
            "flex": null,
            "_model_name": "LayoutModel",
            "justify_items": null,
            "grid_row": null,
            "max_height": null,
            "align_content": null,
            "visibility": null,
            "align_self": null,
            "height": null,
            "min_height": null,
            "padding": null,
            "grid_auto_rows": null,
            "grid_gap": null,
            "max_width": null,
            "order": null,
            "_view_module_version": "1.2.0",
            "grid_template_areas": null,
            "object_position": null,
            "object_fit": null,
            "grid_auto_columns": null,
            "margin": null,
            "display": null,
            "left": null
          }
        },
        "18c320342cf14a1aa6c016e83bf66f08": {
          "model_module": "@jupyter-widgets/controls",
          "model_name": "HBoxModel",
          "state": {
            "_view_name": "HBoxView",
            "_dom_classes": [],
            "_model_name": "HBoxModel",
            "_view_module": "@jupyter-widgets/controls",
            "_model_module_version": "1.5.0",
            "_view_count": null,
            "_view_module_version": "1.5.0",
            "box_style": "",
            "layout": "IPY_MODEL_7759db77b31f4b77a376dc4b92866c5b",
            "_model_module": "@jupyter-widgets/controls",
            "children": [
              "IPY_MODEL_b9e20bf0219a4c3faf92b8bc449b4e96",
              "IPY_MODEL_ac8cd1f9282b4b7cac910ec4257f4f98"
            ]
          }
        },
        "7759db77b31f4b77a376dc4b92866c5b": {
          "model_module": "@jupyter-widgets/base",
          "model_name": "LayoutModel",
          "state": {
            "_view_name": "LayoutView",
            "grid_template_rows": null,
            "right": null,
            "justify_content": null,
            "_view_module": "@jupyter-widgets/base",
            "overflow": null,
            "_model_module_version": "1.2.0",
            "_view_count": null,
            "flex_flow": null,
            "width": null,
            "min_width": null,
            "border": null,
            "align_items": null,
            "bottom": null,
            "_model_module": "@jupyter-widgets/base",
            "top": null,
            "grid_column": null,
            "overflow_y": null,
            "overflow_x": null,
            "grid_auto_flow": null,
            "grid_area": null,
            "grid_template_columns": null,
            "flex": null,
            "_model_name": "LayoutModel",
            "justify_items": null,
            "grid_row": null,
            "max_height": null,
            "align_content": null,
            "visibility": null,
            "align_self": null,
            "height": null,
            "min_height": null,
            "padding": null,
            "grid_auto_rows": null,
            "grid_gap": null,
            "max_width": null,
            "order": null,
            "_view_module_version": "1.2.0",
            "grid_template_areas": null,
            "object_position": null,
            "object_fit": null,
            "grid_auto_columns": null,
            "margin": null,
            "display": null,
            "left": null
          }
        },
        "b9e20bf0219a4c3faf92b8bc449b4e96": {
          "model_module": "@jupyter-widgets/controls",
          "model_name": "FloatProgressModel",
          "state": {
            "_view_name": "ProgressView",
            "style": "IPY_MODEL_2acd803fd8df4b6f8d097c7fe2da4052",
            "_dom_classes": [],
            "description": "Epoch 7: 100%",
            "_model_name": "FloatProgressModel",
            "bar_style": "",
            "max": 1971,
            "_view_module": "@jupyter-widgets/controls",
            "_model_module_version": "1.5.0",
            "value": 1971,
            "_view_count": null,
            "_view_module_version": "1.5.0",
            "orientation": "horizontal",
            "min": 0,
            "description_tooltip": null,
            "_model_module": "@jupyter-widgets/controls",
            "layout": "IPY_MODEL_537cc21f77a3471a96dd4d5fed172335"
          }
        },
        "ac8cd1f9282b4b7cac910ec4257f4f98": {
          "model_module": "@jupyter-widgets/controls",
          "model_name": "HTMLModel",
          "state": {
            "_view_name": "HTMLView",
            "style": "IPY_MODEL_38b9d72d52c14741b19560638e5d1d2a",
            "_dom_classes": [],
            "description": "",
            "_model_name": "HTMLModel",
            "placeholder": "​",
            "_view_module": "@jupyter-widgets/controls",
            "_model_module_version": "1.5.0",
            "value": " 1971/1971 [10:50&lt;00:00,  3.31it/s, training_loss=0.136]",
            "_view_count": null,
            "_view_module_version": "1.5.0",
            "description_tooltip": null,
            "_model_module": "@jupyter-widgets/controls",
            "layout": "IPY_MODEL_c1d7bdba1af0460e917d34fb3c5ed3ab"
          }
        },
        "2acd803fd8df4b6f8d097c7fe2da4052": {
          "model_module": "@jupyter-widgets/controls",
          "model_name": "ProgressStyleModel",
          "state": {
            "_view_name": "StyleView",
            "_model_name": "ProgressStyleModel",
            "description_width": "initial",
            "_view_module": "@jupyter-widgets/base",
            "_model_module_version": "1.5.0",
            "_view_count": null,
            "_view_module_version": "1.2.0",
            "bar_color": null,
            "_model_module": "@jupyter-widgets/controls"
          }
        },
        "537cc21f77a3471a96dd4d5fed172335": {
          "model_module": "@jupyter-widgets/base",
          "model_name": "LayoutModel",
          "state": {
            "_view_name": "LayoutView",
            "grid_template_rows": null,
            "right": null,
            "justify_content": null,
            "_view_module": "@jupyter-widgets/base",
            "overflow": null,
            "_model_module_version": "1.2.0",
            "_view_count": null,
            "flex_flow": null,
            "width": null,
            "min_width": null,
            "border": null,
            "align_items": null,
            "bottom": null,
            "_model_module": "@jupyter-widgets/base",
            "top": null,
            "grid_column": null,
            "overflow_y": null,
            "overflow_x": null,
            "grid_auto_flow": null,
            "grid_area": null,
            "grid_template_columns": null,
            "flex": null,
            "_model_name": "LayoutModel",
            "justify_items": null,
            "grid_row": null,
            "max_height": null,
            "align_content": null,
            "visibility": null,
            "align_self": null,
            "height": null,
            "min_height": null,
            "padding": null,
            "grid_auto_rows": null,
            "grid_gap": null,
            "max_width": null,
            "order": null,
            "_view_module_version": "1.2.0",
            "grid_template_areas": null,
            "object_position": null,
            "object_fit": null,
            "grid_auto_columns": null,
            "margin": null,
            "display": null,
            "left": null
          }
        },
        "38b9d72d52c14741b19560638e5d1d2a": {
          "model_module": "@jupyter-widgets/controls",
          "model_name": "DescriptionStyleModel",
          "state": {
            "_view_name": "StyleView",
            "_model_name": "DescriptionStyleModel",
            "description_width": "",
            "_view_module": "@jupyter-widgets/base",
            "_model_module_version": "1.5.0",
            "_view_count": null,
            "_view_module_version": "1.2.0",
            "_model_module": "@jupyter-widgets/controls"
          }
        },
        "c1d7bdba1af0460e917d34fb3c5ed3ab": {
          "model_module": "@jupyter-widgets/base",
          "model_name": "LayoutModel",
          "state": {
            "_view_name": "LayoutView",
            "grid_template_rows": null,
            "right": null,
            "justify_content": null,
            "_view_module": "@jupyter-widgets/base",
            "overflow": null,
            "_model_module_version": "1.2.0",
            "_view_count": null,
            "flex_flow": null,
            "width": null,
            "min_width": null,
            "border": null,
            "align_items": null,
            "bottom": null,
            "_model_module": "@jupyter-widgets/base",
            "top": null,
            "grid_column": null,
            "overflow_y": null,
            "overflow_x": null,
            "grid_auto_flow": null,
            "grid_area": null,
            "grid_template_columns": null,
            "flex": null,
            "_model_name": "LayoutModel",
            "justify_items": null,
            "grid_row": null,
            "max_height": null,
            "align_content": null,
            "visibility": null,
            "align_self": null,
            "height": null,
            "min_height": null,
            "padding": null,
            "grid_auto_rows": null,
            "grid_gap": null,
            "max_width": null,
            "order": null,
            "_view_module_version": "1.2.0",
            "grid_template_areas": null,
            "object_position": null,
            "object_fit": null,
            "grid_auto_columns": null,
            "margin": null,
            "display": null,
            "left": null
          }
        },
        "ac66caaac1ba4347912256011e968bcb": {
          "model_module": "@jupyter-widgets/controls",
          "model_name": "HBoxModel",
          "state": {
            "_view_name": "HBoxView",
            "_dom_classes": [],
            "_model_name": "HBoxModel",
            "_view_module": "@jupyter-widgets/controls",
            "_model_module_version": "1.5.0",
            "_view_count": null,
            "_view_module_version": "1.5.0",
            "box_style": "",
            "layout": "IPY_MODEL_d490b662f53546cdac418473515ae925",
            "_model_module": "@jupyter-widgets/controls",
            "children": [
              "IPY_MODEL_eb2af62237554ef0a541361d31f7800b",
              "IPY_MODEL_de970a8a20eb4a65918eff2eb4497475"
            ]
          }
        },
        "d490b662f53546cdac418473515ae925": {
          "model_module": "@jupyter-widgets/base",
          "model_name": "LayoutModel",
          "state": {
            "_view_name": "LayoutView",
            "grid_template_rows": null,
            "right": null,
            "justify_content": null,
            "_view_module": "@jupyter-widgets/base",
            "overflow": null,
            "_model_module_version": "1.2.0",
            "_view_count": null,
            "flex_flow": null,
            "width": null,
            "min_width": null,
            "border": null,
            "align_items": null,
            "bottom": null,
            "_model_module": "@jupyter-widgets/base",
            "top": null,
            "grid_column": null,
            "overflow_y": null,
            "overflow_x": null,
            "grid_auto_flow": null,
            "grid_area": null,
            "grid_template_columns": null,
            "flex": null,
            "_model_name": "LayoutModel",
            "justify_items": null,
            "grid_row": null,
            "max_height": null,
            "align_content": null,
            "visibility": null,
            "align_self": null,
            "height": null,
            "min_height": null,
            "padding": null,
            "grid_auto_rows": null,
            "grid_gap": null,
            "max_width": null,
            "order": null,
            "_view_module_version": "1.2.0",
            "grid_template_areas": null,
            "object_position": null,
            "object_fit": null,
            "grid_auto_columns": null,
            "margin": null,
            "display": null,
            "left": null
          }
        },
        "eb2af62237554ef0a541361d31f7800b": {
          "model_module": "@jupyter-widgets/controls",
          "model_name": "FloatProgressModel",
          "state": {
            "_view_name": "ProgressView",
            "style": "IPY_MODEL_40dbcda63869429e8da590afc6155279",
            "_dom_classes": [],
            "description": "Epoch 8: 100%",
            "_model_name": "FloatProgressModel",
            "bar_style": "",
            "max": 1971,
            "_view_module": "@jupyter-widgets/controls",
            "_model_module_version": "1.5.0",
            "value": 1971,
            "_view_count": null,
            "_view_module_version": "1.5.0",
            "orientation": "horizontal",
            "min": 0,
            "description_tooltip": null,
            "_model_module": "@jupyter-widgets/controls",
            "layout": "IPY_MODEL_da138aa3273f4d55803a0bf0fe1f66ae"
          }
        },
        "de970a8a20eb4a65918eff2eb4497475": {
          "model_module": "@jupyter-widgets/controls",
          "model_name": "HTMLModel",
          "state": {
            "_view_name": "HTMLView",
            "style": "IPY_MODEL_daa78e6e89744d21a4d192e1b690a876",
            "_dom_classes": [],
            "description": "",
            "_model_name": "HTMLModel",
            "placeholder": "​",
            "_view_module": "@jupyter-widgets/controls",
            "_model_module_version": "1.5.0",
            "value": " 1971/1971 [10:48&lt;00:00,  3.33it/s, training_loss=0.057]",
            "_view_count": null,
            "_view_module_version": "1.5.0",
            "description_tooltip": null,
            "_model_module": "@jupyter-widgets/controls",
            "layout": "IPY_MODEL_1a56cdc34b3746fa972fb94078828e30"
          }
        },
        "40dbcda63869429e8da590afc6155279": {
          "model_module": "@jupyter-widgets/controls",
          "model_name": "ProgressStyleModel",
          "state": {
            "_view_name": "StyleView",
            "_model_name": "ProgressStyleModel",
            "description_width": "initial",
            "_view_module": "@jupyter-widgets/base",
            "_model_module_version": "1.5.0",
            "_view_count": null,
            "_view_module_version": "1.2.0",
            "bar_color": null,
            "_model_module": "@jupyter-widgets/controls"
          }
        },
        "da138aa3273f4d55803a0bf0fe1f66ae": {
          "model_module": "@jupyter-widgets/base",
          "model_name": "LayoutModel",
          "state": {
            "_view_name": "LayoutView",
            "grid_template_rows": null,
            "right": null,
            "justify_content": null,
            "_view_module": "@jupyter-widgets/base",
            "overflow": null,
            "_model_module_version": "1.2.0",
            "_view_count": null,
            "flex_flow": null,
            "width": null,
            "min_width": null,
            "border": null,
            "align_items": null,
            "bottom": null,
            "_model_module": "@jupyter-widgets/base",
            "top": null,
            "grid_column": null,
            "overflow_y": null,
            "overflow_x": null,
            "grid_auto_flow": null,
            "grid_area": null,
            "grid_template_columns": null,
            "flex": null,
            "_model_name": "LayoutModel",
            "justify_items": null,
            "grid_row": null,
            "max_height": null,
            "align_content": null,
            "visibility": null,
            "align_self": null,
            "height": null,
            "min_height": null,
            "padding": null,
            "grid_auto_rows": null,
            "grid_gap": null,
            "max_width": null,
            "order": null,
            "_view_module_version": "1.2.0",
            "grid_template_areas": null,
            "object_position": null,
            "object_fit": null,
            "grid_auto_columns": null,
            "margin": null,
            "display": null,
            "left": null
          }
        },
        "daa78e6e89744d21a4d192e1b690a876": {
          "model_module": "@jupyter-widgets/controls",
          "model_name": "DescriptionStyleModel",
          "state": {
            "_view_name": "StyleView",
            "_model_name": "DescriptionStyleModel",
            "description_width": "",
            "_view_module": "@jupyter-widgets/base",
            "_model_module_version": "1.5.0",
            "_view_count": null,
            "_view_module_version": "1.2.0",
            "_model_module": "@jupyter-widgets/controls"
          }
        },
        "1a56cdc34b3746fa972fb94078828e30": {
          "model_module": "@jupyter-widgets/base",
          "model_name": "LayoutModel",
          "state": {
            "_view_name": "LayoutView",
            "grid_template_rows": null,
            "right": null,
            "justify_content": null,
            "_view_module": "@jupyter-widgets/base",
            "overflow": null,
            "_model_module_version": "1.2.0",
            "_view_count": null,
            "flex_flow": null,
            "width": null,
            "min_width": null,
            "border": null,
            "align_items": null,
            "bottom": null,
            "_model_module": "@jupyter-widgets/base",
            "top": null,
            "grid_column": null,
            "overflow_y": null,
            "overflow_x": null,
            "grid_auto_flow": null,
            "grid_area": null,
            "grid_template_columns": null,
            "flex": null,
            "_model_name": "LayoutModel",
            "justify_items": null,
            "grid_row": null,
            "max_height": null,
            "align_content": null,
            "visibility": null,
            "align_self": null,
            "height": null,
            "min_height": null,
            "padding": null,
            "grid_auto_rows": null,
            "grid_gap": null,
            "max_width": null,
            "order": null,
            "_view_module_version": "1.2.0",
            "grid_template_areas": null,
            "object_position": null,
            "object_fit": null,
            "grid_auto_columns": null,
            "margin": null,
            "display": null,
            "left": null
          }
        }
      }
    }
  },
  "cells": [
    {
      "cell_type": "markdown",
      "metadata": {
        "id": "view-in-github",
        "colab_type": "text"
      },
      "source": [
        "<a href=\"https://colab.research.google.com/github/HanhaodiZhang/HATE/blob/main/bert%2B%3C%3E.ipynb\" target=\"_parent\"><img src=\"https://colab.research.google.com/assets/colab-badge.svg\" alt=\"Open In Colab\"/></a>"
      ]
    },
    {
      "cell_type": "code",
      "metadata": {
        "id": "ccZqtphS9RLb"
      },
      "source": [
        "!pip install -qq transformers"
      ],
      "execution_count": 32,
      "outputs": []
    },
    {
      "cell_type": "code",
      "metadata": {
        "id": "1aXurVW2K9im"
      },
      "source": [
        "import torch\r\n",
        "import numpy as np\r\n",
        "import pandas as pd"
      ],
      "execution_count": 33,
      "outputs": []
    },
    {
      "cell_type": "code",
      "metadata": {
        "colab": {
          "base_uri": "https://localhost:8080/",
          "height": 428
        },
        "id": "cEEQwX6kK982",
        "outputId": "3c3775f3-d161-4138-a6da-c218907897e6"
      },
      "source": [
        "df_aug = pd.read_csv(\"bert_aug_no_tag_N=1_k=2.csv\", index_col='id')\r\n",
        "df_aug"
      ],
      "execution_count": 34,
      "outputs": [
        {
          "output_type": "execute_result",
          "data": {
            "text/html": [
              "<div>\n",
              "<style scoped>\n",
              "    .dataframe tbody tr th:only-of-type {\n",
              "        vertical-align: middle;\n",
              "    }\n",
              "\n",
              "    .dataframe tbody tr th {\n",
              "        vertical-align: top;\n",
              "    }\n",
              "\n",
              "    .dataframe thead th {\n",
              "        text-align: right;\n",
              "    }\n",
              "</style>\n",
              "<table border=\"1\" class=\"dataframe\">\n",
              "  <thead>\n",
              "    <tr style=\"text-align: right;\">\n",
              "      <th></th>\n",
              "      <th>tweet</th>\n",
              "      <th>subtask_a</th>\n",
              "    </tr>\n",
              "    <tr>\n",
              "      <th>id</th>\n",
              "      <th></th>\n",
              "      <th></th>\n",
              "    </tr>\n",
              "  </thead>\n",
              "  <tbody>\n",
              "    <tr>\n",
              "      <th>864261.0</th>\n",
              "      <td>@USER She should ask a few native Americans wh...</td>\n",
              "      <td>OFF</td>\n",
              "    </tr>\n",
              "    <tr>\n",
              "      <th>864262.0</th>\n",
              "      <td>@USER She should ask a few native Americans wh...</td>\n",
              "      <td>OFF</td>\n",
              "    </tr>\n",
              "    <tr>\n",
              "      <th>901941.0</th>\n",
              "      <td>@USER @USER Go home you’re drunk!!! @USER #MAG...</td>\n",
              "      <td>OFF</td>\n",
              "    </tr>\n",
              "    <tr>\n",
              "      <th>901942.0</th>\n",
              "      <td>@USER @USER Go home you’re drunk!!! @USER #MAG...</td>\n",
              "      <td>OFF</td>\n",
              "    </tr>\n",
              "    <tr>\n",
              "      <th>168201.0</th>\n",
              "      <td>Amazon is investigating Chinese employees who ...</td>\n",
              "      <td>NOT</td>\n",
              "    </tr>\n",
              "    <tr>\n",
              "      <th>...</th>\n",
              "      <td>...</td>\n",
              "      <td>...</td>\n",
              "    </tr>\n",
              "    <tr>\n",
              "      <th>829212.0</th>\n",
              "      <td>@USER And why s this garbage. We don't give a ...</td>\n",
              "      <td>OFF</td>\n",
              "    </tr>\n",
              "    <tr>\n",
              "      <th>274291.0</th>\n",
              "      <td>@USER Pussy</td>\n",
              "      <td>OFF</td>\n",
              "    </tr>\n",
              "    <tr>\n",
              "      <th>274292.0</th>\n",
              "      <td>@USER Pussy</td>\n",
              "      <td>OFF</td>\n",
              "    </tr>\n",
              "    <tr>\n",
              "      <th>465521.0</th>\n",
              "      <td>#Spanishrevenge vs. #justice #HumanRights and ...</td>\n",
              "      <td>NOT</td>\n",
              "    </tr>\n",
              "    <tr>\n",
              "      <th>465522.0</th>\n",
              "      <td>#Spanishrevenge vs. #justice #HumanRights and ...</td>\n",
              "      <td>NOT</td>\n",
              "    </tr>\n",
              "  </tbody>\n",
              "</table>\n",
              "<p>26173 rows × 2 columns</p>\n",
              "</div>"
            ],
            "text/plain": [
              "                                                      tweet subtask_a\n",
              "id                                                                   \n",
              "864261.0  @USER She should ask a few native Americans wh...       OFF\n",
              "864262.0  @USER She should ask a few native Americans wh...       OFF\n",
              "901941.0  @USER @USER Go home you’re drunk!!! @USER #MAG...       OFF\n",
              "901942.0  @USER @USER Go home you’re drunk!!! @USER #MAG...       OFF\n",
              "168201.0  Amazon is investigating Chinese employees who ...       NOT\n",
              "...                                                     ...       ...\n",
              "829212.0  @USER And why s this garbage. We don't give a ...       OFF\n",
              "274291.0                                        @USER Pussy       OFF\n",
              "274292.0                                        @USER Pussy       OFF\n",
              "465521.0  #Spanishrevenge vs. #justice #HumanRights and ...       NOT\n",
              "465522.0  #Spanishrevenge vs. #justice #HumanRights and ...       NOT\n",
              "\n",
              "[26173 rows x 2 columns]"
            ]
          },
          "metadata": {
            "tags": []
          },
          "execution_count": 34
        }
      ]
    },
    {
      "cell_type": "code",
      "metadata": {
        "colab": {
          "base_uri": "https://localhost:8080/",
          "height": 428
        },
        "id": "pWf5K_T0LIev",
        "outputId": "8b4527ba-4478-48eb-8d69-dbb1341ff2cb"
      },
      "source": [
        "df_real = pd.read_csv(\"olid-training.tsv\", sep='\\t', header=0, index_col='id')\r\n",
        "df_real=df_real[['tweet','subtask_a']]\r\n",
        "df_real"
      ],
      "execution_count": 35,
      "outputs": [
        {
          "output_type": "execute_result",
          "data": {
            "text/html": [
              "<div>\n",
              "<style scoped>\n",
              "    .dataframe tbody tr th:only-of-type {\n",
              "        vertical-align: middle;\n",
              "    }\n",
              "\n",
              "    .dataframe tbody tr th {\n",
              "        vertical-align: top;\n",
              "    }\n",
              "\n",
              "    .dataframe thead th {\n",
              "        text-align: right;\n",
              "    }\n",
              "</style>\n",
              "<table border=\"1\" class=\"dataframe\">\n",
              "  <thead>\n",
              "    <tr style=\"text-align: right;\">\n",
              "      <th></th>\n",
              "      <th>tweet</th>\n",
              "      <th>subtask_a</th>\n",
              "    </tr>\n",
              "    <tr>\n",
              "      <th>id</th>\n",
              "      <th></th>\n",
              "      <th></th>\n",
              "    </tr>\n",
              "  </thead>\n",
              "  <tbody>\n",
              "    <tr>\n",
              "      <th>86426</th>\n",
              "      <td>@USER She should ask a few native Americans wh...</td>\n",
              "      <td>OFF</td>\n",
              "    </tr>\n",
              "    <tr>\n",
              "      <th>90194</th>\n",
              "      <td>@USER @USER Go home you’re drunk!!! @USER #MAG...</td>\n",
              "      <td>OFF</td>\n",
              "    </tr>\n",
              "    <tr>\n",
              "      <th>16820</th>\n",
              "      <td>Amazon is investigating Chinese employees who ...</td>\n",
              "      <td>NOT</td>\n",
              "    </tr>\n",
              "    <tr>\n",
              "      <th>62688</th>\n",
              "      <td>@USER Someone should'veTaken\" this piece of sh...</td>\n",
              "      <td>OFF</td>\n",
              "    </tr>\n",
              "    <tr>\n",
              "      <th>43605</th>\n",
              "      <td>@USER @USER Obama wanted liberals &amp;amp; illega...</td>\n",
              "      <td>NOT</td>\n",
              "    </tr>\n",
              "    <tr>\n",
              "      <th>...</th>\n",
              "      <td>...</td>\n",
              "      <td>...</td>\n",
              "    </tr>\n",
              "    <tr>\n",
              "      <th>95338</th>\n",
              "      <td>@USER Sometimes I get strong vibes from people...</td>\n",
              "      <td>OFF</td>\n",
              "    </tr>\n",
              "    <tr>\n",
              "      <th>67210</th>\n",
              "      <td>Benidorm ✅  Creamfields ✅  Maga ✅   Not too sh...</td>\n",
              "      <td>NOT</td>\n",
              "    </tr>\n",
              "    <tr>\n",
              "      <th>82921</th>\n",
              "      <td>@USER And why report this garbage.  We don't g...</td>\n",
              "      <td>OFF</td>\n",
              "    </tr>\n",
              "    <tr>\n",
              "      <th>27429</th>\n",
              "      <td>@USER Pussy</td>\n",
              "      <td>OFF</td>\n",
              "    </tr>\n",
              "    <tr>\n",
              "      <th>46552</th>\n",
              "      <td>#Spanishrevenge vs. #justice #HumanRights and ...</td>\n",
              "      <td>NOT</td>\n",
              "    </tr>\n",
              "  </tbody>\n",
              "</table>\n",
              "<p>13240 rows × 2 columns</p>\n",
              "</div>"
            ],
            "text/plain": [
              "                                                   tweet subtask_a\n",
              "id                                                                \n",
              "86426  @USER She should ask a few native Americans wh...       OFF\n",
              "90194  @USER @USER Go home you’re drunk!!! @USER #MAG...       OFF\n",
              "16820  Amazon is investigating Chinese employees who ...       NOT\n",
              "62688  @USER Someone should'veTaken\" this piece of sh...       OFF\n",
              "43605  @USER @USER Obama wanted liberals &amp; illega...       NOT\n",
              "...                                                  ...       ...\n",
              "95338  @USER Sometimes I get strong vibes from people...       OFF\n",
              "67210  Benidorm ✅  Creamfields ✅  Maga ✅   Not too sh...       NOT\n",
              "82921  @USER And why report this garbage.  We don't g...       OFF\n",
              "27429                                        @USER Pussy       OFF\n",
              "46552  #Spanishrevenge vs. #justice #HumanRights and ...       NOT\n",
              "\n",
              "[13240 rows x 2 columns]"
            ]
          },
          "metadata": {
            "tags": []
          },
          "execution_count": 35
        }
      ]
    },
    {
      "cell_type": "code",
      "metadata": {
        "id": "mAbM8xPTLLwP"
      },
      "source": [
        "# NOTE OFF should be 1, was 0 before\r\n",
        "label_dict = {'OFF':1, 'NOT':0}"
      ],
      "execution_count": 36,
      "outputs": []
    },
    {
      "cell_type": "code",
      "metadata": {
        "colab": {
          "base_uri": "https://localhost:8080/"
        },
        "id": "1OkkxomQLucy",
        "outputId": "d73b695b-42ca-4071-a089-77d379838987"
      },
      "source": [
        "df_real['a_label']=df_real.subtask_a.replace(label_dict)\r\n",
        "df_aug['a_label']=df_aug.subtask_a.replace(label_dict)\r\n",
        "print(df_real.head())\r\n",
        "print(df_aug.head())"
      ],
      "execution_count": 37,
      "outputs": [
        {
          "output_type": "stream",
          "text": [
            "                                                   tweet subtask_a  a_label\n",
            "id                                                                         \n",
            "86426  @USER She should ask a few native Americans wh...       OFF        1\n",
            "90194  @USER @USER Go home you’re drunk!!! @USER #MAG...       OFF        1\n",
            "16820  Amazon is investigating Chinese employees who ...       NOT        0\n",
            "62688  @USER Someone should'veTaken\" this piece of sh...       OFF        1\n",
            "43605  @USER @USER Obama wanted liberals &amp; illega...       NOT        0\n",
            "                                                      tweet subtask_a  a_label\n",
            "id                                                                            \n",
            "864261.0  @USER She should ask a few native Americans wh...       OFF        1\n",
            "864262.0  @USER She should ask a few native Americans wh...       OFF        1\n",
            "901941.0  @USER @USER Go home you’re drunk!!! @USER #MAG...       OFF        1\n",
            "901942.0  @USER @USER Go home you’re drunk!!! @USER #MAG...       OFF        1\n",
            "168201.0  Amazon is investigating Chinese employees who ...       NOT        0\n"
          ],
          "name": "stdout"
        }
      ]
    },
    {
      "cell_type": "code",
      "metadata": {
        "colab": {
          "base_uri": "https://localhost:8080/"
        },
        "id": "Qv5QE2xRLwa5",
        "outputId": "7c5c9883-566e-4b67-8e14-855493fa2eda"
      },
      "source": [
        "!pip install emoji --upgrade"
      ],
      "execution_count": 38,
      "outputs": [
        {
          "output_type": "stream",
          "text": [
            "Requirement already up-to-date: emoji in /usr/local/lib/python3.6/dist-packages (1.2.0)\n"
          ],
          "name": "stdout"
        }
      ]
    },
    {
      "cell_type": "code",
      "metadata": {
        "colab": {
          "base_uri": "https://localhost:8080/"
        },
        "id": "f-ZtGP0SLyXa",
        "outputId": "3c25e98d-3205-4ef5-99ff-e60bcbf7c544"
      },
      "source": [
        "!pip install wordsegment"
      ],
      "execution_count": 39,
      "outputs": [
        {
          "output_type": "stream",
          "text": [
            "Requirement already satisfied: wordsegment in /usr/local/lib/python3.6/dist-packages (1.3.1)\n"
          ],
          "name": "stdout"
        }
      ]
    },
    {
      "cell_type": "code",
      "metadata": {
        "id": "EqcLg0o0VJLB"
      },
      "source": [
        "from wordsegment import load\r\n",
        "load()"
      ],
      "execution_count": 40,
      "outputs": []
    },
    {
      "cell_type": "code",
      "metadata": {
        "id": "PVlmn9VSL05I"
      },
      "source": [
        "import re\r\n",
        "from wordsegment import segment\r\n",
        "import emoji\r\n",
        "def clean(word):\r\n",
        "  \r\n",
        "  text = re.sub(r\"can't\", \"can not \", word)\r\n",
        "  text = re.sub(r\"don't\", \"can not \", text)\r\n",
        "  text = re.sub(r\"\\'s\", \"\", word)\r\n",
        "  text = re.sub(r\"\\'ve\", \"have\", text)\r\n",
        "  text = re.sub(r\"\\'re\", \" are\", text)\r\n",
        "  text = re.sub(r\"\\'m\", \"am\", text)\r\n",
        "  text = re.sub(r\"%\", \"percent\", text) \r\n",
        "  return text \r\n",
        "\r\n",
        "def foremoji(text):\r\n",
        "  text = re.sub(r\"’\", \"'\", text)\r\n",
        "  text = re.sub(r\":\", \" : \", text)\r\n",
        "  text=emoji.demojize(text)\r\n",
        "  text = text.split()\r\n",
        "  new_text=[]\r\n",
        "  for w in text: \r\n",
        "    w=clean(w)  \r\n",
        "    w=re.sub(r\":\", \" <emoji> \", w)\r\n",
        "    w=re.sub(r\"@USER\",\"\",w)\r\n",
        "    w=re.sub(r\"_\",\" \",w)\r\n",
        "    if re.match(\"^#\",w):\r\n",
        "      w=\" \".join(segment(w))\r\n",
        "    new_text.append(w)\r\n",
        "  text = \" \".join(new_text)\r\n",
        "  return text\r\n",
        "\r\n",
        "\r\n",
        "def fake_foremoji(text):\r\n",
        "  return '<fake> '+foremoji(text)\r\n",
        "def real_foremoji(text):\r\n",
        "  return '<real> '+foremoji(text)"
      ],
      "execution_count": 41,
      "outputs": []
    },
    {
      "cell_type": "code",
      "metadata": {
        "id": "IUyQJc6wL9xY"
      },
      "source": [
        "df_real['emoji_tweet'] = df_real.tweet.apply(foremoji)\r\n",
        "df_aug['emoji_tweet'] = df_aug.tweet.apply(foremoji)"
      ],
      "execution_count": 42,
      "outputs": []
    },
    {
      "cell_type": "code",
      "metadata": {
        "id": "3zqoKqpGL_tR"
      },
      "source": [
        "df_aug['emoji_tweet']=df_aug.emoji_tweet.apply(fake_foremoji)\r\n",
        "df_real['emoji_tweet']=df_real.emoji_tweet.apply(real_foremoji)"
      ],
      "execution_count": 43,
      "outputs": []
    },
    {
      "cell_type": "code",
      "metadata": {
        "id": "NMDXlFXZgTyc",
        "colab": {
          "base_uri": "https://localhost:8080/"
        },
        "outputId": "ed11e958-4b56-40ef-f37b-551f8f7b903b"
      },
      "source": [
        "print(df_real.head())\r\n",
        "print(df_aug.head())\r\n",
        "\r\n",
        "print(\"=\" * 60)\r\n",
        "print(\"Number of examples: real data --\", len(df_real), \"augmented data --\", len(df_aug))\r\n",
        "print(\"=\" * 60)"
      ],
      "execution_count": 44,
      "outputs": [
        {
          "output_type": "stream",
          "text": [
            "                                                   tweet  ...                                        emoji_tweet\n",
            "id                                                        ...                                                   \n",
            "86426  @USER She should ask a few native Americans wh...  ...  <real> She should ask a few native Americans w...\n",
            "90194  @USER @USER Go home you’re drunk!!! @USER #MAG...  ...  <real> Go home you are drunk!!! maga trump2020...\n",
            "16820  Amazon is investigating Chinese employees who ...  ...  <real> Amazon is investigating Chinese employe...\n",
            "62688  @USER Someone should'veTaken\" this piece of sh...  ...  <real> Someone shouldhaveTaken\" this piece of ...\n",
            "43605  @USER @USER Obama wanted liberals &amp; illega...  ...  <real> Obama wanted liberals &amp; illegals to...\n",
            "\n",
            "[5 rows x 4 columns]\n",
            "                                                      tweet  ...                                        emoji_tweet\n",
            "id                                                           ...                                                   \n",
            "864261.0  @USER She should ask a few native Americans wh...  ...  <fake> She should ask a few native Americans w...\n",
            "864262.0  @USER She should ask a few native Americans wh...  ...  <fake> She should ask a few native Americans w...\n",
            "901941.0  @USER @USER Go home you’re drunk!!! @USER #MAG...  ...  <fake> Go home you are drunk!!! maga trump2020...\n",
            "901942.0  @USER @USER Go home you’re drunk!!! @USER #MAG...  ...  <fake> Go home you are drunk!!! maga trump2020...\n",
            "168201.0  Amazon is investigating Chinese employees who ...  ...  <fake> Amazon is investigating Chinese employe...\n",
            "\n",
            "[5 rows x 4 columns]\n",
            "============================================================\n",
            "Number of examples: real data -- 13240 augmented data -- 26173\n",
            "============================================================\n"
          ],
          "name": "stdout"
        }
      ]
    },
    {
      "cell_type": "code",
      "metadata": {
        "id": "rWtb3RIGgaXK"
      },
      "source": [
        "from sklearn.model_selection import train_test_split\r\n",
        "RANDOM_SEED=17\r\n",
        "\r\n",
        "X_train_real, X_val, y_train_real, y_val = train_test_split(\r\n",
        "  df_real.index.values,\r\n",
        "  df_real.a_label.values,\r\n",
        "  test_size=0.2,\r\n",
        "  random_state=RANDOM_SEED,\r\n",
        "  # stratify=df.a_label.values\r\n",
        ")\r\n",
        "\r\n",
        "df_real['data_type'] = ['not_set']*df_real.shape[0]\r\n",
        "\r\n",
        "aug_filter_index = [idx for idx in df_aug.index.values if idx // 10 not in X_val]\r\n",
        "\r\n",
        "df_aug_filter = df_aug.loc[aug_filter_index]\r\n",
        "df_aug_filter['data_type'] = ['train']*df_aug_filter.shape[0]\r\n",
        "# NOTE should remove the augmented data generated from of real validation data, otherwise the validation info is leaked\r\n",
        "\r\n",
        "df_real.loc[X_train_real, 'data_type'] = 'train'\r\n",
        "df_real.loc[X_val, 'data_type'] = 'val'"
      ],
      "execution_count": 45,
      "outputs": []
    },
    {
      "cell_type": "code",
      "metadata": {
        "id": "_FZi6FR7ga0Q",
        "colab": {
          "base_uri": "https://localhost:8080/",
          "height": 428
        },
        "outputId": "a726d2cf-a993-4d75-c8f8-b4b688798857"
      },
      "source": [
        "\r\n",
        "df = pd.concat( [df_aug_filter, df_real], axis=0)\r\n",
        "df"
      ],
      "execution_count": 46,
      "outputs": [
        {
          "output_type": "execute_result",
          "data": {
            "text/html": [
              "<div>\n",
              "<style scoped>\n",
              "    .dataframe tbody tr th:only-of-type {\n",
              "        vertical-align: middle;\n",
              "    }\n",
              "\n",
              "    .dataframe tbody tr th {\n",
              "        vertical-align: top;\n",
              "    }\n",
              "\n",
              "    .dataframe thead th {\n",
              "        text-align: right;\n",
              "    }\n",
              "</style>\n",
              "<table border=\"1\" class=\"dataframe\">\n",
              "  <thead>\n",
              "    <tr style=\"text-align: right;\">\n",
              "      <th></th>\n",
              "      <th>tweet</th>\n",
              "      <th>subtask_a</th>\n",
              "      <th>a_label</th>\n",
              "      <th>emoji_tweet</th>\n",
              "      <th>data_type</th>\n",
              "    </tr>\n",
              "    <tr>\n",
              "      <th>id</th>\n",
              "      <th></th>\n",
              "      <th></th>\n",
              "      <th></th>\n",
              "      <th></th>\n",
              "      <th></th>\n",
              "    </tr>\n",
              "  </thead>\n",
              "  <tbody>\n",
              "    <tr>\n",
              "      <th>901941.0</th>\n",
              "      <td>@USER @USER Go home you’re drunk!!! @USER #MAG...</td>\n",
              "      <td>OFF</td>\n",
              "      <td>1</td>\n",
              "      <td>&lt;fake&gt; Go home you are drunk!!! maga trump2020...</td>\n",
              "      <td>train</td>\n",
              "    </tr>\n",
              "    <tr>\n",
              "      <th>901942.0</th>\n",
              "      <td>@USER @USER Go home you’re drunk!!! @USER #MAG...</td>\n",
              "      <td>OFF</td>\n",
              "      <td>1</td>\n",
              "      <td>&lt;fake&gt; Go home you are drunk!!! maga trump2020...</td>\n",
              "      <td>train</td>\n",
              "    </tr>\n",
              "    <tr>\n",
              "      <th>168201.0</th>\n",
              "      <td>Amazon is investigating Chinese employees who ...</td>\n",
              "      <td>NOT</td>\n",
              "      <td>0</td>\n",
              "      <td>&lt;fake&gt; Amazon is investigating Chinese employe...</td>\n",
              "      <td>train</td>\n",
              "    </tr>\n",
              "    <tr>\n",
              "      <th>168202.0</th>\n",
              "      <td>Amazon is investigating Chinese employees who ...</td>\n",
              "      <td>NOT</td>\n",
              "      <td>0</td>\n",
              "      <td>&lt;fake&gt; Amazon is investigating Chinese employe...</td>\n",
              "      <td>train</td>\n",
              "    </tr>\n",
              "    <tr>\n",
              "      <th>626881.0</th>\n",
              "      <td>@USER Someone should'veTaken\" this piece of sh...</td>\n",
              "      <td>OFF</td>\n",
              "      <td>1</td>\n",
              "      <td>&lt;fake&gt; Someone shouldhaveTaken\" this piece of ...</td>\n",
              "      <td>train</td>\n",
              "    </tr>\n",
              "    <tr>\n",
              "      <th>...</th>\n",
              "      <td>...</td>\n",
              "      <td>...</td>\n",
              "      <td>...</td>\n",
              "      <td>...</td>\n",
              "      <td>...</td>\n",
              "    </tr>\n",
              "    <tr>\n",
              "      <th>95338.0</th>\n",
              "      <td>@USER Sometimes I get strong vibes from people...</td>\n",
              "      <td>OFF</td>\n",
              "      <td>1</td>\n",
              "      <td>&lt;real&gt; Sometimes I get strong vibes from peopl...</td>\n",
              "      <td>train</td>\n",
              "    </tr>\n",
              "    <tr>\n",
              "      <th>67210.0</th>\n",
              "      <td>Benidorm ✅  Creamfields ✅  Maga ✅   Not too sh...</td>\n",
              "      <td>NOT</td>\n",
              "      <td>0</td>\n",
              "      <td>&lt;real&gt; Benidorm &lt;emoji&gt; check mark button &lt;emo...</td>\n",
              "      <td>train</td>\n",
              "    </tr>\n",
              "    <tr>\n",
              "      <th>82921.0</th>\n",
              "      <td>@USER And why report this garbage.  We don't g...</td>\n",
              "      <td>OFF</td>\n",
              "      <td>1</td>\n",
              "      <td>&lt;real&gt; And why report this garbage. We don't g...</td>\n",
              "      <td>train</td>\n",
              "    </tr>\n",
              "    <tr>\n",
              "      <th>27429.0</th>\n",
              "      <td>@USER Pussy</td>\n",
              "      <td>OFF</td>\n",
              "      <td>1</td>\n",
              "      <td>&lt;real&gt; Pussy</td>\n",
              "      <td>train</td>\n",
              "    </tr>\n",
              "    <tr>\n",
              "      <th>46552.0</th>\n",
              "      <td>#Spanishrevenge vs. #justice #HumanRights and ...</td>\n",
              "      <td>NOT</td>\n",
              "      <td>0</td>\n",
              "      <td>&lt;real&gt; spanish revenge vs. justice human right...</td>\n",
              "      <td>train</td>\n",
              "    </tr>\n",
              "  </tbody>\n",
              "</table>\n",
              "<p>34179 rows × 5 columns</p>\n",
              "</div>"
            ],
            "text/plain": [
              "                                                      tweet  ... data_type\n",
              "id                                                           ...          \n",
              "901941.0  @USER @USER Go home you’re drunk!!! @USER #MAG...  ...     train\n",
              "901942.0  @USER @USER Go home you’re drunk!!! @USER #MAG...  ...     train\n",
              "168201.0  Amazon is investigating Chinese employees who ...  ...     train\n",
              "168202.0  Amazon is investigating Chinese employees who ...  ...     train\n",
              "626881.0  @USER Someone should'veTaken\" this piece of sh...  ...     train\n",
              "...                                                     ...  ...       ...\n",
              "95338.0   @USER Sometimes I get strong vibes from people...  ...     train\n",
              "67210.0   Benidorm ✅  Creamfields ✅  Maga ✅   Not too sh...  ...     train\n",
              "82921.0   @USER And why report this garbage.  We don't g...  ...     train\n",
              "27429.0                                         @USER Pussy  ...     train\n",
              "46552.0   #Spanishrevenge vs. #justice #HumanRights and ...  ...     train\n",
              "\n",
              "[34179 rows x 5 columns]"
            ]
          },
          "metadata": {
            "tags": []
          },
          "execution_count": 46
        }
      ]
    },
    {
      "cell_type": "code",
      "metadata": {
        "id": "9312p8N1gdcD",
        "colab": {
          "base_uri": "https://localhost:8080/",
          "height": 428
        },
        "outputId": "6821ef8b-e48d-470b-bb28-25ba3bd4b582"
      },
      "source": [
        "# shuffle data\r\n",
        "df = df.sample(frac=1)\r\n",
        "df"
      ],
      "execution_count": 47,
      "outputs": [
        {
          "output_type": "execute_result",
          "data": {
            "text/html": [
              "<div>\n",
              "<style scoped>\n",
              "    .dataframe tbody tr th:only-of-type {\n",
              "        vertical-align: middle;\n",
              "    }\n",
              "\n",
              "    .dataframe tbody tr th {\n",
              "        vertical-align: top;\n",
              "    }\n",
              "\n",
              "    .dataframe thead th {\n",
              "        text-align: right;\n",
              "    }\n",
              "</style>\n",
              "<table border=\"1\" class=\"dataframe\">\n",
              "  <thead>\n",
              "    <tr style=\"text-align: right;\">\n",
              "      <th></th>\n",
              "      <th>tweet</th>\n",
              "      <th>subtask_a</th>\n",
              "      <th>a_label</th>\n",
              "      <th>emoji_tweet</th>\n",
              "      <th>data_type</th>\n",
              "    </tr>\n",
              "    <tr>\n",
              "      <th>id</th>\n",
              "      <th></th>\n",
              "      <th></th>\n",
              "      <th></th>\n",
              "      <th></th>\n",
              "      <th></th>\n",
              "    </tr>\n",
              "  </thead>\n",
              "  <tbody>\n",
              "    <tr>\n",
              "      <th>348232.0</th>\n",
              "      <td>@USER @USER I would love more n about joining ...</td>\n",
              "      <td>NOT</td>\n",
              "      <td>0</td>\n",
              "      <td>&lt;fake&gt; I would love more n about joining the d...</td>\n",
              "      <td>train</td>\n",
              "    </tr>\n",
              "    <tr>\n",
              "      <th>271362.0</th>\n",
              "      <td>@USER @USER Is this for real?</td>\n",
              "      <td>NOT</td>\n",
              "      <td>0</td>\n",
              "      <td>&lt;fake&gt; Is this for real?</td>\n",
              "      <td>train</td>\n",
              "    </tr>\n",
              "    <tr>\n",
              "      <th>252712.0</th>\n",
              "      <td>@USER @USER once again using t to advance hers...</td>\n",
              "      <td>NOT</td>\n",
              "      <td>0</td>\n",
              "      <td>&lt;fake&gt; once again using t to advance herself w...</td>\n",
              "      <td>train</td>\n",
              "    </tr>\n",
              "    <tr>\n",
              "      <th>60478.0</th>\n",
              "      <td>@USER @USER Aside from the whole meat is murde...</td>\n",
              "      <td>NOT</td>\n",
              "      <td>0</td>\n",
              "      <td>&lt;real&gt; Aside from the whole meat is murder\" no...</td>\n",
              "      <td>val</td>\n",
              "    </tr>\n",
              "    <tr>\n",
              "      <th>812262.0</th>\n",
              "      <td>1// Yal stupid people tell me to “back off e h...</td>\n",
              "      <td>OFF</td>\n",
              "      <td>1</td>\n",
              "      <td>&lt;fake&gt; 1// Yal stupid people tell me to “back ...</td>\n",
              "      <td>train</td>\n",
              "    </tr>\n",
              "    <tr>\n",
              "      <th>...</th>\n",
              "      <td>...</td>\n",
              "      <td>...</td>\n",
              "      <td>...</td>\n",
              "      <td>...</td>\n",
              "      <td>...</td>\n",
              "    </tr>\n",
              "    <tr>\n",
              "      <th>327301.0</th>\n",
              "      <td>@USER Heroes and villains. Garak is neither. H...</td>\n",
              "      <td>NOT</td>\n",
              "      <td>0</td>\n",
              "      <td>&lt;fake&gt; Heroes and villains. Garak is neither. ...</td>\n",
              "      <td>train</td>\n",
              "    </tr>\n",
              "    <tr>\n",
              "      <th>91855.0</th>\n",
              "      <td>@USER @USER @USER Are you serious. Man you’re ...</td>\n",
              "      <td>OFF</td>\n",
              "      <td>1</td>\n",
              "      <td>&lt;real&gt; Are you serious. Man you are an idiot! ...</td>\n",
              "      <td>train</td>\n",
              "    </tr>\n",
              "    <tr>\n",
              "      <th>97807.0</th>\n",
              "      <td>@USER That's why you'll ALWAYS hear the @USER ...</td>\n",
              "      <td>NOT</td>\n",
              "      <td>0</td>\n",
              "      <td>&lt;real&gt; That why you'll ALWAYS hear the say vag...</td>\n",
              "      <td>train</td>\n",
              "    </tr>\n",
              "    <tr>\n",
              "      <th>95608.0</th>\n",
              "      <td>@USER It is poisonous indeed. No wonder she is...</td>\n",
              "      <td>NOT</td>\n",
              "      <td>0</td>\n",
              "      <td>&lt;real&gt; It is poisonous indeed. No wonder she i...</td>\n",
              "      <td>train</td>\n",
              "    </tr>\n",
              "    <tr>\n",
              "      <th>654862.0</th>\n",
              "      <td>@USER @USER @USER Especially after liberals we...</td>\n",
              "      <td>NOT</td>\n",
              "      <td>0</td>\n",
              "      <td>&lt;fake&gt; Especially after liberals were found bu...</td>\n",
              "      <td>train</td>\n",
              "    </tr>\n",
              "  </tbody>\n",
              "</table>\n",
              "<p>34179 rows × 5 columns</p>\n",
              "</div>"
            ],
            "text/plain": [
              "                                                      tweet  ... data_type\n",
              "id                                                           ...          \n",
              "348232.0  @USER @USER I would love more n about joining ...  ...     train\n",
              "271362.0                      @USER @USER Is this for real?  ...     train\n",
              "252712.0  @USER @USER once again using t to advance hers...  ...     train\n",
              "60478.0   @USER @USER Aside from the whole meat is murde...  ...       val\n",
              "812262.0  1// Yal stupid people tell me to “back off e h...  ...     train\n",
              "...                                                     ...  ...       ...\n",
              "327301.0  @USER Heroes and villains. Garak is neither. H...  ...     train\n",
              "91855.0   @USER @USER @USER Are you serious. Man you’re ...  ...     train\n",
              "97807.0   @USER That's why you'll ALWAYS hear the @USER ...  ...     train\n",
              "95608.0   @USER It is poisonous indeed. No wonder she is...  ...     train\n",
              "654862.0  @USER @USER @USER Especially after liberals we...  ...     train\n",
              "\n",
              "[34179 rows x 5 columns]"
            ]
          },
          "metadata": {
            "tags": []
          },
          "execution_count": 47
        }
      ]
    },
    {
      "cell_type": "code",
      "metadata": {
        "id": "k18neRNZggiB",
        "colab": {
          "base_uri": "https://localhost:8080/"
        },
        "outputId": "c9e40dde-3cd6-4ca9-a4d2-a87c96d5cf56"
      },
      "source": [
        "print(len(df[df.data_type=='train']))\r\n",
        "print(len(df[df.data_type=='val']))"
      ],
      "execution_count": 48,
      "outputs": [
        {
          "output_type": "stream",
          "text": [
            "31531\n",
            "2648\n"
          ],
          "name": "stdout"
        }
      ]
    },
    {
      "cell_type": "code",
      "metadata": {
        "id": "biBh-nw0giJ8"
      },
      "source": [
        "from transformers import BertTokenizer\r\n",
        "\r\n",
        "PRE_TRAINED_MODEL_NAME = 'bert-base-uncased'\r\n",
        "tokenizer = BertTokenizer.from_pretrained(PRE_TRAINED_MODEL_NAME)"
      ],
      "execution_count": 49,
      "outputs": []
    },
    {
      "cell_type": "code",
      "metadata": {
        "colab": {
          "base_uri": "https://localhost:8080/"
        },
        "id": "1NPtYHWJgkDx",
        "outputId": "339c61b0-83f2-4764-d295-864e94465bc6"
      },
      "source": [
        "\r\n",
        "from transformers import BertForSequenceClassification\r\n",
        "\r\n",
        "model=BertForSequenceClassification.from_pretrained(\r\n",
        "    PRE_TRAINED_MODEL_NAME,\r\n",
        "    num_labels=len(label_dict),\r\n",
        "    output_attentions=False,\r\n",
        "    output_hidden_states=False,\r\n",
        ")"
      ],
      "execution_count": 50,
      "outputs": [
        {
          "output_type": "stream",
          "text": [
            "Some weights of the model checkpoint at bert-base-uncased were not used when initializing BertForSequenceClassification: ['cls.predictions.bias', 'cls.predictions.transform.dense.weight', 'cls.predictions.transform.dense.bias', 'cls.predictions.decoder.weight', 'cls.seq_relationship.weight', 'cls.seq_relationship.bias', 'cls.predictions.transform.LayerNorm.weight', 'cls.predictions.transform.LayerNorm.bias']\n",
            "- This IS expected if you are initializing BertForSequenceClassification from the checkpoint of a model trained on another task or with another architecture (e.g. initializing a BertForSequenceClassification model from a BertForPreTraining model).\n",
            "- This IS NOT expected if you are initializing BertForSequenceClassification from the checkpoint of a model that you expect to be exactly identical (initializing a BertForSequenceClassification model from a BertForSequenceClassification model).\n",
            "Some weights of BertForSequenceClassification were not initialized from the model checkpoint at bert-base-uncased and are newly initialized: ['classifier.weight', 'classifier.bias']\n",
            "You should probably TRAIN this model on a down-stream task to be able to use it for predictions and inference.\n"
          ],
          "name": "stderr"
        }
      ]
    },
    {
      "cell_type": "code",
      "metadata": {
        "colab": {
          "base_uri": "https://localhost:8080/"
        },
        "id": "2TJ3fAkeglmP",
        "outputId": "48add000-b7fc-40c6-9be1-1fa802651b78"
      },
      "source": [
        "tokenizer.add_special_tokens({'additional_special_tokens':[\"<emoji>\", \"<real>\", \"<fake>\"]})\r\n",
        "model.resize_token_embeddings(len(tokenizer))"
      ],
      "execution_count": 51,
      "outputs": [
        {
          "output_type": "execute_result",
          "data": {
            "text/plain": [
              "Embedding(30525, 768)"
            ]
          },
          "metadata": {
            "tags": []
          },
          "execution_count": 51
        }
      ]
    },
    {
      "cell_type": "code",
      "metadata": {
        "id": "qGOR2YSBgnmp"
      },
      "source": [
        "\r\n",
        "encoder_data_train=tokenizer.batch_encode_plus(\r\n",
        "    df[df.data_type=='train'].emoji_tweet.values,\r\n",
        "    add_special_tokens=True,\r\n",
        "    return_attention_mask=True,\r\n",
        "    truncation=True,\r\n",
        "    padding=True,\r\n",
        "    max_length=256,\r\n",
        "    return_tensors='pt'\r\n",
        ")\r\n",
        "\r\n",
        "encoder_data_val=tokenizer.batch_encode_plus(\r\n",
        "    df[df.data_type=='val'].emoji_tweet.values,\r\n",
        "    add_special_tokens=True,\r\n",
        "    return_attention_mask=True,\r\n",
        "    truncation =True,\r\n",
        "    padding=True,\r\n",
        "    max_length=256,\r\n",
        "    return_tensors='pt'\r\n",
        ")\r\n"
      ],
      "execution_count": 52,
      "outputs": []
    },
    {
      "cell_type": "code",
      "metadata": {
        "id": "VUiRQX4qgq4r"
      },
      "source": [
        "\r\n",
        "\r\n",
        "inputs_ids_train=encoder_data_train['input_ids']\r\n",
        "attentions_masks_train=encoder_data_train['attention_mask']\r\n",
        "labels_train=torch.tensor(df[df.data_type=='train'].a_label.values)\r\n",
        "\r\n",
        "inputs_ids_val=encoder_data_val['input_ids']\r\n",
        "attentions_masks_val=encoder_data_val['attention_mask']\r\n",
        "labels_val=torch.tensor(df[df.data_type=='val'].a_label.values)"
      ],
      "execution_count": 53,
      "outputs": []
    },
    {
      "cell_type": "code",
      "metadata": {
        "id": "arDFID1XgtFa"
      },
      "source": [
        "\r\n",
        "from torch.utils.data import TensorDataset\r\n",
        "dataset_train=TensorDataset(inputs_ids_train,\r\n",
        "              attentions_masks_train, labels_train)\r\n",
        "dataset_val=TensorDataset(inputs_ids_val,\r\n",
        "              attentions_masks_val, labels_val)"
      ],
      "execution_count": 54,
      "outputs": []
    },
    {
      "cell_type": "code",
      "metadata": {
        "id": "1C2r1r6ggxaQ"
      },
      "source": [
        "from torch.utils.data import DataLoader, RandomSampler, SequentialSampler\r\n",
        "\r\n",
        "BATCH_SIZE=16\r\n",
        "\r\n",
        "dataloader_train=DataLoader(\r\n",
        "    dataset_train,\r\n",
        "    sampler=RandomSampler(dataset_train),\r\n",
        "    batch_size=BATCH_SIZE\r\n",
        ")\r\n",
        "dataloader_val=DataLoader(\r\n",
        "    dataset_val,\r\n",
        "    sampler=RandomSampler(dataset_val),\r\n",
        "    batch_size=BATCH_SIZE\r\n",
        ")"
      ],
      "execution_count": 55,
      "outputs": []
    },
    {
      "cell_type": "code",
      "metadata": {
        "id": "JlAqBGX9gzGQ"
      },
      "source": [
        "\r\n",
        "from transformers import AdamW, get_linear_schedule_with_warmup\r\n",
        "\r\n",
        "optimizer = AdamW(model.parameters(),\r\n",
        "                  lr=1e-6, \r\n",
        "                  eps=1e-8)\r\n",
        "epochs = 8\r\n",
        "scheduler = get_linear_schedule_with_warmup(optimizer, \r\n",
        "                        num_warmup_steps=0,\r\n",
        "                        num_training_steps=len(dataloader_train)*epochs)"
      ],
      "execution_count": 56,
      "outputs": []
    },
    {
      "cell_type": "code",
      "metadata": {
        "colab": {
          "base_uri": "https://localhost:8080/"
        },
        "id": "QBPDRsLQg1PS",
        "outputId": "13ceecd1-9dff-4777-bd58-ae0fc3ea0aa9"
      },
      "source": [
        "import numpy as np\r\n",
        "from sklearn.metrics import f1_score\r\n",
        "from sklearn.metrics import classification_report\r\n",
        "\r\n",
        "def f1_score_func(preds, labels):\r\n",
        "    preds_flat = np.argmax(preds, axis=1).flatten()\r\n",
        "    labels_flat = labels.flatten()\r\n",
        "    return f1_score(labels_flat, preds_flat, average='weighted')\r\n",
        "\r\n",
        "def classification_report_func(preds, labels):\r\n",
        "    preds_flat = np.argmax(preds, axis=1).flatten()\r\n",
        "    labels_flat = labels.flatten()\r\n",
        "    return classification_report(labels_flat, preds_flat, digits=5)\r\n",
        "\r\n",
        "def accuracy_per_class(preds, labels):\r\n",
        "    label_dict_inverse = {v: k for k, v in label_dict.items()}\r\n",
        "    \r\n",
        "    preds_flat = np.argmax(preds, axis=1).flatten()\r\n",
        "    labels_flat = labels.flatten()\r\n",
        "\r\n",
        "    for label in np.unique(labels_flat):\r\n",
        "        y_preds = preds_flat[labels_flat==label]\r\n",
        "        y_true = labels_flat[labels_flat==label]\r\n",
        "        print(f'Class: {label_dict_inverse[label]}')\r\n",
        "        print(f'Accuracy: {len(y_preds[y_preds==label])}/{len(y_true)}\\n')\r\n",
        "\r\n",
        "import random\r\n",
        "\r\n",
        "seed_val = 17\r\n",
        "random.seed(seed_val)\r\n",
        "np.random.seed(seed_val)\r\n",
        "torch.manual_seed(seed_val)\r\n",
        "torch.cuda.manual_seed_all(seed_val)\r\n",
        "\r\n",
        "device = torch.device('cuda' if torch.cuda.is_available() else 'cpu')\r\n",
        "model.to(device)\r\n",
        "\r\n",
        "print(device)"
      ],
      "execution_count": 57,
      "outputs": [
        {
          "output_type": "stream",
          "text": [
            "cuda\n"
          ],
          "name": "stdout"
        }
      ]
    },
    {
      "cell_type": "code",
      "metadata": {
        "id": "fOg8z-stg3be"
      },
      "source": [
        "\r\n",
        "\r\n",
        "def evaluate(dataloader_val):\r\n",
        "\r\n",
        "    model.eval()\r\n",
        "    \r\n",
        "    loss_val_total = 0\r\n",
        "    predictions, true_vals = [], []\r\n",
        "    \r\n",
        "    for batch in dataloader_val:\r\n",
        "        \r\n",
        "        batch = tuple(b.to(device) for b in batch)\r\n",
        "        \r\n",
        "        inputs = {'input_ids':batch[0],\r\n",
        "              'attention_mask':batch[1],\r\n",
        "              'labels':batch[2],\r\n",
        "              }\r\n",
        "\r\n",
        "        with torch.no_grad():        \r\n",
        "            outputs = model(**inputs)\r\n",
        "            \r\n",
        "        loss = outputs[0]\r\n",
        "        logits = outputs[1]\r\n",
        "        loss_val_total += loss.item()\r\n",
        "\r\n",
        "        logits = logits.detach().cpu().numpy()\r\n",
        "        label_ids = inputs['labels'].cpu().numpy()\r\n",
        "        predictions.append(logits)\r\n",
        "        true_vals.append(label_ids)\r\n",
        "    \r\n",
        "    loss_val_avg = loss_val_total/len(dataloader_val) \r\n",
        "    \r\n",
        "    predictions = np.concatenate(predictions, axis=0)\r\n",
        "    true_vals = np.concatenate(true_vals, axis=0)\r\n",
        "            \r\n",
        "    return loss_val_avg, predictions, true_vals"
      ],
      "execution_count": 58,
      "outputs": []
    },
    {
      "cell_type": "code",
      "metadata": {
        "colab": {
          "base_uri": "https://localhost:8080/",
          "height": 778,
          "referenced_widgets": [
            "8e1576c0d7854b189f653aa34dd9202b",
            "32d8c03895a54d0683a0e8cafe9a118e",
            "28f0450aef49410fae63ef49807b2d7b",
            "1722edbf53134291b8dd70c75983f59d",
            "08605b9ff70942dcbb5d8c2ff7eac1fc",
            "d19855b7172a4c898e099e1b67ce876a",
            "7890e1fd4aa04d31a90573f92a8d0de0",
            "4332cdbb050a45ceaadcc25d6e5e2cc0",
            "f3aba77374bc4fb199232b792e165a39",
            "62960517541a47b48758c7bdf11b75ae",
            "0c85c6f514d44188844c9da8f7d39579",
            "1924f4bf7657450ba139a062fe194129",
            "90654c2bf57d403e813f812a70358007",
            "9724c34ad6234be0856b3d6a71ab76cf",
            "b8917d9e076f44dfa7be97ae2ee9c9da",
            "8fd3c3b5501e4f908e132e88ad39e0c4",
            "eea45d2cbc0f4785bf7d7fd8d0824a76",
            "02a1e7fe6b6b496e81cec4e7e60aecb8",
            "fec8cddbcde04504b72495a1287c71ee",
            "6f509280653e4152a4fb40b08158c9bc",
            "8f23a3169e7f491c9831d761e046faf6",
            "3371f5398ee14fe18677e09a93c29a9c",
            "6a6e033384e5496cbd56ffdb70a16c28",
            "bbbcac5d3b9044edba43277b47536cf7",
            "da7f86f845a9462eaa440a5879aeba3a",
            "8e8166a498664d9192b8a4b25d22d23e",
            "3431c256a3994397a5ff759c19ad8414",
            "bd2802be09aa4d2283f0f5a9293a43aa",
            "a66afcba501949f8b7d2dc03f453ec06",
            "4f764440322347ae94eb8eb162af45d6",
            "19f11869565c4254bbcae08d2c2b7671",
            "811ef0c77a304ddda24495a6fd990c46",
            "9e5712382b954593b0de0c04e8ba09f2",
            "059228e8a68d4c7896c2ea146b215d71",
            "a0b872b1a650429e9d58017f74651254",
            "02256db64e8d40e7a4aca59fc3227c08",
            "591c01c27aa64fbea1d2ba92f09bbb68",
            "c0a154b6d2e54e57953cecb2a8793bda",
            "7569b59f1bb14b6883908d137eacece6",
            "1e84e47179104b3999d02454cb50d8d3",
            "20c7d0f4c46f431a8ccf26b684978a6f",
            "89ca15a01a0849ea9f514d2aad0681b5",
            "f527cc9c956d4b9185d1f1f7a9153688",
            "f8ac42758b854b0e8663232b9be94d04",
            "968e225a650b454499960958606f0553",
            "06ace274a551448e9dad13bc9a167218",
            "269acee2a77c4d34bd9727adadd90477",
            "7bb9f238c0044b28921954cdd134247e",
            "972301dbf23749b4b88d9041646f52b3",
            "486da97a500d4c77aed3ae095ec4259b",
            "644f7b4041ea41a2adb12092a30d028b",
            "726b81b4032b45b889f3ca44ed4a315c",
            "b693f72d5856468886bb35f71503177c",
            "510bffb3e5c04ecd90e913b574b4fb89",
            "0ed4359314104fe296a6803a95ebe018",
            "23010aaad8144fefab56dfb687deb337",
            "18c320342cf14a1aa6c016e83bf66f08",
            "7759db77b31f4b77a376dc4b92866c5b",
            "b9e20bf0219a4c3faf92b8bc449b4e96",
            "ac8cd1f9282b4b7cac910ec4257f4f98",
            "2acd803fd8df4b6f8d097c7fe2da4052",
            "537cc21f77a3471a96dd4d5fed172335",
            "38b9d72d52c14741b19560638e5d1d2a",
            "c1d7bdba1af0460e917d34fb3c5ed3ab",
            "ac66caaac1ba4347912256011e968bcb",
            "d490b662f53546cdac418473515ae925",
            "eb2af62237554ef0a541361d31f7800b",
            "de970a8a20eb4a65918eff2eb4497475",
            "40dbcda63869429e8da590afc6155279",
            "da138aa3273f4d55803a0bf0fe1f66ae",
            "daa78e6e89744d21a4d192e1b690a876",
            "1a56cdc34b3746fa972fb94078828e30"
          ]
        },
        "id": "xvgNQcyAg5X-",
        "outputId": "ae69ea79-1036-4439-81e4-30b184ec896b"
      },
      "source": [
        "from tqdm.notebook import tqdm\r\n",
        "for epoch in tqdm(range(1, epochs+1)):\r\n",
        "    \r\n",
        "    model.train()\r\n",
        "    \r\n",
        "    loss_train_total = 0\r\n",
        "\r\n",
        "    progress_bar = tqdm(dataloader_train, desc='Epoch {:1d}'.format(epoch), leave=False, disable=False)\r\n",
        "    for batch in progress_bar:\r\n",
        "\r\n",
        "        model.zero_grad()\r\n",
        "        \r\n",
        "        batch = tuple(b.to(device) for b in batch)\r\n",
        "        \r\n",
        "        inputs = {'input_ids':      batch[0],\r\n",
        "                  'attention_mask': batch[1],\r\n",
        "                  'labels':         batch[2],\r\n",
        "                 }       \r\n",
        "\r\n",
        "        outputs = model(**inputs)\r\n",
        "        \r\n",
        "        loss = outputs[0]\r\n",
        "        loss_train_total += loss.item()\r\n",
        "        loss.backward()\r\n",
        "\r\n",
        "        torch.nn.utils.clip_grad_norm_(model.parameters(), 1.0)\r\n",
        "\r\n",
        "        optimizer.step()\r\n",
        "        scheduler.step()\r\n",
        "        \r\n",
        "        progress_bar.set_postfix({'training_loss': '{:.3f}'.format(loss.item()/len(batch))})\r\n",
        "         \r\n",
        "        \r\n",
        "    torch.save(model.state_dict(), f'finetuned_BERT_epoch_{epoch}.model')\r\n",
        "        \r\n",
        "    tqdm.write(f'\\nEpoch {epoch}')\r\n",
        "    \r\n",
        "    loss_train_avg = loss_train_total/len(dataloader_train)             \r\n",
        "    tqdm.write(f'Training loss: {loss_train_avg}')\r\n",
        "    \r\n",
        "    val_loss, predictions, true_vals = evaluate(dataloader_val)\r\n",
        "    val_f1 = f1_score_func(predictions, true_vals)\r\n",
        "    tqdm.write(f'Validation loss: {val_loss}')\r\n",
        "    tqdm.write(f'F1 Score (Weighted): {val_f1}')"
      ],
      "execution_count": 59,
      "outputs": [
        {
          "output_type": "display_data",
          "data": {
            "application/vnd.jupyter.widget-view+json": {
              "model_id": "8e1576c0d7854b189f653aa34dd9202b",
              "version_minor": 0,
              "version_major": 2
            },
            "text/plain": [
              "HBox(children=(FloatProgress(value=0.0, max=8.0), HTML(value='')))"
            ]
          },
          "metadata": {
            "tags": []
          }
        },
        {
          "output_type": "display_data",
          "data": {
            "application/vnd.jupyter.widget-view+json": {
              "model_id": "f3aba77374bc4fb199232b792e165a39",
              "version_minor": 0,
              "version_major": 2
            },
            "text/plain": [
              "HBox(children=(FloatProgress(value=0.0, description='Epoch 1', max=1971.0, style=ProgressStyle(description_wid…"
            ]
          },
          "metadata": {
            "tags": []
          }
        },
        {
          "output_type": "stream",
          "text": [
            "\r\r\r\n",
            "Epoch 1\n",
            "Training loss: 0.541618507149436\n",
            "Validation loss: 0.4728520646332258\n",
            "F1 Score (Weighted): 0.7795946210739326\n"
          ],
          "name": "stdout"
        },
        {
          "output_type": "display_data",
          "data": {
            "application/vnd.jupyter.widget-view+json": {
              "model_id": "eea45d2cbc0f4785bf7d7fd8d0824a76",
              "version_minor": 0,
              "version_major": 2
            },
            "text/plain": [
              "HBox(children=(FloatProgress(value=0.0, description='Epoch 2', max=1971.0, style=ProgressStyle(description_wid…"
            ]
          },
          "metadata": {
            "tags": []
          }
        },
        {
          "output_type": "stream",
          "text": [
            "\r\r\r\n",
            "Epoch 2\n",
            "Training loss: 0.4383055038942957\n",
            "Validation loss: 0.4640409669962274\n",
            "F1 Score (Weighted): 0.7883924833194641\n"
          ],
          "name": "stdout"
        },
        {
          "output_type": "display_data",
          "data": {
            "application/vnd.jupyter.widget-view+json": {
              "model_id": "da7f86f845a9462eaa440a5879aeba3a",
              "version_minor": 0,
              "version_major": 2
            },
            "text/plain": [
              "HBox(children=(FloatProgress(value=0.0, description='Epoch 3', max=1971.0, style=ProgressStyle(description_wid…"
            ]
          },
          "metadata": {
            "tags": []
          }
        },
        {
          "output_type": "stream",
          "text": [
            "\r\r\r\n",
            "Epoch 3\n",
            "Training loss: 0.4044402933767881\n",
            "Validation loss: 0.46219565840550214\n",
            "F1 Score (Weighted): 0.7945267463527411\n"
          ],
          "name": "stdout"
        },
        {
          "output_type": "display_data",
          "data": {
            "application/vnd.jupyter.widget-view+json": {
              "model_id": "9e5712382b954593b0de0c04e8ba09f2",
              "version_minor": 0,
              "version_major": 2
            },
            "text/plain": [
              "HBox(children=(FloatProgress(value=0.0, description='Epoch 4', max=1971.0, style=ProgressStyle(description_wid…"
            ]
          },
          "metadata": {
            "tags": []
          }
        },
        {
          "output_type": "stream",
          "text": [
            "\r\r\r\n",
            "Epoch 4\n",
            "Training loss: 0.38301299964486496\n",
            "Validation loss: 0.4660912134112364\n",
            "F1 Score (Weighted): 0.7995697770388492\n"
          ],
          "name": "stdout"
        },
        {
          "output_type": "display_data",
          "data": {
            "application/vnd.jupyter.widget-view+json": {
              "model_id": "20c7d0f4c46f431a8ccf26b684978a6f",
              "version_minor": 0,
              "version_major": 2
            },
            "text/plain": [
              "HBox(children=(FloatProgress(value=0.0, description='Epoch 5', max=1971.0, style=ProgressStyle(description_wid…"
            ]
          },
          "metadata": {
            "tags": []
          }
        },
        {
          "output_type": "stream",
          "text": [
            "\r\r\r\n",
            "Epoch 5\n",
            "Training loss: 0.36390091931680807\n",
            "Validation loss: 0.4782922085688775\n",
            "F1 Score (Weighted): 0.796210972462327\n"
          ],
          "name": "stdout"
        },
        {
          "output_type": "display_data",
          "data": {
            "application/vnd.jupyter.widget-view+json": {
              "model_id": "972301dbf23749b4b88d9041646f52b3",
              "version_minor": 0,
              "version_major": 2
            },
            "text/plain": [
              "HBox(children=(FloatProgress(value=0.0, description='Epoch 6', max=1971.0, style=ProgressStyle(description_wid…"
            ]
          },
          "metadata": {
            "tags": []
          }
        },
        {
          "output_type": "stream",
          "text": [
            "\r\r\r\n",
            "Epoch 6\n",
            "Training loss: 0.3485664035510678\n",
            "Validation loss: 0.4849926351109542\n",
            "F1 Score (Weighted): 0.799664739601119\n"
          ],
          "name": "stdout"
        },
        {
          "output_type": "display_data",
          "data": {
            "application/vnd.jupyter.widget-view+json": {
              "model_id": "18c320342cf14a1aa6c016e83bf66f08",
              "version_minor": 0,
              "version_major": 2
            },
            "text/plain": [
              "HBox(children=(FloatProgress(value=0.0, description='Epoch 7', max=1971.0, style=ProgressStyle(description_wid…"
            ]
          },
          "metadata": {
            "tags": []
          }
        },
        {
          "output_type": "stream",
          "text": [
            "\r\r\r\n",
            "Epoch 7\n",
            "Training loss: 0.3386424559474233\n",
            "Validation loss: 0.49187150251973105\n",
            "F1 Score (Weighted): 0.7992755280407523\n"
          ],
          "name": "stdout"
        },
        {
          "output_type": "display_data",
          "data": {
            "application/vnd.jupyter.widget-view+json": {
              "model_id": "ac66caaac1ba4347912256011e968bcb",
              "version_minor": 0,
              "version_major": 2
            },
            "text/plain": [
              "HBox(children=(FloatProgress(value=0.0, description='Epoch 8', max=1971.0, style=ProgressStyle(description_wid…"
            ]
          },
          "metadata": {
            "tags": []
          }
        },
        {
          "output_type": "stream",
          "text": [
            "\r\r\r\n",
            "Epoch 8\n",
            "Training loss: 0.3307104353362506\n",
            "Validation loss: 0.492244076746774\n",
            "F1 Score (Weighted): 0.7990936555891238\n",
            "\n"
          ],
          "name": "stdout"
        }
      ]
    },
    {
      "cell_type": "code",
      "metadata": {
        "id": "l4gkIuRWg7l2",
        "colab": {
          "base_uri": "https://localhost:8080/",
          "height": 223
        },
        "outputId": "07fbae3b-ca0a-4f03-cbb7-0a85f0dcb7f5"
      },
      "source": [
        "df_sweet = pd.read_csv(\"testset-levela.tsv\", sep='\\t', header=0, index_col='id')\r\n",
        "df_sweet.head()"
      ],
      "execution_count": 60,
      "outputs": [
        {
          "output_type": "execute_result",
          "data": {
            "text/html": [
              "<div>\n",
              "<style scoped>\n",
              "    .dataframe tbody tr th:only-of-type {\n",
              "        vertical-align: middle;\n",
              "    }\n",
              "\n",
              "    .dataframe tbody tr th {\n",
              "        vertical-align: top;\n",
              "    }\n",
              "\n",
              "    .dataframe thead th {\n",
              "        text-align: right;\n",
              "    }\n",
              "</style>\n",
              "<table border=\"1\" class=\"dataframe\">\n",
              "  <thead>\n",
              "    <tr style=\"text-align: right;\">\n",
              "      <th></th>\n",
              "      <th>tweet</th>\n",
              "    </tr>\n",
              "    <tr>\n",
              "      <th>id</th>\n",
              "      <th></th>\n",
              "    </tr>\n",
              "  </thead>\n",
              "  <tbody>\n",
              "    <tr>\n",
              "      <th>15923</th>\n",
              "      <td>#WhoIsQ #WheresTheServer #DumpNike #DECLASFISA...</td>\n",
              "    </tr>\n",
              "    <tr>\n",
              "      <th>27014</th>\n",
              "      <td>#ConstitutionDay is revered by Conservatives, ...</td>\n",
              "    </tr>\n",
              "    <tr>\n",
              "      <th>30530</th>\n",
              "      <td>#FOXNews #NRA #MAGA #POTUS #TRUMP #2ndAmendmen...</td>\n",
              "    </tr>\n",
              "    <tr>\n",
              "      <th>13876</th>\n",
              "      <td>#Watching #Boomer getting the news that she is...</td>\n",
              "    </tr>\n",
              "    <tr>\n",
              "      <th>60133</th>\n",
              "      <td>#NoPasaran: Unity demo to oppose the far-right...</td>\n",
              "    </tr>\n",
              "  </tbody>\n",
              "</table>\n",
              "</div>"
            ],
            "text/plain": [
              "                                                   tweet\n",
              "id                                                      \n",
              "15923  #WhoIsQ #WheresTheServer #DumpNike #DECLASFISA...\n",
              "27014  #ConstitutionDay is revered by Conservatives, ...\n",
              "30530  #FOXNews #NRA #MAGA #POTUS #TRUMP #2ndAmendmen...\n",
              "13876  #Watching #Boomer getting the news that she is...\n",
              "60133  #NoPasaran: Unity demo to oppose the far-right..."
            ]
          },
          "metadata": {
            "tags": []
          },
          "execution_count": 60
        }
      ]
    },
    {
      "cell_type": "code",
      "metadata": {
        "id": "0cceYOCXyLiS",
        "colab": {
          "base_uri": "https://localhost:8080/",
          "height": 223
        },
        "outputId": "4a202cd1-d24b-4009-bf38-af916e2ffc4b"
      },
      "source": [
        "df_l = pd.read_csv(\"labels-levela.csv\",header=None,names=['id','subtask_a'],index_col='id')\r\n",
        "df_l.head()"
      ],
      "execution_count": 61,
      "outputs": [
        {
          "output_type": "execute_result",
          "data": {
            "text/html": [
              "<div>\n",
              "<style scoped>\n",
              "    .dataframe tbody tr th:only-of-type {\n",
              "        vertical-align: middle;\n",
              "    }\n",
              "\n",
              "    .dataframe tbody tr th {\n",
              "        vertical-align: top;\n",
              "    }\n",
              "\n",
              "    .dataframe thead th {\n",
              "        text-align: right;\n",
              "    }\n",
              "</style>\n",
              "<table border=\"1\" class=\"dataframe\">\n",
              "  <thead>\n",
              "    <tr style=\"text-align: right;\">\n",
              "      <th></th>\n",
              "      <th>subtask_a</th>\n",
              "    </tr>\n",
              "    <tr>\n",
              "      <th>id</th>\n",
              "      <th></th>\n",
              "    </tr>\n",
              "  </thead>\n",
              "  <tbody>\n",
              "    <tr>\n",
              "      <th>15923</th>\n",
              "      <td>OFF</td>\n",
              "    </tr>\n",
              "    <tr>\n",
              "      <th>27014</th>\n",
              "      <td>NOT</td>\n",
              "    </tr>\n",
              "    <tr>\n",
              "      <th>30530</th>\n",
              "      <td>NOT</td>\n",
              "    </tr>\n",
              "    <tr>\n",
              "      <th>13876</th>\n",
              "      <td>NOT</td>\n",
              "    </tr>\n",
              "    <tr>\n",
              "      <th>60133</th>\n",
              "      <td>OFF</td>\n",
              "    </tr>\n",
              "  </tbody>\n",
              "</table>\n",
              "</div>"
            ],
            "text/plain": [
              "      subtask_a\n",
              "id             \n",
              "15923       OFF\n",
              "27014       NOT\n",
              "30530       NOT\n",
              "13876       NOT\n",
              "60133       OFF"
            ]
          },
          "metadata": {
            "tags": []
          },
          "execution_count": 61
        }
      ]
    },
    {
      "cell_type": "code",
      "metadata": {
        "id": "-RGHsmdayUBf"
      },
      "source": [
        "test = pd.merge(df_sweet, df_l, on=['id'])"
      ],
      "execution_count": 62,
      "outputs": []
    },
    {
      "cell_type": "code",
      "metadata": {
        "id": "K1VXiwscyXgA"
      },
      "source": [
        "label_dict = {'OFF':1, 'NOT':0}"
      ],
      "execution_count": 63,
      "outputs": []
    },
    {
      "cell_type": "code",
      "metadata": {
        "id": "sMdIbojJyoeY",
        "colab": {
          "base_uri": "https://localhost:8080/",
          "height": 223
        },
        "outputId": "1c3f898b-bd24-4b11-ea34-ed37056dafd5"
      },
      "source": [
        "test['a_label']=test.subtask_a.replace(label_dict)\r\n",
        "test.head()"
      ],
      "execution_count": 64,
      "outputs": [
        {
          "output_type": "execute_result",
          "data": {
            "text/html": [
              "<div>\n",
              "<style scoped>\n",
              "    .dataframe tbody tr th:only-of-type {\n",
              "        vertical-align: middle;\n",
              "    }\n",
              "\n",
              "    .dataframe tbody tr th {\n",
              "        vertical-align: top;\n",
              "    }\n",
              "\n",
              "    .dataframe thead th {\n",
              "        text-align: right;\n",
              "    }\n",
              "</style>\n",
              "<table border=\"1\" class=\"dataframe\">\n",
              "  <thead>\n",
              "    <tr style=\"text-align: right;\">\n",
              "      <th></th>\n",
              "      <th>tweet</th>\n",
              "      <th>subtask_a</th>\n",
              "      <th>a_label</th>\n",
              "    </tr>\n",
              "    <tr>\n",
              "      <th>id</th>\n",
              "      <th></th>\n",
              "      <th></th>\n",
              "      <th></th>\n",
              "    </tr>\n",
              "  </thead>\n",
              "  <tbody>\n",
              "    <tr>\n",
              "      <th>15923</th>\n",
              "      <td>#WhoIsQ #WheresTheServer #DumpNike #DECLASFISA...</td>\n",
              "      <td>OFF</td>\n",
              "      <td>1</td>\n",
              "    </tr>\n",
              "    <tr>\n",
              "      <th>27014</th>\n",
              "      <td>#ConstitutionDay is revered by Conservatives, ...</td>\n",
              "      <td>NOT</td>\n",
              "      <td>0</td>\n",
              "    </tr>\n",
              "    <tr>\n",
              "      <th>30530</th>\n",
              "      <td>#FOXNews #NRA #MAGA #POTUS #TRUMP #2ndAmendmen...</td>\n",
              "      <td>NOT</td>\n",
              "      <td>0</td>\n",
              "    </tr>\n",
              "    <tr>\n",
              "      <th>13876</th>\n",
              "      <td>#Watching #Boomer getting the news that she is...</td>\n",
              "      <td>NOT</td>\n",
              "      <td>0</td>\n",
              "    </tr>\n",
              "    <tr>\n",
              "      <th>60133</th>\n",
              "      <td>#NoPasaran: Unity demo to oppose the far-right...</td>\n",
              "      <td>OFF</td>\n",
              "      <td>1</td>\n",
              "    </tr>\n",
              "  </tbody>\n",
              "</table>\n",
              "</div>"
            ],
            "text/plain": [
              "                                                   tweet subtask_a  a_label\n",
              "id                                                                         \n",
              "15923  #WhoIsQ #WheresTheServer #DumpNike #DECLASFISA...       OFF        1\n",
              "27014  #ConstitutionDay is revered by Conservatives, ...       NOT        0\n",
              "30530  #FOXNews #NRA #MAGA #POTUS #TRUMP #2ndAmendmen...       NOT        0\n",
              "13876  #Watching #Boomer getting the news that she is...       NOT        0\n",
              "60133  #NoPasaran: Unity demo to oppose the far-right...       OFF        1"
            ]
          },
          "metadata": {
            "tags": []
          },
          "execution_count": 64
        }
      ]
    },
    {
      "cell_type": "code",
      "metadata": {
        "id": "fwEjFXS_yo5t"
      },
      "source": [
        "test['data_type']=['test']*test.shape[0]"
      ],
      "execution_count": 65,
      "outputs": []
    },
    {
      "cell_type": "code",
      "metadata": {
        "id": "qZDHrx4gyrEI"
      },
      "source": [
        "test['emoji_tweet']=test.tweet.apply(foremoji)\r\n",
        "test['emoji_tweet']=test.emoji_tweet.apply(real_foremoji)"
      ],
      "execution_count": 66,
      "outputs": []
    },
    {
      "cell_type": "code",
      "metadata": {
        "id": "gtf4GVeWyt9o"
      },
      "source": [
        "encoder_data_test=tokenizer.batch_encode_plus(\r\n",
        "    test[test.data_type=='test'].emoji_tweet.values,\r\n",
        "    add_special_tokens=True,\r\n",
        "    return_attention_mask=True,\r\n",
        "    truncation=True,\r\n",
        "    padding=True,\r\n",
        "    max_length=256,\r\n",
        "    return_tensors='pt'\r\n",
        ")\r\n",
        "inputs_ids_test=encoder_data_test['input_ids']\r\n",
        "attentions_masks_test=encoder_data_test['attention_mask']\r\n",
        "labels_test=torch.tensor(test[test.data_type=='test'].a_label.values)\r\n",
        "dataset_test=TensorDataset(inputs_ids_test,\r\n",
        "              attentions_masks_test, labels_test)\r\n",
        "dataloader_test=DataLoader(\r\n",
        "    dataset_test,\r\n",
        "    sampler=RandomSampler(dataset_test),\r\n",
        "    batch_size=4\r\n",
        ")"
      ],
      "execution_count": 67,
      "outputs": []
    },
    {
      "cell_type": "code",
      "metadata": {
        "id": "MfcNEEMbywGf",
        "colab": {
          "base_uri": "https://localhost:8080/"
        },
        "outputId": "bf7c189d-c40f-455b-9149-b9ea10fda46b"
      },
      "source": [
        "model.load_state_dict(torch.load('finetuned_BERT_epoch_3.model', map_location=torch.device('cuda')))"
      ],
      "execution_count": 95,
      "outputs": [
        {
          "output_type": "execute_result",
          "data": {
            "text/plain": [
              "<All keys matched successfully>"
            ]
          },
          "metadata": {
            "tags": []
          },
          "execution_count": 95
        }
      ]
    },
    {
      "cell_type": "code",
      "metadata": {
        "id": "NYCMRJUTyymA"
      },
      "source": [
        "_, predictions, true_test = evaluate(dataloader_test)"
      ],
      "execution_count": 96,
      "outputs": []
    },
    {
      "cell_type": "code",
      "metadata": {
        "id": "pivXVcSmy25o",
        "colab": {
          "base_uri": "https://localhost:8080/"
        },
        "outputId": "8f5f95ac-9522-433d-9c04-4950788cb127"
      },
      "source": [
        "print(classification_report_func(predictions, true_test))"
      ],
      "execution_count": 97,
      "outputs": [
        {
          "output_type": "stream",
          "text": [
            "              precision    recall  f1-score   support\n",
            "\n",
            "           0    0.88785   0.91935   0.90333       620\n",
            "           1    0.77064   0.70000   0.73362       240\n",
            "\n",
            "    accuracy                        0.85814       860\n",
            "   macro avg    0.82925   0.80968   0.81848       860\n",
            "weighted avg    0.85514   0.85814   0.85597       860\n",
            "\n"
          ],
          "name": "stdout"
        }
      ]
    },
    {
      "cell_type": "code",
      "metadata": {
        "id": "W7R6MXDHy42D",
        "colab": {
          "base_uri": "https://localhost:8080/"
        },
        "outputId": "3950ce0c-8889-46a3-f2dc-cbac7d28c8ff"
      },
      "source": [
        "!git clone https://github.com/intelligence-csd-auth-gr/Ethos-Hate-Speech-Dataset.git\r\n",
        "!pip install -qq transformers"
      ],
      "execution_count": null,
      "outputs": [
        {
          "output_type": "stream",
          "text": [
            "fatal: destination path 'Ethos-Hate-Speech-Dataset' already exists and is not an empty directory.\n"
          ],
          "name": "stdout"
        }
      ]
    },
    {
      "cell_type": "code",
      "metadata": {
        "id": "IgHySMBVODlZ"
      },
      "source": [
        "import transformers\r\n",
        "from transformers import BertModel, BertTokenizer, AdamW, get_linear_schedule_with_warmup\r\n",
        "import torch\r\n",
        "from torchtext import data\r\n",
        "import pandas as pd\r\n",
        "import numpy as np\r\n",
        "import pandas as pd\r\n",
        "import seaborn as sns\r\n",
        "from pylab import rcParams\r\n",
        "import matplotlib.pyplot as plt\r\n",
        "from matplotlib import rc\r\n",
        "from sklearn.model_selection import train_test_split\r\n",
        "from sklearn.metrics import confusion_matrix, classification_report\r\n",
        "from collections import defaultdict\r\n",
        "from textwrap import wrap\r\n",
        "from torch import nn, optim\r\n",
        "from torch.utils.data import Dataset, DataLoader"
      ],
      "execution_count": null,
      "outputs": []
    },
    {
      "cell_type": "code",
      "metadata": {
        "id": "5Lf3ji8iOJTb",
        "colab": {
          "base_uri": "https://localhost:8080/",
          "height": 197
        },
        "outputId": "4e16541c-c99d-444e-f75a-e1a2a398cef1"
      },
      "source": [
        "data_path='Ethos-Hate-Speech-Dataset/ethos/ethos_data/Ethos_Dataset_Binary.csv'\r\n",
        "df = pd.read_csv(data_path, delimiter=';')\r\n",
        "df.head()"
      ],
      "execution_count": null,
      "outputs": [
        {
          "output_type": "execute_result",
          "data": {
            "text/html": [
              "<div>\n",
              "<style scoped>\n",
              "    .dataframe tbody tr th:only-of-type {\n",
              "        vertical-align: middle;\n",
              "    }\n",
              "\n",
              "    .dataframe tbody tr th {\n",
              "        vertical-align: top;\n",
              "    }\n",
              "\n",
              "    .dataframe thead th {\n",
              "        text-align: right;\n",
              "    }\n",
              "</style>\n",
              "<table border=\"1\" class=\"dataframe\">\n",
              "  <thead>\n",
              "    <tr style=\"text-align: right;\">\n",
              "      <th></th>\n",
              "      <th>comment</th>\n",
              "      <th>isHate</th>\n",
              "    </tr>\n",
              "  </thead>\n",
              "  <tbody>\n",
              "    <tr>\n",
              "      <th>0</th>\n",
              "      <td>You should know women's sports are a joke</td>\n",
              "      <td>1.0</td>\n",
              "    </tr>\n",
              "    <tr>\n",
              "      <th>1</th>\n",
              "      <td>You look like Sloth with deeper Down’s syndrome</td>\n",
              "      <td>1.0</td>\n",
              "    </tr>\n",
              "    <tr>\n",
              "      <th>2</th>\n",
              "      <td>You look like Russian and speak like Indian. B...</td>\n",
              "      <td>1.0</td>\n",
              "    </tr>\n",
              "    <tr>\n",
              "      <th>3</th>\n",
              "      <td>Women deserve to be abused, I guess.</td>\n",
              "      <td>1.0</td>\n",
              "    </tr>\n",
              "    <tr>\n",
              "      <th>4</th>\n",
              "      <td>Women are made for making babies and cooking d...</td>\n",
              "      <td>1.0</td>\n",
              "    </tr>\n",
              "  </tbody>\n",
              "</table>\n",
              "</div>"
            ],
            "text/plain": [
              "                                             comment  isHate\n",
              "0          You should know women's sports are a joke     1.0\n",
              "1    You look like Sloth with deeper Down’s syndrome     1.0\n",
              "2  You look like Russian and speak like Indian. B...     1.0\n",
              "3               Women deserve to be abused, I guess.     1.0\n",
              "4  Women are made for making babies and cooking d...     1.0"
            ]
          },
          "metadata": {
            "tags": []
          },
          "execution_count": 470
        }
      ]
    },
    {
      "cell_type": "code",
      "metadata": {
        "id": "6aWCeKPeOSDm"
      },
      "source": [
        "import re\r\n",
        "import nltk\r\n",
        "from nltk.corpus import stopwords \r\n",
        "from nltk.stem import SnowballStemmer\r\n",
        "\r\n",
        "def clean_comment(text, stops=False, stemming=False):\r\n",
        "  text = str(text)\r\n",
        "  text = text.lower().split()\r\n",
        "  text = \" \".join(text)\r\n",
        "  text = re.sub(r\"what's\", \"what is \", text)\r\n",
        "  text = re.sub(r\"don't\", \"do not \", text)\r\n",
        "  text = re.sub(r\"aren't\", \"are not \", text)\r\n",
        "  text = re.sub(r\"isn't\", \"is not \", text)\r\n",
        "  text = re.sub(r\"%\", \" percent \", text)\r\n",
        "  text = re.sub(r\"that's\", \"that is \", text)\r\n",
        "  text = re.sub(r\"doesn't\", \"does not \", text)\r\n",
        "  text = re.sub(r\"he's\", \"he is \", text)\r\n",
        "  text = re.sub(r\"she's\", \"she is \", text)\r\n",
        "  text = re.sub(r\"it's\", \"it is \", text)\r\n",
        "  text = re.sub(r\"\\'s\", \" \", text)\r\n",
        "  text = re.sub(r\"\\'ve\", \" have \", text)\r\n",
        "  text = re.sub(r\"n't\", \" not \", text)\r\n",
        "  text = re.sub(r\"i'm\", \"i am \", text)\r\n",
        "  text = re.sub(r\"\\'re\", \" are \", text)\r\n",
        "  text = re.sub(r\"\\'d\", \" would \", text)\r\n",
        "  text = re.sub(r\"\\'ll\", \" will \", text)\r\n",
        "  text = re.sub(r\"[^A-Za-z0-9^,!.\\/'+-=]\", \" \", text)\r\n",
        "  text = re.sub(r\",\", \" \", text)\r\n",
        "  text = re.sub(r\"\\.\", \" \", text)\r\n",
        "  text = re.sub(r\"!\", \" ! \", text)\r\n",
        "  text = re.sub(r\"\\/\", \" \", text)\r\n",
        "  text = re.sub(r\"\\^\", \" ^ \", text)\r\n",
        "  text = re.sub(r\"\\+\", \" + \", text)\r\n",
        "  text = re.sub(r\"\\-\", \" - \", text)\r\n",
        "  text = re.sub(r\"\\=\", \" = \", text)\r\n",
        "  text = re.sub(r\"'\", \" \", text)\r\n",
        "  text = re.sub(r\"(\\d+)(k)\", r\"\\g<1>000\", text)\r\n",
        "  text = re.sub(r\":\", \" : \", text)\r\n",
        "  text = re.sub(r\" u s \", \" american \", text)\r\n",
        "  text = re.sub(r\"\\0s\", \"0\", text)\r\n",
        "  text = re.sub(r\" 9 11 \", \"911\", text)\r\n",
        "  text = re.sub(r\"e - mail\", \"email\", text)\r\n",
        "  text = re.sub(r\"j k\", \"jk\", text)\r\n",
        "  text = re.sub(r\"\\s{2,}\", \" \", text)\r\n",
        "  text = text.lower().split()\r\n",
        "  text = [w for w in text if len(w) >= 2]\r\n",
        "  # if stemming:\r\n",
        "  #   englishStemmer = SnowballStemmer(\"english\")\r\n",
        "  #   text = [englishStemmer.stem(w) for w in text]\r\n",
        "  # if stops:\r\n",
        "  #   text = [w for w in text if w not in stopwords.words('english')]\r\n",
        "  text = \" \".join(text)\r\n",
        "  return text"
      ],
      "execution_count": null,
      "outputs": []
    },
    {
      "cell_type": "code",
      "metadata": {
        "id": "DGwrb1NcOZ0x"
      },
      "source": [
        "def foremoji(text):\r\n",
        "  text = re.sub(r\"’\", \"'\", text)\r\n",
        "  text = re.sub(r\":\", \" : \", text)\r\n",
        "  text=emoji.demojize(text)\r\n",
        "  text = text.split()\r\n",
        "  new_text=[]\r\n",
        "  for w in text: \r\n",
        "    w=clean_comment(w)  \r\n",
        "    w=re.sub(r\":\", \" <emoji> \", w)\r\n",
        "    w=re.sub(r\"@USER\",\"\",w)\r\n",
        "    w=re.sub(r\"_\",\" \",w)\r\n",
        "    if re.match(\"^#\",w):\r\n",
        "      w=\" \".join(segment(w))\r\n",
        "    new_text.append(w)\r\n",
        "  text = \" \".join(new_text)\r\n",
        "  return text\r\n",
        "\r\n",
        "\r\n",
        "def fake_foremoji(text):\r\n",
        "  return '<fake> '+foremoji(text)\r\n",
        "def real_foremoji(text):\r\n",
        "  return '<real> '+foremoji(text)"
      ],
      "execution_count": null,
      "outputs": []
    },
    {
      "cell_type": "code",
      "metadata": {
        "id": "W9SPi29qOcRT"
      },
      "source": [
        "clean_data=[]\r\n",
        "for txt in df.comment:\r\n",
        "  clean_data.append(clean_comment(txt, stops=True, stemming=True))\r\n",
        "df['tweet']=clean_data"
      ],
      "execution_count": null,
      "outputs": []
    },
    {
      "cell_type": "code",
      "metadata": {
        "id": "fmOemyz3PFBr",
        "colab": {
          "base_uri": "https://localhost:8080/"
        },
        "outputId": "0180c293-2e81-4fc8-ea16-9b4be1209317"
      },
      "source": [
        "def to_category(score):\r\n",
        "  if score <= 0.3:\r\n",
        "    return 'NOT'\r\n",
        "  elif score>0.7:\r\n",
        "    return 'OFF'\r\n",
        "\r\n",
        "  \r\n",
        "\r\n",
        "df['subtask_a']=df.isHate.apply(to_category)\r\n",
        "df.head()\r\n",
        "df.info"
      ],
      "execution_count": null,
      "outputs": [
        {
          "output_type": "execute_result",
          "data": {
            "text/plain": [
              "<bound method DataFrame.info of                                                comment  ...  subtask_a\n",
              "0            You should know women's sports are a joke  ...        OFF\n",
              "1      You look like Sloth with deeper Down’s syndrome  ...        OFF\n",
              "2    You look like Russian and speak like Indian. B...  ...        OFF\n",
              "3                 Women deserve to be abused, I guess.  ...        OFF\n",
              "4    Women are made for making babies and cooking d...  ...        OFF\n",
              "..                                                 ...  ...        ...\n",
              "993   From the midnight sun where the hot springs blow  ...        NOT\n",
              "994                        Don't say I'm not your type  ...        NOT\n",
              "995   And therefore never send to know for whom the...  ...        NOT\n",
              "996                      And I can't stand another day  ...        NOT\n",
              "997   All values, unless otherwise stated, are in U...  ...        NOT\n",
              "\n",
              "[998 rows x 4 columns]>"
            ]
          },
          "metadata": {
            "tags": []
          },
          "execution_count": 474
        }
      ]
    },
    {
      "cell_type": "code",
      "metadata": {
        "id": "t83Ia7tmbXc9"
      },
      "source": [
        "df.dropna(axis=0, how='any', inplace=True)"
      ],
      "execution_count": null,
      "outputs": []
    },
    {
      "cell_type": "code",
      "metadata": {
        "id": "gfQMQ0Lcd1jD",
        "colab": {
          "base_uri": "https://localhost:8080/"
        },
        "outputId": "31a67cde-22b6-4d5f-b8e7-735539a24906"
      },
      "source": [
        "df.info"
      ],
      "execution_count": null,
      "outputs": [
        {
          "output_type": "execute_result",
          "data": {
            "text/plain": [
              "<bound method DataFrame.info of                                                comment  ...  subtask_a\n",
              "0            You should know women's sports are a joke  ...        OFF\n",
              "1      You look like Sloth with deeper Down’s syndrome  ...        OFF\n",
              "2    You look like Russian and speak like Indian. B...  ...        OFF\n",
              "3                 Women deserve to be abused, I guess.  ...        OFF\n",
              "4    Women are made for making babies and cooking d...  ...        OFF\n",
              "..                                                 ...  ...        ...\n",
              "993   From the midnight sun where the hot springs blow  ...        NOT\n",
              "994                        Don't say I'm not your type  ...        NOT\n",
              "995   And therefore never send to know for whom the...  ...        NOT\n",
              "996                      And I can't stand another day  ...        NOT\n",
              "997   All values, unless otherwise stated, are in U...  ...        NOT\n",
              "\n",
              "[768 rows x 4 columns]>"
            ]
          },
          "metadata": {
            "tags": []
          },
          "execution_count": 476
        }
      ]
    },
    {
      "cell_type": "code",
      "metadata": {
        "id": "jKAfJ5rmPr-w"
      },
      "source": [
        "df['a_label']=df.subtask_a.replace(label_dict)"
      ],
      "execution_count": null,
      "outputs": []
    },
    {
      "cell_type": "code",
      "metadata": {
        "id": "-9j4EjKjRFv6"
      },
      "source": [
        "\r\n",
        "df['emoji_tweet']=df.tweet.apply(real_foremoji)"
      ],
      "execution_count": null,
      "outputs": []
    },
    {
      "cell_type": "code",
      "metadata": {
        "id": "De80BH5wReVo"
      },
      "source": [
        "\r\n",
        "encoder_data_test=tokenizer.batch_encode_plus(\r\n",
        "    df[df.data_type=='test'].emoji_tweet.values,\r\n",
        "    add_special_tokens=True,\r\n",
        "    return_attention_mask=True,\r\n",
        "    truncation=True,\r\n",
        "    padding=True,\r\n",
        "    max_length=256,\r\n",
        "    return_tensors='pt'\r\n",
        ")\r\n",
        "inputs_ids_test=encoder_data_test['input_ids']\r\n",
        "attentions_masks_test=encoder_data_test['attention_mask']\r\n",
        "labels_test=torch.tensor(df[df.data_type=='test'].a_label.values)\r\n",
        "dataset_test=TensorDataset(inputs_ids_test,\r\n",
        "              attentions_masks_test, labels_test)\r\n",
        "dataloader_test=DataLoader(\r\n",
        "    dataset_test,\r\n",
        "    sampler=RandomSampler(dataset_test),\r\n",
        "    batch_size=4\r\n",
        ")"
      ],
      "execution_count": null,
      "outputs": []
    },
    {
      "cell_type": "code",
      "metadata": {
        "id": "gvANBKUbR8B6",
        "colab": {
          "base_uri": "https://localhost:8080/"
        },
        "outputId": "f70198c3-879b-46df-d0b2-7130e015accd"
      },
      "source": [
        "model.load_state_dict(torch.load('finetuned_BERT_epoch_8.model', map_location=torch.device('cuda')))\r\n",
        "_, predictions, true_test = evaluate(dataloader_test)\r\n",
        "accuracy_per_class(predictions, true_test)"
      ],
      "execution_count": null,
      "outputs": [
        {
          "output_type": "stream",
          "text": [
            "Class: NOT\n",
            "Accuracy: 336/482\n",
            "\n",
            "Class: OFF\n",
            "Accuracy: 238/286\n",
            "\n"
          ],
          "name": "stdout"
        }
      ]
    },
    {
      "cell_type": "code",
      "metadata": {
        "id": "stXKl6UkSCPW",
        "colab": {
          "base_uri": "https://localhost:8080/"
        },
        "outputId": "275255d3-f4d8-4bda-9718-cba91f2c1161"
      },
      "source": [
        "print(classification_report_func(predictions, true_test))"
      ],
      "execution_count": null,
      "outputs": [
        {
          "output_type": "stream",
          "text": [
            "              precision    recall  f1-score   support\n",
            "\n",
            "           0    0.87500   0.69710   0.77598       482\n",
            "           1    0.61979   0.83217   0.71045       286\n",
            "\n",
            "    accuracy                        0.74740       768\n",
            "   macro avg    0.74740   0.76463   0.74321       768\n",
            "weighted avg    0.77996   0.74740   0.75158       768\n",
            "\n"
          ],
          "name": "stdout"
        }
      ]
    },
    {
      "cell_type": "code",
      "metadata": {
        "id": "-HgaSyOcSGkj"
      },
      "source": [
        ""
      ],
      "execution_count": null,
      "outputs": []
    }
  ]
}