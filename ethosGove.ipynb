{
  "nbformat": 4,
  "nbformat_minor": 0,
  "metadata": {
    "colab": {
      "name": "Untitled19.ipynb",
      "provenance": [],
      "authorship_tag": "ABX9TyM2Zy5GHn2mPoSvfm54/Fu+",
      "include_colab_link": true
    },
    "kernelspec": {
      "name": "python3",
      "display_name": "Python 3"
    },
    "accelerator": "GPU"
  },
  "cells": [
    {
      "cell_type": "markdown",
      "metadata": {
        "id": "view-in-github",
        "colab_type": "text"
      },
      "source": [
        "<a href=\"https://colab.research.google.com/github/HanhaodiZhang/HATE/blob/main/ethosGove.ipynb\" target=\"_parent\"><img src=\"https://colab.research.google.com/assets/colab-badge.svg\" alt=\"Open In Colab\"/></a>"
      ]
    },
    {
      "cell_type": "code",
      "metadata": {
        "id": "uuVWxD-fHspI"
      },
      "source": [
        "\r\n",
        "import torch\r\n",
        "import numpy as np\r\n",
        "import pandas as pd"
      ],
      "execution_count": 1,
      "outputs": []
    },
    {
      "cell_type": "code",
      "metadata": {
        "colab": {
          "base_uri": "https://localhost:8080/"
        },
        "id": "D_p65AfBIJJh",
        "outputId": "95fdfe8e-c97e-4d84-dc15-5440318bec54"
      },
      "source": [
        "!pip install gensim"
      ],
      "execution_count": 2,
      "outputs": [
        {
          "output_type": "stream",
          "text": [
            "Requirement already satisfied: gensim in /usr/local/lib/python3.6/dist-packages (3.6.0)\n",
            "Requirement already satisfied: scipy>=0.18.1 in /usr/local/lib/python3.6/dist-packages (from gensim) (1.4.1)\n",
            "Requirement already satisfied: smart-open>=1.2.1 in /usr/local/lib/python3.6/dist-packages (from gensim) (4.1.2)\n",
            "Requirement already satisfied: numpy>=1.11.3 in /usr/local/lib/python3.6/dist-packages (from gensim) (1.19.5)\n",
            "Requirement already satisfied: six>=1.5.0 in /usr/local/lib/python3.6/dist-packages (from gensim) (1.15.0)\n"
          ],
          "name": "stdout"
        }
      ]
    },
    {
      "cell_type": "code",
      "metadata": {
        "colab": {
          "base_uri": "https://localhost:8080/"
        },
        "id": "fsZvIxv3IQs6",
        "outputId": "bfe4d481-07e2-475f-e485-31ed86cf2897"
      },
      "source": [
        "import gensim.downloader as api\r\n",
        "\r\n",
        "model = api.load('glove-twitter-25')\r\n",
        "# model.most_similar('awesome', topn=5).type()"
      ],
      "execution_count": 3,
      "outputs": [
        {
          "output_type": "stream",
          "text": [
            "[=====================================-------------] 74.4% 78.0/104.8MB downloaded\n"
          ],
          "name": "stdout"
        }
      ]
    },
    {
      "cell_type": "code",
      "metadata": {
        "id": "UObZJPIJNJtq"
      },
      "source": [
        "def get_synonyms(word, n):\r\n",
        "  try:\r\n",
        "    words_list=model.most_similar(word, topn=n)\r\n",
        "    return words_list  \r\n",
        "  except Exception as e:\r\n",
        "    return None\r\n",
        "  "
      ],
      "execution_count": 4,
      "outputs": []
    },
    {
      "cell_type": "markdown",
      "metadata": {
        "id": "qavFQSWTU7E4"
      },
      "source": [
        ""
      ]
    },
    {
      "cell_type": "code",
      "metadata": {
        "colab": {
          "base_uri": "https://localhost:8080/"
        },
        "id": "spqMfzCaOHYM",
        "outputId": "d5eae8a2-71a1-4b65-a61c-5077928fe37b"
      },
      "source": [
        "get_synonyms('awesome',3)"
      ],
      "execution_count": 5,
      "outputs": [
        {
          "output_type": "execute_result",
          "data": {
            "text/plain": [
              "[('amazing', 0.9687871932983398),\n",
              " ('best', 0.9600659608840942),\n",
              " ('fun', 0.9331520795822144)]"
            ]
          },
          "metadata": {
            "tags": []
          },
          "execution_count": 5
        }
      ]
    },
    {
      "cell_type": "code",
      "metadata": {
        "colab": {
          "base_uri": "https://localhost:8080/"
        },
        "id": "9QL2FVTLIUYO",
        "outputId": "6f079feb-881e-48bb-ca06-a7ce3fd4aa89"
      },
      "source": [
        "import nltk\r\n",
        "nltk.download('stopwords')\r\n",
        "from nltk.corpus import stopwords\r\n",
        "STOPWORDS = set(stopwords.words('english'))"
      ],
      "execution_count": 6,
      "outputs": [
        {
          "output_type": "stream",
          "text": [
            "[nltk_data] Downloading package stopwords to /root/nltk_data...\n",
            "[nltk_data]   Unzipping corpora/stopwords.zip.\n"
          ],
          "name": "stdout"
        }
      ]
    },
    {
      "cell_type": "code",
      "metadata": {
        "id": "101d5LYsKIhr"
      },
      "source": [
        "import random\r\n",
        "from random import sample\r\n",
        "random.seed(17)\r\n",
        "def synonym_replacement(text, n):\r\n",
        "    text=str(text)\r\n",
        "    text = text.split()\r\n",
        "\r\n",
        "    random_word_list = list(set([word for word in text if word not in stopwords.words('english')]))\r\n",
        "    random.shuffle(random_word_list)\r\n",
        "    random_word_list = [word for word in random_word_list if get_synonyms(word,1)]\r\n",
        "    try:\r\n",
        "      raplace_words=sample(random_word_list,n)\r\n",
        "    except Exception as e:\r\n",
        "      raplace_words=random_word_list\r\n",
        "    texts=[]\r\n",
        "    for random_word in raplace_words:\r\n",
        "        synonyms_word_list = get_synonyms(random_word,3)\r\n",
        "        if synonyms_word_list:\r\n",
        "            # synonym = random.choice(synonyms_word_list)\r\n",
        "            synonym = synonyms_word_list[0]\r\n",
        "            new_words = [synonym[0] if word == random_word else word for word in text]\r\n",
        "        texts.append(' '.join(new_words))\r\n",
        "\r\n",
        "    return texts"
      ],
      "execution_count": 7,
      "outputs": []
    },
    {
      "cell_type": "code",
      "metadata": {
        "colab": {
          "base_uri": "https://localhost:8080/"
        },
        "id": "ktTv9Y4yRpdd",
        "outputId": "f5dba90b-e1f8-4469-a1c0-345d0ee62eb1"
      },
      "source": [
        "synonym_replacement(\"She should ask a few native Americans what their take on this is\", 3)"
      ],
      "execution_count": 8,
      "outputs": [
        {
          "output_type": "execute_result",
          "data": {
            "text/plain": [
              "['She should whats a few native Americans what their take on this is',\n",
              " 'She should ask a few african Americans what their take on this is',\n",
              " 'She should ask a few native Americans what their give on this is']"
            ]
          },
          "metadata": {
            "tags": []
          },
          "execution_count": 8
        }
      ]
    },
    {
      "cell_type": "code",
      "metadata": {
        "id": "QdVbNnx48cTF",
        "outputId": "93a918ae-b3d2-43d3-ed3c-77cbc6922ac1",
        "colab": {
          "base_uri": "https://localhost:8080/"
        }
      },
      "source": [
        "\r\n",
        "!git clone https://github.com/intelligence-csd-auth-gr/Ethos-Hate-Speech-Dataset.git\r\n",
        "!pip install -qq transformers"
      ],
      "execution_count": 9,
      "outputs": [
        {
          "output_type": "stream",
          "text": [
            "Cloning into 'Ethos-Hate-Speech-Dataset'...\n",
            "remote: Enumerating objects: 184, done.\u001b[K\n",
            "remote: Counting objects: 100% (184/184), done.\u001b[K\n",
            "remote: Compressing objects: 100% (137/137), done.\u001b[K\n",
            "remote: Total 184 (delta 101), reused 107 (delta 46), pack-reused 0\u001b[K\n",
            "Receiving objects: 100% (184/184), 12.63 MiB | 8.04 MiB/s, done.\n",
            "Resolving deltas: 100% (101/101), done.\n",
            "\u001b[K     |████████████████████████████████| 1.8MB 5.6MB/s \n",
            "\u001b[K     |████████████████████████████████| 3.2MB 27.3MB/s \n",
            "\u001b[K     |████████████████████████████████| 890kB 36.1MB/s \n",
            "\u001b[?25h  Building wheel for sacremoses (setup.py) ... \u001b[?25l\u001b[?25hdone\n"
          ],
          "name": "stdout"
        }
      ]
    },
    {
      "cell_type": "code",
      "metadata": {
        "id": "eZHSwXjz8yQ2"
      },
      "source": [
        "\r\n",
        "data_path='Ethos-Hate-Speech-Dataset/ethos/ethos_data/Ethos_Dataset_Binary.csv'\r\n",
        "df = pd.read_csv(data_path, delimiter=';')\r\n",
        "clean_data=[]\r\n",
        "for txt in df.comment:\r\n",
        "  clean_data.append(txt)\r\n",
        "df['tweet']=clean_data\r\n",
        "def to_category(score):\r\n",
        "  if score <= 0.3:\r\n",
        "    return 'NOT'\r\n",
        "  elif score>0.7:\r\n",
        "    return 'OFF'\r\n",
        "\r\n",
        "  \r\n",
        "\r\n",
        "df['subtask_a']=df.isHate.apply(to_category)\r\n",
        "df.dropna(axis=0, how='any', inplace=True)"
      ],
      "execution_count": 11,
      "outputs": []
    },
    {
      "cell_type": "code",
      "metadata": {
        "id": "MWYDSD9t86Bp",
        "outputId": "e056de0a-5329-4c57-a720-78e69b8ab88b",
        "colab": {
          "base_uri": "https://localhost:8080/",
          "height": 419
        }
      },
      "source": [
        "df"
      ],
      "execution_count": 12,
      "outputs": [
        {
          "output_type": "execute_result",
          "data": {
            "text/html": [
              "<div>\n",
              "<style scoped>\n",
              "    .dataframe tbody tr th:only-of-type {\n",
              "        vertical-align: middle;\n",
              "    }\n",
              "\n",
              "    .dataframe tbody tr th {\n",
              "        vertical-align: top;\n",
              "    }\n",
              "\n",
              "    .dataframe thead th {\n",
              "        text-align: right;\n",
              "    }\n",
              "</style>\n",
              "<table border=\"1\" class=\"dataframe\">\n",
              "  <thead>\n",
              "    <tr style=\"text-align: right;\">\n",
              "      <th></th>\n",
              "      <th>comment</th>\n",
              "      <th>isHate</th>\n",
              "      <th>tweet</th>\n",
              "      <th>subtask_a</th>\n",
              "    </tr>\n",
              "  </thead>\n",
              "  <tbody>\n",
              "    <tr>\n",
              "      <th>0</th>\n",
              "      <td>You should know women's sports are a joke</td>\n",
              "      <td>1.0</td>\n",
              "      <td>You should know women's sports are a joke</td>\n",
              "      <td>OFF</td>\n",
              "    </tr>\n",
              "    <tr>\n",
              "      <th>1</th>\n",
              "      <td>You look like Sloth with deeper Down’s syndrome</td>\n",
              "      <td>1.0</td>\n",
              "      <td>You look like Sloth with deeper Down’s syndrome</td>\n",
              "      <td>OFF</td>\n",
              "    </tr>\n",
              "    <tr>\n",
              "      <th>2</th>\n",
              "      <td>You look like Russian and speak like Indian. B...</td>\n",
              "      <td>1.0</td>\n",
              "      <td>You look like Russian and speak like Indian. B...</td>\n",
              "      <td>OFF</td>\n",
              "    </tr>\n",
              "    <tr>\n",
              "      <th>3</th>\n",
              "      <td>Women deserve to be abused, I guess.</td>\n",
              "      <td>1.0</td>\n",
              "      <td>Women deserve to be abused, I guess.</td>\n",
              "      <td>OFF</td>\n",
              "    </tr>\n",
              "    <tr>\n",
              "      <th>4</th>\n",
              "      <td>Women are made for making babies and cooking d...</td>\n",
              "      <td>1.0</td>\n",
              "      <td>Women are made for making babies and cooking d...</td>\n",
              "      <td>OFF</td>\n",
              "    </tr>\n",
              "    <tr>\n",
              "      <th>...</th>\n",
              "      <td>...</td>\n",
              "      <td>...</td>\n",
              "      <td>...</td>\n",
              "      <td>...</td>\n",
              "    </tr>\n",
              "    <tr>\n",
              "      <th>993</th>\n",
              "      <td>From the midnight sun where the hot springs blow</td>\n",
              "      <td>0.0</td>\n",
              "      <td>From the midnight sun where the hot springs blow</td>\n",
              "      <td>NOT</td>\n",
              "    </tr>\n",
              "    <tr>\n",
              "      <th>994</th>\n",
              "      <td>Don't say I'm not your type</td>\n",
              "      <td>0.0</td>\n",
              "      <td>Don't say I'm not your type</td>\n",
              "      <td>NOT</td>\n",
              "    </tr>\n",
              "    <tr>\n",
              "      <th>995</th>\n",
              "      <td>And therefore never send to know for whom the...</td>\n",
              "      <td>0.0</td>\n",
              "      <td>And therefore never send to know for whom the...</td>\n",
              "      <td>NOT</td>\n",
              "    </tr>\n",
              "    <tr>\n",
              "      <th>996</th>\n",
              "      <td>And I can't stand another day</td>\n",
              "      <td>0.0</td>\n",
              "      <td>And I can't stand another day</td>\n",
              "      <td>NOT</td>\n",
              "    </tr>\n",
              "    <tr>\n",
              "      <th>997</th>\n",
              "      <td>All values, unless otherwise stated, are in U...</td>\n",
              "      <td>0.0</td>\n",
              "      <td>All values, unless otherwise stated, are in U...</td>\n",
              "      <td>NOT</td>\n",
              "    </tr>\n",
              "  </tbody>\n",
              "</table>\n",
              "<p>768 rows × 4 columns</p>\n",
              "</div>"
            ],
            "text/plain": [
              "                                               comment  ...  subtask_a\n",
              "0            You should know women's sports are a joke  ...        OFF\n",
              "1      You look like Sloth with deeper Down’s syndrome  ...        OFF\n",
              "2    You look like Russian and speak like Indian. B...  ...        OFF\n",
              "3                 Women deserve to be abused, I guess.  ...        OFF\n",
              "4    Women are made for making babies and cooking d...  ...        OFF\n",
              "..                                                 ...  ...        ...\n",
              "993   From the midnight sun where the hot springs blow  ...        NOT\n",
              "994                        Don't say I'm not your type  ...        NOT\n",
              "995   And therefore never send to know for whom the...  ...        NOT\n",
              "996                      And I can't stand another day  ...        NOT\n",
              "997   All values, unless otherwise stated, are in U...  ...        NOT\n",
              "\n",
              "[768 rows x 4 columns]"
            ]
          },
          "metadata": {
            "tags": []
          },
          "execution_count": 12
        }
      ]
    },
    {
      "cell_type": "code",
      "metadata": {
        "id": "S_0KcfNi_-8P"
      },
      "source": [
        "import pandas as pd\r\n",
        "df2 = pd.DataFrame({\r\n",
        "    'id':[],\r\n",
        "    'tweet':[],\r\n",
        "    'subtask_a':[],\r\n",
        "})\r\n",
        "df2 = df2.set_index('id')"
      ],
      "execution_count": 13,
      "outputs": []
    },
    {
      "cell_type": "code",
      "metadata": {
        "id": "BU_YbzZXA1jN"
      },
      "source": [
        "for index, row in df.iterrows():\r\n",
        "    tweets=synonym_replacement(row['tweet'],3)    \r\n",
        "    i=0\r\n",
        "    for tweet in tweets:\r\n",
        "\r\n",
        "      id=int(index*10+i+1)# 输出每行的索引值\r\n",
        "      df2=df2.append([{'id':id,'tweet':tweets[i],'subtask_a':row['subtask_a']}],ignore_index=False)\r\n",
        "      i+=1"
      ],
      "execution_count": 14,
      "outputs": []
    },
    {
      "cell_type": "code",
      "metadata": {
        "id": "CF4w64l0-ekf"
      },
      "source": [
        "df2 = df2.set_index('id')"
      ],
      "execution_count": 16,
      "outputs": []
    },
    {
      "cell_type": "code",
      "metadata": {
        "colab": {
          "base_uri": "https://localhost:8080/",
          "height": 235
        },
        "id": "O6pr6xSlHTw9",
        "outputId": "d21b86e3-385f-4602-c9e8-8195972cc231"
      },
      "source": [
        "df2.head()"
      ],
      "execution_count": 17,
      "outputs": [
        {
          "output_type": "execute_result",
          "data": {
            "text/html": [
              "<div>\n",
              "<style scoped>\n",
              "    .dataframe tbody tr th:only-of-type {\n",
              "        vertical-align: middle;\n",
              "    }\n",
              "\n",
              "    .dataframe tbody tr th {\n",
              "        vertical-align: top;\n",
              "    }\n",
              "\n",
              "    .dataframe thead th {\n",
              "        text-align: right;\n",
              "    }\n",
              "</style>\n",
              "<table border=\"1\" class=\"dataframe\">\n",
              "  <thead>\n",
              "    <tr style=\"text-align: right;\">\n",
              "      <th></th>\n",
              "      <th>tweet</th>\n",
              "      <th>subtask_a</th>\n",
              "    </tr>\n",
              "    <tr>\n",
              "      <th>id</th>\n",
              "      <th></th>\n",
              "      <th></th>\n",
              "    </tr>\n",
              "  </thead>\n",
              "  <tbody>\n",
              "    <tr>\n",
              "      <th>1.0</th>\n",
              "      <td>You should think women's sports are a joke</td>\n",
              "      <td>OFF</td>\n",
              "    </tr>\n",
              "    <tr>\n",
              "      <th>2.0</th>\n",
              "      <td>You should know women's sports are a jokes</td>\n",
              "      <td>OFF</td>\n",
              "    </tr>\n",
              "    <tr>\n",
              "      <th>3.0</th>\n",
              "      <td>You should know women's football are a joke</td>\n",
              "      <td>OFF</td>\n",
              "    </tr>\n",
              "    <tr>\n",
              "      <th>11.0</th>\n",
              "      <td>You look like Sloth with emotions Down’s syndrome</td>\n",
              "      <td>OFF</td>\n",
              "    </tr>\n",
              "    <tr>\n",
              "      <th>12.0</th>\n",
              "      <td>You look think Sloth with deeper Down’s syndrome</td>\n",
              "      <td>OFF</td>\n",
              "    </tr>\n",
              "  </tbody>\n",
              "</table>\n",
              "</div>"
            ],
            "text/plain": [
              "                                                  tweet subtask_a\n",
              "id                                                               \n",
              "1.0          You should think women's sports are a joke       OFF\n",
              "2.0          You should know women's sports are a jokes       OFF\n",
              "3.0         You should know women's football are a joke       OFF\n",
              "11.0  You look like Sloth with emotions Down’s syndrome       OFF\n",
              "12.0   You look think Sloth with deeper Down’s syndrome       OFF"
            ]
          },
          "metadata": {
            "tags": []
          },
          "execution_count": 17
        }
      ]
    },
    {
      "cell_type": "code",
      "metadata": {
        "id": "wf1rpCKpEfqT"
      },
      "source": [
        "df2 = df2.set_index('id')"
      ],
      "execution_count": null,
      "outputs": []
    },
    {
      "cell_type": "code",
      "metadata": {
        "id": "FNiGvXrAEuTo"
      },
      "source": [
        "df2.to_csv('ethos_glove.csv')"
      ],
      "execution_count": 18,
      "outputs": []
    },
    {
      "cell_type": "code",
      "metadata": {
        "colab": {
          "base_uri": "https://localhost:8080/",
          "height": 77
        },
        "id": "DANc6oPwBlu1",
        "outputId": "08fca032-359d-4a9e-d407-0d78dcbcae91"
      },
      "source": [
        ""
      ],
      "execution_count": null,
      "outputs": [
        {
          "output_type": "execute_result",
          "data": {
            "text/html": [
              "<div>\n",
              "<style scoped>\n",
              "    .dataframe tbody tr th:only-of-type {\n",
              "        vertical-align: middle;\n",
              "    }\n",
              "\n",
              "    .dataframe tbody tr th {\n",
              "        vertical-align: top;\n",
              "    }\n",
              "\n",
              "    .dataframe thead th {\n",
              "        text-align: right;\n",
              "    }\n",
              "</style>\n",
              "<table border=\"1\" class=\"dataframe\">\n",
              "  <thead>\n",
              "    <tr style=\"text-align: right;\">\n",
              "      <th></th>\n",
              "      <th>tweet</th>\n",
              "      <th>subtask_a</th>\n",
              "      <th>id</th>\n",
              "    </tr>\n",
              "  </thead>\n",
              "  <tbody>\n",
              "    <tr>\n",
              "      <th>0</th>\n",
              "      <td>@USER She should ask a few african Americans w...</td>\n",
              "      <td>0.0</td>\n",
              "      <td>0.0</td>\n",
              "    </tr>\n",
              "  </tbody>\n",
              "</table>\n",
              "</div>"
            ],
            "text/plain": [
              "                                               tweet  subtask_a   id\n",
              "0  @USER She should ask a few african Americans w...        0.0  0.0"
            ]
          },
          "metadata": {
            "tags": []
          },
          "execution_count": 101
        }
      ]
    },
    {
      "cell_type": "code",
      "metadata": {
        "colab": {
          "base_uri": "https://localhost:8080/",
          "height": 167
        },
        "id": "V1LqaRIDETrN",
        "outputId": "3c68b084-d621-453b-d0c7-6dedb54cac35"
      },
      "source": [
        "df2"
      ],
      "execution_count": null,
      "outputs": [
        {
          "output_type": "execute_result",
          "data": {
            "text/html": [
              "<div>\n",
              "<style scoped>\n",
              "    .dataframe tbody tr th:only-of-type {\n",
              "        vertical-align: middle;\n",
              "    }\n",
              "\n",
              "    .dataframe tbody tr th {\n",
              "        vertical-align: top;\n",
              "    }\n",
              "\n",
              "    .dataframe thead th {\n",
              "        text-align: right;\n",
              "    }\n",
              "</style>\n",
              "<table border=\"1\" class=\"dataframe\">\n",
              "  <thead>\n",
              "    <tr style=\"text-align: right;\">\n",
              "      <th></th>\n",
              "      <th>tweet</th>\n",
              "      <th>subtask_a</th>\n",
              "    </tr>\n",
              "    <tr>\n",
              "      <th>id</th>\n",
              "      <th></th>\n",
              "      <th></th>\n",
              "    </tr>\n",
              "  </thead>\n",
              "  <tbody>\n",
              "    <tr>\n",
              "      <th>864261</th>\n",
              "      <td>@USER She should ask a few african Americans w...</td>\n",
              "      <td>OFF</td>\n",
              "    </tr>\n",
              "    <tr>\n",
              "      <th>864262</th>\n",
              "      <td>@USER She should ask a few native Americans wh...</td>\n",
              "      <td>OFF</td>\n",
              "    </tr>\n",
              "    <tr>\n",
              "      <th>864263</th>\n",
              "      <td>@USER She should whats a few native Americans ...</td>\n",
              "      <td>OFF</td>\n",
              "    </tr>\n",
              "  </tbody>\n",
              "</table>\n",
              "</div>"
            ],
            "text/plain": [
              "                                                    tweet subtask_a\n",
              "id                                                                 \n",
              "864261  @USER She should ask a few african Americans w...       OFF\n",
              "864262  @USER She should ask a few native Americans wh...       OFF\n",
              "864263  @USER She should whats a few native Americans ...       OFF"
            ]
          },
          "metadata": {
            "tags": []
          },
          "execution_count": 123
        }
      ]
    },
    {
      "cell_type": "code",
      "metadata": {
        "id": "Qz_lizAjF6yY"
      },
      "source": [
        ""
      ],
      "execution_count": null,
      "outputs": []
    },
    {
      "cell_type": "code",
      "metadata": {
        "colab": {
          "base_uri": "https://localhost:8080/",
          "height": 257
        },
        "id": "xeKMw5zjGL5F",
        "outputId": "f2d04683-587c-4a06-9e00-2b0f71f87a7c"
      },
      "source": [
        ""
      ],
      "execution_count": null,
      "outputs": [
        {
          "output_type": "execute_result",
          "data": {
            "text/html": [
              "<div>\n",
              "<style scoped>\n",
              "    .dataframe tbody tr th:only-of-type {\n",
              "        vertical-align: middle;\n",
              "    }\n",
              "\n",
              "    .dataframe tbody tr th {\n",
              "        vertical-align: top;\n",
              "    }\n",
              "\n",
              "    .dataframe thead th {\n",
              "        text-align: right;\n",
              "    }\n",
              "</style>\n",
              "<table border=\"1\" class=\"dataframe\">\n",
              "  <thead>\n",
              "    <tr style=\"text-align: right;\">\n",
              "      <th></th>\n",
              "      <th>tweet</th>\n",
              "      <th>subtask_a</th>\n",
              "    </tr>\n",
              "    <tr>\n",
              "      <th>id</th>\n",
              "      <th></th>\n",
              "      <th></th>\n",
              "    </tr>\n",
              "  </thead>\n",
              "  <tbody>\n",
              "    <tr>\n",
              "      <th>0.0</th>\n",
              "      <td>@USER She should ask a few native Americans wh...</td>\n",
              "      <td>[a]</td>\n",
              "    </tr>\n",
              "    <tr>\n",
              "      <th>1.0</th>\n",
              "      <td>@USER She should ask a few native Americans wh...</td>\n",
              "      <td>[a]</td>\n",
              "    </tr>\n",
              "    <tr>\n",
              "      <th>2.0</th>\n",
              "      <td>@USER She should ask a few african Americans w...</td>\n",
              "      <td>[a]</td>\n",
              "    </tr>\n",
              "    <tr>\n",
              "      <th>864261.0</th>\n",
              "      <td>@USER She should ask a few native Americans wh...</td>\n",
              "      <td>OFF</td>\n",
              "    </tr>\n",
              "    <tr>\n",
              "      <th>864262.0</th>\n",
              "      <td>@USER She should ask a few african Americans w...</td>\n",
              "      <td>OFF</td>\n",
              "    </tr>\n",
              "    <tr>\n",
              "      <th>864263.0</th>\n",
              "      <td>@USER She should whats a few native Americans ...</td>\n",
              "      <td>OFF</td>\n",
              "    </tr>\n",
              "  </tbody>\n",
              "</table>\n",
              "</div>"
            ],
            "text/plain": [
              "                                                      tweet subtask_a\n",
              "id                                                                   \n",
              "0.0       @USER She should ask a few native Americans wh...       [a]\n",
              "1.0       @USER She should ask a few native Americans wh...       [a]\n",
              "2.0       @USER She should ask a few african Americans w...       [a]\n",
              "864261.0  @USER She should ask a few native Americans wh...       OFF\n",
              "864262.0  @USER She should ask a few african Americans w...       OFF\n",
              "864263.0  @USER She should whats a few native Americans ...       OFF"
            ]
          },
          "metadata": {
            "tags": []
          },
          "execution_count": 109
        }
      ]
    },
    {
      "cell_type": "code",
      "metadata": {
        "id": "7tT36XEtGMg7"
      },
      "source": [
        ""
      ],
      "execution_count": null,
      "outputs": []
    }
  ]
}