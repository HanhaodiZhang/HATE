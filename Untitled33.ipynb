{
  "nbformat": 4,
  "nbformat_minor": 0,
  "metadata": {
    "colab": {
      "name": "Untitled33.ipynb",
      "provenance": [],
      "collapsed_sections": [],
      "toc_visible": true,
      "include_colab_link": true
    },
    "kernelspec": {
      "name": "python3",
      "display_name": "Python 3"
    },
    "language_info": {
      "name": "python"
    },
    "accelerator": "GPU"
  },
  "cells": [
    {
      "cell_type": "markdown",
      "metadata": {
        "id": "view-in-github",
        "colab_type": "text"
      },
      "source": [
        "<a href=\"https://colab.research.google.com/github/HanhaodiZhang/HATE/blob/main/Untitled33.ipynb\" target=\"_parent\"><img src=\"https://colab.research.google.com/assets/colab-badge.svg\" alt=\"Open In Colab\"/></a>"
      ]
    },
    {
      "cell_type": "markdown",
      "metadata": {
        "id": "hd3iuePN23XZ"
      },
      "source": [
        "### 简历数据集\n"
      ]
    },
    {
      "cell_type": "code",
      "metadata": {
        "id": "WSczfxsyCtoG"
      },
      "source": [
        "from scipy.io import loadmat\n",
        "import numpy as np\n",
        "import os\n",
        "import pandas as pd\n",
        "path = r'data'"
      ],
      "execution_count": 1,
      "outputs": []
    },
    {
      "cell_type": "code",
      "metadata": {
        "id": "ZZ2kH7vfL2CP"
      },
      "source": [
        "filenames = os.listdir(r'data')\n",
        "files = {}\n",
        "for i in filenames:\n",
        "            # 文件路径\n",
        "  file_path = os.path.join(r'data', i)\n",
        "  file = loadmat(file_path)\n",
        "  file_keys = file.keys()\n",
        "  for key in file_keys:\n",
        "    if 'DE' in key:\n",
        "      files[i] = file[key].ravel()\n"
      ],
      "execution_count": 2,
      "outputs": []
    },
    {
      "cell_type": "markdown",
      "metadata": {
        "id": "dSsfL7Qh3IXX"
      },
      "source": [
        "以800个数据为1个样本，200个数据间隔取样"
      ]
    },
    {
      "cell_type": "code",
      "metadata": {
        "id": "Ea8ZPJPHMAjg"
      },
      "source": [
        "length=800\n",
        "step=100\n",
        "label=0\n",
        "df_train = pd.DataFrame(columns=('data', 'label','name'))\n",
        "df_val = pd.DataFrame(columns=('data', 'label','name'))\n",
        "df_test = pd.DataFrame(columns=('data', 'label','name'))\n",
        "keys = files.keys()\n",
        "for i in keys:\n",
        "  slice_data = files[i]\n",
        "  all_lenght = len(slice_data)\n",
        "  train_end_index = int(all_lenght*0.6)\n",
        "  val_end_index = int(all_lenght*0.8)\n",
        "  start_index=0\n",
        "  while start_index+length <= train_end_index:\n",
        "      sample = slice_data[start_index:start_index + length]\n",
        "      start_index+=step\n",
        "      \n",
        "      df_train=df_train.append([{'data':sample,'label':label,'name':i}], ignore_index=True)\n",
        "\n",
        "  start_index=train_end_index    \n",
        "  while start_index+length <= val_end_index:\n",
        "      sample = slice_data[start_index:start_index + length]\n",
        "      start_index+=step\n",
        "      \n",
        "      df_val=df_val.append([{'data':sample,'label':label,'name':i}], ignore_index=True)\n",
        "      \n",
        "  start_index=val_end_index    \n",
        "  while start_index+length <= all_lenght:\n",
        "      sample = slice_data[start_index:start_index + length]\n",
        "      start_index+=step\n",
        "      \n",
        "      df_test=df_test.append([{'data':sample,'label':label,'name':i}], ignore_index=True)\n",
        "  \n",
        "  label+=1\n"
      ],
      "execution_count": 3,
      "outputs": []
    },
    {
      "cell_type": "code",
      "metadata": {
        "id": "Yhjz1AnAoZrK"
      },
      "source": [
        "from sklearn.utils import shuffle\n",
        "df_train = shuffle(df_train)\n",
        "df_test = shuffle(df_test)\n",
        "df_val = shuffle(df_val)\n",
        "df_train.reset_index(drop=True, inplace=True)\n",
        "df_test.reset_index(drop=True, inplace=True)\n",
        "df_val.reset_index(drop=True, inplace=True)"
      ],
      "execution_count": 4,
      "outputs": []
    },
    {
      "cell_type": "code",
      "metadata": {
        "colab": {
          "base_uri": "https://localhost:8080/",
          "height": 402
        },
        "id": "1W6Ji_0ZhIuX",
        "outputId": "7913adb0-7d9d-44b6-a1fb-f0ef29c8a4b4"
      },
      "source": [
        "df_val "
      ],
      "execution_count": 5,
      "outputs": [
        {
          "output_type": "execute_result",
          "data": {
            "text/html": [
              "<div>\n",
              "<style scoped>\n",
              "    .dataframe tbody tr th:only-of-type {\n",
              "        vertical-align: middle;\n",
              "    }\n",
              "\n",
              "    .dataframe tbody tr th {\n",
              "        vertical-align: top;\n",
              "    }\n",
              "\n",
              "    .dataframe thead th {\n",
              "        text-align: right;\n",
              "    }\n",
              "</style>\n",
              "<table border=\"1\" class=\"dataframe\">\n",
              "  <thead>\n",
              "    <tr style=\"text-align: right;\">\n",
              "      <th></th>\n",
              "      <th>data</th>\n",
              "      <th>label</th>\n",
              "      <th>name</th>\n",
              "    </tr>\n",
              "  </thead>\n",
              "  <tbody>\n",
              "    <tr>\n",
              "      <th>0</th>\n",
              "      <td>[-0.06578622754491018, 0.08406017964071857, 0....</td>\n",
              "      <td>2</td>\n",
              "      <td>外圈相对60度故障.mat</td>\n",
              "    </tr>\n",
              "    <tr>\n",
              "      <th>1</th>\n",
              "      <td>[-0.004466966067864271, 0.13766377245508982, 0...</td>\n",
              "      <td>2</td>\n",
              "      <td>外圈相对60度故障.mat</td>\n",
              "    </tr>\n",
              "    <tr>\n",
              "      <th>2</th>\n",
              "      <td>[0.10111586826347305, -0.3415198602794411, -0....</td>\n",
              "      <td>2</td>\n",
              "      <td>外圈相对60度故障.mat</td>\n",
              "    </tr>\n",
              "    <tr>\n",
              "      <th>3</th>\n",
              "      <td>[0.03713353846153846, 0.049233230769230765, 0....</td>\n",
              "      <td>0</td>\n",
              "      <td>noraml.mat</td>\n",
              "    </tr>\n",
              "    <tr>\n",
              "      <th>4</th>\n",
              "      <td>[0.02663936127744511, -0.008121756487025948, 0...</td>\n",
              "      <td>3</td>\n",
              "      <td>外圈故障.mat</td>\n",
              "    </tr>\n",
              "    <tr>\n",
              "      <th>...</th>\n",
              "      <td>...</td>\n",
              "      <td>...</td>\n",
              "      <td>...</td>\n",
              "    </tr>\n",
              "    <tr>\n",
              "      <th>1184</th>\n",
              "      <td>[0.0446436923076923, 0.04860738461538461, 0.02...</td>\n",
              "      <td>0</td>\n",
              "      <td>noraml.mat</td>\n",
              "    </tr>\n",
              "    <tr>\n",
              "      <th>1185</th>\n",
              "      <td>[-0.2964441117764471, -0.006659840319361277, 0...</td>\n",
              "      <td>1</td>\n",
              "      <td>滚动体故障.mat</td>\n",
              "    </tr>\n",
              "    <tr>\n",
              "      <th>1186</th>\n",
              "      <td>[-0.5610509381237525, 0.31171301397205586, 0.7...</td>\n",
              "      <td>1</td>\n",
              "      <td>滚动体故障.mat</td>\n",
              "    </tr>\n",
              "    <tr>\n",
              "      <th>1187</th>\n",
              "      <td>[0.05165437125748503, 0.30261664670658683, 0.5...</td>\n",
              "      <td>1</td>\n",
              "      <td>滚动体故障.mat</td>\n",
              "    </tr>\n",
              "    <tr>\n",
              "      <th>1188</th>\n",
              "      <td>[-0.10006003992015969, 0.11695329341317366, -0...</td>\n",
              "      <td>3</td>\n",
              "      <td>外圈故障.mat</td>\n",
              "    </tr>\n",
              "  </tbody>\n",
              "</table>\n",
              "<p>1189 rows × 3 columns</p>\n",
              "</div>"
            ],
            "text/plain": [
              "                                                   data label           name\n",
              "0     [-0.06578622754491018, 0.08406017964071857, 0....     2  外圈相对60度故障.mat\n",
              "1     [-0.004466966067864271, 0.13766377245508982, 0...     2  外圈相对60度故障.mat\n",
              "2     [0.10111586826347305, -0.3415198602794411, -0....     2  外圈相对60度故障.mat\n",
              "3     [0.03713353846153846, 0.049233230769230765, 0....     0     noraml.mat\n",
              "4     [0.02663936127744511, -0.008121756487025948, 0...     3       外圈故障.mat\n",
              "...                                                 ...   ...            ...\n",
              "1184  [0.0446436923076923, 0.04860738461538461, 0.02...     0     noraml.mat\n",
              "1185  [-0.2964441117764471, -0.006659840319361277, 0...     1      滚动体故障.mat\n",
              "1186  [-0.5610509381237525, 0.31171301397205586, 0.7...     1      滚动体故障.mat\n",
              "1187  [0.05165437125748503, 0.30261664670658683, 0.5...     1      滚动体故障.mat\n",
              "1188  [-0.10006003992015969, 0.11695329341317366, -0...     3       外圈故障.mat\n",
              "\n",
              "[1189 rows x 3 columns]"
            ]
          },
          "metadata": {
            "tags": []
          },
          "execution_count": 5
        }
      ]
    },
    {
      "cell_type": "code",
      "metadata": {
        "colab": {
          "base_uri": "https://localhost:8080/",
          "height": 402
        },
        "id": "JU_KfZg8hMlp",
        "outputId": "2aef82c3-9b0f-424d-d544-76f8940fa88c"
      },
      "source": [
        "df_test"
      ],
      "execution_count": 6,
      "outputs": [
        {
          "output_type": "execute_result",
          "data": {
            "text/html": [
              "<div>\n",
              "<style scoped>\n",
              "    .dataframe tbody tr th:only-of-type {\n",
              "        vertical-align: middle;\n",
              "    }\n",
              "\n",
              "    .dataframe tbody tr th {\n",
              "        vertical-align: top;\n",
              "    }\n",
              "\n",
              "    .dataframe thead th {\n",
              "        text-align: right;\n",
              "    }\n",
              "</style>\n",
              "<table border=\"1\" class=\"dataframe\">\n",
              "  <thead>\n",
              "    <tr style=\"text-align: right;\">\n",
              "      <th></th>\n",
              "      <th>data</th>\n",
              "      <th>label</th>\n",
              "      <th>name</th>\n",
              "    </tr>\n",
              "  </thead>\n",
              "  <tbody>\n",
              "    <tr>\n",
              "      <th>0</th>\n",
              "      <td>[0.07439528942115768, 0.0006497405189620758, 0...</td>\n",
              "      <td>1</td>\n",
              "      <td>滚动体故障.mat</td>\n",
              "    </tr>\n",
              "    <tr>\n",
              "      <th>1</th>\n",
              "      <td>[-0.11013101796407185, -0.23666798403193612, -...</td>\n",
              "      <td>3</td>\n",
              "      <td>外圈故障.mat</td>\n",
              "    </tr>\n",
              "    <tr>\n",
              "      <th>2</th>\n",
              "      <td>[0.04182704590818363, 0.4617218562874251, -0.1...</td>\n",
              "      <td>2</td>\n",
              "      <td>外圈相对60度故障.mat</td>\n",
              "    </tr>\n",
              "    <tr>\n",
              "      <th>3</th>\n",
              "      <td>[0.03504738461538461, -0.02899753846153846, -0...</td>\n",
              "      <td>0</td>\n",
              "      <td>noraml.mat</td>\n",
              "    </tr>\n",
              "    <tr>\n",
              "      <th>4</th>\n",
              "      <td>[0.40405738522954093, 0.1863943113772455, -0.3...</td>\n",
              "      <td>2</td>\n",
              "      <td>外圈相对60度故障.mat</td>\n",
              "    </tr>\n",
              "    <tr>\n",
              "      <th>...</th>\n",
              "      <td>...</td>\n",
              "      <td>...</td>\n",
              "      <td>...</td>\n",
              "    </tr>\n",
              "    <tr>\n",
              "      <th>1184</th>\n",
              "      <td>[0.17201880239520956, -0.08674035928143713, -0...</td>\n",
              "      <td>3</td>\n",
              "      <td>外圈故障.mat</td>\n",
              "    </tr>\n",
              "    <tr>\n",
              "      <th>1185</th>\n",
              "      <td>[0.1096437125748503, 0.14862814371257485, 0.23...</td>\n",
              "      <td>2</td>\n",
              "      <td>外圈相对60度故障.mat</td>\n",
              "    </tr>\n",
              "    <tr>\n",
              "      <th>1186</th>\n",
              "      <td>[-0.0831667864271457, 0.29628167664670657, 0.1...</td>\n",
              "      <td>1</td>\n",
              "      <td>滚动体故障.mat</td>\n",
              "    </tr>\n",
              "    <tr>\n",
              "      <th>1187</th>\n",
              "      <td>[-0.0025033846153846152, 0.024199384615384616,...</td>\n",
              "      <td>0</td>\n",
              "      <td>noraml.mat</td>\n",
              "    </tr>\n",
              "    <tr>\n",
              "      <th>1188</th>\n",
              "      <td>[-0.09137353846153846, -0.1356, -0.12245723076...</td>\n",
              "      <td>0</td>\n",
              "      <td>noraml.mat</td>\n",
              "    </tr>\n",
              "  </tbody>\n",
              "</table>\n",
              "<p>1189 rows × 3 columns</p>\n",
              "</div>"
            ],
            "text/plain": [
              "                                                   data label           name\n",
              "0     [0.07439528942115768, 0.0006497405189620758, 0...     1      滚动体故障.mat\n",
              "1     [-0.11013101796407185, -0.23666798403193612, -...     3       外圈故障.mat\n",
              "2     [0.04182704590818363, 0.4617218562874251, -0.1...     2  外圈相对60度故障.mat\n",
              "3     [0.03504738461538461, -0.02899753846153846, -0...     0     noraml.mat\n",
              "4     [0.40405738522954093, 0.1863943113772455, -0.3...     2  外圈相对60度故障.mat\n",
              "...                                                 ...   ...            ...\n",
              "1184  [0.17201880239520956, -0.08674035928143713, -0...     3       外圈故障.mat\n",
              "1185  [0.1096437125748503, 0.14862814371257485, 0.23...     2  外圈相对60度故障.mat\n",
              "1186  [-0.0831667864271457, 0.29628167664670657, 0.1...     1      滚动体故障.mat\n",
              "1187  [-0.0025033846153846152, 0.024199384615384616,...     0     noraml.mat\n",
              "1188  [-0.09137353846153846, -0.1356, -0.12245723076...     0     noraml.mat\n",
              "\n",
              "[1189 rows x 3 columns]"
            ]
          },
          "metadata": {
            "tags": []
          },
          "execution_count": 6
        }
      ]
    },
    {
      "cell_type": "code",
      "metadata": {
        "colab": {
          "base_uri": "https://localhost:8080/"
        },
        "id": "aVCpHyLkMI-m",
        "outputId": "cadc81bc-77fa-4767-b401-6ac8f9210248"
      },
      "source": [
        "df_train[\"name\"].value_counts()"
      ],
      "execution_count": 7,
      "outputs": [
        {
          "output_type": "execute_result",
          "data": {
            "text/plain": [
              "noraml.mat       1456\n",
              "外圈故障.mat          730\n",
              "外圈相对60度故障.mat     724\n",
              "滚动体故障.mat         720\n",
              "Name: name, dtype: int64"
            ]
          },
          "metadata": {
            "tags": []
          },
          "execution_count": 7
        }
      ]
    },
    {
      "cell_type": "code",
      "metadata": {
        "colab": {
          "base_uri": "https://localhost:8080/"
        },
        "id": "m4stvMPNhmep",
        "outputId": "bbcb56a8-a4b3-481a-ba0b-0e22d507e1f7"
      },
      "source": [
        "df_test[\"name\"].value_counts()"
      ],
      "execution_count": 8,
      "outputs": [
        {
          "output_type": "execute_result",
          "data": {
            "text/plain": [
              "noraml.mat       480\n",
              "外圈故障.mat         238\n",
              "外圈相对60度故障.mat    236\n",
              "滚动体故障.mat        235\n",
              "Name: name, dtype: int64"
            ]
          },
          "metadata": {
            "tags": []
          },
          "execution_count": 8
        }
      ]
    },
    {
      "cell_type": "code",
      "metadata": {
        "colab": {
          "base_uri": "https://localhost:8080/"
        },
        "id": "rrKXpkSChoiu",
        "outputId": "e1bf52d1-a74a-4f03-be54-6eff8cbb2126"
      },
      "source": [
        "df_val[\"name\"].value_counts()"
      ],
      "execution_count": 9,
      "outputs": [
        {
          "output_type": "execute_result",
          "data": {
            "text/plain": [
              "noraml.mat       480\n",
              "外圈故障.mat         238\n",
              "外圈相对60度故障.mat    236\n",
              "滚动体故障.mat        235\n",
              "Name: name, dtype: int64"
            ]
          },
          "metadata": {
            "tags": []
          },
          "execution_count": 9
        }
      ]
    },
    {
      "cell_type": "code",
      "metadata": {
        "id": "jqd5kqMCqC81"
      },
      "source": [
        "from sklearn import preprocessing\n",
        "\n",
        "Encoder = preprocessing.OneHotEncoder()\n",
        "import torch\n",
        "import torch.utils.data.dataset as Dataset\n",
        "#引入DataLoader：\n",
        "import torch.utils.data.dataloader as DataLoader\n",
        "class subDataset(Dataset.Dataset):\n",
        "    #初始化，定义数据内容和标签\n",
        "    def __init__(self, Datadf):\n",
        "        self.Data = Datadf['data']\n",
        "        self.Label = Datadf['label']\n",
        "    #返回数据集大小\n",
        "    def __len__(self):\n",
        "        return len(self.Data)\n",
        "    #得到数据内容和标签\n",
        "    def __getitem__(self, index):\n",
        "        data = torch.Tensor(self.Data[index]).unsqueeze(0)\n",
        "        label=self.Label[index]\n",
        "        # label = Encoder.transform(np.array(self.Label[index]).reshape([-1, 1])).toarray().squeeze(0) \n",
        "        return data, label"
      ],
      "execution_count": 10,
      "outputs": []
    },
    {
      "cell_type": "code",
      "metadata": {
        "id": "LJo9158rr9r0"
      },
      "source": [
        "dataset = subDataset(df_train)"
      ],
      "execution_count": 11,
      "outputs": []
    },
    {
      "cell_type": "code",
      "metadata": {
        "id": "LG0stlPUsC7b"
      },
      "source": [
        "dataloader = DataLoader.DataLoader(dataset,batch_size= 4, shuffle = True, num_workers= 2)"
      ],
      "execution_count": 12,
      "outputs": []
    },
    {
      "cell_type": "code",
      "metadata": {
        "id": "Cn4I_NcfvUdK"
      },
      "source": [
        "import torch\n",
        "import torch.nn as nn\n",
        "import torch.nn.functional as F\n",
        "class Net(nn.Module):\n",
        "    def __init__(self):\n",
        "        super(Net, self).__init__()\n",
        "        self.batchnorm1= nn.BatchNorm1d(1)\n",
        "        self.conv1 = nn.Conv1d(in_channels=1, out_channels=16, kernel_size=3,padding=1,stride=2)\n",
        "        self.batchnorm2= nn.BatchNorm1d(16)\n",
        "        self.conv2 = nn.Conv1d(in_channels=16, out_channels=8, kernel_size=3,padding=1,stride=2)\n",
        "        self.batchnorm3= nn.BatchNorm1d(8)\n",
        "        self.conv3 = nn.Conv1d(in_channels=8, out_channels=1, kernel_size=3,padding=1,stride=2)\n",
        "        self.fc1 = nn.Linear(in_features=100,out_features=10)\n",
        "        self.fc2 = nn.Linear(in_features=10,out_features=4)\n",
        "    def forward(self, x):\n",
        "        x= self.batchnorm1(x)\n",
        "        x = F.relu(self.conv1(x))\n",
        "        x= self.batchnorm2(x)\n",
        "        x = F.relu(self.conv2(x))\n",
        "        x= self.batchnorm3(x)\n",
        "        x = F.relu(self.conv3(x))\n",
        "        x = x.view(-1, 100)              \n",
        "        x = F.relu(self.fc1(x))\n",
        "        x = F.relu(self.fc2(x))\n",
        "        return x"
      ],
      "execution_count": 13,
      "outputs": []
    },
    {
      "cell_type": "code",
      "metadata": {
        "id": "k90uezfUpsZz"
      },
      "source": [
        "a=torch.rand((4,1,800))\n",
        "net=Net()"
      ],
      "execution_count": 14,
      "outputs": []
    },
    {
      "cell_type": "code",
      "metadata": {
        "id": "NHuFKs49xA_c"
      },
      "source": [
        "x=net(a)"
      ],
      "execution_count": 15,
      "outputs": []
    },
    {
      "cell_type": "code",
      "metadata": {
        "colab": {
          "base_uri": "https://localhost:8080/"
        },
        "id": "f4oIMYbV_LyI",
        "outputId": "a060d3af-bd7e-418b-bc80-02a391d803fb"
      },
      "source": [
        "x.shape"
      ],
      "execution_count": 16,
      "outputs": [
        {
          "output_type": "execute_result",
          "data": {
            "text/plain": [
              "torch.Size([4, 4])"
            ]
          },
          "metadata": {
            "tags": []
          },
          "execution_count": 16
        }
      ]
    },
    {
      "cell_type": "code",
      "metadata": {
        "colab": {
          "base_uri": "https://localhost:8080/"
        },
        "id": "veSG_1c0xM87",
        "outputId": "87f60e73-6bf7-4d64-d133-c98e9babeca8"
      },
      "source": [
        "print(net)"
      ],
      "execution_count": 17,
      "outputs": [
        {
          "output_type": "stream",
          "text": [
            "Net(\n",
            "  (batchnorm1): BatchNorm1d(1, eps=1e-05, momentum=0.1, affine=True, track_running_stats=True)\n",
            "  (conv1): Conv1d(1, 16, kernel_size=(3,), stride=(2,), padding=(1,))\n",
            "  (batchnorm2): BatchNorm1d(16, eps=1e-05, momentum=0.1, affine=True, track_running_stats=True)\n",
            "  (conv2): Conv1d(16, 8, kernel_size=(3,), stride=(2,), padding=(1,))\n",
            "  (batchnorm3): BatchNorm1d(8, eps=1e-05, momentum=0.1, affine=True, track_running_stats=True)\n",
            "  (conv3): Conv1d(8, 1, kernel_size=(3,), stride=(2,), padding=(1,))\n",
            "  (fc1): Linear(in_features=100, out_features=10, bias=True)\n",
            "  (fc2): Linear(in_features=10, out_features=4, bias=True)\n",
            ")\n"
          ],
          "name": "stdout"
        }
      ]
    },
    {
      "cell_type": "code",
      "metadata": {
        "id": "eNNBnqkV1G3U"
      },
      "source": [
        "from tqdm import tqdm\n",
        "def train(epoch):\n",
        "    net.train()\n",
        "    for data in tqdm(dataloader, leave=False, total=len(dataloader)):\n",
        "        inputs=data[0]\n",
        "        targets=data[1]\n",
        "        inputs=inputs.to(device)\n",
        "        targets=targets.to(device)\n",
        "        optimizer.zero_grad()\n",
        "        #每次喂入数据前，都需要将梯度清零\n",
        "        outputs = net(inputs)\n",
        "        loss = criterion(outputs, targets)\n",
        "        #计算loss\n",
        "        loss.backward()\n",
        "        #传回反向梯度\n",
        "        optimizer.step()\n",
        "        #梯度传回，利用优化器将参数更新\n",
        "    print(loss)"
      ],
      "execution_count": 18,
      "outputs": []
    },
    {
      "cell_type": "code",
      "metadata": {
        "id": "KJ_Ss_jL48NM"
      },
      "source": [
        "testset = subDataset(df_val)\n",
        "testloader = DataLoader.DataLoader(testset,batch_size= 4, shuffle = True, num_workers= 2)"
      ],
      "execution_count": 19,
      "outputs": []
    },
    {
      "cell_type": "code",
      "metadata": {
        "id": "O-9Qwn__18lc"
      },
      "source": [
        "test_loss={}\n",
        "def test(epoch):\n",
        "    global best_acc\n",
        "    net.eval()\n",
        "    test_loss = 0\n",
        "    correct = 0\n",
        "    total = 0\n",
        "    best_acc=0\n",
        "    with torch.no_grad():\n",
        "    #因为是测试，因此禁止梯度\n",
        "        for batch_idx, (inputs, targets) in enumerate(testloader):\n",
        "            inputs, targets = inputs.to(device), targets.to(device)\n",
        "            outputs = net(inputs)\n",
        "            loss = criterion(outputs, targets)\n",
        "            test_loss += loss.item()\n",
        "            _, predicted = outputs.max(1)\n",
        "            total += targets.size(0)\n",
        "            correct += predicted.eq(targets).sum().item()\n",
        "\n",
        "    acc = 100. * correct / total\n",
        "    print(\"Now acc is {}\".format(acc))\n",
        "    if acc > best_acc:\n",
        "        print('Saving..')\n",
        "        state = {\n",
        "            'net': net.state_dict(),\n",
        "            'acc': acc,\n",
        "            'epoch': epoch,\n",
        "        }\n",
        "        if not os.path.isdir('checkpoint'):\n",
        "          os.mkdir('checkpoint')\n",
        "          torch.save(state, './checkpoint/ckpt.t7')\n",
        "        best_acc = acc"
      ],
      "execution_count": 20,
      "outputs": []
    },
    {
      "cell_type": "code",
      "metadata": {
        "id": "rPHQmvxB2tQ4"
      },
      "source": [
        "device = 'cuda' if torch.cuda.is_available() else 'cpu'"
      ],
      "execution_count": 21,
      "outputs": []
    },
    {
      "cell_type": "code",
      "metadata": {
        "id": "bCAs69AI2w38"
      },
      "source": [
        "import torch.optim as optim\n",
        "net = net.to(device)\n",
        "criterion = nn.CrossEntropyLoss()\n",
        "optimizer = optim.Adam(net.parameters(), lr=0.01,weight_decay=5e-4)"
      ],
      "execution_count": 22,
      "outputs": []
    },
    {
      "cell_type": "code",
      "metadata": {
        "id": "z_Kl4TS12zaT"
      },
      "source": [
        "best_acc=0"
      ],
      "execution_count": 23,
      "outputs": []
    },
    {
      "cell_type": "code",
      "metadata": {
        "colab": {
          "base_uri": "https://localhost:8080/"
        },
        "id": "nTEnwEVE2U4O",
        "outputId": "b26c24a9-0913-47ba-e426-76da9fbe989d"
      },
      "source": [
        "for epoch in range(0,30):\n",
        "        train(epoch)\n",
        "        test(epoch)"
      ],
      "execution_count": 24,
      "outputs": [
        {
          "output_type": "stream",
          "text": [
            "                                                  "
          ],
          "name": "stderr"
        },
        {
          "output_type": "stream",
          "text": [
            "tensor(0.0780, device='cuda:0', grad_fn=<NllLossBackward>)\n"
          ],
          "name": "stdout"
        },
        {
          "output_type": "stream",
          "text": [
            "  0%|          | 0/908 [00:00<?, ?it/s]"
          ],
          "name": "stderr"
        },
        {
          "output_type": "stream",
          "text": [
            "Now acc is 81.66526492851135\n",
            "Saving..\n"
          ],
          "name": "stdout"
        },
        {
          "output_type": "stream",
          "text": [
            "                                                  "
          ],
          "name": "stderr"
        },
        {
          "output_type": "stream",
          "text": [
            "tensor(0.0032, device='cuda:0', grad_fn=<NllLossBackward>)\n"
          ],
          "name": "stdout"
        },
        {
          "output_type": "stream",
          "text": [
            "  0%|          | 0/908 [00:00<?, ?it/s]"
          ],
          "name": "stderr"
        },
        {
          "output_type": "stream",
          "text": [
            "Now acc is 83.59966358284272\n",
            "Saving..\n"
          ],
          "name": "stdout"
        },
        {
          "output_type": "stream",
          "text": [
            "                                                  "
          ],
          "name": "stderr"
        },
        {
          "output_type": "stream",
          "text": [
            "tensor(0.0714, device='cuda:0', grad_fn=<NllLossBackward>)\n"
          ],
          "name": "stdout"
        },
        {
          "output_type": "stream",
          "text": [
            "  0%|          | 0/908 [00:00<?, ?it/s]"
          ],
          "name": "stderr"
        },
        {
          "output_type": "stream",
          "text": [
            "Now acc is 83.59966358284272\n",
            "Saving..\n"
          ],
          "name": "stdout"
        },
        {
          "output_type": "stream",
          "text": [
            "                                                  "
          ],
          "name": "stderr"
        },
        {
          "output_type": "stream",
          "text": [
            "tensor(0.0086, device='cuda:0', grad_fn=<NllLossBackward>)\n"
          ],
          "name": "stdout"
        },
        {
          "output_type": "stream",
          "text": [
            "  0%|          | 0/908 [00:00<?, ?it/s]"
          ],
          "name": "stderr"
        },
        {
          "output_type": "stream",
          "text": [
            "Now acc is 77.88057190916737\n",
            "Saving..\n"
          ],
          "name": "stdout"
        },
        {
          "output_type": "stream",
          "text": [
            "                                                  "
          ],
          "name": "stderr"
        },
        {
          "output_type": "stream",
          "text": [
            "tensor(2.7652, device='cuda:0', grad_fn=<NllLossBackward>)\n"
          ],
          "name": "stdout"
        },
        {
          "output_type": "stream",
          "text": [
            "  0%|          | 0/908 [00:00<?, ?it/s]"
          ],
          "name": "stderr"
        },
        {
          "output_type": "stream",
          "text": [
            "Now acc is 84.0201850294365\n",
            "Saving..\n"
          ],
          "name": "stdout"
        },
        {
          "output_type": "stream",
          "text": [
            "                                                  "
          ],
          "name": "stderr"
        },
        {
          "output_type": "stream",
          "text": [
            "tensor(0.0026, device='cuda:0', grad_fn=<NllLossBackward>)\n"
          ],
          "name": "stdout"
        },
        {
          "output_type": "stream",
          "text": [
            "  0%|          | 0/908 [00:00<?, ?it/s]"
          ],
          "name": "stderr"
        },
        {
          "output_type": "stream",
          "text": [
            "Now acc is 82.92682926829268\n",
            "Saving..\n"
          ],
          "name": "stdout"
        },
        {
          "output_type": "stream",
          "text": [
            "                                                  "
          ],
          "name": "stderr"
        },
        {
          "output_type": "stream",
          "text": [
            "tensor(0.0041, device='cuda:0', grad_fn=<NllLossBackward>)\n"
          ],
          "name": "stdout"
        },
        {
          "output_type": "stream",
          "text": [
            "  0%|          | 0/908 [00:00<?, ?it/s]"
          ],
          "name": "stderr"
        },
        {
          "output_type": "stream",
          "text": [
            "Now acc is 91.25315391084945\n",
            "Saving..\n"
          ],
          "name": "stdout"
        },
        {
          "output_type": "stream",
          "text": [
            "                                                  "
          ],
          "name": "stderr"
        },
        {
          "output_type": "stream",
          "text": [
            "tensor(0.0010, device='cuda:0', grad_fn=<NllLossBackward>)\n"
          ],
          "name": "stdout"
        },
        {
          "output_type": "stream",
          "text": [
            "  0%|          | 0/908 [00:00<?, ?it/s]"
          ],
          "name": "stderr"
        },
        {
          "output_type": "stream",
          "text": [
            "Now acc is 84.52481076534903\n",
            "Saving..\n"
          ],
          "name": "stdout"
        },
        {
          "output_type": "stream",
          "text": [
            "                                                  "
          ],
          "name": "stderr"
        },
        {
          "output_type": "stream",
          "text": [
            "tensor(0., device='cuda:0', grad_fn=<NllLossBackward>)\n"
          ],
          "name": "stdout"
        },
        {
          "output_type": "stream",
          "text": [
            "  0%|          | 0/908 [00:00<?, ?it/s]"
          ],
          "name": "stderr"
        },
        {
          "output_type": "stream",
          "text": [
            "Now acc is 85.61816652649286\n",
            "Saving..\n"
          ],
          "name": "stdout"
        },
        {
          "output_type": "stream",
          "text": [
            "                                                  "
          ],
          "name": "stderr"
        },
        {
          "output_type": "stream",
          "text": [
            "tensor(5.9605e-07, device='cuda:0', grad_fn=<NllLossBackward>)\n"
          ],
          "name": "stdout"
        },
        {
          "output_type": "stream",
          "text": [
            "  0%|          | 0/908 [00:00<?, ?it/s]"
          ],
          "name": "stderr"
        },
        {
          "output_type": "stream",
          "text": [
            "Now acc is 93.43986543313709\n",
            "Saving..\n"
          ],
          "name": "stdout"
        },
        {
          "output_type": "stream",
          "text": [
            "                                                  "
          ],
          "name": "stderr"
        },
        {
          "output_type": "stream",
          "text": [
            "tensor(0.0077, device='cuda:0', grad_fn=<NllLossBackward>)\n"
          ],
          "name": "stdout"
        },
        {
          "output_type": "stream",
          "text": [
            "  0%|          | 0/908 [00:00<?, ?it/s]"
          ],
          "name": "stderr"
        },
        {
          "output_type": "stream",
          "text": [
            "Now acc is 54.58368376787216\n",
            "Saving..\n"
          ],
          "name": "stdout"
        },
        {
          "output_type": "stream",
          "text": [
            "                                                  "
          ],
          "name": "stderr"
        },
        {
          "output_type": "stream",
          "text": [
            "tensor(0.0014, device='cuda:0', grad_fn=<NllLossBackward>)\n"
          ],
          "name": "stdout"
        },
        {
          "output_type": "stream",
          "text": [
            "  0%|          | 0/908 [00:00<?, ?it/s]"
          ],
          "name": "stderr"
        },
        {
          "output_type": "stream",
          "text": [
            "Now acc is 97.30866274179984\n",
            "Saving..\n"
          ],
          "name": "stdout"
        },
        {
          "output_type": "stream",
          "text": [
            "                                                  "
          ],
          "name": "stderr"
        },
        {
          "output_type": "stream",
          "text": [
            "tensor(0.6728, device='cuda:0', grad_fn=<NllLossBackward>)\n"
          ],
          "name": "stdout"
        },
        {
          "output_type": "stream",
          "text": [
            "  0%|          | 0/908 [00:00<?, ?it/s]"
          ],
          "name": "stderr"
        },
        {
          "output_type": "stream",
          "text": [
            "Now acc is 50.21026072329689\n",
            "Saving..\n"
          ],
          "name": "stdout"
        },
        {
          "output_type": "stream",
          "text": [
            "                                                  "
          ],
          "name": "stderr"
        },
        {
          "output_type": "stream",
          "text": [
            "tensor(0.0077, device='cuda:0', grad_fn=<NllLossBackward>)\n"
          ],
          "name": "stdout"
        },
        {
          "output_type": "stream",
          "text": [
            "  0%|          | 0/908 [00:00<?, ?it/s]"
          ],
          "name": "stderr"
        },
        {
          "output_type": "stream",
          "text": [
            "Now acc is 74.93692178301093\n",
            "Saving..\n"
          ],
          "name": "stdout"
        },
        {
          "output_type": "stream",
          "text": [
            "                                                  "
          ],
          "name": "stderr"
        },
        {
          "output_type": "stream",
          "text": [
            "tensor(0.0152, device='cuda:0', grad_fn=<NllLossBackward>)\n"
          ],
          "name": "stdout"
        },
        {
          "output_type": "stream",
          "text": [
            "  0%|          | 0/908 [00:00<?, ?it/s]"
          ],
          "name": "stderr"
        },
        {
          "output_type": "stream",
          "text": [
            "Now acc is 78.63751051303616\n",
            "Saving..\n"
          ],
          "name": "stdout"
        },
        {
          "output_type": "stream",
          "text": [
            "                                                  "
          ],
          "name": "stderr"
        },
        {
          "output_type": "stream",
          "text": [
            "tensor(0.0453, device='cuda:0', grad_fn=<NllLossBackward>)\n"
          ],
          "name": "stdout"
        },
        {
          "output_type": "stream",
          "text": [
            "  0%|          | 0/908 [00:00<?, ?it/s]"
          ],
          "name": "stderr"
        },
        {
          "output_type": "stream",
          "text": [
            "Now acc is 98.14970563498738\n",
            "Saving..\n"
          ],
          "name": "stdout"
        },
        {
          "output_type": "stream",
          "text": [
            "                                                  "
          ],
          "name": "stderr"
        },
        {
          "output_type": "stream",
          "text": [
            "tensor(3.3378e-06, device='cuda:0', grad_fn=<NllLossBackward>)\n"
          ],
          "name": "stdout"
        },
        {
          "output_type": "stream",
          "text": [
            "  0%|          | 0/908 [00:00<?, ?it/s]"
          ],
          "name": "stderr"
        },
        {
          "output_type": "stream",
          "text": [
            "Now acc is 86.62741799831791\n",
            "Saving..\n"
          ],
          "name": "stdout"
        },
        {
          "output_type": "stream",
          "text": [
            "                                                  "
          ],
          "name": "stderr"
        },
        {
          "output_type": "stream",
          "text": [
            "tensor(0.0003, device='cuda:0', grad_fn=<NllLossBackward>)\n"
          ],
          "name": "stdout"
        },
        {
          "output_type": "stream",
          "text": [
            "  0%|          | 0/908 [00:00<?, ?it/s]"
          ],
          "name": "stderr"
        },
        {
          "output_type": "stream",
          "text": [
            "Now acc is 91.67367535744323\n",
            "Saving..\n"
          ],
          "name": "stdout"
        },
        {
          "output_type": "stream",
          "text": [
            "                                                  "
          ],
          "name": "stderr"
        },
        {
          "output_type": "stream",
          "text": [
            "tensor(0.0266, device='cuda:0', grad_fn=<NllLossBackward>)\n"
          ],
          "name": "stdout"
        },
        {
          "output_type": "stream",
          "text": [
            "  0%|          | 0/908 [00:00<?, ?it/s]"
          ],
          "name": "stderr"
        },
        {
          "output_type": "stream",
          "text": [
            "Now acc is 97.89739276703112\n",
            "Saving..\n"
          ],
          "name": "stdout"
        },
        {
          "output_type": "stream",
          "text": [
            "                                                  "
          ],
          "name": "stderr"
        },
        {
          "output_type": "stream",
          "text": [
            "tensor(5.9605e-08, device='cuda:0', grad_fn=<NllLossBackward>)\n"
          ],
          "name": "stdout"
        },
        {
          "output_type": "stream",
          "text": [
            "  0%|          | 0/908 [00:00<?, ?it/s]"
          ],
          "name": "stderr"
        },
        {
          "output_type": "stream",
          "text": [
            "Now acc is 33.13708999158957\n",
            "Saving..\n"
          ],
          "name": "stdout"
        },
        {
          "output_type": "stream",
          "text": [
            "                                                  "
          ],
          "name": "stderr"
        },
        {
          "output_type": "stream",
          "text": [
            "tensor(5.9605e-08, device='cuda:0', grad_fn=<NllLossBackward>)\n"
          ],
          "name": "stdout"
        },
        {
          "output_type": "stream",
          "text": [
            "  0%|          | 0/908 [00:00<?, ?it/s]"
          ],
          "name": "stderr"
        },
        {
          "output_type": "stream",
          "text": [
            "Now acc is 99.15895710681245\n",
            "Saving..\n"
          ],
          "name": "stdout"
        },
        {
          "output_type": "stream",
          "text": [
            "                                                  "
          ],
          "name": "stderr"
        },
        {
          "output_type": "stream",
          "text": [
            "tensor(0.0036, device='cuda:0', grad_fn=<NllLossBackward>)\n"
          ],
          "name": "stdout"
        },
        {
          "output_type": "stream",
          "text": [
            "  0%|          | 0/908 [00:00<?, ?it/s]"
          ],
          "name": "stderr"
        },
        {
          "output_type": "stream",
          "text": [
            "Now acc is 99.2430613961312\n",
            "Saving..\n"
          ],
          "name": "stdout"
        },
        {
          "output_type": "stream",
          "text": [
            ""
          ],
          "name": "stderr"
        },
        {
          "output_type": "stream",
          "text": [
            "tensor(0.0003, device='cuda:0', grad_fn=<NllLossBackward>)\n"
          ],
          "name": "stdout"
        },
        {
          "output_type": "stream",
          "text": [
            "\r  0%|          | 0/908 [00:00<?, ?it/s]"
          ],
          "name": "stderr"
        },
        {
          "output_type": "stream",
          "text": [
            "Now acc is 94.11269974768713\n",
            "Saving..\n"
          ],
          "name": "stdout"
        },
        {
          "output_type": "stream",
          "text": [
            "                                                  "
          ],
          "name": "stderr"
        },
        {
          "output_type": "stream",
          "text": [
            "tensor(0.0003, device='cuda:0', grad_fn=<NllLossBackward>)\n"
          ],
          "name": "stdout"
        },
        {
          "output_type": "stream",
          "text": [
            "  0%|          | 0/908 [00:00<?, ?it/s]"
          ],
          "name": "stderr"
        },
        {
          "output_type": "stream",
          "text": [
            "Now acc is 94.11269974768713\n",
            "Saving..\n"
          ],
          "name": "stdout"
        },
        {
          "output_type": "stream",
          "text": [
            "                                                  "
          ],
          "name": "stderr"
        },
        {
          "output_type": "stream",
          "text": [
            "tensor(0.0004, device='cuda:0', grad_fn=<NllLossBackward>)\n"
          ],
          "name": "stdout"
        },
        {
          "output_type": "stream",
          "text": [
            "  0%|          | 0/908 [00:00<?, ?it/s]"
          ],
          "name": "stderr"
        },
        {
          "output_type": "stream",
          "text": [
            "Now acc is 96.55172413793103\n",
            "Saving..\n"
          ],
          "name": "stdout"
        },
        {
          "output_type": "stream",
          "text": [
            "                                                  "
          ],
          "name": "stderr"
        },
        {
          "output_type": "stream",
          "text": [
            "tensor(0.0036, device='cuda:0', grad_fn=<NllLossBackward>)\n"
          ],
          "name": "stdout"
        },
        {
          "output_type": "stream",
          "text": [
            "  0%|          | 0/908 [00:00<?, ?it/s]"
          ],
          "name": "stderr"
        },
        {
          "output_type": "stream",
          "text": [
            "Now acc is 99.49537426408747\n",
            "Saving..\n"
          ],
          "name": "stdout"
        },
        {
          "output_type": "stream",
          "text": [
            "                                                  "
          ],
          "name": "stderr"
        },
        {
          "output_type": "stream",
          "text": [
            "tensor(0.0003, device='cuda:0', grad_fn=<NllLossBackward>)\n"
          ],
          "name": "stdout"
        },
        {
          "output_type": "stream",
          "text": [
            "  0%|          | 0/908 [00:00<?, ?it/s]"
          ],
          "name": "stderr"
        },
        {
          "output_type": "stream",
          "text": [
            "Now acc is 99.07485281749369\n",
            "Saving..\n"
          ],
          "name": "stdout"
        },
        {
          "output_type": "stream",
          "text": [
            "                                                  "
          ],
          "name": "stderr"
        },
        {
          "output_type": "stream",
          "text": [
            "tensor(0.0012, device='cuda:0', grad_fn=<NllLossBackward>)\n"
          ],
          "name": "stdout"
        },
        {
          "output_type": "stream",
          "text": [
            "  0%|          | 0/908 [00:00<?, ?it/s]"
          ],
          "name": "stderr"
        },
        {
          "output_type": "stream",
          "text": [
            "Now acc is 99.74768713204374\n",
            "Saving..\n"
          ],
          "name": "stdout"
        },
        {
          "output_type": "stream",
          "text": [
            "                                                  "
          ],
          "name": "stderr"
        },
        {
          "output_type": "stream",
          "text": [
            "tensor(0.0047, device='cuda:0', grad_fn=<NllLossBackward>)\n"
          ],
          "name": "stdout"
        },
        {
          "output_type": "stream",
          "text": [
            "  0%|          | 0/908 [00:00<?, ?it/s]"
          ],
          "name": "stderr"
        },
        {
          "output_type": "stream",
          "text": [
            "Now acc is 99.07485281749369\n",
            "Saving..\n"
          ],
          "name": "stdout"
        },
        {
          "output_type": "stream",
          "text": [
            "                                                  "
          ],
          "name": "stderr"
        },
        {
          "output_type": "stream",
          "text": [
            "tensor(2.2054e-06, device='cuda:0', grad_fn=<NllLossBackward>)\n"
          ],
          "name": "stdout"
        },
        {
          "output_type": "stream",
          "text": [
            "\r"
          ],
          "name": "stderr"
        },
        {
          "output_type": "stream",
          "text": [
            "Now acc is 99.57947855340622\n",
            "Saving..\n"
          ],
          "name": "stdout"
        }
      ]
    },
    {
      "cell_type": "code",
      "metadata": {
        "id": "CaSQWIZs2Jo9"
      },
      "source": [
        "testset = subDataset(df_test)\n",
        "testloader = DataLoader.DataLoader(testset,batch_size= 4, shuffle = True, num_workers= 1)"
      ],
      "execution_count": 25,
      "outputs": []
    },
    {
      "cell_type": "code",
      "metadata": {
        "id": "RxQbGUZsPE2S"
      },
      "source": [
        "def test_data():\n",
        "    net.eval()\n",
        "    test_loss = 0\n",
        "    correct = 0\n",
        "    total = 0\n",
        "    best_acc=0\n",
        "    with torch.no_grad():\n",
        "    #因为是测试，因此禁止梯度\n",
        "        for batch_idx, (inputs, targets) in enumerate(testloader):\n",
        "            inputs, targets = inputs.to(device), targets.to(device)\n",
        "            outputs = net(inputs)\n",
        "            loss = criterion(outputs, targets)\n",
        "            test_loss += loss.item()\n",
        "            _, predicted = outputs.max(1)\n",
        "            print(predicted)\n",
        "            print(targets)\n",
        "            total += targets.size(0)\n",
        "            correct += predicted.eq(targets).sum().item()\n",
        "\n",
        "    acc = 100. * correct / total\n",
        "    print(\"Now acc is {}\".format(acc))"
      ],
      "execution_count": 26,
      "outputs": []
    },
    {
      "cell_type": "code",
      "metadata": {
        "id": "556FlvaaQW5L",
        "colab": {
          "base_uri": "https://localhost:8080/"
        },
        "outputId": "24273b9b-0b6a-4b2b-d697-06430068d10b"
      },
      "source": [
        "test_data()"
      ],
      "execution_count": 27,
      "outputs": [
        {
          "output_type": "stream",
          "text": [
            "tensor([3, 2, 0, 2], device='cuda:0')\n",
            "tensor([3, 2, 0, 2], device='cuda:0')\n",
            "tensor([0, 3, 0, 3], device='cuda:0')\n",
            "tensor([0, 3, 0, 3], device='cuda:0')\n",
            "tensor([2, 3, 2, 3], device='cuda:0')\n",
            "tensor([2, 3, 2, 3], device='cuda:0')\n",
            "tensor([1, 1, 0, 0], device='cuda:0')\n",
            "tensor([1, 1, 0, 0], device='cuda:0')\n",
            "tensor([0, 0, 3, 0], device='cuda:0')\n",
            "tensor([0, 0, 3, 0], device='cuda:0')\n",
            "tensor([2, 3, 2, 0], device='cuda:0')\n",
            "tensor([2, 3, 2, 0], device='cuda:0')\n",
            "tensor([0, 2, 1, 0], device='cuda:0')\n",
            "tensor([0, 2, 1, 0], device='cuda:0')\n",
            "tensor([0, 0, 0, 3], device='cuda:0')\n",
            "tensor([0, 0, 0, 3], device='cuda:0')\n",
            "tensor([0, 1, 0, 0], device='cuda:0')\n",
            "tensor([0, 1, 0, 0], device='cuda:0')\n",
            "tensor([1, 0, 0, 0], device='cuda:0')\n",
            "tensor([1, 0, 0, 0], device='cuda:0')\n",
            "tensor([1, 3, 0, 0], device='cuda:0')\n",
            "tensor([1, 3, 0, 0], device='cuda:0')\n",
            "tensor([1, 1, 1, 1], device='cuda:0')\n",
            "tensor([1, 1, 1, 1], device='cuda:0')\n",
            "tensor([2, 2, 0, 3], device='cuda:0')\n",
            "tensor([2, 2, 0, 3], device='cuda:0')\n",
            "tensor([0, 3, 0, 0], device='cuda:0')\n",
            "tensor([0, 3, 0, 0], device='cuda:0')\n",
            "tensor([2, 0, 2, 3], device='cuda:0')\n",
            "tensor([2, 0, 2, 3], device='cuda:0')\n",
            "tensor([1, 3, 3, 3], device='cuda:0')\n",
            "tensor([1, 3, 3, 3], device='cuda:0')\n",
            "tensor([3, 2, 0, 1], device='cuda:0')\n",
            "tensor([3, 2, 0, 1], device='cuda:0')\n",
            "tensor([3, 0, 0, 2], device='cuda:0')\n",
            "tensor([3, 0, 0, 2], device='cuda:0')\n",
            "tensor([1, 0, 0, 3], device='cuda:0')\n",
            "tensor([1, 0, 0, 3], device='cuda:0')\n",
            "tensor([3, 1, 1, 1], device='cuda:0')\n",
            "tensor([3, 1, 1, 1], device='cuda:0')\n",
            "tensor([2, 2, 2, 2], device='cuda:0')\n",
            "tensor([2, 2, 2, 2], device='cuda:0')\n",
            "tensor([1, 1, 0, 2], device='cuda:0')\n",
            "tensor([1, 1, 0, 2], device='cuda:0')\n",
            "tensor([2, 0, 0, 0], device='cuda:0')\n",
            "tensor([2, 0, 0, 0], device='cuda:0')\n",
            "tensor([2, 3, 0, 3], device='cuda:0')\n",
            "tensor([2, 3, 0, 3], device='cuda:0')\n",
            "tensor([2, 0, 0, 0], device='cuda:0')\n",
            "tensor([2, 0, 0, 0], device='cuda:0')\n",
            "tensor([0, 2, 0, 0], device='cuda:0')\n",
            "tensor([0, 2, 0, 0], device='cuda:0')\n",
            "tensor([0, 1, 0, 3], device='cuda:0')\n",
            "tensor([0, 1, 0, 3], device='cuda:0')\n",
            "tensor([2, 2, 3, 3], device='cuda:0')\n",
            "tensor([2, 2, 3, 3], device='cuda:0')\n",
            "tensor([1, 3, 3, 0], device='cuda:0')\n",
            "tensor([1, 3, 3, 0], device='cuda:0')\n",
            "tensor([1, 0, 1, 0], device='cuda:0')\n",
            "tensor([1, 0, 1, 0], device='cuda:0')\n",
            "tensor([3, 1, 2, 1], device='cuda:0')\n",
            "tensor([3, 1, 2, 1], device='cuda:0')\n",
            "tensor([0, 0, 0, 0], device='cuda:0')\n",
            "tensor([0, 0, 0, 0], device='cuda:0')\n",
            "tensor([0, 0, 1, 3], device='cuda:0')\n",
            "tensor([0, 0, 1, 3], device='cuda:0')\n",
            "tensor([2, 3, 0, 2], device='cuda:0')\n",
            "tensor([2, 3, 0, 2], device='cuda:0')\n",
            "tensor([1, 1, 0, 2], device='cuda:0')\n",
            "tensor([1, 1, 0, 2], device='cuda:0')\n",
            "tensor([3, 2, 0, 1], device='cuda:0')\n",
            "tensor([3, 2, 0, 1], device='cuda:0')\n",
            "tensor([3, 2, 0, 2], device='cuda:0')\n",
            "tensor([3, 2, 0, 2], device='cuda:0')\n",
            "tensor([0, 0, 1, 1], device='cuda:0')\n",
            "tensor([0, 0, 1, 1], device='cuda:0')\n",
            "tensor([0, 1, 2, 0], device='cuda:0')\n",
            "tensor([0, 1, 2, 0], device='cuda:0')\n",
            "tensor([0, 0, 0, 3], device='cuda:0')\n",
            "tensor([0, 0, 0, 3], device='cuda:0')\n",
            "tensor([2, 0, 0, 0], device='cuda:0')\n",
            "tensor([2, 0, 0, 0], device='cuda:0')\n",
            "tensor([1, 1, 2, 0], device='cuda:0')\n",
            "tensor([1, 1, 2, 0], device='cuda:0')\n",
            "tensor([1, 0, 3, 2], device='cuda:0')\n",
            "tensor([1, 0, 3, 2], device='cuda:0')\n",
            "tensor([0, 0, 2, 2], device='cuda:0')\n",
            "tensor([0, 0, 2, 2], device='cuda:0')\n",
            "tensor([2, 0, 2, 1], device='cuda:0')\n",
            "tensor([2, 0, 2, 1], device='cuda:0')\n",
            "tensor([2, 0, 3, 0], device='cuda:0')\n",
            "tensor([2, 0, 3, 0], device='cuda:0')\n",
            "tensor([2, 3, 2, 1], device='cuda:0')\n",
            "tensor([2, 3, 2, 1], device='cuda:0')\n",
            "tensor([0, 3, 1, 1], device='cuda:0')\n",
            "tensor([0, 3, 2, 1], device='cuda:0')\n",
            "tensor([0, 1, 2, 3], device='cuda:0')\n",
            "tensor([0, 1, 2, 3], device='cuda:0')\n",
            "tensor([3, 3, 2, 2], device='cuda:0')\n",
            "tensor([3, 3, 2, 2], device='cuda:0')\n",
            "tensor([2, 0, 0, 0], device='cuda:0')\n",
            "tensor([2, 0, 0, 0], device='cuda:0')\n",
            "tensor([1, 0, 1, 1], device='cuda:0')\n",
            "tensor([1, 0, 1, 1], device='cuda:0')\n",
            "tensor([2, 0, 3, 0], device='cuda:0')\n",
            "tensor([2, 0, 3, 0], device='cuda:0')\n",
            "tensor([0, 1, 3, 3], device='cuda:0')\n",
            "tensor([0, 1, 3, 3], device='cuda:0')\n",
            "tensor([1, 3, 1, 1], device='cuda:0')\n",
            "tensor([1, 3, 1, 1], device='cuda:0')\n",
            "tensor([0, 3, 3, 0], device='cuda:0')\n",
            "tensor([0, 3, 3, 0], device='cuda:0')\n",
            "tensor([1, 2, 1, 0], device='cuda:0')\n",
            "tensor([1, 2, 1, 0], device='cuda:0')\n",
            "tensor([3, 0, 3, 0], device='cuda:0')\n",
            "tensor([3, 0, 3, 0], device='cuda:0')\n",
            "tensor([1, 0, 0, 0], device='cuda:0')\n",
            "tensor([1, 0, 0, 0], device='cuda:0')\n",
            "tensor([1, 0, 3, 2], device='cuda:0')\n",
            "tensor([1, 0, 3, 2], device='cuda:0')\n",
            "tensor([0, 3, 2, 3], device='cuda:0')\n",
            "tensor([0, 3, 2, 3], device='cuda:0')\n",
            "tensor([0, 0, 2, 0], device='cuda:0')\n",
            "tensor([0, 0, 2, 0], device='cuda:0')\n",
            "tensor([0, 1, 0, 1], device='cuda:0')\n",
            "tensor([0, 1, 0, 1], device='cuda:0')\n",
            "tensor([2, 0, 0, 1], device='cuda:0')\n",
            "tensor([2, 0, 0, 1], device='cuda:0')\n",
            "tensor([3, 1, 3, 1], device='cuda:0')\n",
            "tensor([3, 1, 3, 1], device='cuda:0')\n",
            "tensor([3, 0, 1, 1], device='cuda:0')\n",
            "tensor([3, 0, 1, 1], device='cuda:0')\n",
            "tensor([0, 0, 0, 0], device='cuda:0')\n",
            "tensor([0, 0, 0, 0], device='cuda:0')\n",
            "tensor([0, 0, 2, 0], device='cuda:0')\n",
            "tensor([0, 0, 2, 0], device='cuda:0')\n",
            "tensor([2, 2, 3, 1], device='cuda:0')\n",
            "tensor([2, 2, 3, 3], device='cuda:0')\n",
            "tensor([0, 0, 1, 1], device='cuda:0')\n",
            "tensor([0, 0, 1, 1], device='cuda:0')\n",
            "tensor([3, 1, 0, 1], device='cuda:0')\n",
            "tensor([3, 1, 0, 1], device='cuda:0')\n",
            "tensor([0, 1, 3, 0], device='cuda:0')\n",
            "tensor([0, 1, 3, 0], device='cuda:0')\n",
            "tensor([3, 0, 2, 0], device='cuda:0')\n",
            "tensor([3, 0, 2, 0], device='cuda:0')\n",
            "tensor([0, 1, 3, 2], device='cuda:0')\n",
            "tensor([0, 1, 3, 2], device='cuda:0')\n",
            "tensor([0, 0, 2, 0], device='cuda:0')\n",
            "tensor([0, 0, 2, 0], device='cuda:0')\n",
            "tensor([2, 0, 1, 1], device='cuda:0')\n",
            "tensor([2, 0, 1, 1], device='cuda:0')\n",
            "tensor([3, 3, 2, 2], device='cuda:0')\n",
            "tensor([3, 3, 2, 2], device='cuda:0')\n",
            "tensor([2, 2, 0, 0], device='cuda:0')\n",
            "tensor([2, 2, 0, 0], device='cuda:0')\n",
            "tensor([0, 2, 0, 1], device='cuda:0')\n",
            "tensor([0, 2, 0, 1], device='cuda:0')\n",
            "tensor([3, 0, 2, 3], device='cuda:0')\n",
            "tensor([3, 0, 2, 3], device='cuda:0')\n",
            "tensor([1, 1, 0, 2], device='cuda:0')\n",
            "tensor([1, 1, 0, 2], device='cuda:0')\n",
            "tensor([3, 3, 1, 0], device='cuda:0')\n",
            "tensor([3, 3, 1, 0], device='cuda:0')\n",
            "tensor([2, 1, 1, 2], device='cuda:0')\n",
            "tensor([2, 1, 1, 2], device='cuda:0')\n",
            "tensor([2, 1, 2, 0], device='cuda:0')\n",
            "tensor([2, 1, 2, 0], device='cuda:0')\n",
            "tensor([3, 3, 1, 1], device='cuda:0')\n",
            "tensor([3, 3, 1, 1], device='cuda:0')\n",
            "tensor([2, 0, 2, 0], device='cuda:0')\n",
            "tensor([2, 0, 2, 0], device='cuda:0')\n",
            "tensor([2, 1, 0, 1], device='cuda:0')\n",
            "tensor([2, 1, 0, 1], device='cuda:0')\n",
            "tensor([3, 0, 1, 2], device='cuda:0')\n",
            "tensor([3, 0, 1, 2], device='cuda:0')\n",
            "tensor([0, 2, 0, 1], device='cuda:0')\n",
            "tensor([0, 2, 0, 1], device='cuda:0')\n",
            "tensor([3, 1, 0, 0], device='cuda:0')\n",
            "tensor([3, 1, 0, 0], device='cuda:0')\n",
            "tensor([2, 0, 3, 0], device='cuda:0')\n",
            "tensor([2, 0, 3, 0], device='cuda:0')\n",
            "tensor([1, 0, 1, 2], device='cuda:0')\n",
            "tensor([1, 0, 1, 2], device='cuda:0')\n",
            "tensor([3, 0, 2, 0], device='cuda:0')\n",
            "tensor([3, 0, 2, 0], device='cuda:0')\n",
            "tensor([2, 1, 3, 3], device='cuda:0')\n",
            "tensor([2, 1, 3, 3], device='cuda:0')\n",
            "tensor([2, 3, 0, 3], device='cuda:0')\n",
            "tensor([2, 3, 0, 3], device='cuda:0')\n",
            "tensor([1, 0, 3, 3], device='cuda:0')\n",
            "tensor([1, 0, 3, 3], device='cuda:0')\n",
            "tensor([2, 0, 3, 0], device='cuda:0')\n",
            "tensor([2, 0, 3, 0], device='cuda:0')\n",
            "tensor([0, 1, 2, 2], device='cuda:0')\n",
            "tensor([0, 1, 2, 2], device='cuda:0')\n",
            "tensor([0, 0, 0, 3], device='cuda:0')\n",
            "tensor([0, 0, 0, 3], device='cuda:0')\n",
            "tensor([3, 1, 0, 0], device='cuda:0')\n",
            "tensor([3, 1, 0, 0], device='cuda:0')\n",
            "tensor([0, 1, 1, 0], device='cuda:0')\n",
            "tensor([0, 1, 1, 0], device='cuda:0')\n",
            "tensor([0, 0, 1, 0], device='cuda:0')\n",
            "tensor([0, 0, 1, 0], device='cuda:0')\n",
            "tensor([3, 3, 0, 1], device='cuda:0')\n",
            "tensor([3, 3, 0, 1], device='cuda:0')\n",
            "tensor([2, 3, 1, 0], device='cuda:0')\n",
            "tensor([2, 3, 1, 0], device='cuda:0')\n",
            "tensor([0, 0, 0, 0], device='cuda:0')\n",
            "tensor([0, 0, 0, 0], device='cuda:0')\n",
            "tensor([0, 2, 0, 2], device='cuda:0')\n",
            "tensor([0, 2, 0, 2], device='cuda:0')\n",
            "tensor([0, 2, 3, 3], device='cuda:0')\n",
            "tensor([0, 2, 3, 3], device='cuda:0')\n",
            "tensor([2, 0, 0, 0], device='cuda:0')\n",
            "tensor([2, 0, 0, 0], device='cuda:0')\n",
            "tensor([2, 0, 0, 3], device='cuda:0')\n",
            "tensor([2, 0, 0, 3], device='cuda:0')\n",
            "tensor([0, 2, 3, 0], device='cuda:0')\n",
            "tensor([0, 2, 3, 0], device='cuda:0')\n",
            "tensor([2, 0, 0, 2], device='cuda:0')\n",
            "tensor([2, 0, 0, 2], device='cuda:0')\n",
            "tensor([3, 1, 2, 3], device='cuda:0')\n",
            "tensor([3, 1, 2, 3], device='cuda:0')\n",
            "tensor([1, 0, 2, 2], device='cuda:0')\n",
            "tensor([1, 0, 2, 2], device='cuda:0')\n",
            "tensor([0, 2, 1, 0], device='cuda:0')\n",
            "tensor([0, 2, 1, 0], device='cuda:0')\n",
            "tensor([0, 0, 3, 0], device='cuda:0')\n",
            "tensor([0, 0, 3, 0], device='cuda:0')\n",
            "tensor([0, 0, 2, 0], device='cuda:0')\n",
            "tensor([0, 0, 2, 0], device='cuda:0')\n",
            "tensor([2, 0, 3, 1], device='cuda:0')\n",
            "tensor([2, 0, 3, 2], device='cuda:0')\n",
            "tensor([0, 0, 1, 0], device='cuda:0')\n",
            "tensor([0, 0, 1, 0], device='cuda:0')\n",
            "tensor([2, 0, 2, 3], device='cuda:0')\n",
            "tensor([2, 0, 2, 3], device='cuda:0')\n",
            "tensor([0, 2, 2, 1], device='cuda:0')\n",
            "tensor([0, 2, 2, 1], device='cuda:0')\n",
            "tensor([0, 0, 2, 0], device='cuda:0')\n",
            "tensor([0, 0, 2, 0], device='cuda:0')\n",
            "tensor([3, 0, 3, 0], device='cuda:0')\n",
            "tensor([3, 0, 3, 0], device='cuda:0')\n",
            "tensor([0, 0, 1, 0], device='cuda:0')\n",
            "tensor([0, 0, 1, 0], device='cuda:0')\n",
            "tensor([1, 0, 0, 0], device='cuda:0')\n",
            "tensor([1, 0, 0, 0], device='cuda:0')\n",
            "tensor([3, 0, 0, 3], device='cuda:0')\n",
            "tensor([3, 0, 0, 3], device='cuda:0')\n",
            "tensor([0, 1, 2, 0], device='cuda:0')\n",
            "tensor([0, 1, 2, 0], device='cuda:0')\n",
            "tensor([0, 3, 1, 2], device='cuda:0')\n",
            "tensor([0, 3, 1, 2], device='cuda:0')\n",
            "tensor([1, 3, 2, 1], device='cuda:0')\n",
            "tensor([1, 3, 2, 1], device='cuda:0')\n",
            "tensor([1, 2, 3, 2], device='cuda:0')\n",
            "tensor([1, 2, 3, 2], device='cuda:0')\n",
            "tensor([0, 0, 0, 1], device='cuda:0')\n",
            "tensor([0, 0, 0, 1], device='cuda:0')\n",
            "tensor([2, 3, 0, 2], device='cuda:0')\n",
            "tensor([2, 3, 0, 2], device='cuda:0')\n",
            "tensor([0, 1, 3, 1], device='cuda:0')\n",
            "tensor([0, 1, 3, 1], device='cuda:0')\n",
            "tensor([1, 1, 1, 1], device='cuda:0')\n",
            "tensor([1, 1, 1, 1], device='cuda:0')\n",
            "tensor([3, 0, 0, 0], device='cuda:0')\n",
            "tensor([3, 0, 0, 0], device='cuda:0')\n",
            "tensor([0, 1, 2, 3], device='cuda:0')\n",
            "tensor([0, 1, 2, 3], device='cuda:0')\n",
            "tensor([1, 3, 0, 2], device='cuda:0')\n",
            "tensor([1, 3, 0, 2], device='cuda:0')\n",
            "tensor([0, 3, 3, 3], device='cuda:0')\n",
            "tensor([0, 3, 3, 3], device='cuda:0')\n",
            "tensor([2, 0, 3, 0], device='cuda:0')\n",
            "tensor([2, 0, 3, 0], device='cuda:0')\n",
            "tensor([1, 2, 0, 3], device='cuda:0')\n",
            "tensor([1, 2, 0, 3], device='cuda:0')\n",
            "tensor([3, 0, 0, 0], device='cuda:0')\n",
            "tensor([3, 0, 0, 0], device='cuda:0')\n",
            "tensor([1, 1, 2, 1], device='cuda:0')\n",
            "tensor([1, 1, 2, 1], device='cuda:0')\n",
            "tensor([1, 1, 2, 2], device='cuda:0')\n",
            "tensor([1, 1, 2, 2], device='cuda:0')\n",
            "tensor([3, 0, 0, 3], device='cuda:0')\n",
            "tensor([3, 0, 0, 3], device='cuda:0')\n",
            "tensor([2, 1, 1, 0], device='cuda:0')\n",
            "tensor([2, 1, 1, 0], device='cuda:0')\n",
            "tensor([0, 0, 0, 3], device='cuda:0')\n",
            "tensor([0, 0, 0, 3], device='cuda:0')\n",
            "tensor([2, 0, 2, 0], device='cuda:0')\n",
            "tensor([2, 0, 2, 0], device='cuda:0')\n",
            "tensor([0, 1, 0, 2], device='cuda:0')\n",
            "tensor([0, 1, 0, 2], device='cuda:0')\n",
            "tensor([0, 2, 2, 0], device='cuda:0')\n",
            "tensor([0, 2, 2, 0], device='cuda:0')\n",
            "tensor([2, 2, 2, 3], device='cuda:0')\n",
            "tensor([2, 2, 2, 3], device='cuda:0')\n",
            "tensor([0, 0, 0, 1], device='cuda:0')\n",
            "tensor([0, 0, 0, 1], device='cuda:0')\n",
            "tensor([0, 3, 0, 3], device='cuda:0')\n",
            "tensor([0, 3, 0, 3], device='cuda:0')\n",
            "tensor([0, 3, 3, 0], device='cuda:0')\n",
            "tensor([0, 3, 3, 0], device='cuda:0')\n",
            "tensor([0, 0, 3, 1], device='cuda:0')\n",
            "tensor([0, 0, 3, 1], device='cuda:0')\n",
            "tensor([3, 0, 0, 1], device='cuda:0')\n",
            "tensor([3, 0, 0, 1], device='cuda:0')\n",
            "tensor([1, 3, 0, 0], device='cuda:0')\n",
            "tensor([1, 3, 0, 0], device='cuda:0')\n",
            "tensor([1, 3, 2, 1], device='cuda:0')\n",
            "tensor([1, 3, 2, 1], device='cuda:0')\n",
            "tensor([1, 1, 0, 3], device='cuda:0')\n",
            "tensor([1, 1, 0, 3], device='cuda:0')\n",
            "tensor([2, 1, 0, 1], device='cuda:0')\n",
            "tensor([2, 2, 0, 1], device='cuda:0')\n",
            "tensor([2, 0, 0, 0], device='cuda:0')\n",
            "tensor([2, 0, 0, 0], device='cuda:0')\n",
            "tensor([1, 0, 0, 3], device='cuda:0')\n",
            "tensor([1, 0, 0, 3], device='cuda:0')\n",
            "tensor([0, 0, 3, 0], device='cuda:0')\n",
            "tensor([0, 0, 3, 0], device='cuda:0')\n",
            "tensor([3, 1, 2, 0], device='cuda:0')\n",
            "tensor([3, 1, 2, 0], device='cuda:0')\n",
            "tensor([1, 1, 1, 0], device='cuda:0')\n",
            "tensor([1, 0, 1, 0], device='cuda:0')\n",
            "tensor([0, 3, 2, 2], device='cuda:0')\n",
            "tensor([0, 3, 2, 2], device='cuda:0')\n",
            "tensor([2, 0, 1, 0], device='cuda:0')\n",
            "tensor([2, 0, 1, 0], device='cuda:0')\n",
            "tensor([0, 0, 2, 3], device='cuda:0')\n",
            "tensor([0, 0, 2, 3], device='cuda:0')\n",
            "tensor([2, 2, 1, 1], device='cuda:0')\n",
            "tensor([2, 2, 1, 1], device='cuda:0')\n",
            "tensor([2, 0, 1, 1], device='cuda:0')\n",
            "tensor([2, 0, 1, 1], device='cuda:0')\n",
            "tensor([1, 0, 3, 0], device='cuda:0')\n",
            "tensor([1, 0, 3, 0], device='cuda:0')\n",
            "tensor([2, 2, 1, 0], device='cuda:0')\n",
            "tensor([3, 2, 1, 0], device='cuda:0')\n",
            "tensor([2, 3, 3, 3], device='cuda:0')\n",
            "tensor([2, 3, 3, 3], device='cuda:0')\n",
            "tensor([3, 0, 0, 1], device='cuda:0')\n",
            "tensor([3, 0, 0, 1], device='cuda:0')\n",
            "tensor([1, 3, 2, 3], device='cuda:0')\n",
            "tensor([1, 3, 2, 3], device='cuda:0')\n",
            "tensor([0, 3, 3, 0], device='cuda:0')\n",
            "tensor([0, 3, 3, 0], device='cuda:0')\n",
            "tensor([0, 1, 1, 2], device='cuda:0')\n",
            "tensor([0, 1, 1, 2], device='cuda:0')\n",
            "tensor([0, 1, 0, 2], device='cuda:0')\n",
            "tensor([0, 1, 0, 2], device='cuda:0')\n",
            "tensor([3, 0, 2, 1], device='cuda:0')\n",
            "tensor([3, 0, 2, 1], device='cuda:0')\n",
            "tensor([1, 3, 3, 0], device='cuda:0')\n",
            "tensor([1, 3, 3, 0], device='cuda:0')\n",
            "tensor([3, 2, 2, 3], device='cuda:0')\n",
            "tensor([3, 2, 2, 3], device='cuda:0')\n",
            "tensor([1, 0, 0, 0], device='cuda:0')\n",
            "tensor([1, 0, 0, 0], device='cuda:0')\n",
            "tensor([3, 3, 2, 3], device='cuda:0')\n",
            "tensor([3, 3, 2, 3], device='cuda:0')\n",
            "tensor([3, 0, 3, 0], device='cuda:0')\n",
            "tensor([3, 0, 3, 0], device='cuda:0')\n",
            "tensor([3, 2, 1, 1], device='cuda:0')\n",
            "tensor([3, 2, 1, 1], device='cuda:0')\n",
            "tensor([0, 2, 0, 1], device='cuda:0')\n",
            "tensor([0, 2, 0, 1], device='cuda:0')\n",
            "tensor([2, 0, 3, 2], device='cuda:0')\n",
            "tensor([2, 0, 3, 2], device='cuda:0')\n",
            "tensor([3, 1, 0, 1], device='cuda:0')\n",
            "tensor([3, 1, 0, 1], device='cuda:0')\n",
            "tensor([0, 0, 1, 3], device='cuda:0')\n",
            "tensor([0, 0, 1, 3], device='cuda:0')\n",
            "tensor([0, 0, 0, 0], device='cuda:0')\n",
            "tensor([0, 0, 0, 0], device='cuda:0')\n",
            "tensor([2, 0, 0, 2], device='cuda:0')\n",
            "tensor([2, 0, 0, 2], device='cuda:0')\n",
            "tensor([1, 2, 0, 2], device='cuda:0')\n",
            "tensor([1, 2, 0, 2], device='cuda:0')\n",
            "tensor([0, 3, 0, 1], device='cuda:0')\n",
            "tensor([0, 3, 0, 1], device='cuda:0')\n",
            "tensor([3, 1, 0, 2], device='cuda:0')\n",
            "tensor([3, 1, 0, 2], device='cuda:0')\n",
            "tensor([0, 0, 3, 2], device='cuda:0')\n",
            "tensor([0, 0, 3, 2], device='cuda:0')\n",
            "tensor([0, 1, 0, 0], device='cuda:0')\n",
            "tensor([0, 1, 0, 0], device='cuda:0')\n",
            "tensor([0, 2, 0, 0], device='cuda:0')\n",
            "tensor([0, 2, 0, 0], device='cuda:0')\n",
            "tensor([0, 0, 0, 0], device='cuda:0')\n",
            "tensor([0, 0, 0, 0], device='cuda:0')\n",
            "tensor([3, 0, 2, 0], device='cuda:0')\n",
            "tensor([3, 0, 2, 0], device='cuda:0')\n",
            "tensor([1, 0, 0, 0], device='cuda:0')\n",
            "tensor([1, 0, 0, 0], device='cuda:0')\n",
            "tensor([0, 0, 0, 0], device='cuda:0')\n",
            "tensor([0, 0, 0, 0], device='cuda:0')\n",
            "tensor([2, 2, 3, 0], device='cuda:0')\n",
            "tensor([2, 3, 3, 0], device='cuda:0')\n",
            "tensor([0, 1, 0, 0], device='cuda:0')\n",
            "tensor([0, 1, 0, 0], device='cuda:0')\n",
            "tensor([2, 3, 0, 0], device='cuda:0')\n",
            "tensor([2, 3, 0, 0], device='cuda:0')\n",
            "tensor([2, 3, 2, 1], device='cuda:0')\n",
            "tensor([2, 3, 2, 1], device='cuda:0')\n",
            "tensor([3, 3, 0, 2], device='cuda:0')\n",
            "tensor([3, 3, 0, 2], device='cuda:0')\n",
            "tensor([0, 2, 0, 0], device='cuda:0')\n",
            "tensor([0, 2, 0, 0], device='cuda:0')\n",
            "tensor([0, 0, 0, 0], device='cuda:0')\n",
            "tensor([0, 0, 0, 0], device='cuda:0')\n",
            "tensor([0, 1, 3, 2], device='cuda:0')\n",
            "tensor([0, 1, 3, 2], device='cuda:0')\n",
            "tensor([2, 0, 2, 0], device='cuda:0')\n",
            "tensor([2, 0, 2, 0], device='cuda:0')\n",
            "tensor([1, 0, 3, 1], device='cuda:0')\n",
            "tensor([1, 0, 3, 1], device='cuda:0')\n",
            "tensor([3, 1, 2, 0], device='cuda:0')\n",
            "tensor([3, 1, 2, 0], device='cuda:0')\n",
            "tensor([2, 2, 2, 1], device='cuda:0')\n",
            "tensor([2, 2, 2, 1], device='cuda:0')\n",
            "tensor([0, 0, 0, 0], device='cuda:0')\n",
            "tensor([0, 0, 0, 0], device='cuda:0')\n",
            "tensor([0, 0, 0, 3], device='cuda:0')\n",
            "tensor([0, 0, 0, 3], device='cuda:0')\n",
            "tensor([1, 0, 2, 2], device='cuda:0')\n",
            "tensor([1, 0, 2, 2], device='cuda:0')\n",
            "tensor([3, 0, 2, 2], device='cuda:0')\n",
            "tensor([3, 0, 2, 2], device='cuda:0')\n",
            "tensor([0, 2, 2, 3], device='cuda:0')\n",
            "tensor([0, 2, 2, 3], device='cuda:0')\n",
            "tensor([1, 0, 0, 0], device='cuda:0')\n",
            "tensor([1, 0, 0, 0], device='cuda:0')\n",
            "tensor([1, 2, 1, 2], device='cuda:0')\n",
            "tensor([1, 2, 1, 2], device='cuda:0')\n",
            "tensor([0, 3, 1, 3], device='cuda:0')\n",
            "tensor([0, 3, 1, 3], device='cuda:0')\n",
            "tensor([3, 0, 2, 0], device='cuda:0')\n",
            "tensor([3, 0, 2, 0], device='cuda:0')\n",
            "tensor([3, 0, 3, 2], device='cuda:0')\n",
            "tensor([3, 0, 3, 2], device='cuda:0')\n",
            "tensor([3, 0, 3, 0], device='cuda:0')\n",
            "tensor([3, 0, 3, 0], device='cuda:0')\n",
            "tensor([0, 3, 2, 1], device='cuda:0')\n",
            "tensor([0, 3, 2, 1], device='cuda:0')\n",
            "tensor([2, 2, 0, 2], device='cuda:0')\n",
            "tensor([2, 2, 0, 2], device='cuda:0')\n",
            "tensor([3, 0, 0, 0], device='cuda:0')\n",
            "tensor([3, 0, 0, 0], device='cuda:0')\n",
            "tensor([3, 1, 0, 0], device='cuda:0')\n",
            "tensor([3, 1, 0, 0], device='cuda:0')\n",
            "tensor([3, 1, 0, 0], device='cuda:0')\n",
            "tensor([3, 1, 0, 0], device='cuda:0')\n",
            "tensor([1, 3, 3, 1], device='cuda:0')\n",
            "tensor([1, 3, 3, 1], device='cuda:0')\n",
            "tensor([2, 0, 1, 2], device='cuda:0')\n",
            "tensor([2, 0, 1, 2], device='cuda:0')\n",
            "tensor([0, 0, 0, 0], device='cuda:0')\n",
            "tensor([0, 0, 0, 0], device='cuda:0')\n",
            "tensor([0, 2, 0, 2], device='cuda:0')\n",
            "tensor([0, 2, 0, 2], device='cuda:0')\n",
            "tensor([3, 0, 1, 1], device='cuda:0')\n",
            "tensor([3, 0, 1, 1], device='cuda:0')\n",
            "tensor([0, 0, 0, 0], device='cuda:0')\n",
            "tensor([0, 0, 0, 0], device='cuda:0')\n",
            "tensor([1, 1, 3, 3], device='cuda:0')\n",
            "tensor([1, 1, 3, 3], device='cuda:0')\n",
            "tensor([3, 0, 0, 3], device='cuda:0')\n",
            "tensor([3, 0, 0, 3], device='cuda:0')\n",
            "tensor([0, 1, 3, 0], device='cuda:0')\n",
            "tensor([0, 1, 3, 0], device='cuda:0')\n",
            "tensor([0, 1, 0, 1], device='cuda:0')\n",
            "tensor([0, 1, 0, 1], device='cuda:0')\n",
            "tensor([0, 1, 2, 1], device='cuda:0')\n",
            "tensor([0, 1, 2, 0], device='cuda:0')\n",
            "tensor([0, 0, 0, 3], device='cuda:0')\n",
            "tensor([0, 0, 0, 3], device='cuda:0')\n",
            "tensor([2, 2, 1, 0], device='cuda:0')\n",
            "tensor([2, 2, 1, 0], device='cuda:0')\n",
            "tensor([3, 3, 0, 0], device='cuda:0')\n",
            "tensor([3, 3, 0, 0], device='cuda:0')\n",
            "tensor([0, 3, 0, 2], device='cuda:0')\n",
            "tensor([0, 3, 0, 2], device='cuda:0')\n",
            "tensor([0, 1, 0, 0], device='cuda:0')\n",
            "tensor([0, 1, 0, 0], device='cuda:0')\n",
            "tensor([1, 0, 1, 1], device='cuda:0')\n",
            "tensor([1, 0, 1, 1], device='cuda:0')\n",
            "tensor([2, 0, 0, 0], device='cuda:0')\n",
            "tensor([2, 0, 0, 0], device='cuda:0')\n",
            "tensor([0, 3, 0, 0], device='cuda:0')\n",
            "tensor([0, 3, 0, 0], device='cuda:0')\n",
            "tensor([0, 3, 0, 2], device='cuda:0')\n",
            "tensor([0, 3, 0, 2], device='cuda:0')\n",
            "tensor([1, 2, 3, 0], device='cuda:0')\n",
            "tensor([1, 2, 3, 0], device='cuda:0')\n",
            "tensor([3, 2, 0, 3], device='cuda:0')\n",
            "tensor([3, 2, 0, 3], device='cuda:0')\n",
            "tensor([0, 3, 0, 1], device='cuda:0')\n",
            "tensor([0, 3, 0, 1], device='cuda:0')\n",
            "tensor([2, 0, 1, 0], device='cuda:0')\n",
            "tensor([2, 0, 1, 0], device='cuda:0')\n",
            "tensor([0, 0, 1, 2], device='cuda:0')\n",
            "tensor([0, 0, 1, 3], device='cuda:0')\n",
            "tensor([0, 1, 2, 0], device='cuda:0')\n",
            "tensor([0, 1, 2, 0], device='cuda:0')\n",
            "tensor([2, 3, 3, 3], device='cuda:0')\n",
            "tensor([2, 3, 3, 3], device='cuda:0')\n",
            "tensor([3, 1, 3, 0], device='cuda:0')\n",
            "tensor([3, 1, 3, 0], device='cuda:0')\n",
            "tensor([3, 3, 1, 0], device='cuda:0')\n",
            "tensor([3, 3, 1, 0], device='cuda:0')\n",
            "tensor([0, 1, 3, 2], device='cuda:0')\n",
            "tensor([0, 1, 3, 2], device='cuda:0')\n",
            "tensor([0, 0, 0, 1], device='cuda:0')\n",
            "tensor([0, 0, 0, 1], device='cuda:0')\n",
            "tensor([3, 3, 2, 0], device='cuda:0')\n",
            "tensor([3, 3, 2, 0], device='cuda:0')\n",
            "tensor([1, 1, 3, 2], device='cuda:0')\n",
            "tensor([1, 1, 3, 2], device='cuda:0')\n",
            "tensor([3, 2, 3, 0], device='cuda:0')\n",
            "tensor([3, 2, 3, 0], device='cuda:0')\n",
            "tensor([0, 0, 0, 3], device='cuda:0')\n",
            "tensor([0, 0, 0, 3], device='cuda:0')\n",
            "tensor([1, 1, 2, 2], device='cuda:0')\n",
            "tensor([1, 1, 2, 2], device='cuda:0')\n",
            "tensor([1, 3, 2, 0], device='cuda:0')\n",
            "tensor([1, 3, 2, 0], device='cuda:0')\n",
            "tensor([1, 2, 0, 2], device='cuda:0')\n",
            "tensor([1, 3, 0, 2], device='cuda:0')\n",
            "tensor([0, 2, 0, 2], device='cuda:0')\n",
            "tensor([0, 2, 0, 2], device='cuda:0')\n",
            "tensor([3, 0, 0, 0], device='cuda:0')\n",
            "tensor([3, 0, 0, 0], device='cuda:0')\n",
            "tensor([1, 2, 2, 0], device='cuda:0')\n",
            "tensor([1, 2, 2, 0], device='cuda:0')\n",
            "tensor([0, 0, 2, 3], device='cuda:0')\n",
            "tensor([0, 0, 2, 3], device='cuda:0')\n",
            "tensor([1, 3, 0, 2], device='cuda:0')\n",
            "tensor([1, 3, 0, 2], device='cuda:0')\n",
            "tensor([0, 1, 2, 3], device='cuda:0')\n",
            "tensor([0, 1, 2, 3], device='cuda:0')\n",
            "tensor([1, 0, 2, 1], device='cuda:0')\n",
            "tensor([1, 0, 2, 1], device='cuda:0')\n",
            "tensor([0, 1, 1, 2], device='cuda:0')\n",
            "tensor([0, 1, 1, 2], device='cuda:0')\n",
            "tensor([3, 2, 3, 2], device='cuda:0')\n",
            "tensor([3, 2, 3, 2], device='cuda:0')\n",
            "tensor([3, 0, 0, 3], device='cuda:0')\n",
            "tensor([3, 0, 0, 3], device='cuda:0')\n",
            "tensor([2, 2, 3, 0], device='cuda:0')\n",
            "tensor([2, 2, 3, 0], device='cuda:0')\n",
            "tensor([0, 0, 3, 0], device='cuda:0')\n",
            "tensor([1, 1, 3, 0], device='cuda:0')\n",
            "tensor([1, 0, 3, 0], device='cuda:0')\n",
            "tensor([1, 0, 3, 0], device='cuda:0')\n",
            "tensor([1, 0, 1, 3], device='cuda:0')\n",
            "tensor([1, 0, 1, 3], device='cuda:0')\n",
            "tensor([0, 0, 2, 0], device='cuda:0')\n",
            "tensor([0, 0, 2, 0], device='cuda:0')\n",
            "tensor([1, 0, 1, 3], device='cuda:0')\n",
            "tensor([1, 0, 1, 3], device='cuda:0')\n",
            "tensor([3, 0, 1, 1], device='cuda:0')\n",
            "tensor([3, 0, 1, 1], device='cuda:0')\n",
            "tensor([1, 0, 0, 0], device='cuda:0')\n",
            "tensor([1, 0, 0, 0], device='cuda:0')\n",
            "tensor([0, 0, 2, 0], device='cuda:0')\n",
            "tensor([0, 0, 2, 0], device='cuda:0')\n",
            "tensor([2, 1, 0, 3], device='cuda:0')\n",
            "tensor([2, 1, 0, 3], device='cuda:0')\n",
            "tensor([0, 0, 1, 3], device='cuda:0')\n",
            "tensor([0, 0, 1, 3], device='cuda:0')\n",
            "tensor([2, 0, 0, 0], device='cuda:0')\n",
            "tensor([2, 0, 0, 0], device='cuda:0')\n",
            "tensor([0, 1, 2, 2], device='cuda:0')\n",
            "tensor([0, 1, 2, 2], device='cuda:0')\n",
            "tensor([3, 1, 0, 1], device='cuda:0')\n",
            "tensor([3, 1, 0, 1], device='cuda:0')\n",
            "tensor([2, 0, 1, 0], device='cuda:0')\n",
            "tensor([2, 0, 1, 0], device='cuda:0')\n",
            "tensor([0, 3, 2, 0], device='cuda:0')\n",
            "tensor([0, 3, 2, 0], device='cuda:0')\n",
            "tensor([0, 2, 0, 3], device='cuda:0')\n",
            "tensor([0, 2, 0, 3], device='cuda:0')\n",
            "tensor([1, 0, 0, 1], device='cuda:0')\n",
            "tensor([1, 0, 0, 1], device='cuda:0')\n",
            "tensor([2, 1, 0, 3], device='cuda:0')\n",
            "tensor([2, 1, 0, 3], device='cuda:0')\n",
            "tensor([0, 3, 0, 3], device='cuda:0')\n",
            "tensor([0, 3, 0, 3], device='cuda:0')\n",
            "tensor([1, 1, 1, 3], device='cuda:0')\n",
            "tensor([1, 1, 1, 3], device='cuda:0')\n",
            "tensor([2, 1, 2, 3], device='cuda:0')\n",
            "tensor([2, 1, 2, 3], device='cuda:0')\n",
            "tensor([1], device='cuda:0')\n",
            "tensor([1], device='cuda:0')\n",
            "Now acc is 98.99074852817493\n"
          ],
          "name": "stdout"
        }
      ]
    },
    {
      "cell_type": "code",
      "metadata": {
        "id": "deot1fhhQZqe"
      },
      "source": [
        "class Generator(nn.Module):\n",
        "    def __init__(self):\n",
        "        super(Generator, self).__init__()\n",
        "\n",
        "        self.label_emb = nn.Embedding(1, 4)\n",
        "        def block(in_feat, out_feat, normalize=True):\n",
        "            layers = [nn.Linear(in_feat, out_feat)]\n",
        "            if normalize:\n",
        "                layers.append(nn.BatchNorm1d(out_feat, 0.8))\n",
        "            layers.append(nn.LeakyReLU(0.2, inplace=True))\n",
        "            return layers\n",
        "\n",
        "        self.model = nn.Sequential(\n",
        "            *block(100 + 4, 128, normalize=False),\n",
        "            *block(128, 256),\n",
        "            *block(256, 512),\n",
        "            *block(512, 1024),\n",
        "            nn.Linear(1024, 800),\n",
        "            nn.Tanh()\n",
        "        )\n",
        "\n",
        "    def forward(self, noise, labels):\n",
        "        # Concatenate label embedding and image to produce input\n",
        "        gen_input = torch.cat((self.label_emb(labels), noise), -1)\n",
        "        time_data = self.model(gen_input)\n",
        "        return time_data"
      ],
      "execution_count": 43,
      "outputs": []
    },
    {
      "cell_type": "code",
      "metadata": {
        "id": "jSpYzOMMMIz9"
      },
      "source": [
        "class Discriminator(nn.Module):\n",
        "    def __init__(self):\n",
        "        super(Discriminator, self).__init__()\n",
        "\n",
        "        self.label_embedding = nn.Embedding(1, 4)\n",
        "\n",
        "        self.model = nn.Sequential(\n",
        "            nn.Linear(4 + 800, 512),\n",
        "            nn.LeakyReLU(0.2, inplace=True),\n",
        "            nn.Linear(512, 512),\n",
        "            nn.Dropout(0.4),\n",
        "            nn.LeakyReLU(0.2, inplace=True),\n",
        "            nn.Linear(512, 512),\n",
        "            nn.Dropout(0.4),\n",
        "            nn.LeakyReLU(0.2, inplace=True),\n",
        "            nn.Linear(512, 1),\n",
        "        )\n",
        "\n",
        "    def forward(self, img, labels):\n",
        "        # Concatenate label embedding and image to produce input\n",
        "        d_in = torch.cat(data, self.label_embedding(labels), -1)\n",
        "        validity = self.model(d_in)\n",
        "        return validity"
      ],
      "execution_count": 40,
      "outputs": []
    },
    {
      "cell_type": "code",
      "metadata": {
        "id": "nZapDaaJNr8K"
      },
      "source": [
        "# Loss functions\n",
        "adversarial_loss = torch.nn.MSELoss()\n",
        "\n",
        "# Initialize generator and discriminator\n",
        "generator = Generator()\n",
        "discriminator = Discriminator()\n",
        "\n",
        "optimizer_G = torch.optim.Adam(generator.parameters(), lr=0.01)\n",
        "optimizer_D = torch.optim.Adam(discriminator.parameters(), lr=0.01)"
      ],
      "execution_count": 44,
      "outputs": []
    },
    {
      "cell_type": "code",
      "metadata": {
        "id": "KWiOXAjcZqMs"
      },
      "source": [
        "\n",
        "# ----------\n",
        "#  Training\n",
        "# ----------\n",
        "\n",
        "for epoch in range(opt.n_epochs):\n",
        "    for data in tqdm(dataloader, leave=False, total=len(dataloader)):\n",
        "        inputs=data[0]\n",
        "        targets=data[1]\n",
        "        inputs=inputs.to(device)\n",
        "        targets=targets.to(device)\n",
        "\n",
        "        #每次喂入数据前，都需要将梯度清零\n",
        "        outputs = net(inputs)\n",
        "        loss = criterion(outputs, targets)\n",
        "        #计算loss\n",
        "        loss.backward()\n",
        "        #传回反向梯度\n",
        "        optimizer.step()\n",
        "\n",
        "        # Adversarial ground truths\n",
        "        valid = Variable(FloatTensor(4, 1).fill_(1.0), requires_grad=False)\n",
        "        fake = Variable(FloatTensor(4, 1).fill_(0.0), requires_grad=False)\n",
        "\n",
        "        # Configure input\n",
        "        real_data = inputs\n",
        "        labels = targets\n",
        "\n",
        "        # -----------------\n",
        "        #  Train Generator\n",
        "        # -----------------\n",
        "\n",
        "        optimizer_G.zero_grad()\n",
        "\n",
        "        # Sample noise and labels as generator input\n",
        "        z = Variable(FloatTensor(np.random.normal(0, 1, (4, 100))))\n",
        "        gen_labels = Variable(LongTensor(np.random.randint(0, 4, 4)))\n",
        "\n",
        "        # Generate a batch of images\n",
        "        gen_imgs = generator(z, gen_labels)\n",
        "\n",
        "        # Loss measures generator's ability to fool the discriminator\n",
        "        validity = discriminator(gen_imgs, gen_labels)\n",
        "        g_loss = adversarial_loss(validity, valid)\n",
        "\n",
        "        g_loss.backward()\n",
        "        optimizer_G.step()\n",
        "\n",
        "        # ---------------------\n",
        "        #  Train Discriminator\n",
        "        # ---------------------\n",
        "\n",
        "        optimizer_D.zero_grad()\n",
        "\n",
        "        # Loss for real images\n",
        "        validity_real = discriminator(real_imgs, labels)\n",
        "        d_real_loss = adversarial_loss(validity_real, valid)\n",
        "\n",
        "        # Loss for fake images\n",
        "        validity_fake = discriminator(gen_imgs.detach(), gen_labels)\n",
        "        d_fake_loss = adversarial_loss(validity_fake, fake)\n",
        "\n",
        "        # Total discriminator loss\n",
        "        d_loss = (d_real_loss + d_fake_loss) / 2\n",
        "\n",
        "        d_loss.backward()\n",
        "        optimizer_D.step()\n",
        "\n",
        "        print(\n",
        "            \"[Epoch %d/%d] [Batch %d/%d] [D loss: %f] [G loss: %f]\"\n",
        "            % (epoch, opt.n_epochs, i, len(dataloader), d_loss.item(), g_loss.item())\n",
        "        )\n",
        "\n",
        "        batches_done = epoch * len(dataloader) + i\n",
        "        if batches_done % opt.sample_interval == 0:\n",
        "            sample_image(n_row=10, batches_done=batches_done)"
      ],
      "execution_count": null,
      "outputs": []
    }
  ]
}