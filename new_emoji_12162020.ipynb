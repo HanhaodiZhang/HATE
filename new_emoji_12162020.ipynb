{
  "nbformat": 4,
  "nbformat_minor": 0,
  "metadata": {
    "colab": {
      "name": "Untitled20.ipynb",
      "provenance": [],
      "authorship_tag": "ABX9TyMlNXtAd719pVSM3NTYrajK",
      "include_colab_link": true
    },
    "kernelspec": {
      "name": "python3",
      "display_name": "Python 3"
    },
    "accelerator": "GPU",
    "widgets": {
      "application/vnd.jupyter.widget-state+json": {
        "17b296489f774138a2ed371bf2b846df": {
          "model_module": "@jupyter-widgets/controls",
          "model_name": "HBoxModel",
          "state": {
            "_view_name": "HBoxView",
            "_dom_classes": [],
            "_model_name": "HBoxModel",
            "_view_module": "@jupyter-widgets/controls",
            "_model_module_version": "1.5.0",
            "_view_count": null,
            "_view_module_version": "1.5.0",
            "box_style": "",
            "layout": "IPY_MODEL_bbeb420077114356af39d3cfaaaa737e",
            "_model_module": "@jupyter-widgets/controls",
            "children": [
              "IPY_MODEL_c15fc52ff509441ea523f6013a666348",
              "IPY_MODEL_4594cef96ecb4b1f8f5d8c89b7e3c225"
            ]
          }
        },
        "bbeb420077114356af39d3cfaaaa737e": {
          "model_module": "@jupyter-widgets/base",
          "model_name": "LayoutModel",
          "state": {
            "_view_name": "LayoutView",
            "grid_template_rows": null,
            "right": null,
            "justify_content": null,
            "_view_module": "@jupyter-widgets/base",
            "overflow": null,
            "_model_module_version": "1.2.0",
            "_view_count": null,
            "flex_flow": null,
            "width": null,
            "min_width": null,
            "border": null,
            "align_items": null,
            "bottom": null,
            "_model_module": "@jupyter-widgets/base",
            "top": null,
            "grid_column": null,
            "overflow_y": null,
            "overflow_x": null,
            "grid_auto_flow": null,
            "grid_area": null,
            "grid_template_columns": null,
            "flex": null,
            "_model_name": "LayoutModel",
            "justify_items": null,
            "grid_row": null,
            "max_height": null,
            "align_content": null,
            "visibility": null,
            "align_self": null,
            "height": null,
            "min_height": null,
            "padding": null,
            "grid_auto_rows": null,
            "grid_gap": null,
            "max_width": null,
            "order": null,
            "_view_module_version": "1.2.0",
            "grid_template_areas": null,
            "object_position": null,
            "object_fit": null,
            "grid_auto_columns": null,
            "margin": null,
            "display": null,
            "left": null
          }
        },
        "c15fc52ff509441ea523f6013a666348": {
          "model_module": "@jupyter-widgets/controls",
          "model_name": "FloatProgressModel",
          "state": {
            "_view_name": "ProgressView",
            "style": "IPY_MODEL_91ebab44cf2b4c5da24683cc89a6cdb4",
            "_dom_classes": [],
            "description": "100%",
            "_model_name": "FloatProgressModel",
            "bar_style": "success",
            "max": 3,
            "_view_module": "@jupyter-widgets/controls",
            "_model_module_version": "1.5.0",
            "value": 3,
            "_view_count": null,
            "_view_module_version": "1.5.0",
            "orientation": "horizontal",
            "min": 0,
            "description_tooltip": null,
            "_model_module": "@jupyter-widgets/controls",
            "layout": "IPY_MODEL_a19fce2e15e945058fe3594fe57c7e85"
          }
        },
        "4594cef96ecb4b1f8f5d8c89b7e3c225": {
          "model_module": "@jupyter-widgets/controls",
          "model_name": "HTMLModel",
          "state": {
            "_view_name": "HTMLView",
            "style": "IPY_MODEL_7b77f5799956439a85fcd842e9d4de10",
            "_dom_classes": [],
            "description": "",
            "_model_name": "HTMLModel",
            "placeholder": "​",
            "_view_module": "@jupyter-widgets/controls",
            "_model_module_version": "1.5.0",
            "value": " 3/3 [26:12&lt;00:00, 524.23s/it]",
            "_view_count": null,
            "_view_module_version": "1.5.0",
            "description_tooltip": null,
            "_model_module": "@jupyter-widgets/controls",
            "layout": "IPY_MODEL_6182fea4e1514ab5a003b9433c3815fa"
          }
        },
        "91ebab44cf2b4c5da24683cc89a6cdb4": {
          "model_module": "@jupyter-widgets/controls",
          "model_name": "ProgressStyleModel",
          "state": {
            "_view_name": "StyleView",
            "_model_name": "ProgressStyleModel",
            "description_width": "initial",
            "_view_module": "@jupyter-widgets/base",
            "_model_module_version": "1.5.0",
            "_view_count": null,
            "_view_module_version": "1.2.0",
            "bar_color": null,
            "_model_module": "@jupyter-widgets/controls"
          }
        },
        "a19fce2e15e945058fe3594fe57c7e85": {
          "model_module": "@jupyter-widgets/base",
          "model_name": "LayoutModel",
          "state": {
            "_view_name": "LayoutView",
            "grid_template_rows": null,
            "right": null,
            "justify_content": null,
            "_view_module": "@jupyter-widgets/base",
            "overflow": null,
            "_model_module_version": "1.2.0",
            "_view_count": null,
            "flex_flow": null,
            "width": null,
            "min_width": null,
            "border": null,
            "align_items": null,
            "bottom": null,
            "_model_module": "@jupyter-widgets/base",
            "top": null,
            "grid_column": null,
            "overflow_y": null,
            "overflow_x": null,
            "grid_auto_flow": null,
            "grid_area": null,
            "grid_template_columns": null,
            "flex": null,
            "_model_name": "LayoutModel",
            "justify_items": null,
            "grid_row": null,
            "max_height": null,
            "align_content": null,
            "visibility": null,
            "align_self": null,
            "height": null,
            "min_height": null,
            "padding": null,
            "grid_auto_rows": null,
            "grid_gap": null,
            "max_width": null,
            "order": null,
            "_view_module_version": "1.2.0",
            "grid_template_areas": null,
            "object_position": null,
            "object_fit": null,
            "grid_auto_columns": null,
            "margin": null,
            "display": null,
            "left": null
          }
        },
        "7b77f5799956439a85fcd842e9d4de10": {
          "model_module": "@jupyter-widgets/controls",
          "model_name": "DescriptionStyleModel",
          "state": {
            "_view_name": "StyleView",
            "_model_name": "DescriptionStyleModel",
            "description_width": "",
            "_view_module": "@jupyter-widgets/base",
            "_model_module_version": "1.5.0",
            "_view_count": null,
            "_view_module_version": "1.2.0",
            "_model_module": "@jupyter-widgets/controls"
          }
        },
        "6182fea4e1514ab5a003b9433c3815fa": {
          "model_module": "@jupyter-widgets/base",
          "model_name": "LayoutModel",
          "state": {
            "_view_name": "LayoutView",
            "grid_template_rows": null,
            "right": null,
            "justify_content": null,
            "_view_module": "@jupyter-widgets/base",
            "overflow": null,
            "_model_module_version": "1.2.0",
            "_view_count": null,
            "flex_flow": null,
            "width": null,
            "min_width": null,
            "border": null,
            "align_items": null,
            "bottom": null,
            "_model_module": "@jupyter-widgets/base",
            "top": null,
            "grid_column": null,
            "overflow_y": null,
            "overflow_x": null,
            "grid_auto_flow": null,
            "grid_area": null,
            "grid_template_columns": null,
            "flex": null,
            "_model_name": "LayoutModel",
            "justify_items": null,
            "grid_row": null,
            "max_height": null,
            "align_content": null,
            "visibility": null,
            "align_self": null,
            "height": null,
            "min_height": null,
            "padding": null,
            "grid_auto_rows": null,
            "grid_gap": null,
            "max_width": null,
            "order": null,
            "_view_module_version": "1.2.0",
            "grid_template_areas": null,
            "object_position": null,
            "object_fit": null,
            "grid_auto_columns": null,
            "margin": null,
            "display": null,
            "left": null
          }
        },
        "7cbf11cc2058496db76a7da4d6a7cb3c": {
          "model_module": "@jupyter-widgets/controls",
          "model_name": "HBoxModel",
          "state": {
            "_view_name": "HBoxView",
            "_dom_classes": [],
            "_model_name": "HBoxModel",
            "_view_module": "@jupyter-widgets/controls",
            "_model_module_version": "1.5.0",
            "_view_count": null,
            "_view_module_version": "1.5.0",
            "box_style": "",
            "layout": "IPY_MODEL_da7ddab0eef6447396215fbe7de7eda2",
            "_model_module": "@jupyter-widgets/controls",
            "children": [
              "IPY_MODEL_cac74964553049e9ab91cc326d3edb01",
              "IPY_MODEL_149f6b16d73a44d9ac69103a4b6345a1"
            ]
          }
        },
        "da7ddab0eef6447396215fbe7de7eda2": {
          "model_module": "@jupyter-widgets/base",
          "model_name": "LayoutModel",
          "state": {
            "_view_name": "LayoutView",
            "grid_template_rows": null,
            "right": null,
            "justify_content": null,
            "_view_module": "@jupyter-widgets/base",
            "overflow": null,
            "_model_module_version": "1.2.0",
            "_view_count": null,
            "flex_flow": null,
            "width": null,
            "min_width": null,
            "border": null,
            "align_items": null,
            "bottom": null,
            "_model_module": "@jupyter-widgets/base",
            "top": null,
            "grid_column": null,
            "overflow_y": null,
            "overflow_x": null,
            "grid_auto_flow": null,
            "grid_area": null,
            "grid_template_columns": null,
            "flex": null,
            "_model_name": "LayoutModel",
            "justify_items": null,
            "grid_row": null,
            "max_height": null,
            "align_content": null,
            "visibility": null,
            "align_self": null,
            "height": null,
            "min_height": null,
            "padding": null,
            "grid_auto_rows": null,
            "grid_gap": null,
            "max_width": null,
            "order": null,
            "_view_module_version": "1.2.0",
            "grid_template_areas": null,
            "object_position": null,
            "object_fit": null,
            "grid_auto_columns": null,
            "margin": null,
            "display": null,
            "left": null
          }
        },
        "cac74964553049e9ab91cc326d3edb01": {
          "model_module": "@jupyter-widgets/controls",
          "model_name": "FloatProgressModel",
          "state": {
            "_view_name": "ProgressView",
            "style": "IPY_MODEL_440390e5e36d4e8ca1dcc01dc6a27d8a",
            "_dom_classes": [],
            "description": "Epoch 1: 100%",
            "_model_name": "FloatProgressModel",
            "bar_style": "",
            "max": 662,
            "_view_module": "@jupyter-widgets/controls",
            "_model_module_version": "1.5.0",
            "value": 662,
            "_view_count": null,
            "_view_module_version": "1.5.0",
            "orientation": "horizontal",
            "min": 0,
            "description_tooltip": null,
            "_model_module": "@jupyter-widgets/controls",
            "layout": "IPY_MODEL_d01450b7fa8d43649f0b4811a1b4db4b"
          }
        },
        "149f6b16d73a44d9ac69103a4b6345a1": {
          "model_module": "@jupyter-widgets/controls",
          "model_name": "HTMLModel",
          "state": {
            "_view_name": "HTMLView",
            "style": "IPY_MODEL_b2ea416072d14129aebf7059430acc96",
            "_dom_classes": [],
            "description": "",
            "_model_name": "HTMLModel",
            "placeholder": "​",
            "_view_module": "@jupyter-widgets/controls",
            "_model_module_version": "1.5.0",
            "value": " 662/662 [08:13&lt;00:00,  1.34it/s, training_loss=0.138]",
            "_view_count": null,
            "_view_module_version": "1.5.0",
            "description_tooltip": null,
            "_model_module": "@jupyter-widgets/controls",
            "layout": "IPY_MODEL_7a326ebbfae24733b953a63bcd54c3ed"
          }
        },
        "440390e5e36d4e8ca1dcc01dc6a27d8a": {
          "model_module": "@jupyter-widgets/controls",
          "model_name": "ProgressStyleModel",
          "state": {
            "_view_name": "StyleView",
            "_model_name": "ProgressStyleModel",
            "description_width": "initial",
            "_view_module": "@jupyter-widgets/base",
            "_model_module_version": "1.5.0",
            "_view_count": null,
            "_view_module_version": "1.2.0",
            "bar_color": null,
            "_model_module": "@jupyter-widgets/controls"
          }
        },
        "d01450b7fa8d43649f0b4811a1b4db4b": {
          "model_module": "@jupyter-widgets/base",
          "model_name": "LayoutModel",
          "state": {
            "_view_name": "LayoutView",
            "grid_template_rows": null,
            "right": null,
            "justify_content": null,
            "_view_module": "@jupyter-widgets/base",
            "overflow": null,
            "_model_module_version": "1.2.0",
            "_view_count": null,
            "flex_flow": null,
            "width": null,
            "min_width": null,
            "border": null,
            "align_items": null,
            "bottom": null,
            "_model_module": "@jupyter-widgets/base",
            "top": null,
            "grid_column": null,
            "overflow_y": null,
            "overflow_x": null,
            "grid_auto_flow": null,
            "grid_area": null,
            "grid_template_columns": null,
            "flex": null,
            "_model_name": "LayoutModel",
            "justify_items": null,
            "grid_row": null,
            "max_height": null,
            "align_content": null,
            "visibility": null,
            "align_self": null,
            "height": null,
            "min_height": null,
            "padding": null,
            "grid_auto_rows": null,
            "grid_gap": null,
            "max_width": null,
            "order": null,
            "_view_module_version": "1.2.0",
            "grid_template_areas": null,
            "object_position": null,
            "object_fit": null,
            "grid_auto_columns": null,
            "margin": null,
            "display": null,
            "left": null
          }
        },
        "b2ea416072d14129aebf7059430acc96": {
          "model_module": "@jupyter-widgets/controls",
          "model_name": "DescriptionStyleModel",
          "state": {
            "_view_name": "StyleView",
            "_model_name": "DescriptionStyleModel",
            "description_width": "",
            "_view_module": "@jupyter-widgets/base",
            "_model_module_version": "1.5.0",
            "_view_count": null,
            "_view_module_version": "1.2.0",
            "_model_module": "@jupyter-widgets/controls"
          }
        },
        "7a326ebbfae24733b953a63bcd54c3ed": {
          "model_module": "@jupyter-widgets/base",
          "model_name": "LayoutModel",
          "state": {
            "_view_name": "LayoutView",
            "grid_template_rows": null,
            "right": null,
            "justify_content": null,
            "_view_module": "@jupyter-widgets/base",
            "overflow": null,
            "_model_module_version": "1.2.0",
            "_view_count": null,
            "flex_flow": null,
            "width": null,
            "min_width": null,
            "border": null,
            "align_items": null,
            "bottom": null,
            "_model_module": "@jupyter-widgets/base",
            "top": null,
            "grid_column": null,
            "overflow_y": null,
            "overflow_x": null,
            "grid_auto_flow": null,
            "grid_area": null,
            "grid_template_columns": null,
            "flex": null,
            "_model_name": "LayoutModel",
            "justify_items": null,
            "grid_row": null,
            "max_height": null,
            "align_content": null,
            "visibility": null,
            "align_self": null,
            "height": null,
            "min_height": null,
            "padding": null,
            "grid_auto_rows": null,
            "grid_gap": null,
            "max_width": null,
            "order": null,
            "_view_module_version": "1.2.0",
            "grid_template_areas": null,
            "object_position": null,
            "object_fit": null,
            "grid_auto_columns": null,
            "margin": null,
            "display": null,
            "left": null
          }
        },
        "2ddf7281a6e947c6b46358ec45a10a97": {
          "model_module": "@jupyter-widgets/controls",
          "model_name": "HBoxModel",
          "state": {
            "_view_name": "HBoxView",
            "_dom_classes": [],
            "_model_name": "HBoxModel",
            "_view_module": "@jupyter-widgets/controls",
            "_model_module_version": "1.5.0",
            "_view_count": null,
            "_view_module_version": "1.5.0",
            "box_style": "",
            "layout": "IPY_MODEL_8202997973ee4f85b385f58df5d14bf7",
            "_model_module": "@jupyter-widgets/controls",
            "children": [
              "IPY_MODEL_50d36363d0de40ce80e6bd4a3304e7dc",
              "IPY_MODEL_cd8316ce879f4eb39769ee5f938d801d"
            ]
          }
        },
        "8202997973ee4f85b385f58df5d14bf7": {
          "model_module": "@jupyter-widgets/base",
          "model_name": "LayoutModel",
          "state": {
            "_view_name": "LayoutView",
            "grid_template_rows": null,
            "right": null,
            "justify_content": null,
            "_view_module": "@jupyter-widgets/base",
            "overflow": null,
            "_model_module_version": "1.2.0",
            "_view_count": null,
            "flex_flow": null,
            "width": null,
            "min_width": null,
            "border": null,
            "align_items": null,
            "bottom": null,
            "_model_module": "@jupyter-widgets/base",
            "top": null,
            "grid_column": null,
            "overflow_y": null,
            "overflow_x": null,
            "grid_auto_flow": null,
            "grid_area": null,
            "grid_template_columns": null,
            "flex": null,
            "_model_name": "LayoutModel",
            "justify_items": null,
            "grid_row": null,
            "max_height": null,
            "align_content": null,
            "visibility": null,
            "align_self": null,
            "height": null,
            "min_height": null,
            "padding": null,
            "grid_auto_rows": null,
            "grid_gap": null,
            "max_width": null,
            "order": null,
            "_view_module_version": "1.2.0",
            "grid_template_areas": null,
            "object_position": null,
            "object_fit": null,
            "grid_auto_columns": null,
            "margin": null,
            "display": null,
            "left": null
          }
        },
        "50d36363d0de40ce80e6bd4a3304e7dc": {
          "model_module": "@jupyter-widgets/controls",
          "model_name": "FloatProgressModel",
          "state": {
            "_view_name": "ProgressView",
            "style": "IPY_MODEL_d2fe1915862d4bacb7b5e8401a8474b6",
            "_dom_classes": [],
            "description": "Epoch 2: 100%",
            "_model_name": "FloatProgressModel",
            "bar_style": "",
            "max": 662,
            "_view_module": "@jupyter-widgets/controls",
            "_model_module_version": "1.5.0",
            "value": 662,
            "_view_count": null,
            "_view_module_version": "1.5.0",
            "orientation": "horizontal",
            "min": 0,
            "description_tooltip": null,
            "_model_module": "@jupyter-widgets/controls",
            "layout": "IPY_MODEL_ae34c0ecad4d48d1a86c2feb1730631e"
          }
        },
        "cd8316ce879f4eb39769ee5f938d801d": {
          "model_module": "@jupyter-widgets/controls",
          "model_name": "HTMLModel",
          "state": {
            "_view_name": "HTMLView",
            "style": "IPY_MODEL_88ce81406c7440fc8c59f3379e4a859e",
            "_dom_classes": [],
            "description": "",
            "_model_name": "HTMLModel",
            "placeholder": "​",
            "_view_module": "@jupyter-widgets/controls",
            "_model_module_version": "1.5.0",
            "value": " 662/662 [08:12&lt;00:00,  1.34it/s, training_loss=0.132]",
            "_view_count": null,
            "_view_module_version": "1.5.0",
            "description_tooltip": null,
            "_model_module": "@jupyter-widgets/controls",
            "layout": "IPY_MODEL_ec34f5751acb4da8aa4746bf0de058c5"
          }
        },
        "d2fe1915862d4bacb7b5e8401a8474b6": {
          "model_module": "@jupyter-widgets/controls",
          "model_name": "ProgressStyleModel",
          "state": {
            "_view_name": "StyleView",
            "_model_name": "ProgressStyleModel",
            "description_width": "initial",
            "_view_module": "@jupyter-widgets/base",
            "_model_module_version": "1.5.0",
            "_view_count": null,
            "_view_module_version": "1.2.0",
            "bar_color": null,
            "_model_module": "@jupyter-widgets/controls"
          }
        },
        "ae34c0ecad4d48d1a86c2feb1730631e": {
          "model_module": "@jupyter-widgets/base",
          "model_name": "LayoutModel",
          "state": {
            "_view_name": "LayoutView",
            "grid_template_rows": null,
            "right": null,
            "justify_content": null,
            "_view_module": "@jupyter-widgets/base",
            "overflow": null,
            "_model_module_version": "1.2.0",
            "_view_count": null,
            "flex_flow": null,
            "width": null,
            "min_width": null,
            "border": null,
            "align_items": null,
            "bottom": null,
            "_model_module": "@jupyter-widgets/base",
            "top": null,
            "grid_column": null,
            "overflow_y": null,
            "overflow_x": null,
            "grid_auto_flow": null,
            "grid_area": null,
            "grid_template_columns": null,
            "flex": null,
            "_model_name": "LayoutModel",
            "justify_items": null,
            "grid_row": null,
            "max_height": null,
            "align_content": null,
            "visibility": null,
            "align_self": null,
            "height": null,
            "min_height": null,
            "padding": null,
            "grid_auto_rows": null,
            "grid_gap": null,
            "max_width": null,
            "order": null,
            "_view_module_version": "1.2.0",
            "grid_template_areas": null,
            "object_position": null,
            "object_fit": null,
            "grid_auto_columns": null,
            "margin": null,
            "display": null,
            "left": null
          }
        },
        "88ce81406c7440fc8c59f3379e4a859e": {
          "model_module": "@jupyter-widgets/controls",
          "model_name": "DescriptionStyleModel",
          "state": {
            "_view_name": "StyleView",
            "_model_name": "DescriptionStyleModel",
            "description_width": "",
            "_view_module": "@jupyter-widgets/base",
            "_model_module_version": "1.5.0",
            "_view_count": null,
            "_view_module_version": "1.2.0",
            "_model_module": "@jupyter-widgets/controls"
          }
        },
        "ec34f5751acb4da8aa4746bf0de058c5": {
          "model_module": "@jupyter-widgets/base",
          "model_name": "LayoutModel",
          "state": {
            "_view_name": "LayoutView",
            "grid_template_rows": null,
            "right": null,
            "justify_content": null,
            "_view_module": "@jupyter-widgets/base",
            "overflow": null,
            "_model_module_version": "1.2.0",
            "_view_count": null,
            "flex_flow": null,
            "width": null,
            "min_width": null,
            "border": null,
            "align_items": null,
            "bottom": null,
            "_model_module": "@jupyter-widgets/base",
            "top": null,
            "grid_column": null,
            "overflow_y": null,
            "overflow_x": null,
            "grid_auto_flow": null,
            "grid_area": null,
            "grid_template_columns": null,
            "flex": null,
            "_model_name": "LayoutModel",
            "justify_items": null,
            "grid_row": null,
            "max_height": null,
            "align_content": null,
            "visibility": null,
            "align_self": null,
            "height": null,
            "min_height": null,
            "padding": null,
            "grid_auto_rows": null,
            "grid_gap": null,
            "max_width": null,
            "order": null,
            "_view_module_version": "1.2.0",
            "grid_template_areas": null,
            "object_position": null,
            "object_fit": null,
            "grid_auto_columns": null,
            "margin": null,
            "display": null,
            "left": null
          }
        },
        "3179f783ee77400ebd1a2a1e91e5c362": {
          "model_module": "@jupyter-widgets/controls",
          "model_name": "HBoxModel",
          "state": {
            "_view_name": "HBoxView",
            "_dom_classes": [],
            "_model_name": "HBoxModel",
            "_view_module": "@jupyter-widgets/controls",
            "_model_module_version": "1.5.0",
            "_view_count": null,
            "_view_module_version": "1.5.0",
            "box_style": "",
            "layout": "IPY_MODEL_38c454c1293247608dfe547ec3b18d2e",
            "_model_module": "@jupyter-widgets/controls",
            "children": [
              "IPY_MODEL_f89375f75cd14b18b08b188500e1cd54",
              "IPY_MODEL_1c43e97a06304f928b50a87ff73014e6"
            ]
          }
        },
        "38c454c1293247608dfe547ec3b18d2e": {
          "model_module": "@jupyter-widgets/base",
          "model_name": "LayoutModel",
          "state": {
            "_view_name": "LayoutView",
            "grid_template_rows": null,
            "right": null,
            "justify_content": null,
            "_view_module": "@jupyter-widgets/base",
            "overflow": null,
            "_model_module_version": "1.2.0",
            "_view_count": null,
            "flex_flow": null,
            "width": null,
            "min_width": null,
            "border": null,
            "align_items": null,
            "bottom": null,
            "_model_module": "@jupyter-widgets/base",
            "top": null,
            "grid_column": null,
            "overflow_y": null,
            "overflow_x": null,
            "grid_auto_flow": null,
            "grid_area": null,
            "grid_template_columns": null,
            "flex": null,
            "_model_name": "LayoutModel",
            "justify_items": null,
            "grid_row": null,
            "max_height": null,
            "align_content": null,
            "visibility": null,
            "align_self": null,
            "height": null,
            "min_height": null,
            "padding": null,
            "grid_auto_rows": null,
            "grid_gap": null,
            "max_width": null,
            "order": null,
            "_view_module_version": "1.2.0",
            "grid_template_areas": null,
            "object_position": null,
            "object_fit": null,
            "grid_auto_columns": null,
            "margin": null,
            "display": null,
            "left": null
          }
        },
        "f89375f75cd14b18b08b188500e1cd54": {
          "model_module": "@jupyter-widgets/controls",
          "model_name": "FloatProgressModel",
          "state": {
            "_view_name": "ProgressView",
            "style": "IPY_MODEL_14340d19415c43ff9217a55dfc1b1413",
            "_dom_classes": [],
            "description": "Epoch 3: 100%",
            "_model_name": "FloatProgressModel",
            "bar_style": "",
            "max": 662,
            "_view_module": "@jupyter-widgets/controls",
            "_model_module_version": "1.5.0",
            "value": 662,
            "_view_count": null,
            "_view_module_version": "1.5.0",
            "orientation": "horizontal",
            "min": 0,
            "description_tooltip": null,
            "_model_module": "@jupyter-widgets/controls",
            "layout": "IPY_MODEL_496955b4709b4dd8973cb5be5bfc34b9"
          }
        },
        "1c43e97a06304f928b50a87ff73014e6": {
          "model_module": "@jupyter-widgets/controls",
          "model_name": "HTMLModel",
          "state": {
            "_view_name": "HTMLView",
            "style": "IPY_MODEL_73f39366de624ac588e575d55843b2e3",
            "_dom_classes": [],
            "description": "",
            "_model_name": "HTMLModel",
            "placeholder": "​",
            "_view_module": "@jupyter-widgets/controls",
            "_model_module_version": "1.5.0",
            "value": " 662/662 [08:11&lt;00:00,  1.35it/s, training_loss=0.094]",
            "_view_count": null,
            "_view_module_version": "1.5.0",
            "description_tooltip": null,
            "_model_module": "@jupyter-widgets/controls",
            "layout": "IPY_MODEL_0c1e47a8bdbf43a9be8360d007b8f443"
          }
        },
        "14340d19415c43ff9217a55dfc1b1413": {
          "model_module": "@jupyter-widgets/controls",
          "model_name": "ProgressStyleModel",
          "state": {
            "_view_name": "StyleView",
            "_model_name": "ProgressStyleModel",
            "description_width": "initial",
            "_view_module": "@jupyter-widgets/base",
            "_model_module_version": "1.5.0",
            "_view_count": null,
            "_view_module_version": "1.2.0",
            "bar_color": null,
            "_model_module": "@jupyter-widgets/controls"
          }
        },
        "496955b4709b4dd8973cb5be5bfc34b9": {
          "model_module": "@jupyter-widgets/base",
          "model_name": "LayoutModel",
          "state": {
            "_view_name": "LayoutView",
            "grid_template_rows": null,
            "right": null,
            "justify_content": null,
            "_view_module": "@jupyter-widgets/base",
            "overflow": null,
            "_model_module_version": "1.2.0",
            "_view_count": null,
            "flex_flow": null,
            "width": null,
            "min_width": null,
            "border": null,
            "align_items": null,
            "bottom": null,
            "_model_module": "@jupyter-widgets/base",
            "top": null,
            "grid_column": null,
            "overflow_y": null,
            "overflow_x": null,
            "grid_auto_flow": null,
            "grid_area": null,
            "grid_template_columns": null,
            "flex": null,
            "_model_name": "LayoutModel",
            "justify_items": null,
            "grid_row": null,
            "max_height": null,
            "align_content": null,
            "visibility": null,
            "align_self": null,
            "height": null,
            "min_height": null,
            "padding": null,
            "grid_auto_rows": null,
            "grid_gap": null,
            "max_width": null,
            "order": null,
            "_view_module_version": "1.2.0",
            "grid_template_areas": null,
            "object_position": null,
            "object_fit": null,
            "grid_auto_columns": null,
            "margin": null,
            "display": null,
            "left": null
          }
        },
        "73f39366de624ac588e575d55843b2e3": {
          "model_module": "@jupyter-widgets/controls",
          "model_name": "DescriptionStyleModel",
          "state": {
            "_view_name": "StyleView",
            "_model_name": "DescriptionStyleModel",
            "description_width": "",
            "_view_module": "@jupyter-widgets/base",
            "_model_module_version": "1.5.0",
            "_view_count": null,
            "_view_module_version": "1.2.0",
            "_model_module": "@jupyter-widgets/controls"
          }
        },
        "0c1e47a8bdbf43a9be8360d007b8f443": {
          "model_module": "@jupyter-widgets/base",
          "model_name": "LayoutModel",
          "state": {
            "_view_name": "LayoutView",
            "grid_template_rows": null,
            "right": null,
            "justify_content": null,
            "_view_module": "@jupyter-widgets/base",
            "overflow": null,
            "_model_module_version": "1.2.0",
            "_view_count": null,
            "flex_flow": null,
            "width": null,
            "min_width": null,
            "border": null,
            "align_items": null,
            "bottom": null,
            "_model_module": "@jupyter-widgets/base",
            "top": null,
            "grid_column": null,
            "overflow_y": null,
            "overflow_x": null,
            "grid_auto_flow": null,
            "grid_area": null,
            "grid_template_columns": null,
            "flex": null,
            "_model_name": "LayoutModel",
            "justify_items": null,
            "grid_row": null,
            "max_height": null,
            "align_content": null,
            "visibility": null,
            "align_self": null,
            "height": null,
            "min_height": null,
            "padding": null,
            "grid_auto_rows": null,
            "grid_gap": null,
            "max_width": null,
            "order": null,
            "_view_module_version": "1.2.0",
            "grid_template_areas": null,
            "object_position": null,
            "object_fit": null,
            "grid_auto_columns": null,
            "margin": null,
            "display": null,
            "left": null
          }
        }
      }
    }
  },
  "cells": [
    {
      "cell_type": "markdown",
      "metadata": {
        "id": "view-in-github",
        "colab_type": "text"
      },
      "source": [
        "<a href=\"https://colab.research.google.com/github/HanhaodiZhang/HATE/blob/main/new_emoji_12162020.ipynb\" target=\"_parent\"><img src=\"https://colab.research.google.com/assets/colab-badge.svg\" alt=\"Open In Colab\"/></a>"
      ]
    },
    {
      "cell_type": "code",
      "metadata": {
        "id": "UcyC0rt8goL6"
      },
      "source": [
        "!pip install -qq transformers"
      ],
      "execution_count": 103,
      "outputs": []
    },
    {
      "cell_type": "code",
      "metadata": {
        "id": "HE87LxC2g6UO"
      },
      "source": [
        "import torch\r\n",
        "import numpy as np\r\n",
        "import pandas as pd"
      ],
      "execution_count": 104,
      "outputs": []
    },
    {
      "cell_type": "code",
      "metadata": {
        "colab": {
          "base_uri": "https://localhost:8080/",
          "height": 311
        },
        "id": "gSJN3Qj-hGdo",
        "outputId": "4f6650f3-ee91-4f47-f768-5eca6a2baaf8"
      },
      "source": [
        "df = pd.read_csv(\"olid-training.tsv\", sep='\\t', header=0, index_col='id')\r\n",
        "\r\n",
        "df.head()"
      ],
      "execution_count": 105,
      "outputs": [
        {
          "output_type": "execute_result",
          "data": {
            "text/html": [
              "<div>\n",
              "<style scoped>\n",
              "    .dataframe tbody tr th:only-of-type {\n",
              "        vertical-align: middle;\n",
              "    }\n",
              "\n",
              "    .dataframe tbody tr th {\n",
              "        vertical-align: top;\n",
              "    }\n",
              "\n",
              "    .dataframe thead th {\n",
              "        text-align: right;\n",
              "    }\n",
              "</style>\n",
              "<table border=\"1\" class=\"dataframe\">\n",
              "  <thead>\n",
              "    <tr style=\"text-align: right;\">\n",
              "      <th></th>\n",
              "      <th>tweet</th>\n",
              "      <th>subtask_a</th>\n",
              "      <th>subtask_b</th>\n",
              "      <th>subtask_c</th>\n",
              "    </tr>\n",
              "    <tr>\n",
              "      <th>id</th>\n",
              "      <th></th>\n",
              "      <th></th>\n",
              "      <th></th>\n",
              "      <th></th>\n",
              "    </tr>\n",
              "  </thead>\n",
              "  <tbody>\n",
              "    <tr>\n",
              "      <th>86426</th>\n",
              "      <td>@USER She should ask a few native Americans wh...</td>\n",
              "      <td>OFF</td>\n",
              "      <td>UNT</td>\n",
              "      <td>NaN</td>\n",
              "    </tr>\n",
              "    <tr>\n",
              "      <th>90194</th>\n",
              "      <td>@USER @USER Go home you’re drunk!!! @USER #MAG...</td>\n",
              "      <td>OFF</td>\n",
              "      <td>TIN</td>\n",
              "      <td>IND</td>\n",
              "    </tr>\n",
              "    <tr>\n",
              "      <th>16820</th>\n",
              "      <td>Amazon is investigating Chinese employees who ...</td>\n",
              "      <td>NOT</td>\n",
              "      <td>NaN</td>\n",
              "      <td>NaN</td>\n",
              "    </tr>\n",
              "    <tr>\n",
              "      <th>62688</th>\n",
              "      <td>@USER Someone should'veTaken\" this piece of sh...</td>\n",
              "      <td>OFF</td>\n",
              "      <td>UNT</td>\n",
              "      <td>NaN</td>\n",
              "    </tr>\n",
              "    <tr>\n",
              "      <th>43605</th>\n",
              "      <td>@USER @USER Obama wanted liberals &amp;amp; illega...</td>\n",
              "      <td>NOT</td>\n",
              "      <td>NaN</td>\n",
              "      <td>NaN</td>\n",
              "    </tr>\n",
              "  </tbody>\n",
              "</table>\n",
              "</div>"
            ],
            "text/plain": [
              "                                                   tweet  ... subtask_c\n",
              "id                                                        ...          \n",
              "86426  @USER She should ask a few native Americans wh...  ...       NaN\n",
              "90194  @USER @USER Go home you’re drunk!!! @USER #MAG...  ...       IND\n",
              "16820  Amazon is investigating Chinese employees who ...  ...       NaN\n",
              "62688  @USER Someone should'veTaken\" this piece of sh...  ...       NaN\n",
              "43605  @USER @USER Obama wanted liberals &amp; illega...  ...       NaN\n",
              "\n",
              "[5 rows x 4 columns]"
            ]
          },
          "metadata": {
            "tags": []
          },
          "execution_count": 105
        }
      ]
    },
    {
      "cell_type": "code",
      "metadata": {
        "colab": {
          "base_uri": "https://localhost:8080/"
        },
        "id": "xWidGJdlhBjq",
        "outputId": "bbb9d0b8-c692-41eb-f386-7b486021dda8"
      },
      "source": [
        "possible_labels=df.subtask_a.unique()\r\n",
        "label_dict={}\r\n",
        "for index, possible_label in enumerate(possible_labels):\r\n",
        "  label_dict[possible_label]=index\r\n",
        "\r\n",
        "label_dict"
      ],
      "execution_count": 106,
      "outputs": [
        {
          "output_type": "execute_result",
          "data": {
            "text/plain": [
              "{'NOT': 1, 'OFF': 0}"
            ]
          },
          "metadata": {
            "tags": []
          },
          "execution_count": 106
        }
      ]
    },
    {
      "cell_type": "code",
      "metadata": {
        "colab": {
          "base_uri": "https://localhost:8080/",
          "height": 344
        },
        "id": "TCJJUguLhDfk",
        "outputId": "3adc85f4-786c-45bc-e0a4-dd71db52796a"
      },
      "source": [
        "df['a_label']=df.subtask_a.replace(label_dict)\r\n",
        "df.head()\r\n",
        "df.head()"
      ],
      "execution_count": 107,
      "outputs": [
        {
          "output_type": "execute_result",
          "data": {
            "text/html": [
              "<div>\n",
              "<style scoped>\n",
              "    .dataframe tbody tr th:only-of-type {\n",
              "        vertical-align: middle;\n",
              "    }\n",
              "\n",
              "    .dataframe tbody tr th {\n",
              "        vertical-align: top;\n",
              "    }\n",
              "\n",
              "    .dataframe thead th {\n",
              "        text-align: right;\n",
              "    }\n",
              "</style>\n",
              "<table border=\"1\" class=\"dataframe\">\n",
              "  <thead>\n",
              "    <tr style=\"text-align: right;\">\n",
              "      <th></th>\n",
              "      <th>tweet</th>\n",
              "      <th>subtask_a</th>\n",
              "      <th>subtask_b</th>\n",
              "      <th>subtask_c</th>\n",
              "      <th>a_label</th>\n",
              "    </tr>\n",
              "    <tr>\n",
              "      <th>id</th>\n",
              "      <th></th>\n",
              "      <th></th>\n",
              "      <th></th>\n",
              "      <th></th>\n",
              "      <th></th>\n",
              "    </tr>\n",
              "  </thead>\n",
              "  <tbody>\n",
              "    <tr>\n",
              "      <th>86426</th>\n",
              "      <td>@USER She should ask a few native Americans wh...</td>\n",
              "      <td>OFF</td>\n",
              "      <td>UNT</td>\n",
              "      <td>NaN</td>\n",
              "      <td>0</td>\n",
              "    </tr>\n",
              "    <tr>\n",
              "      <th>90194</th>\n",
              "      <td>@USER @USER Go home you’re drunk!!! @USER #MAG...</td>\n",
              "      <td>OFF</td>\n",
              "      <td>TIN</td>\n",
              "      <td>IND</td>\n",
              "      <td>0</td>\n",
              "    </tr>\n",
              "    <tr>\n",
              "      <th>16820</th>\n",
              "      <td>Amazon is investigating Chinese employees who ...</td>\n",
              "      <td>NOT</td>\n",
              "      <td>NaN</td>\n",
              "      <td>NaN</td>\n",
              "      <td>1</td>\n",
              "    </tr>\n",
              "    <tr>\n",
              "      <th>62688</th>\n",
              "      <td>@USER Someone should'veTaken\" this piece of sh...</td>\n",
              "      <td>OFF</td>\n",
              "      <td>UNT</td>\n",
              "      <td>NaN</td>\n",
              "      <td>0</td>\n",
              "    </tr>\n",
              "    <tr>\n",
              "      <th>43605</th>\n",
              "      <td>@USER @USER Obama wanted liberals &amp;amp; illega...</td>\n",
              "      <td>NOT</td>\n",
              "      <td>NaN</td>\n",
              "      <td>NaN</td>\n",
              "      <td>1</td>\n",
              "    </tr>\n",
              "  </tbody>\n",
              "</table>\n",
              "</div>"
            ],
            "text/plain": [
              "                                                   tweet  ... a_label\n",
              "id                                                        ...        \n",
              "86426  @USER She should ask a few native Americans wh...  ...       0\n",
              "90194  @USER @USER Go home you’re drunk!!! @USER #MAG...  ...       0\n",
              "16820  Amazon is investigating Chinese employees who ...  ...       1\n",
              "62688  @USER Someone should'veTaken\" this piece of sh...  ...       0\n",
              "43605  @USER @USER Obama wanted liberals &amp; illega...  ...       1\n",
              "\n",
              "[5 rows x 5 columns]"
            ]
          },
          "metadata": {
            "tags": []
          },
          "execution_count": 107
        }
      ]
    },
    {
      "cell_type": "code",
      "metadata": {
        "colab": {
          "base_uri": "https://localhost:8080/"
        },
        "id": "NqusuGUFZain",
        "outputId": "bf79fbfa-918a-49bd-a770-d5e997b40090"
      },
      "source": [
        "!pip install emoji --upgrade"
      ],
      "execution_count": 108,
      "outputs": [
        {
          "output_type": "stream",
          "text": [
            "Requirement already up-to-date: emoji in /usr/local/lib/python3.6/dist-packages (0.6.0)\n"
          ],
          "name": "stdout"
        }
      ]
    },
    {
      "cell_type": "code",
      "metadata": {
        "colab": {
          "base_uri": "https://localhost:8080/"
        },
        "id": "2NS3PgGMp3g4",
        "outputId": "b9fada5f-cfa3-4421-e93c-4dca6000729f"
      },
      "source": [
        "!pip install wordsegment"
      ],
      "execution_count": 109,
      "outputs": [
        {
          "output_type": "stream",
          "text": [
            "Requirement already satisfied: wordsegment in /usr/local/lib/python3.6/dist-packages (1.3.1)\n"
          ],
          "name": "stdout"
        }
      ]
    },
    {
      "cell_type": "code",
      "metadata": {
        "id": "VoBqdN8KYC5c"
      },
      "source": [
        "\r\n",
        "import re\r\n",
        "def foremoji(text):\r\n",
        "  text=str(text)\r\n",
        "  text=emoji.demojize(text)\r\n",
        "  pattern = re.compile(\":(.*):\")\r\n",
        "  text = text.lower().split()\r\n",
        "  new_text=[]\r\n",
        "  for w in text:\r\n",
        "    t=pattern.findall(w)\r\n",
        "    if t:\r\n",
        "      w=\"<emoji> \"+\"\".join(t)+\" <emoji>\"\r\n",
        "    w=re.sub(r\"_\",\" \",w)\r\n",
        "\r\n",
        "    new_text.append(w)\r\n",
        "  text = \" \".join(new_text)\r\n",
        "  return text"
      ],
      "execution_count": 110,
      "outputs": []
    },
    {
      "cell_type": "code",
      "metadata": {
        "colab": {
          "base_uri": "https://localhost:8080/",
          "height": 51
        },
        "id": "9N9g8mrj4bGH",
        "outputId": "5fb36ccf-ec93-4d2a-880a-595f2693ac7f"
      },
      "source": [
        "t=\"assaulted her 😠 now it's two😮'\"\r\n",
        "# emoji.demojize(t)\r\n",
        "foremoji(t)"
      ],
      "execution_count": 111,
      "outputs": [
        {
          "output_type": "execute_result",
          "data": {
            "application/vnd.google.colaboratory.intrinsic+json": {
              "type": "string"
            },
            "text/plain": [
              "\"assaulted her <emoji> angry face <emoji> now it's <emoji> face with open mouth <emoji>\""
            ]
          },
          "metadata": {
            "tags": []
          },
          "execution_count": 111
        }
      ]
    },
    {
      "cell_type": "code",
      "metadata": {
        "id": "P8vRKHSRHBdB"
      },
      "source": [
        "from wordsegment import load\r\n",
        "load()"
      ],
      "execution_count": 112,
      "outputs": []
    },
    {
      "cell_type": "code",
      "metadata": {
        "id": "g6ogJr8PBivo"
      },
      "source": [
        "def foremoji3(text):\r\n",
        "  text=str(text)\r\n",
        "  text=emoji.demojize(text)\r\n",
        "  pattern = re.compile(\":(.*):\")\r\n",
        "  text = text.lower().split()\r\n",
        "  new_text=[]\r\n",
        "  for w in text:\r\n",
        "    t=pattern.findall(w)\r\n",
        "    if t:\r\n",
        "      w=\"<emoji> \"+\"\".join(t)+\" <emoji>\"\r\n",
        "    w=re.sub(r\"_\",\" \",w)\r\n",
        "    w=re.sub(r\"@user\",\"\",w)\r\n",
        "    new_text.append(w)\r\n",
        "  text = \" \".join(new_text)\r\n",
        "  return text"
      ],
      "execution_count": null,
      "outputs": []
    },
    {
      "cell_type": "code",
      "metadata": {
        "id": "IdQ8f2LlC1pe"
      },
      "source": [
        "def clean(word):\r\n",
        "  text = re.sub(r\"n't\", \"not \", word)\r\n",
        "  text = re.sub(r\"\\'s\", \"\", word)\r\n",
        "  text = re.sub(r\"\\'ve\", \"have \", text)\r\n",
        "  text = re.sub(r\"'m\", \"am\", text)\r\n",
        "  text = re.sub(r\"em*\", \"think\", text)\r\n",
        "  text = re.sub(r\"lmao\", \"laugh my ass off\", text)   \r\n",
        "  text = re.sub(r\"idk\", \"i do not know\", text)\r\n",
        "  text = re.sub(r\"%\", \" percent \", text) "
      ],
      "execution_count": null,
      "outputs": []
    },
    {
      "cell_type": "code",
      "metadata": {
        "id": "mPUAB52ep62c"
      },
      "source": [
        "# from wordsegment import segment\r\n",
        "# import emoji\r\n",
        "# import re\r\n",
        "# def foremoji(text):\r\n",
        "#   text=emoji.demojize(text)\r\n",
        "#   text = text.split()\r\n",
        "#   new_text=[]\r\n",
        "#   for w in text:\r\n",
        "#     w=re.sub(r\":.\", \"<emoji>\", w)\r\n",
        "#     w=re.sub(r\".:\", \"<emoji>\", w)\r\n",
        "#     w=re.sub(r\"_\", \" \", w)\r\n",
        "#     new_text.append(w)\r\n",
        "#   text = \" \".join(new_text)\r\n",
        "#   return text"
      ],
      "execution_count": 113,
      "outputs": []
    },
    {
      "cell_type": "code",
      "metadata": {
        "id": "o8V8R9KugXQK"
      },
      "source": [
        "df['emoji_tweet']=df.tweet.apply(foremoji)"
      ],
      "execution_count": 114,
      "outputs": []
    },
    {
      "cell_type": "code",
      "metadata": {
        "colab": {
          "base_uri": "https://localhost:8080/",
          "height": 547
        },
        "id": "W9etGA-JpUwN",
        "outputId": "9ef455cc-0325-4c00-bbcb-f37c9bf2c25e"
      },
      "source": [
        "df.head()"
      ],
      "execution_count": 115,
      "outputs": [
        {
          "output_type": "execute_result",
          "data": {
            "text/html": [
              "<div>\n",
              "<style scoped>\n",
              "    .dataframe tbody tr th:only-of-type {\n",
              "        vertical-align: middle;\n",
              "    }\n",
              "\n",
              "    .dataframe tbody tr th {\n",
              "        vertical-align: top;\n",
              "    }\n",
              "\n",
              "    .dataframe thead th {\n",
              "        text-align: right;\n",
              "    }\n",
              "</style>\n",
              "<table border=\"1\" class=\"dataframe\">\n",
              "  <thead>\n",
              "    <tr style=\"text-align: right;\">\n",
              "      <th></th>\n",
              "      <th>tweet</th>\n",
              "      <th>subtask_a</th>\n",
              "      <th>subtask_b</th>\n",
              "      <th>subtask_c</th>\n",
              "      <th>a_label</th>\n",
              "      <th>emoji_tweet</th>\n",
              "    </tr>\n",
              "    <tr>\n",
              "      <th>id</th>\n",
              "      <th></th>\n",
              "      <th></th>\n",
              "      <th></th>\n",
              "      <th></th>\n",
              "      <th></th>\n",
              "      <th></th>\n",
              "    </tr>\n",
              "  </thead>\n",
              "  <tbody>\n",
              "    <tr>\n",
              "      <th>86426</th>\n",
              "      <td>@USER She should ask a few native Americans wh...</td>\n",
              "      <td>OFF</td>\n",
              "      <td>UNT</td>\n",
              "      <td>NaN</td>\n",
              "      <td>0</td>\n",
              "      <td>@user she should ask a few native americans wh...</td>\n",
              "    </tr>\n",
              "    <tr>\n",
              "      <th>90194</th>\n",
              "      <td>@USER @USER Go home you’re drunk!!! @USER #MAG...</td>\n",
              "      <td>OFF</td>\n",
              "      <td>TIN</td>\n",
              "      <td>IND</td>\n",
              "      <td>0</td>\n",
              "      <td>@user @user go home you’re drunk!!! @user #mag...</td>\n",
              "    </tr>\n",
              "    <tr>\n",
              "      <th>16820</th>\n",
              "      <td>Amazon is investigating Chinese employees who ...</td>\n",
              "      <td>NOT</td>\n",
              "      <td>NaN</td>\n",
              "      <td>NaN</td>\n",
              "      <td>1</td>\n",
              "      <td>amazon is investigating chinese employees who ...</td>\n",
              "    </tr>\n",
              "    <tr>\n",
              "      <th>62688</th>\n",
              "      <td>@USER Someone should'veTaken\" this piece of sh...</td>\n",
              "      <td>OFF</td>\n",
              "      <td>UNT</td>\n",
              "      <td>NaN</td>\n",
              "      <td>0</td>\n",
              "      <td>@user someone should'vetaken\" this piece of sh...</td>\n",
              "    </tr>\n",
              "    <tr>\n",
              "      <th>43605</th>\n",
              "      <td>@USER @USER Obama wanted liberals &amp;amp; illega...</td>\n",
              "      <td>NOT</td>\n",
              "      <td>NaN</td>\n",
              "      <td>NaN</td>\n",
              "      <td>1</td>\n",
              "      <td>@user @user obama wanted liberals &amp;amp; illega...</td>\n",
              "    </tr>\n",
              "  </tbody>\n",
              "</table>\n",
              "</div>"
            ],
            "text/plain": [
              "                                                   tweet  ...                                        emoji_tweet\n",
              "id                                                        ...                                                   \n",
              "86426  @USER She should ask a few native Americans wh...  ...  @user she should ask a few native americans wh...\n",
              "90194  @USER @USER Go home you’re drunk!!! @USER #MAG...  ...  @user @user go home you’re drunk!!! @user #mag...\n",
              "16820  Amazon is investigating Chinese employees who ...  ...  amazon is investigating chinese employees who ...\n",
              "62688  @USER Someone should'veTaken\" this piece of sh...  ...  @user someone should'vetaken\" this piece of sh...\n",
              "43605  @USER @USER Obama wanted liberals &amp; illega...  ...  @user @user obama wanted liberals &amp; illega...\n",
              "\n",
              "[5 rows x 6 columns]"
            ]
          },
          "metadata": {
            "tags": []
          },
          "execution_count": 115
        }
      ]
    },
    {
      "cell_type": "code",
      "metadata": {
        "id": "DBLV4DMjhLxY"
      },
      "source": [
        "from sklearn.model_selection import train_test_split\r\n",
        "RANDOM_SEED=17\r\n",
        "\r\n",
        "X_train,X_val,y_train,y_val = train_test_split(\r\n",
        "  df.index.values,\r\n",
        "  df.a_label.values,\r\n",
        "  test_size=0.2,\r\n",
        "  random_state=RANDOM_SEED,\r\n",
        "  stratify=df.a_label.values\r\n",
        ")"
      ],
      "execution_count": 116,
      "outputs": []
    },
    {
      "cell_type": "code",
      "metadata": {
        "colab": {
          "base_uri": "https://localhost:8080/",
          "height": 547
        },
        "id": "Lc-fE-QjhPP7",
        "outputId": "a62128ae-3339-452d-adb7-cef97b1966fb"
      },
      "source": [
        "df['data_type']=['not_set']*df.shape[0]\r\n",
        "\r\n",
        "df.loc[X_train,'data_type']='train'\r\n",
        "df.loc[X_val,'data_type']='val'\r\n",
        "df.head()"
      ],
      "execution_count": 117,
      "outputs": [
        {
          "output_type": "execute_result",
          "data": {
            "text/html": [
              "<div>\n",
              "<style scoped>\n",
              "    .dataframe tbody tr th:only-of-type {\n",
              "        vertical-align: middle;\n",
              "    }\n",
              "\n",
              "    .dataframe tbody tr th {\n",
              "        vertical-align: top;\n",
              "    }\n",
              "\n",
              "    .dataframe thead th {\n",
              "        text-align: right;\n",
              "    }\n",
              "</style>\n",
              "<table border=\"1\" class=\"dataframe\">\n",
              "  <thead>\n",
              "    <tr style=\"text-align: right;\">\n",
              "      <th></th>\n",
              "      <th>tweet</th>\n",
              "      <th>subtask_a</th>\n",
              "      <th>subtask_b</th>\n",
              "      <th>subtask_c</th>\n",
              "      <th>a_label</th>\n",
              "      <th>emoji_tweet</th>\n",
              "      <th>data_type</th>\n",
              "    </tr>\n",
              "    <tr>\n",
              "      <th>id</th>\n",
              "      <th></th>\n",
              "      <th></th>\n",
              "      <th></th>\n",
              "      <th></th>\n",
              "      <th></th>\n",
              "      <th></th>\n",
              "      <th></th>\n",
              "    </tr>\n",
              "  </thead>\n",
              "  <tbody>\n",
              "    <tr>\n",
              "      <th>86426</th>\n",
              "      <td>@USER She should ask a few native Americans wh...</td>\n",
              "      <td>OFF</td>\n",
              "      <td>UNT</td>\n",
              "      <td>NaN</td>\n",
              "      <td>0</td>\n",
              "      <td>@user she should ask a few native americans wh...</td>\n",
              "      <td>train</td>\n",
              "    </tr>\n",
              "    <tr>\n",
              "      <th>90194</th>\n",
              "      <td>@USER @USER Go home you’re drunk!!! @USER #MAG...</td>\n",
              "      <td>OFF</td>\n",
              "      <td>TIN</td>\n",
              "      <td>IND</td>\n",
              "      <td>0</td>\n",
              "      <td>@user @user go home you’re drunk!!! @user #mag...</td>\n",
              "      <td>val</td>\n",
              "    </tr>\n",
              "    <tr>\n",
              "      <th>16820</th>\n",
              "      <td>Amazon is investigating Chinese employees who ...</td>\n",
              "      <td>NOT</td>\n",
              "      <td>NaN</td>\n",
              "      <td>NaN</td>\n",
              "      <td>1</td>\n",
              "      <td>amazon is investigating chinese employees who ...</td>\n",
              "      <td>train</td>\n",
              "    </tr>\n",
              "    <tr>\n",
              "      <th>62688</th>\n",
              "      <td>@USER Someone should'veTaken\" this piece of sh...</td>\n",
              "      <td>OFF</td>\n",
              "      <td>UNT</td>\n",
              "      <td>NaN</td>\n",
              "      <td>0</td>\n",
              "      <td>@user someone should'vetaken\" this piece of sh...</td>\n",
              "      <td>train</td>\n",
              "    </tr>\n",
              "    <tr>\n",
              "      <th>43605</th>\n",
              "      <td>@USER @USER Obama wanted liberals &amp;amp; illega...</td>\n",
              "      <td>NOT</td>\n",
              "      <td>NaN</td>\n",
              "      <td>NaN</td>\n",
              "      <td>1</td>\n",
              "      <td>@user @user obama wanted liberals &amp;amp; illega...</td>\n",
              "      <td>train</td>\n",
              "    </tr>\n",
              "  </tbody>\n",
              "</table>\n",
              "</div>"
            ],
            "text/plain": [
              "                                                   tweet  ... data_type\n",
              "id                                                        ...          \n",
              "86426  @USER She should ask a few native Americans wh...  ...     train\n",
              "90194  @USER @USER Go home you’re drunk!!! @USER #MAG...  ...       val\n",
              "16820  Amazon is investigating Chinese employees who ...  ...     train\n",
              "62688  @USER Someone should'veTaken\" this piece of sh...  ...     train\n",
              "43605  @USER @USER Obama wanted liberals &amp; illega...  ...     train\n",
              "\n",
              "[5 rows x 7 columns]"
            ]
          },
          "metadata": {
            "tags": []
          },
          "execution_count": 117
        }
      ]
    },
    {
      "cell_type": "code",
      "metadata": {
        "id": "pJ4kiTXwhTg1"
      },
      "source": [
        "from transformers import BertTokenizer\r\n",
        "\r\n",
        "PRE_TRAINED_MODEL_NAME = 'bert-base-cased'\r\n",
        "tokenizer = BertTokenizer.from_pretrained(PRE_TRAINED_MODEL_NAME)"
      ],
      "execution_count": 118,
      "outputs": []
    },
    {
      "cell_type": "code",
      "metadata": {
        "colab": {
          "base_uri": "https://localhost:8080/"
        },
        "id": "eQMkrFg_r2qZ",
        "outputId": "030c866c-1bbb-43d4-e07a-0eacc8792048"
      },
      "source": [
        "\r\n",
        "from transformers import BertForSequenceClassification\r\n",
        "\r\n",
        "model=BertForSequenceClassification.from_pretrained(\r\n",
        "    PRE_TRAINED_MODEL_NAME,\r\n",
        "    num_labels=len(label_dict),\r\n",
        "    output_attentions=False,\r\n",
        "    output_hidden_states=False,\r\n",
        ")"
      ],
      "execution_count": 119,
      "outputs": [
        {
          "output_type": "stream",
          "text": [
            "Some weights of the model checkpoint at bert-base-cased were not used when initializing BertForSequenceClassification: ['cls.predictions.bias', 'cls.predictions.transform.dense.weight', 'cls.predictions.transform.dense.bias', 'cls.predictions.decoder.weight', 'cls.seq_relationship.weight', 'cls.seq_relationship.bias', 'cls.predictions.transform.LayerNorm.weight', 'cls.predictions.transform.LayerNorm.bias']\n",
            "- This IS expected if you are initializing BertForSequenceClassification from the checkpoint of a model trained on another task or with another architecture (e.g. initializing a BertForSequenceClassification model from a BertForPreTraining model).\n",
            "- This IS NOT expected if you are initializing BertForSequenceClassification from the checkpoint of a model that you expect to be exactly identical (initializing a BertForSequenceClassification model from a BertForSequenceClassification model).\n",
            "Some weights of BertForSequenceClassification were not initialized from the model checkpoint at bert-base-cased and are newly initialized: ['classifier.weight', 'classifier.bias']\n",
            "You should probably TRAIN this model on a down-stream task to be able to use it for predictions and inference.\n"
          ],
          "name": "stderr"
        }
      ]
    },
    {
      "cell_type": "code",
      "metadata": {
        "colab": {
          "base_uri": "https://localhost:8080/"
        },
        "id": "8MXOLYDHrriW",
        "outputId": "a45b9ed3-65f2-451a-f214-42e72346a894"
      },
      "source": [
        "tokenizer.add_special_tokens({'additional_special_tokens':[\"<emoji>\"]})\r\n",
        "model.resize_token_embeddings(len(tokenizer))"
      ],
      "execution_count": 120,
      "outputs": [
        {
          "output_type": "execute_result",
          "data": {
            "text/plain": [
              "Embedding(28997, 768)"
            ]
          },
          "metadata": {
            "tags": []
          },
          "execution_count": 120
        }
      ]
    },
    {
      "cell_type": "code",
      "metadata": {
        "id": "nFph8zB2ktwS"
      },
      "source": [
        "\r\n",
        "\r\n",
        "\r\n",
        "encoder_data_train=tokenizer.batch_encode_plus(\r\n",
        "    df[df.data_type=='train'].emoji_tweet.values,\r\n",
        "    add_special_tokens=True,\r\n",
        "    return_attention_mask=True,\r\n",
        "    truncation=True,\r\n",
        "    padding=True,\r\n",
        "    max_length=256,\r\n",
        "    return_tensors='pt'\r\n",
        ")\r\n",
        "\r\n",
        "encoder_data_val=tokenizer.batch_encode_plus(\r\n",
        "    df[df.data_type=='val'].emoji_tweet.values,\r\n",
        "    add_special_tokens=True,\r\n",
        "    return_attention_mask=True,\r\n",
        "    truncation =True,\r\n",
        "    padding=True,\r\n",
        "    max_length=256,\r\n",
        "    return_tensors='pt'\r\n",
        ")\r\n"
      ],
      "execution_count": 121,
      "outputs": []
    },
    {
      "cell_type": "code",
      "metadata": {
        "id": "41ANr-AslkCj"
      },
      "source": [
        "inputs_ids_train=encoder_data_train['input_ids']\r\n",
        "attentions_masks_train=encoder_data_train['attention_mask']\r\n",
        "labels_train=torch.tensor(df[df.data_type=='train'].a_label.values)\r\n",
        "\r\n",
        "inputs_ids_val=encoder_data_val['input_ids']\r\n",
        "attentions_masks_val=encoder_data_val['attention_mask']\r\n",
        "labels_val=torch.tensor(df[df.data_type=='val'].a_label.values)"
      ],
      "execution_count": 122,
      "outputs": []
    },
    {
      "cell_type": "code",
      "metadata": {
        "id": "y8afpN8ZmDBT"
      },
      "source": [
        "\r\n",
        "from torch.utils.data import TensorDataset\r\n",
        "dataset_train=TensorDataset(inputs_ids_train,\r\n",
        "              attentions_masks_train, labels_train)\r\n",
        "dataset_val=TensorDataset(inputs_ids_val,\r\n",
        "              attentions_masks_val, labels_val)"
      ],
      "execution_count": 123,
      "outputs": []
    },
    {
      "cell_type": "code",
      "metadata": {
        "id": "XJYBJG4WmKoA"
      },
      "source": [
        "from torch.utils.data import DataLoader, RandomSampler, SequentialSampler\r\n",
        "\r\n",
        "BATCH_SIZE=16\r\n",
        "\r\n",
        "dataloader_train=DataLoader(\r\n",
        "    dataset_train,\r\n",
        "    sampler=RandomSampler(dataset_train),\r\n",
        "    batch_size=BATCH_SIZE\r\n",
        ")\r\n",
        "dataloader_val=DataLoader(\r\n",
        "    dataset_val,\r\n",
        "    sampler=RandomSampler(dataset_val),\r\n",
        "    batch_size=BATCH_SIZE\r\n",
        ")"
      ],
      "execution_count": 124,
      "outputs": []
    },
    {
      "cell_type": "code",
      "metadata": {
        "id": "y4DbaaIammCr"
      },
      "source": [
        "\r\n",
        "from transformers import AdamW, get_linear_schedule_with_warmup\r\n",
        "\r\n",
        "optimizer = AdamW(model.parameters(),\r\n",
        "                  lr=1e-5, \r\n",
        "                  eps=1e-8)\r\n",
        "epochs = 4\r\n",
        "\r\n",
        "scheduler = get_linear_schedule_with_warmup(optimizer, \r\n",
        "                        num_warmup_steps=0,\r\n",
        "                        num_training_steps=len(dataloader_train)*epochs)"
      ],
      "execution_count": 125,
      "outputs": []
    },
    {
      "cell_type": "code",
      "metadata": {
        "id": "NDy5lnp-pM4N",
        "colab": {
          "base_uri": "https://localhost:8080/"
        },
        "outputId": "d84dda7e-f424-43fd-e176-deef08aa6ca9"
      },
      "source": [
        "import numpy as np\r\n",
        "from sklearn.metrics import f1_score\r\n",
        "from sklearn.metrics import classification_report\r\n",
        "\r\n",
        "def f1_score_func(preds, labels):\r\n",
        "    preds_flat = np.argmax(preds, axis=1).flatten()\r\n",
        "    labels_flat = labels.flatten()\r\n",
        "    return f1_score(labels_flat, preds_flat, average='weighted')\r\n",
        "\r\n",
        "def classification_report_func(preds, labels):\r\n",
        "    preds_flat = np.argmax(preds, axis=1).flatten()\r\n",
        "    labels_flat = labels.flatten()\r\n",
        "    return classification_report(labels_flat, preds_flat, digits=5)\r\n",
        "\r\n",
        "def accuracy_per_class(preds, labels):\r\n",
        "    label_dict_inverse = {v: k for k, v in label_dict.items()}\r\n",
        "    \r\n",
        "    preds_flat = np.argmax(preds, axis=1).flatten()\r\n",
        "    labels_flat = labels.flatten()\r\n",
        "\r\n",
        "    for label in np.unique(labels_flat):\r\n",
        "        y_preds = preds_flat[labels_flat==label]\r\n",
        "        y_true = labels_flat[labels_flat==label]\r\n",
        "        print(f'Class: {label_dict_inverse[label]}')\r\n",
        "        print(f'Accuracy: {len(y_preds[y_preds==label])}/{len(y_true)}\\n')\r\n",
        "\r\n",
        "import random\r\n",
        "\r\n",
        "seed_val = 17\r\n",
        "random.seed(seed_val)\r\n",
        "np.random.seed(seed_val)\r\n",
        "torch.manual_seed(seed_val)\r\n",
        "torch.cuda.manual_seed_all(seed_val)\r\n",
        "\r\n",
        "device = torch.device('cuda' if torch.cuda.is_available() else 'cpu')\r\n",
        "model.to(device)\r\n",
        "\r\n",
        "print(device)"
      ],
      "execution_count": 126,
      "outputs": [
        {
          "output_type": "stream",
          "text": [
            "cuda\n"
          ],
          "name": "stdout"
        }
      ]
    },
    {
      "cell_type": "code",
      "metadata": {
        "id": "S1yfFFmCBJ7L"
      },
      "source": [
        "def evaluate(dataloader_val):\r\n",
        "\r\n",
        "    model.eval()\r\n",
        "    \r\n",
        "    loss_val_total = 0\r\n",
        "    predictions, true_vals = [], []\r\n",
        "    \r\n",
        "    for batch in dataloader_val:\r\n",
        "        \r\n",
        "        batch = tuple(b.to(device) for b in batch)\r\n",
        "        \r\n",
        "        inputs = {'input_ids':batch[0],\r\n",
        "              'attention_mask':batch[1],\r\n",
        "              'labels':batch[2],\r\n",
        "              }\r\n",
        "\r\n",
        "        with torch.no_grad():        \r\n",
        "            outputs = model(**inputs)\r\n",
        "            \r\n",
        "        loss = outputs[0]\r\n",
        "        logits = outputs[1]\r\n",
        "        loss_val_total += loss.item()\r\n",
        "\r\n",
        "        logits = logits.detach().cpu().numpy()\r\n",
        "        label_ids = inputs['labels'].cpu().numpy()\r\n",
        "        predictions.append(logits)\r\n",
        "        true_vals.append(label_ids)\r\n",
        "    \r\n",
        "    loss_val_avg = loss_val_total/len(dataloader_val) \r\n",
        "    \r\n",
        "    predictions = np.concatenate(predictions, axis=0)\r\n",
        "    true_vals = np.concatenate(true_vals, axis=0)\r\n",
        "            \r\n",
        "    return loss_val_avg, predictions, true_vals"
      ],
      "execution_count": 127,
      "outputs": []
    },
    {
      "cell_type": "code",
      "metadata": {
        "id": "y9d6Ap_NpP99"
      },
      "source": [
        "epochs=3"
      ],
      "execution_count": 128,
      "outputs": []
    },
    {
      "cell_type": "code",
      "metadata": {
        "id": "sDinXwPupbsQ",
        "colab": {
          "base_uri": "https://localhost:8080/",
          "height": 315,
          "referenced_widgets": [
            "17b296489f774138a2ed371bf2b846df",
            "bbeb420077114356af39d3cfaaaa737e",
            "c15fc52ff509441ea523f6013a666348",
            "4594cef96ecb4b1f8f5d8c89b7e3c225",
            "91ebab44cf2b4c5da24683cc89a6cdb4",
            "a19fce2e15e945058fe3594fe57c7e85",
            "7b77f5799956439a85fcd842e9d4de10",
            "6182fea4e1514ab5a003b9433c3815fa",
            "7cbf11cc2058496db76a7da4d6a7cb3c",
            "da7ddab0eef6447396215fbe7de7eda2",
            "cac74964553049e9ab91cc326d3edb01",
            "149f6b16d73a44d9ac69103a4b6345a1",
            "440390e5e36d4e8ca1dcc01dc6a27d8a",
            "d01450b7fa8d43649f0b4811a1b4db4b",
            "b2ea416072d14129aebf7059430acc96",
            "7a326ebbfae24733b953a63bcd54c3ed",
            "2ddf7281a6e947c6b46358ec45a10a97",
            "8202997973ee4f85b385f58df5d14bf7",
            "50d36363d0de40ce80e6bd4a3304e7dc",
            "cd8316ce879f4eb39769ee5f938d801d",
            "d2fe1915862d4bacb7b5e8401a8474b6",
            "ae34c0ecad4d48d1a86c2feb1730631e",
            "88ce81406c7440fc8c59f3379e4a859e",
            "ec34f5751acb4da8aa4746bf0de058c5",
            "3179f783ee77400ebd1a2a1e91e5c362",
            "38c454c1293247608dfe547ec3b18d2e",
            "f89375f75cd14b18b08b188500e1cd54",
            "1c43e97a06304f928b50a87ff73014e6",
            "14340d19415c43ff9217a55dfc1b1413",
            "496955b4709b4dd8973cb5be5bfc34b9",
            "73f39366de624ac588e575d55843b2e3",
            "0c1e47a8bdbf43a9be8360d007b8f443"
          ]
        },
        "outputId": "3745ca01-e050-406c-d772-647bf25556ab"
      },
      "source": [
        "from tqdm.notebook import tqdm\r\n",
        "for epoch in tqdm(range(1, epochs+1)):\r\n",
        "    \r\n",
        "    model.train()\r\n",
        "    \r\n",
        "    loss_train_total = 0\r\n",
        "\r\n",
        "    progress_bar = tqdm(dataloader_train, desc='Epoch {:1d}'.format(epoch), leave=False, disable=False)\r\n",
        "    for batch in progress_bar:\r\n",
        "\r\n",
        "        model.zero_grad()\r\n",
        "        \r\n",
        "        batch = tuple(b.to(device) for b in batch)\r\n",
        "        \r\n",
        "        inputs = {'input_ids':      batch[0],\r\n",
        "                  'attention_mask': batch[1],\r\n",
        "                  'labels':         batch[2],\r\n",
        "                 }       \r\n",
        "\r\n",
        "        outputs = model(**inputs)\r\n",
        "        \r\n",
        "        loss = outputs[0]\r\n",
        "        loss_train_total += loss.item()\r\n",
        "        loss.backward()\r\n",
        "\r\n",
        "        torch.nn.utils.clip_grad_norm_(model.parameters(), 1.0)\r\n",
        "\r\n",
        "        optimizer.step()\r\n",
        "        scheduler.step()\r\n",
        "        \r\n",
        "        progress_bar.set_postfix({'training_loss': '{:.3f}'.format(loss.item()/len(batch))})\r\n",
        "         \r\n",
        "        \r\n",
        "    torch.save(model.state_dict(), f'finetuned_BERT_epoch_{epoch}.model')\r\n",
        "        \r\n",
        "    tqdm.write(f'\\nEpoch {epoch}')\r\n",
        "    \r\n",
        "    loss_train_avg = loss_train_total/len(dataloader_train)             \r\n",
        "    tqdm.write(f'Training loss: {loss_train_avg}')\r\n",
        "    \r\n",
        "    val_loss, predictions, true_vals = evaluate(dataloader_val)\r\n",
        "    val_f1 = f1_score_func(predictions, true_vals)\r\n",
        "    tqdm.write(f'Validation loss: {val_loss}')\r\n",
        "    tqdm.write(f'F1 Score (Weighted): {val_f1}')"
      ],
      "execution_count": 129,
      "outputs": [
        {
          "output_type": "display_data",
          "data": {
            "application/vnd.jupyter.widget-view+json": {
              "model_id": "17b296489f774138a2ed371bf2b846df",
              "version_minor": 0,
              "version_major": 2
            },
            "text/plain": [
              "HBox(children=(FloatProgress(value=0.0, max=3.0), HTML(value='')))"
            ]
          },
          "metadata": {
            "tags": []
          }
        },
        {
          "output_type": "display_data",
          "data": {
            "application/vnd.jupyter.widget-view+json": {
              "model_id": "7cbf11cc2058496db76a7da4d6a7cb3c",
              "version_minor": 0,
              "version_major": 2
            },
            "text/plain": [
              "HBox(children=(FloatProgress(value=0.0, description='Epoch 1', max=662.0, style=ProgressStyle(description_widt…"
            ]
          },
          "metadata": {
            "tags": []
          }
        },
        {
          "output_type": "stream",
          "text": [
            "\r\r\r\n",
            "Epoch 1\n",
            "Training loss: 0.48622973836125566\n",
            "Validation loss: 0.4450284492628402\n",
            "F1 Score (Weighted): 0.7875835058758107\n"
          ],
          "name": "stdout"
        },
        {
          "output_type": "display_data",
          "data": {
            "application/vnd.jupyter.widget-view+json": {
              "model_id": "2ddf7281a6e947c6b46358ec45a10a97",
              "version_minor": 0,
              "version_major": 2
            },
            "text/plain": [
              "HBox(children=(FloatProgress(value=0.0, description='Epoch 2', max=662.0, style=ProgressStyle(description_widt…"
            ]
          },
          "metadata": {
            "tags": []
          }
        },
        {
          "output_type": "stream",
          "text": [
            "\r\r\r\n",
            "Epoch 2\n",
            "Training loss: 0.3817462963347529\n",
            "Validation loss: 0.4436212852148406\n",
            "F1 Score (Weighted): 0.8002166791047218\n"
          ],
          "name": "stdout"
        },
        {
          "output_type": "display_data",
          "data": {
            "application/vnd.jupyter.widget-view+json": {
              "model_id": "3179f783ee77400ebd1a2a1e91e5c362",
              "version_minor": 0,
              "version_major": 2
            },
            "text/plain": [
              "HBox(children=(FloatProgress(value=0.0, description='Epoch 3', max=662.0, style=ProgressStyle(description_widt…"
            ]
          },
          "metadata": {
            "tags": []
          }
        },
        {
          "output_type": "stream",
          "text": [
            "\r\r\r\n",
            "Epoch 3\n",
            "Training loss: 0.30952181072281026\n",
            "Validation loss: 0.4957057739417237\n",
            "F1 Score (Weighted): 0.7994690483468069\n",
            "\n"
          ],
          "name": "stdout"
        }
      ]
    },
    {
      "cell_type": "code",
      "metadata": {
        "colab": {
          "base_uri": "https://localhost:8080/",
          "height": 227
        },
        "id": "MmwKuTkI_i2I",
        "outputId": "0c673dfe-9930-4510-f354-413f905a7626"
      },
      "source": [
        "df_sweet = pd.read_csv(\"testset-levela.tsv\", sep='\\t', header=0, index_col='id')\r\n",
        "df_sweet.head()"
      ],
      "execution_count": 130,
      "outputs": [
        {
          "output_type": "execute_result",
          "data": {
            "text/html": [
              "<div>\n",
              "<style scoped>\n",
              "    .dataframe tbody tr th:only-of-type {\n",
              "        vertical-align: middle;\n",
              "    }\n",
              "\n",
              "    .dataframe tbody tr th {\n",
              "        vertical-align: top;\n",
              "    }\n",
              "\n",
              "    .dataframe thead th {\n",
              "        text-align: right;\n",
              "    }\n",
              "</style>\n",
              "<table border=\"1\" class=\"dataframe\">\n",
              "  <thead>\n",
              "    <tr style=\"text-align: right;\">\n",
              "      <th></th>\n",
              "      <th>tweet</th>\n",
              "    </tr>\n",
              "    <tr>\n",
              "      <th>id</th>\n",
              "      <th></th>\n",
              "    </tr>\n",
              "  </thead>\n",
              "  <tbody>\n",
              "    <tr>\n",
              "      <th>15923</th>\n",
              "      <td>#WhoIsQ #WheresTheServer #DumpNike #DECLASFISA...</td>\n",
              "    </tr>\n",
              "    <tr>\n",
              "      <th>27014</th>\n",
              "      <td>#ConstitutionDay is revered by Conservatives, ...</td>\n",
              "    </tr>\n",
              "    <tr>\n",
              "      <th>30530</th>\n",
              "      <td>#FOXNews #NRA #MAGA #POTUS #TRUMP #2ndAmendmen...</td>\n",
              "    </tr>\n",
              "    <tr>\n",
              "      <th>13876</th>\n",
              "      <td>#Watching #Boomer getting the news that she is...</td>\n",
              "    </tr>\n",
              "    <tr>\n",
              "      <th>60133</th>\n",
              "      <td>#NoPasaran: Unity demo to oppose the far-right...</td>\n",
              "    </tr>\n",
              "  </tbody>\n",
              "</table>\n",
              "</div>"
            ],
            "text/plain": [
              "                                                   tweet\n",
              "id                                                      \n",
              "15923  #WhoIsQ #WheresTheServer #DumpNike #DECLASFISA...\n",
              "27014  #ConstitutionDay is revered by Conservatives, ...\n",
              "30530  #FOXNews #NRA #MAGA #POTUS #TRUMP #2ndAmendmen...\n",
              "13876  #Watching #Boomer getting the news that she is...\n",
              "60133  #NoPasaran: Unity demo to oppose the far-right..."
            ]
          },
          "metadata": {
            "tags": []
          },
          "execution_count": 130
        }
      ]
    },
    {
      "cell_type": "code",
      "metadata": {
        "colab": {
          "base_uri": "https://localhost:8080/",
          "height": 227
        },
        "id": "k8yi_qJlHrJb",
        "outputId": "c49e6690-ba8c-4511-8865-210516d7995e"
      },
      "source": [
        "df_l = pd.read_csv(\"labels-levela.csv\",header=None,names=['id','subtask_a'],index_col='id')\r\n",
        "df_l.head()"
      ],
      "execution_count": 131,
      "outputs": [
        {
          "output_type": "execute_result",
          "data": {
            "text/html": [
              "<div>\n",
              "<style scoped>\n",
              "    .dataframe tbody tr th:only-of-type {\n",
              "        vertical-align: middle;\n",
              "    }\n",
              "\n",
              "    .dataframe tbody tr th {\n",
              "        vertical-align: top;\n",
              "    }\n",
              "\n",
              "    .dataframe thead th {\n",
              "        text-align: right;\n",
              "    }\n",
              "</style>\n",
              "<table border=\"1\" class=\"dataframe\">\n",
              "  <thead>\n",
              "    <tr style=\"text-align: right;\">\n",
              "      <th></th>\n",
              "      <th>subtask_a</th>\n",
              "    </tr>\n",
              "    <tr>\n",
              "      <th>id</th>\n",
              "      <th></th>\n",
              "    </tr>\n",
              "  </thead>\n",
              "  <tbody>\n",
              "    <tr>\n",
              "      <th>15923</th>\n",
              "      <td>OFF</td>\n",
              "    </tr>\n",
              "    <tr>\n",
              "      <th>27014</th>\n",
              "      <td>NOT</td>\n",
              "    </tr>\n",
              "    <tr>\n",
              "      <th>30530</th>\n",
              "      <td>NOT</td>\n",
              "    </tr>\n",
              "    <tr>\n",
              "      <th>13876</th>\n",
              "      <td>NOT</td>\n",
              "    </tr>\n",
              "    <tr>\n",
              "      <th>60133</th>\n",
              "      <td>OFF</td>\n",
              "    </tr>\n",
              "  </tbody>\n",
              "</table>\n",
              "</div>"
            ],
            "text/plain": [
              "      subtask_a\n",
              "id             \n",
              "15923       OFF\n",
              "27014       NOT\n",
              "30530       NOT\n",
              "13876       NOT\n",
              "60133       OFF"
            ]
          },
          "metadata": {
            "tags": []
          },
          "execution_count": 131
        }
      ]
    },
    {
      "cell_type": "code",
      "metadata": {
        "id": "7PzsUN8ZHsdm"
      },
      "source": [
        "test = pd.merge(df_sweet, df_l, on=['id'])"
      ],
      "execution_count": 132,
      "outputs": []
    },
    {
      "cell_type": "code",
      "metadata": {
        "colab": {
          "base_uri": "https://localhost:8080/"
        },
        "id": "zA16zspJHsWD",
        "outputId": "492bf63a-3ec8-44c8-8c52-f4a550c0e615"
      },
      "source": [
        "possible_labels=test.subtask_a.unique()\r\n",
        "label_dict={}\r\n",
        "for index, possible_label in enumerate(possible_labels):\r\n",
        "  label_dict[possible_label]=index\r\n",
        "\r\n",
        "label_dict"
      ],
      "execution_count": 133,
      "outputs": [
        {
          "output_type": "execute_result",
          "data": {
            "text/plain": [
              "{'NOT': 1, 'OFF': 0}"
            ]
          },
          "metadata": {
            "tags": []
          },
          "execution_count": 133
        }
      ]
    },
    {
      "cell_type": "code",
      "metadata": {
        "colab": {
          "base_uri": "https://localhost:8080/",
          "height": 244
        },
        "id": "PBcJBJbxHvfC",
        "outputId": "2bb01c33-06ed-4cca-dab5-e5807ce8a2ec"
      },
      "source": [
        "test['a_label']=test.subtask_a.replace(label_dict)\r\n",
        "test.head()"
      ],
      "execution_count": 134,
      "outputs": [
        {
          "output_type": "execute_result",
          "data": {
            "text/html": [
              "<div>\n",
              "<style scoped>\n",
              "    .dataframe tbody tr th:only-of-type {\n",
              "        vertical-align: middle;\n",
              "    }\n",
              "\n",
              "    .dataframe tbody tr th {\n",
              "        vertical-align: top;\n",
              "    }\n",
              "\n",
              "    .dataframe thead th {\n",
              "        text-align: right;\n",
              "    }\n",
              "</style>\n",
              "<table border=\"1\" class=\"dataframe\">\n",
              "  <thead>\n",
              "    <tr style=\"text-align: right;\">\n",
              "      <th></th>\n",
              "      <th>tweet</th>\n",
              "      <th>subtask_a</th>\n",
              "      <th>a_label</th>\n",
              "    </tr>\n",
              "    <tr>\n",
              "      <th>id</th>\n",
              "      <th></th>\n",
              "      <th></th>\n",
              "      <th></th>\n",
              "    </tr>\n",
              "  </thead>\n",
              "  <tbody>\n",
              "    <tr>\n",
              "      <th>15923</th>\n",
              "      <td>#WhoIsQ #WheresTheServer #DumpNike #DECLASFISA...</td>\n",
              "      <td>OFF</td>\n",
              "      <td>0</td>\n",
              "    </tr>\n",
              "    <tr>\n",
              "      <th>27014</th>\n",
              "      <td>#ConstitutionDay is revered by Conservatives, ...</td>\n",
              "      <td>NOT</td>\n",
              "      <td>1</td>\n",
              "    </tr>\n",
              "    <tr>\n",
              "      <th>30530</th>\n",
              "      <td>#FOXNews #NRA #MAGA #POTUS #TRUMP #2ndAmendmen...</td>\n",
              "      <td>NOT</td>\n",
              "      <td>1</td>\n",
              "    </tr>\n",
              "    <tr>\n",
              "      <th>13876</th>\n",
              "      <td>#Watching #Boomer getting the news that she is...</td>\n",
              "      <td>NOT</td>\n",
              "      <td>1</td>\n",
              "    </tr>\n",
              "    <tr>\n",
              "      <th>60133</th>\n",
              "      <td>#NoPasaran: Unity demo to oppose the far-right...</td>\n",
              "      <td>OFF</td>\n",
              "      <td>0</td>\n",
              "    </tr>\n",
              "  </tbody>\n",
              "</table>\n",
              "</div>"
            ],
            "text/plain": [
              "                                                   tweet subtask_a  a_label\n",
              "id                                                                         \n",
              "15923  #WhoIsQ #WheresTheServer #DumpNike #DECLASFISA...       OFF        0\n",
              "27014  #ConstitutionDay is revered by Conservatives, ...       NOT        1\n",
              "30530  #FOXNews #NRA #MAGA #POTUS #TRUMP #2ndAmendmen...       NOT        1\n",
              "13876  #Watching #Boomer getting the news that she is...       NOT        1\n",
              "60133  #NoPasaran: Unity demo to oppose the far-right...       OFF        0"
            ]
          },
          "metadata": {
            "tags": []
          },
          "execution_count": 134
        }
      ]
    },
    {
      "cell_type": "code",
      "metadata": {
        "id": "SvCrGKsPHvXK"
      },
      "source": [
        "test['data_type']=['test']*test.shape[0]"
      ],
      "execution_count": 135,
      "outputs": []
    },
    {
      "cell_type": "code",
      "metadata": {
        "colab": {
          "base_uri": "https://localhost:8080/",
          "height": 311
        },
        "id": "_V6dc1PcL0v7",
        "outputId": "854b07c0-75cf-4538-a0f7-b81307117833"
      },
      "source": [
        "test.head()"
      ],
      "execution_count": 136,
      "outputs": [
        {
          "output_type": "execute_result",
          "data": {
            "text/html": [
              "<div>\n",
              "<style scoped>\n",
              "    .dataframe tbody tr th:only-of-type {\n",
              "        vertical-align: middle;\n",
              "    }\n",
              "\n",
              "    .dataframe tbody tr th {\n",
              "        vertical-align: top;\n",
              "    }\n",
              "\n",
              "    .dataframe thead th {\n",
              "        text-align: right;\n",
              "    }\n",
              "</style>\n",
              "<table border=\"1\" class=\"dataframe\">\n",
              "  <thead>\n",
              "    <tr style=\"text-align: right;\">\n",
              "      <th></th>\n",
              "      <th>tweet</th>\n",
              "      <th>subtask_a</th>\n",
              "      <th>a_label</th>\n",
              "      <th>data_type</th>\n",
              "    </tr>\n",
              "    <tr>\n",
              "      <th>id</th>\n",
              "      <th></th>\n",
              "      <th></th>\n",
              "      <th></th>\n",
              "      <th></th>\n",
              "    </tr>\n",
              "  </thead>\n",
              "  <tbody>\n",
              "    <tr>\n",
              "      <th>15923</th>\n",
              "      <td>#WhoIsQ #WheresTheServer #DumpNike #DECLASFISA...</td>\n",
              "      <td>OFF</td>\n",
              "      <td>0</td>\n",
              "      <td>test</td>\n",
              "    </tr>\n",
              "    <tr>\n",
              "      <th>27014</th>\n",
              "      <td>#ConstitutionDay is revered by Conservatives, ...</td>\n",
              "      <td>NOT</td>\n",
              "      <td>1</td>\n",
              "      <td>test</td>\n",
              "    </tr>\n",
              "    <tr>\n",
              "      <th>30530</th>\n",
              "      <td>#FOXNews #NRA #MAGA #POTUS #TRUMP #2ndAmendmen...</td>\n",
              "      <td>NOT</td>\n",
              "      <td>1</td>\n",
              "      <td>test</td>\n",
              "    </tr>\n",
              "    <tr>\n",
              "      <th>13876</th>\n",
              "      <td>#Watching #Boomer getting the news that she is...</td>\n",
              "      <td>NOT</td>\n",
              "      <td>1</td>\n",
              "      <td>test</td>\n",
              "    </tr>\n",
              "    <tr>\n",
              "      <th>60133</th>\n",
              "      <td>#NoPasaran: Unity demo to oppose the far-right...</td>\n",
              "      <td>OFF</td>\n",
              "      <td>0</td>\n",
              "      <td>test</td>\n",
              "    </tr>\n",
              "  </tbody>\n",
              "</table>\n",
              "</div>"
            ],
            "text/plain": [
              "                                                   tweet  ... data_type\n",
              "id                                                        ...          \n",
              "15923  #WhoIsQ #WheresTheServer #DumpNike #DECLASFISA...  ...      test\n",
              "27014  #ConstitutionDay is revered by Conservatives, ...  ...      test\n",
              "30530  #FOXNews #NRA #MAGA #POTUS #TRUMP #2ndAmendmen...  ...      test\n",
              "13876  #Watching #Boomer getting the news that she is...  ...      test\n",
              "60133  #NoPasaran: Unity demo to oppose the far-right...  ...      test\n",
              "\n",
              "[5 rows x 4 columns]"
            ]
          },
          "metadata": {
            "tags": []
          },
          "execution_count": 136
        }
      ]
    },
    {
      "cell_type": "code",
      "metadata": {
        "id": "_k3tCQyLL0m3"
      },
      "source": [
        "test['emoji_tweet']=test.tweet.apply(foremoji)"
      ],
      "execution_count": 137,
      "outputs": []
    },
    {
      "cell_type": "code",
      "metadata": {
        "colab": {
          "base_uri": "https://localhost:8080/",
          "height": 444
        },
        "id": "A0twyeR0H0E-",
        "outputId": "4b921d26-782f-40f3-d158-fd4f751642c3"
      },
      "source": [
        "test.head()"
      ],
      "execution_count": 138,
      "outputs": [
        {
          "output_type": "execute_result",
          "data": {
            "text/html": [
              "<div>\n",
              "<style scoped>\n",
              "    .dataframe tbody tr th:only-of-type {\n",
              "        vertical-align: middle;\n",
              "    }\n",
              "\n",
              "    .dataframe tbody tr th {\n",
              "        vertical-align: top;\n",
              "    }\n",
              "\n",
              "    .dataframe thead th {\n",
              "        text-align: right;\n",
              "    }\n",
              "</style>\n",
              "<table border=\"1\" class=\"dataframe\">\n",
              "  <thead>\n",
              "    <tr style=\"text-align: right;\">\n",
              "      <th></th>\n",
              "      <th>tweet</th>\n",
              "      <th>subtask_a</th>\n",
              "      <th>a_label</th>\n",
              "      <th>data_type</th>\n",
              "      <th>emoji_tweet</th>\n",
              "    </tr>\n",
              "    <tr>\n",
              "      <th>id</th>\n",
              "      <th></th>\n",
              "      <th></th>\n",
              "      <th></th>\n",
              "      <th></th>\n",
              "      <th></th>\n",
              "    </tr>\n",
              "  </thead>\n",
              "  <tbody>\n",
              "    <tr>\n",
              "      <th>15923</th>\n",
              "      <td>#WhoIsQ #WheresTheServer #DumpNike #DECLASFISA...</td>\n",
              "      <td>OFF</td>\n",
              "      <td>0</td>\n",
              "      <td>test</td>\n",
              "      <td>#whoisq #wherestheserver #dumpnike #declasfisa...</td>\n",
              "    </tr>\n",
              "    <tr>\n",
              "      <th>27014</th>\n",
              "      <td>#ConstitutionDay is revered by Conservatives, ...</td>\n",
              "      <td>NOT</td>\n",
              "      <td>1</td>\n",
              "      <td>test</td>\n",
              "      <td>#constitutionday is revered by conservatives, ...</td>\n",
              "    </tr>\n",
              "    <tr>\n",
              "      <th>30530</th>\n",
              "      <td>#FOXNews #NRA #MAGA #POTUS #TRUMP #2ndAmendmen...</td>\n",
              "      <td>NOT</td>\n",
              "      <td>1</td>\n",
              "      <td>test</td>\n",
              "      <td>#foxnews #nra #maga #potus #trump #2ndamendmen...</td>\n",
              "    </tr>\n",
              "    <tr>\n",
              "      <th>13876</th>\n",
              "      <td>#Watching #Boomer getting the news that she is...</td>\n",
              "      <td>NOT</td>\n",
              "      <td>1</td>\n",
              "      <td>test</td>\n",
              "      <td>#watching #boomer getting the news that she is...</td>\n",
              "    </tr>\n",
              "    <tr>\n",
              "      <th>60133</th>\n",
              "      <td>#NoPasaran: Unity demo to oppose the far-right...</td>\n",
              "      <td>OFF</td>\n",
              "      <td>0</td>\n",
              "      <td>test</td>\n",
              "      <td>#nopasaran: unity demo to oppose the far-right...</td>\n",
              "    </tr>\n",
              "  </tbody>\n",
              "</table>\n",
              "</div>"
            ],
            "text/plain": [
              "                                                   tweet  ...                                        emoji_tweet\n",
              "id                                                        ...                                                   \n",
              "15923  #WhoIsQ #WheresTheServer #DumpNike #DECLASFISA...  ...  #whoisq #wherestheserver #dumpnike #declasfisa...\n",
              "27014  #ConstitutionDay is revered by Conservatives, ...  ...  #constitutionday is revered by conservatives, ...\n",
              "30530  #FOXNews #NRA #MAGA #POTUS #TRUMP #2ndAmendmen...  ...  #foxnews #nra #maga #potus #trump #2ndamendmen...\n",
              "13876  #Watching #Boomer getting the news that she is...  ...  #watching #boomer getting the news that she is...\n",
              "60133  #NoPasaran: Unity demo to oppose the far-right...  ...  #nopasaran: unity demo to oppose the far-right...\n",
              "\n",
              "[5 rows x 5 columns]"
            ]
          },
          "metadata": {
            "tags": []
          },
          "execution_count": 138
        }
      ]
    },
    {
      "cell_type": "code",
      "metadata": {
        "id": "JxhhIaw8LumS"
      },
      "source": [
        "\r\n",
        "encoder_data_test=tokenizer.batch_encode_plus(\r\n",
        "    test[test.data_type=='test'].emoji_tweet.values,\r\n",
        "    add_special_tokens=True,\r\n",
        "    return_attention_mask=True,\r\n",
        "    truncation=True,\r\n",
        "    padding=True,\r\n",
        "    max_length=256,\r\n",
        "    return_tensors='pt'\r\n",
        ")"
      ],
      "execution_count": 139,
      "outputs": []
    },
    {
      "cell_type": "code",
      "metadata": {
        "id": "MN0BKchbJ2uI"
      },
      "source": [
        "inputs_ids_test=encoder_data_test['input_ids']\r\n",
        "attentions_masks_test=encoder_data_test['attention_mask']\r\n",
        "labels_test=torch.tensor(test[test.data_type=='test'].a_label.values)\r\n",
        "dataset_test=TensorDataset(inputs_ids_test,\r\n",
        "              attentions_masks_test, labels_test)\r\n",
        "dataloader_test=DataLoader(\r\n",
        "    dataset_test,\r\n",
        "    sampler=RandomSampler(dataset_test),\r\n",
        "    batch_size=4\r\n",
        ")"
      ],
      "execution_count": 140,
      "outputs": []
    },
    {
      "cell_type": "code",
      "metadata": {
        "colab": {
          "base_uri": "https://localhost:8080/"
        },
        "id": "N_3zX5NQIKk1",
        "outputId": "2f43eb5b-472d-4cad-f6b2-eda052388979"
      },
      "source": [
        "\r\n",
        "model.load_state_dict(torch.load('finetuned_BERT_epoch_2.model', map_location=torch.device('cuda')))"
      ],
      "execution_count": 153,
      "outputs": [
        {
          "output_type": "execute_result",
          "data": {
            "text/plain": [
              "<All keys matched successfully>"
            ]
          },
          "metadata": {
            "tags": []
          },
          "execution_count": 153
        }
      ]
    },
    {
      "cell_type": "code",
      "metadata": {
        "id": "4qGxGWw6IPeO"
      },
      "source": [
        "_, predictions, true_test = evaluate(dataloader_test)"
      ],
      "execution_count": 154,
      "outputs": []
    },
    {
      "cell_type": "code",
      "metadata": {
        "colab": {
          "base_uri": "https://localhost:8080/"
        },
        "id": "Y4p2VTQ2IR1Z",
        "outputId": "5a638ce6-7f50-4e2b-c53c-3093d67c1fc4"
      },
      "source": [
        "accuracy_per_class(predictions, true_test)"
      ],
      "execution_count": 155,
      "outputs": [
        {
          "output_type": "stream",
          "text": [
            "Class: OFF\n",
            "Accuracy: 157/240\n",
            "\n",
            "Class: NOT\n",
            "Accuracy: 572/620\n",
            "\n"
          ],
          "name": "stdout"
        }
      ]
    },
    {
      "cell_type": "code",
      "metadata": {
        "colab": {
          "base_uri": "https://localhost:8080/"
        },
        "id": "3nBZfl5aITTQ",
        "outputId": "c8f72a92-95d6-495a-c2a3-b1ca81a05533"
      },
      "source": [
        "print(classification_report_func(predictions, true_test))"
      ],
      "execution_count": 156,
      "outputs": [
        {
          "output_type": "stream",
          "text": [
            "              precision    recall  f1-score   support\n",
            "\n",
            "           0    0.76585   0.65417   0.70562       240\n",
            "           1    0.87328   0.92258   0.89725       620\n",
            "\n",
            "    accuracy                        0.84767       860\n",
            "   macro avg    0.81957   0.78837   0.80144       860\n",
            "weighted avg    0.84330   0.84767   0.84377       860\n",
            "\n"
          ],
          "name": "stdout"
        }
      ]
    },
    {
      "cell_type": "code",
      "metadata": {
        "id": "jgkMmRIlMFmN"
      },
      "source": [
        ""
      ],
      "execution_count": 42,
      "outputs": []
    }
  ]
}